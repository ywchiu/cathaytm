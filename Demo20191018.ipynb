{
 "cells": [
  {
   "cell_type": "markdown",
   "metadata": {},
   "source": [
    "## HTTP Status Code\n",
    "- https://zh.wikipedia.org/wiki/HTTP%E7%8A%B6%E6%80%81%E7%A0%81"
   ]
  },
  {
   "cell_type": "markdown",
   "metadata": {},
   "source": [
    "## GET"
   ]
  },
  {
   "cell_type": "code",
   "execution_count": 1,
   "metadata": {},
   "outputs": [
    {
     "data": {
      "text/plain": [
       "<Response [200]>"
      ]
     },
     "execution_count": 1,
     "metadata": {},
     "output_type": "execute_result"
    }
   ],
   "source": [
    "import requests\n",
    "res = requests.get('https://tw.appledaily.com/new/realtime')\n",
    "res"
   ]
  },
  {
   "cell_type": "code",
   "execution_count": 3,
   "metadata": {},
   "outputs": [],
   "source": [
    "#res.text"
   ]
  },
  {
   "cell_type": "markdown",
   "metadata": {},
   "source": [
    "## POST"
   ]
  },
  {
   "cell_type": "code",
   "execution_count": 4,
   "metadata": {},
   "outputs": [
    {
     "data": {
      "text/plain": [
       "<Response [200]>"
      ]
     },
     "execution_count": 4,
     "metadata": {},
     "output_type": "execute_result"
    }
   ],
   "source": [
    "import requests\n",
    "url = 'https://www.thsrc.com.tw/tw/TimeTable/Search'\n",
    "payload = {\n",
    "'StartStationName':  '台北站',\n",
    "'EndStationName':  '新竹站',\n",
    "'SearchType': 'S',\n",
    "'StartStation': '977abb69-413a-4ccf-a109-0272c24fd490',\n",
    "'EndStation': 'a7a04c89-900b-4798-95a3-c01c455622f4',\n",
    "'DepartueSearchDate': '2019/10/18',\n",
    "'DepartueSearchTime': '18:30'    \n",
    "}\n",
    "res = requests.post(url, data = payload)\n",
    "res"
   ]
  },
  {
   "cell_type": "code",
   "execution_count": 7,
   "metadata": {},
   "outputs": [],
   "source": [
    "#res.text\n",
    "#res.json()"
   ]
  },
  {
   "cell_type": "markdown",
   "metadata": {},
   "source": [
    "## 練習題\n",
    "- https://24h.pchome.com.tw/prod/DYAJFW-A900A8XY0?fq=/S/DYAJFW"
   ]
  },
  {
   "cell_type": "code",
   "execution_count": 8,
   "metadata": {},
   "outputs": [
    {
     "data": {
      "text/plain": [
       "'try{jsonp_button([{\"Seq\":23510576,\"Id\":\"DYAJFW-A900A8XY0-000\",\"Price\":{\"M\":0,\"P\":52400,\"Prime\":\"\"},\"Qty\":3,\"ButtonType\":\"ForSale\",\"SaleStatus\":1,\"isPrimeOnly\":0,\"SpecialQty\":0}]);}catch(e){if(window.console){console.log(e);}}'"
      ]
     },
     "execution_count": 8,
     "metadata": {},
     "output_type": "execute_result"
    }
   ],
   "source": [
    "import requests\n",
    "res = requests.get('https://24h.pchome.com.tw/ecapi/ecshop/prodapi/v2/prod/button&id=DYAJFW-A900A8XY0&fields=Seq,Id,Price,Qty,ButtonType,SaleStatus,isPrimeOnly,SpecialQty&_callback=jsonp_button&1571369580?_callback=jsonp_button')\n",
    "res.text"
   ]
  },
  {
   "cell_type": "code",
   "execution_count": 10,
   "metadata": {},
   "outputs": [],
   "source": [
    "import requests\n",
    "res = requests.get('https://tw.appledaily.com/new/realtime')\n",
    "#res.text\n"
   ]
  },
  {
   "cell_type": "code",
   "execution_count": 12,
   "metadata": {},
   "outputs": [
    {
     "data": {
      "text/plain": [
       "requests.models.Response"
      ]
     },
     "execution_count": 12,
     "metadata": {},
     "output_type": "execute_result"
    }
   ],
   "source": [
    "type(res)"
   ]
  },
  {
   "cell_type": "markdown",
   "metadata": {},
   "source": [
    "## BeautifulSoup"
   ]
  },
  {
   "cell_type": "code",
   "execution_count": 11,
   "metadata": {},
   "outputs": [
    {
     "name": "stdout",
     "output_type": "stream",
     "text": [
      "\n",
      "\n",
      "Hello World\n",
      "This is link1\n",
      "This is link2\n",
      "\n",
      "\n"
     ]
    }
   ],
   "source": [
    "from bs4 import BeautifulSoup \n",
    "html_sample = ''' \n",
    "<html> \n",
    " <body> \n",
    " <h1 id=\"title\">Hello World</h1> \n",
    " <a href=\"#\" class=\"link\">This is link1</a> \n",
    " <a href=\"# link2\" class=\"link\">This is link2</a> \n",
    " </body> \n",
    " </html>'''\n",
    "\n",
    "soup = BeautifulSoup(html_sample, 'lxml')\n",
    "print(soup.text)"
   ]
  },
  {
   "cell_type": "code",
   "execution_count": 13,
   "metadata": {},
   "outputs": [
    {
     "data": {
      "text/plain": [
       "bs4.BeautifulSoup"
      ]
     },
     "execution_count": 13,
     "metadata": {},
     "output_type": "execute_result"
    }
   ],
   "source": [
    "type(soup)"
   ]
  },
  {
   "cell_type": "code",
   "execution_count": 14,
   "metadata": {},
   "outputs": [
    {
     "data": {
      "text/plain": [
       "<h1 id=\"title\">Hello World</h1>"
      ]
     },
     "execution_count": 14,
     "metadata": {},
     "output_type": "execute_result"
    }
   ],
   "source": [
    "soup.select_one('h1')"
   ]
  },
  {
   "cell_type": "code",
   "execution_count": 15,
   "metadata": {},
   "outputs": [
    {
     "data": {
      "text/plain": [
       "'Hello World'"
      ]
     },
     "execution_count": 15,
     "metadata": {},
     "output_type": "execute_result"
    }
   ],
   "source": [
    "soup.select_one('h1').text"
   ]
  },
  {
   "cell_type": "code",
   "execution_count": 16,
   "metadata": {},
   "outputs": [
    {
     "data": {
      "text/plain": [
       "<a class=\"link\" href=\"#\">This is link1</a>"
      ]
     },
     "execution_count": 16,
     "metadata": {},
     "output_type": "execute_result"
    }
   ],
   "source": [
    "soup.select_one('a')"
   ]
  },
  {
   "cell_type": "code",
   "execution_count": 17,
   "metadata": {},
   "outputs": [
    {
     "data": {
      "text/plain": [
       "'This is link1'"
      ]
     },
     "execution_count": 17,
     "metadata": {},
     "output_type": "execute_result"
    }
   ],
   "source": [
    "soup.select_one('a').text"
   ]
  },
  {
   "cell_type": "code",
   "execution_count": 18,
   "metadata": {},
   "outputs": [
    {
     "data": {
      "text/plain": [
       "[<a class=\"link\" href=\"#\">This is link1</a>,\n",
       " <a class=\"link\" href=\"# link2\">This is link2</a>]"
      ]
     },
     "execution_count": 18,
     "metadata": {},
     "output_type": "execute_result"
    }
   ],
   "source": [
    "soup.select('a')"
   ]
  },
  {
   "cell_type": "code",
   "execution_count": 19,
   "metadata": {},
   "outputs": [
    {
     "data": {
      "text/plain": [
       "<a class=\"link\" href=\"#\">This is link1</a>"
      ]
     },
     "execution_count": 19,
     "metadata": {},
     "output_type": "execute_result"
    }
   ],
   "source": [
    "alink = soup.select('a')\n",
    "alink[0]"
   ]
  },
  {
   "cell_type": "code",
   "execution_count": 20,
   "metadata": {},
   "outputs": [
    {
     "data": {
      "text/plain": [
       "'This is link1'"
      ]
     },
     "execution_count": 20,
     "metadata": {},
     "output_type": "execute_result"
    }
   ],
   "source": [
    "alink[0].text"
   ]
  },
  {
   "cell_type": "code",
   "execution_count": 21,
   "metadata": {},
   "outputs": [
    {
     "data": {
      "text/plain": [
       "<a class=\"link\" href=\"# link2\">This is link2</a>"
      ]
     },
     "execution_count": 21,
     "metadata": {},
     "output_type": "execute_result"
    }
   ],
   "source": [
    "alink[1]"
   ]
  },
  {
   "cell_type": "code",
   "execution_count": 22,
   "metadata": {},
   "outputs": [
    {
     "data": {
      "text/plain": [
       "'This is link2'"
      ]
     },
     "execution_count": 22,
     "metadata": {},
     "output_type": "execute_result"
    }
   ],
   "source": [
    "alink[1].text"
   ]
  },
  {
   "cell_type": "code",
   "execution_count": 23,
   "metadata": {},
   "outputs": [
    {
     "name": "stdout",
     "output_type": "stream",
     "text": [
      "This is link1\n",
      "This is link2\n"
     ]
    }
   ],
   "source": [
    "for rec in alink:\n",
    "    print(rec.text)"
   ]
  },
  {
   "cell_type": "code",
   "execution_count": 24,
   "metadata": {},
   "outputs": [
    {
     "data": {
      "text/plain": [
       "<h1 id=\"title\">Hello World</h1>"
      ]
     },
     "execution_count": 24,
     "metadata": {},
     "output_type": "execute_result"
    }
   ],
   "source": [
    "# id => #\n",
    "soup.select_one('#title')"
   ]
  },
  {
   "cell_type": "code",
   "execution_count": 25,
   "metadata": {},
   "outputs": [
    {
     "data": {
      "text/plain": [
       "[<a class=\"link\" href=\"#\">This is link1</a>,\n",
       " <a class=\"link\" href=\"# link2\">This is link2</a>]"
      ]
     },
     "execution_count": 25,
     "metadata": {},
     "output_type": "execute_result"
    }
   ],
   "source": [
    "# class => .\n",
    "soup.select('.link')"
   ]
  },
  {
   "cell_type": "code",
   "execution_count": 26,
   "metadata": {},
   "outputs": [
    {
     "name": "stdout",
     "output_type": "stream",
     "text": [
      " \n",
      "<html> \n",
      " <body> \n",
      " <h1 id=\"title\">Hello World</h1> \n",
      " <a href=\"#\" class=\"link\">This is link1</a> \n",
      " <a href=\"# link2\" class=\"link\">This is link2</a> \n",
      " </body> \n",
      " </html>\n"
     ]
    }
   ],
   "source": [
    "print(html_sample)"
   ]
  },
  {
   "cell_type": "code",
   "execution_count": 27,
   "metadata": {},
   "outputs": [
    {
     "data": {
      "text/plain": [
       "<h1 id=\"title\">Hello World</h1>"
      ]
     },
     "execution_count": 27,
     "metadata": {},
     "output_type": "execute_result"
    }
   ],
   "source": [
    "soup.select_one('h1')"
   ]
  },
  {
   "cell_type": "code",
   "execution_count": 28,
   "metadata": {},
   "outputs": [
    {
     "data": {
      "text/plain": [
       "<h1 id=\"title\">Hello World</h1>"
      ]
     },
     "execution_count": 28,
     "metadata": {},
     "output_type": "execute_result"
    }
   ],
   "source": [
    "soup.select_one('#title')"
   ]
  },
  {
   "cell_type": "code",
   "execution_count": 29,
   "metadata": {},
   "outputs": [
    {
     "data": {
      "text/plain": [
       "<h1 id=\"title\">Hello World</h1>"
      ]
     },
     "execution_count": 29,
     "metadata": {},
     "output_type": "execute_result"
    }
   ],
   "source": [
    "soup.select_one('h1#title')"
   ]
  },
  {
   "cell_type": "code",
   "execution_count": 30,
   "metadata": {},
   "outputs": [
    {
     "data": {
      "text/plain": [
       "<h1 id=\"title\">Hello World</h1>"
      ]
     },
     "execution_count": 30,
     "metadata": {},
     "output_type": "execute_result"
    }
   ],
   "source": [
    "soup.select_one('body h1')"
   ]
  },
  {
   "cell_type": "code",
   "execution_count": 31,
   "metadata": {},
   "outputs": [
    {
     "data": {
      "text/plain": [
       "<h1 id=\"title\">Hello World</h1>"
      ]
     },
     "execution_count": 31,
     "metadata": {},
     "output_type": "execute_result"
    }
   ],
   "source": [
    "soup.select_one('body h1#title')"
   ]
  },
  {
   "cell_type": "markdown",
   "metadata": {},
   "source": [
    "## CSS Selector\n",
    "- https://www.w3schools.com/cssref/css_selectors.asp"
   ]
  },
  {
   "cell_type": "code",
   "execution_count": 32,
   "metadata": {},
   "outputs": [
    {
     "name": "stdout",
     "output_type": "stream",
     "text": [
      " \n",
      "<html> \n",
      " <body> \n",
      " <h1 id=\"title\">Hello World</h1> \n",
      " <a href=\"#\" class=\"link\">This is link1</a> \n",
      " <a href=\"# link2\" class=\"link\">This is link2</a> \n",
      " </body> \n",
      " </html>\n"
     ]
    }
   ],
   "source": [
    "print(html_sample)"
   ]
  },
  {
   "cell_type": "code",
   "execution_count": 33,
   "metadata": {},
   "outputs": [
    {
     "data": {
      "text/plain": [
       "[<a class=\"link\" href=\"#\">This is link1</a>,\n",
       " <a class=\"link\" href=\"# link2\">This is link2</a>]"
      ]
     },
     "execution_count": 33,
     "metadata": {},
     "output_type": "execute_result"
    }
   ],
   "source": [
    "soup.select('a')"
   ]
  },
  {
   "cell_type": "code",
   "execution_count": 34,
   "metadata": {},
   "outputs": [
    {
     "data": {
      "text/plain": [
       "[<a class=\"link\" href=\"#\">This is link1</a>,\n",
       " <a class=\"link\" href=\"# link2\">This is link2</a>]"
      ]
     },
     "execution_count": 34,
     "metadata": {},
     "output_type": "execute_result"
    }
   ],
   "source": [
    "soup.select('.link')"
   ]
  },
  {
   "cell_type": "code",
   "execution_count": 35,
   "metadata": {},
   "outputs": [
    {
     "data": {
      "text/plain": [
       "[<a class=\"link\" href=\"#\">This is link1</a>,\n",
       " <a class=\"link\" href=\"# link2\">This is link2</a>]"
      ]
     },
     "execution_count": 35,
     "metadata": {},
     "output_type": "execute_result"
    }
   ],
   "source": [
    "soup.select('a.link')"
   ]
  },
  {
   "cell_type": "code",
   "execution_count": 36,
   "metadata": {},
   "outputs": [
    {
     "data": {
      "text/plain": [
       "[<a class=\"link\" href=\"#\">This is link1</a>,\n",
       " <a class=\"link\" href=\"# link2\">This is link2</a>]"
      ]
     },
     "execution_count": 36,
     "metadata": {},
     "output_type": "execute_result"
    }
   ],
   "source": [
    "soup.select('body a.link')"
   ]
  },
  {
   "cell_type": "code",
   "execution_count": 37,
   "metadata": {},
   "outputs": [],
   "source": [
    "alink = soup.select('body a.link')"
   ]
  },
  {
   "cell_type": "code",
   "execution_count": 39,
   "metadata": {},
   "outputs": [
    {
     "name": "stdout",
     "output_type": "stream",
     "text": [
      "This is link1\n",
      "This is link2\n"
     ]
    }
   ],
   "source": [
    "for rec in alink:\n",
    "    #print(rec)\n",
    "    print(rec.text)"
   ]
  },
  {
   "cell_type": "code",
   "execution_count": 40,
   "metadata": {},
   "outputs": [
    {
     "name": "stdout",
     "output_type": "stream",
     "text": [
      "#\n",
      "# link2\n"
     ]
    }
   ],
   "source": [
    "for rec in alink:\n",
    "    #print(rec)\n",
    "    print(rec.get('href'))"
   ]
  },
  {
   "cell_type": "markdown",
   "metadata": {},
   "source": [
    "## 資料蒐集實務"
   ]
  },
  {
   "cell_type": "code",
   "execution_count": 41,
   "metadata": {},
   "outputs": [
    {
     "data": {
      "text/plain": [
       "<Response [200]>"
      ]
     },
     "execution_count": 41,
     "metadata": {},
     "output_type": "execute_result"
    }
   ],
   "source": [
    "import requests\n",
    "res = requests.get('https://tw.appledaily.com/new/realtime')\n",
    "res"
   ]
  },
  {
   "cell_type": "code",
   "execution_count": 43,
   "metadata": {},
   "outputs": [],
   "source": [
    "from bs4 import BeautifulSoup\n",
    "soup = BeautifulSoup(res.text, 'lxml')"
   ]
  },
  {
   "cell_type": "code",
   "execution_count": 60,
   "metadata": {},
   "outputs": [
    {
     "name": "stdout",
     "output_type": "stream",
     "text": [
      "再遭拒！民陣10.20九龍大遊行　警發反... https://tw.news.appledaily.com/international/realtime/20191018/1650645/ 國際 13:35\n",
      "==================================\n",
      "畫面曝光！轎車綠燈左轉　宜蘭高商教官騎車... https://tw.news.appledaily.com/local/realtime/20191018/1650642/ 社會 13:35\n",
      "==================================\n",
      "衛星導航帶路撞樹卡山區　找電桿編號報警脫... https://tw.news.appledaily.com/life/realtime/20191018/1650620/ 生活 13:35\n",
      "==================================\n",
      "一位花蓮市民心聲：社區旁的一塊地，到底想... https://tw.news.appledaily.com/forum/realtime/20191018/1650541/ 論壇 13:32\n",
      "==================================\n",
      "中國大撒幣時代已逝？　GDP成長創27年... https://tw.news.appledaily.com/international/realtime/20191018/1650618/ 國際 13:32\n",
      "==================================\n",
      "【專訪】蔡瑞雪信伊斯蘭教被笑恐怖分子　《... https://tw.entertainment.appledaily.com/realtime/20191018/1650630/ 娛樂 13:31\n",
      "==================================\n",
      "韓國瑜不在！蔡英文進擊高雄　比四盼「再給... https://tw.news.appledaily.com/politics/realtime/20191018/1650613/ 政治 13:31\n",
      "==================================\n",
      "全球經濟利空不斷　日通膨低迷、德下修展望 https://tw.finance.appledaily.com/realtime/20191018/1650641/ 財經 13:28\n",
      "==================================\n",
      "老翁血糖低騎車摔倒　暖警送糖解困 https://tw.news.appledaily.com/local/realtime/20191018/1650626/ 社會 13:27\n",
      "==================================\n",
      "在台殺女友港男傳將來台投案　港《蘋果》：... https://tw.news.appledaily.com/international/realtime/20191018/1650510/ 國際 13:26\n",
      "==================================\n",
      "多次猥褻智障女　老翁還呼朋引伴遭判刑 https://tw.news.appledaily.com/local/realtime/20191018/1650624/ 社會 13:26\n",
      "==================================\n",
      "桃園議員劉安祺服務處槍擊案　兩嫌落網稱「... https://tw.news.appledaily.com/local/realtime/20191018/1650520/ 社會 13:23\n",
      "==================================\n",
      "港女命案兇嫌若來台投案　檢：無法保證不判... https://tw.news.appledaily.com/local/realtime/20191018/1650621/ 社會 13:21\n",
      "==================================\n",
      "【Video Talk】夢多戳破遊日地雷... https://tw.entertainment.appledaily.com/realtime/20191018/1646011/ 娛樂 13:20\n",
      "==================================\n",
      "5月嬰吞兩口炒蛋　秒變「紅孩兒」全身軟癱... https://tw.news.appledaily.com/life/realtime/20191018/1650628/ 生活 13:19\n",
      "==================================\n",
      "【直播中】港人續抗爭　午餐時間快閃遊行 https://tw.news.appledaily.com/international/realtime/20191018/1650631/ 國際 13:18\n",
      "==================================\n",
      "瘋搶雙11限量優惠　月繳11元享1GB上... https://tw.lifestyle.appledaily.com/gadget/realtime/20191018/1650632/ 3C 13:17\n",
      "==================================\n",
      "外送員交通事故頻傳　北市警加強取締違規記... https://tw.news.appledaily.com/local/realtime/20191018/1650607/ 社會 13:16\n",
      "==================================\n",
      "自焚常引起火災　柯Ｐ失言亂扯「要自焚去河... https://tw.news.appledaily.com/life/realtime/20191018/1650612/ 生活 13:15\n",
      "==================================\n",
      "林佳龍兼蔡英文台中競選總部主委　安定力量... https://tw.news.appledaily.com/politics/realtime/20191018/1650603/ 政治 13:14\n",
      "==================================\n",
      "科技建警偵防並重　新北成立全國首支科偵小... https://tw.news.appledaily.com/local/realtime/20191018/1650627/ 社會 13:11\n",
      "==================================\n",
      "【獨家】美方盼韓國瑜赴美「面試」　蘇起反... https://tw.news.appledaily.com/politics/realtime/20191018/1650403/ 政治 13:08\n",
      "==================================\n",
      "​Libra計劃負責人：若Libra失敗... https://tw.finance.appledaily.com/realtime/20191018/1650617/ 財經 13:07\n",
      "==================================\n",
      "周玉蔻又輸了！稱馬英九擁10億「水」庫　... https://tw.news.appledaily.com/local/realtime/20191018/1650460/ 社會 13:06\n",
      "==================================\n",
      "赴中國藝人、球星若被逼表態　蘇貞昌：主權... https://tw.news.appledaily.com/politics/realtime/20191018/1650579/ 政治 13:06\n",
      "==================================\n",
      "遭影射拿黑錢　黃光芹賴坤成反告韓國瑜誹謗 https://tw.news.appledaily.com/local/realtime/20191018/1650608/ 社會 13:03\n",
      "==================================\n",
      "​電子煙全美已釀33死　專家曝青少年5大... https://tw.news.appledaily.com/life/realtime/20191018/1650616/ 生活 13:03\n",
      "==================================\n",
      "郭台銘入民眾黨列不分區？　郭辦：暫不在人... https://tw.news.appledaily.com/politics/realtime/20191018/1650625/ 政治 13:03\n",
      "==================================\n",
      "原民會明年預算突破10億元　增建文健站提... https://tw.news.appledaily.com/politics/realtime/20191018/1650609/ 政治 13:02\n",
      "==================================\n",
      "被捕爆激烈槍戰後　墨西哥釋放大毒梟兒子  https://tw.news.appledaily.com/international/realtime/20191018/1650515/ 國際 13:01\n",
      "==================================\n"
     ]
    }
   ],
   "source": [
    "for news in soup.select('li.rtddt'):\n",
    "    #print(news)\n",
    "    title = news.select_one('h1').text\n",
    "    category = news.select_one('h2').text\n",
    "    dt = news.select_one('time').text\n",
    "    link = news.select_one('a').get('href')\n",
    "    #print(link)\n",
    "    print(title, link, category, dt)\n",
    "    print('==================================')"
   ]
  },
  {
   "cell_type": "markdown",
   "metadata": {},
   "source": [
    "## 練習題\n",
    "-  https://news.ltn.com.tw/list/breakingnews"
   ]
  },
  {
   "cell_type": "code",
   "execution_count": 62,
   "metadata": {},
   "outputs": [
    {
     "data": {
      "text/plain": [
       "<Response [200]>"
      ]
     },
     "execution_count": 62,
     "metadata": {},
     "output_type": "execute_result"
    }
   ],
   "source": [
    "import requests\n",
    "res = requests.get('https://news.ltn.com.tw/list/breakingnews')\n",
    "res"
   ]
  },
  {
   "cell_type": "code",
   "execution_count": 63,
   "metadata": {},
   "outputs": [],
   "source": [
    "from bs4 import BeautifulSoup\n",
    "soup = BeautifulSoup(res.text, 'lxml')"
   ]
  },
  {
   "cell_type": "code",
   "execution_count": 72,
   "metadata": {},
   "outputs": [
    {
     "name": "stdout",
     "output_type": "stream",
     "text": [
      "府城福安坑溪試掘現場磚頭 文史工作者：與熱蘭遮城尺寸吻合 13:52\n",
      "========================================\n",
      "韓國瑜將到台南造勢 藍營選將：行程一再改、來去一陣風 13:49\n",
      "========================================\n",
      "郭彥甫尋「旅行箱畫作」靈感 驚見女性友人「內衣照」 13:49\n",
      "========================================\n",
      "郭台銘是否列民眾黨不分區 郭辦：暫時不在規劃中 13:47\n",
      "========================================\n",
      "韓國瑜空喊中華民國？學者：不敢要求北京正視存在 13:46\n",
      "========================================\n",
      "土耳其同意停火 敘利亞庫德族民兵接受協議 13:45\n",
      "========================================\n",
      "評韓國瑜兩岸政策 學者：還是在當「韓總機」 13:44\n",
      "========================================\n",
      "中捷綠線隔音牆獨漏烏日 市府允諾有住戶部份先設 13:43\n",
      "========================================\n",
      "中國「刷臉」辨識有漏洞...印刷照片竟能成功騙過機器 13:43\n",
      "========================================\n",
      "台虎名古屋航線12/1起  改降日本中部機場第二航廈 13:42\n",
      "========================================\n",
      "一路向南》歐盟要撤銷EBA！柬埔寨為什麼怕得要死？ 13:42\n",
      "========================================\n",
      "有如芝加哥脫胎換骨 賴清德：蔡總統過去3年為台灣「除鏽」 13:36\n",
      "========================================\n",
      "黃光芹「開吉」韓國瑜 民眾應援央合照 13:33\n",
      "========================================\n",
      "地層下陷防治宣導 兒童劇團前進台南北門錦湖演給你看 13:33\n",
      "========================================\n",
      "中職》台灣大賽帶兵失利丟飯碗  伯納近10年第4人? 13:30\n",
      "========================================\n",
      "頭痛人物又當街「練武功」！這次踼到鐵板收罰單 13:29\n",
      "========================================\n",
      "蔡英文：3年基礎建設有成  美鼓勵500大企業投資台灣 13:23\n",
      "========================================\n",
      "小輸去年！但全球仍有半數 iPhone 已升級 iOS 13 13:23\n",
      "========================================\n",
      "國有地承租爭議洪慈庸協調成功 完成老農30年心願 13:23\n",
      "========================================\n"
     ]
    }
   ],
   "source": [
    "for news in soup.select('.list li'):\n",
    "    if news.select_one('p'):\n",
    "        #print(news)\n",
    "        title = news.select_one('p').text.strip()\n",
    "        dt = news.select_one('span').text.strip()\n",
    "        print(title, dt)\n",
    "        print('========================================')"
   ]
  },
  {
   "cell_type": "markdown",
   "metadata": {},
   "source": [
    "## Apple Break\n",
    "- https://gist.github.com/ywchiu/c2363caa0ae9261babeaea49e4a710fa"
   ]
  },
  {
   "cell_type": "markdown",
   "metadata": {},
   "source": [
    "## 抓取內文"
   ]
  },
  {
   "cell_type": "code",
   "execution_count": 74,
   "metadata": {},
   "outputs": [],
   "source": [
    "import requests\n",
    "res = requests.get('https://tw.news.appledaily.com/international/realtime/20191018/1650618/')\n",
    "#res.text"
   ]
  },
  {
   "cell_type": "code",
   "execution_count": 75,
   "metadata": {},
   "outputs": [],
   "source": [
    "from bs4 import BeautifulSoup\n",
    "soup = BeautifulSoup(res.text, 'lxml')"
   ]
  },
  {
   "cell_type": "code",
   "execution_count": 78,
   "metadata": {},
   "outputs": [
    {
     "name": "stdout",
     "output_type": "stream",
     "text": [
      "中國大撒幣時代已逝？　GDP成長創27年來最差\n"
     ]
    }
   ],
   "source": [
    "print(soup.select_one('h1').text)"
   ]
  },
  {
   "cell_type": "code",
   "execution_count": 80,
   "metadata": {},
   "outputs": [
    {
     "data": {
      "text/plain": [
       "'中國自改革開放後，這20多年來經濟不斷起飛成長，甚至成為威震世界的「大撒幣之國」，但最新經濟數據顯示，中國第3季國內生產總值(GDP)年增率放緩至6%，也創下27年以來的新低點。中國國家統計局今日公布最新經濟數據，發言人毛盛勇公布中國前3季度GDP總值為人民幣69兆7798億元，年增率6.2%。其中第3季GDP的年增率為6%，中國GDP年增率從去年開始呈現下滑趨勢，今年第1季為6.4%，第2季為6.2%，但第3季只有6%，這也是自1992年以來的最低值。中國政府對於今年的GDP目標年增率，設定在6~6.5%，而第3季呈現「低空掠過」的狀態。數據報告也顯示，今年手機與汽車產業不振，讓工業成長值有減緩趨勢。國家統計局表示，當前中國國內外經濟形勢依然複雜嚴峻，全球經濟增長放緩，外部不穩定不確定因素增多，導致國內經濟下行壓力較大。縱使如此，中國當局仍堅持走「習近平路線」，強調以「習近平新時代中國特色社會主義思想」為指導，讓經濟走穩，並進一步改革開放，拓寬國內市場需求挖潛力，促進經濟持續健康發展。瑞穗銀行(Mizuho Bank)經濟與策略總監瓦拉坦(Vishnu Varathan)就直言：「無庸置疑，中國經濟衰退地相當嚴重。」《日本經濟新聞》也分析指出，中美貿易戰導致中國出口低迷，消費與投資的狀況不理想，而中國的經濟成長減慢速度，非常有可能導致世界經濟混亂。（施旖婕／綜合外電報導）'"
      ]
     },
     "execution_count": 80,
     "metadata": {},
     "output_type": "execute_result"
    }
   ],
   "source": [
    "soup.select_one('.ndArticle_margin p').text"
   ]
  },
  {
   "cell_type": "code",
   "execution_count": 82,
   "metadata": {},
   "outputs": [
    {
     "data": {
      "text/plain": [
       "'出版時間：2019/10/18 13:32'"
      ]
     },
     "execution_count": 82,
     "metadata": {},
     "output_type": "execute_result"
    }
   ],
   "source": [
    "soup.select_one('.ndArticle_creat').text"
   ]
  },
  {
   "cell_type": "markdown",
   "metadata": {},
   "source": [
    "## DateTime\n",
    "- https://docs.python.org/3/library/datetime.html#strftime-and-strptime-behavior"
   ]
  },
  {
   "cell_type": "code",
   "execution_count": 83,
   "metadata": {},
   "outputs": [],
   "source": [
    "from datetime import datetime\n",
    "currenttime = datetime.now()"
   ]
  },
  {
   "cell_type": "code",
   "execution_count": 84,
   "metadata": {},
   "outputs": [
    {
     "data": {
      "text/plain": [
       "datetime.datetime(2019, 10, 18, 14, 37, 20, 127027)"
      ]
     },
     "execution_count": 84,
     "metadata": {},
     "output_type": "execute_result"
    }
   ],
   "source": [
    "currenttime"
   ]
  },
  {
   "cell_type": "code",
   "execution_count": 85,
   "metadata": {},
   "outputs": [
    {
     "data": {
      "text/plain": [
       "'2019-10-18'"
      ]
     },
     "execution_count": 85,
     "metadata": {},
     "output_type": "execute_result"
    }
   ],
   "source": [
    "currenttime.strftime('%Y-%m-%d')"
   ]
  },
  {
   "cell_type": "code",
   "execution_count": 86,
   "metadata": {},
   "outputs": [
    {
     "name": "stdout",
     "output_type": "stream",
     "text": [
      "2019-09-03 14:00:00\n"
     ]
    }
   ],
   "source": [
    "a = '2019-09-03 14:00' \n",
    "print(datetime.strptime(a, \"%Y-%m-%d %H:%M\"))\n"
   ]
  },
  {
   "cell_type": "code",
   "execution_count": 87,
   "metadata": {},
   "outputs": [
    {
     "data": {
      "text/plain": [
       "datetime.datetime(2019, 12, 31, 0, 0)"
      ]
     },
     "execution_count": 87,
     "metadata": {},
     "output_type": "execute_result"
    }
   ],
   "source": [
    "dt = datetime.strptime('2019-12-31', \"%Y-%m-%d\")\n",
    "dt"
   ]
  },
  {
   "cell_type": "code",
   "execution_count": 88,
   "metadata": {},
   "outputs": [
    {
     "data": {
      "text/plain": [
       "datetime.timedelta(73, 33759, 872973)"
      ]
     },
     "execution_count": 88,
     "metadata": {},
     "output_type": "execute_result"
    }
   ],
   "source": [
    "dt - currenttime"
   ]
  },
  {
   "cell_type": "code",
   "execution_count": 89,
   "metadata": {},
   "outputs": [
    {
     "data": {
      "text/plain": [
       "'出版時間：2019/10/18 13:32'"
      ]
     },
     "execution_count": 89,
     "metadata": {},
     "output_type": "execute_result"
    }
   ],
   "source": [
    "dt = soup.select_one('.ndArticle_creat').text\n",
    "dt"
   ]
  },
  {
   "cell_type": "code",
   "execution_count": 90,
   "metadata": {},
   "outputs": [
    {
     "data": {
      "text/plain": [
       "datetime.datetime(2019, 10, 18, 13, 32)"
      ]
     },
     "execution_count": 90,
     "metadata": {},
     "output_type": "execute_result"
    }
   ],
   "source": [
    "datetime.strptime(dt, '出版時間：%Y/%m/%d %H:%M')"
   ]
  },
  {
   "cell_type": "code",
   "execution_count": 93,
   "metadata": {},
   "outputs": [
    {
     "data": {
      "text/plain": [
       "'國際'"
      ]
     },
     "execution_count": 93,
     "metadata": {},
     "output_type": "execute_result"
    }
   ],
   "source": [
    "soup.select_one('.ndgTag a.current').text"
   ]
  },
  {
   "cell_type": "code",
   "execution_count": 94,
   "metadata": {},
   "outputs": [],
   "source": [
    "def pageDetail(url):\n",
    "    res = requests.get(url)\n",
    "    soup = BeautifulSoup(res.text)\n",
    "    \n",
    "    title = soup.select_one('h1').text\n",
    "    \n",
    "    content = soup.select_one('.ndArticle_margin p').text\n",
    "    \n",
    "    dt = soup.select_one('.ndArticle_creat').text\n",
    "    dt = datetime.strptime(dt, '出版時間：%Y/%m/%d %H:%M')\n",
    "    \n",
    "    category = soup.select_one('.ndgTag a.current').text\n",
    "    return {'title': title, 'content': content, 'dt': dt, 'category': category}"
   ]
  },
  {
   "cell_type": "code",
   "execution_count": 95,
   "metadata": {},
   "outputs": [
    {
     "data": {
      "text/plain": [
       "{'title': '【狗仔直擊】郭台銘幕後老闆是她\\u3000迎70嗨喊「老婆最大」',\n",
       " 'content': '鴻海創辦人郭台銘（郭董）今天70大壽，《蘋果新聞網》前天直擊「投銀教父」宋學仁、張清芳夫婦，及身家超過數千億的企業大佬們，替郭董暖壽。郭董切蛋糕時臉上堆滿幸福笑意，深情攬著曾馨瑩，在眾人面前，曾馨瑩則顯得有些害羞；據悉，往年郭董過壽，都會買鮮花送給90多歲的郭媽媽，而郭媽媽則精心準備卡片、禮物送給兒子；郭董的寶貝兒女也會寫上卡片送給老爸，曾馨瑩昨向《蘋果》表示：「家人團聚在一起吃飯，就是最好的禮物。」《蘋果》昨在富錦街做訪問巧遇張清芳，她透露精心挑選1950年、郭董出生年份紅酒作為壽禮，席間，郭董戲稱老婆曾馨瑩「是我的老闆、老婆最大」，讓人窺見霸氣郭董私下幽默風趣的一面，賢內助曾馨瑩見到老公開心喝多了，不忘貼心請友人替郭董買解酒液。張清芳前晚身穿GALVAN LONDON的上衣優雅出席，郭董在台北君品酒店頤宮的生日晚宴，包廂席開2桌，男、女賓客各坐一桌，現場除了各式1950年份的紅白酒及香檳，還備有郭董最愛飲用的汾酒；郭董與老婆曾馨瑩同樣生肖屬「虎」，君品酒店精心備有Q版老虎紋飾蛋糕及虎頭拉花拿鐵。張清芳說，因為這半年來郭董相當辛苦，藉此次飯局替郭董加油打氣，問她前晚品嘗1950年份紅、白酒滋味如何？她笑說：「就是富有年紀的味道、酒越沉越香。」問及郭董當晚許下的生日心願為何？張清芳甜笑求饒說：「這太敏感，我不方便透露啦。」而身為人母的張清芳，笑稱因隔日小孩還要上學，因此先行離去。談到近況，張清芳才開打話匣子說，之前為了辦演唱會，重訓及快走，意外造成膝蓋半月板軟骨撕裂傷，為此一周需3天針灸治療，讓她不能穿上最愛的高跟鞋，她向《蘋果》坦言「心情有點沮喪」，還曾心想「Why Me，這不是像運動員如林書豪才會有的運動傷害嗎？」不過，天性樂觀的張清芳笑說：「就要面對它，只要能醫的都不是病。」她說也多虧認識了眾多醫師好友，才會很快發現病因，也才有這些年義唱的演出機會，她下月1日將為榮總60周年，再開金嗓義唱。（特勤中心、林丞偉／台北報導）',\n",
       " 'dt': datetime.datetime(2019, 10, 18, 0, 1),\n",
       " 'category': '娛樂時尚'}"
      ]
     },
     "execution_count": 95,
     "metadata": {},
     "output_type": "execute_result"
    }
   ],
   "source": [
    "pageDetail('https://tw.entertainment.appledaily.com/realtime/20191018/1650128')"
   ]
  },
  {
   "cell_type": "code",
   "execution_count": null,
   "metadata": {},
   "outputs": [],
   "source": []
  }
 ],
 "metadata": {
  "kernelspec": {
   "display_name": "Python 3",
   "language": "python",
   "name": "python3"
  },
  "language_info": {
   "codemirror_mode": {
    "name": "ipython",
    "version": 3
   },
   "file_extension": ".py",
   "mimetype": "text/x-python",
   "name": "python",
   "nbconvert_exporter": "python",
   "pygments_lexer": "ipython3",
   "version": "3.6.2"
  }
 },
 "nbformat": 4,
 "nbformat_minor": 2
}
