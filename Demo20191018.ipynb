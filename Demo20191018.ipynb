{
 "cells": [
  {
   "cell_type": "markdown",
   "metadata": {},
   "source": [
    "## HTTP Status Code\n",
    "- https://zh.wikipedia.org/wiki/HTTP%E7%8A%B6%E6%80%81%E7%A0%81"
   ]
  },
  {
   "cell_type": "markdown",
   "metadata": {},
   "source": [
    "## GET"
   ]
  },
  {
   "cell_type": "code",
   "execution_count": 1,
   "metadata": {},
   "outputs": [
    {
     "data": {
      "text/plain": [
       "<Response [200]>"
      ]
     },
     "execution_count": 1,
     "metadata": {},
     "output_type": "execute_result"
    }
   ],
   "source": [
    "import requests\n",
    "res = requests.get('https://tw.appledaily.com/new/realtime')\n",
    "res"
   ]
  },
  {
   "cell_type": "code",
   "execution_count": 3,
   "metadata": {},
   "outputs": [],
   "source": [
    "#res.text"
   ]
  },
  {
   "cell_type": "markdown",
   "metadata": {},
   "source": [
    "## POST"
   ]
  },
  {
   "cell_type": "code",
   "execution_count": 4,
   "metadata": {},
   "outputs": [
    {
     "data": {
      "text/plain": [
       "<Response [200]>"
      ]
     },
     "execution_count": 4,
     "metadata": {},
     "output_type": "execute_result"
    }
   ],
   "source": [
    "import requests\n",
    "url = 'https://www.thsrc.com.tw/tw/TimeTable/Search'\n",
    "payload = {\n",
    "'StartStationName':  '台北站',\n",
    "'EndStationName':  '新竹站',\n",
    "'SearchType': 'S',\n",
    "'StartStation': '977abb69-413a-4ccf-a109-0272c24fd490',\n",
    "'EndStation': 'a7a04c89-900b-4798-95a3-c01c455622f4',\n",
    "'DepartueSearchDate': '2019/10/18',\n",
    "'DepartueSearchTime': '18:30'    \n",
    "}\n",
    "res = requests.post(url, data = payload)\n",
    "res"
   ]
  },
  {
   "cell_type": "code",
   "execution_count": 7,
   "metadata": {},
   "outputs": [],
   "source": [
    "#res.text\n",
    "#res.json()"
   ]
  },
  {
   "cell_type": "markdown",
   "metadata": {},
   "source": [
    "## 練習題\n",
    "- https://24h.pchome.com.tw/prod/DYAJFW-A900A8XY0?fq=/S/DYAJFW"
   ]
  },
  {
   "cell_type": "code",
   "execution_count": 8,
   "metadata": {},
   "outputs": [
    {
     "data": {
      "text/plain": [
       "'try{jsonp_button([{\"Seq\":23510576,\"Id\":\"DYAJFW-A900A8XY0-000\",\"Price\":{\"M\":0,\"P\":52400,\"Prime\":\"\"},\"Qty\":3,\"ButtonType\":\"ForSale\",\"SaleStatus\":1,\"isPrimeOnly\":0,\"SpecialQty\":0}]);}catch(e){if(window.console){console.log(e);}}'"
      ]
     },
     "execution_count": 8,
     "metadata": {},
     "output_type": "execute_result"
    }
   ],
   "source": [
    "import requests\n",
    "res = requests.get('https://24h.pchome.com.tw/ecapi/ecshop/prodapi/v2/prod/button&id=DYAJFW-A900A8XY0&fields=Seq,Id,Price,Qty,ButtonType,SaleStatus,isPrimeOnly,SpecialQty&_callback=jsonp_button&1571369580?_callback=jsonp_button')\n",
    "res.text"
   ]
  },
  {
   "cell_type": "code",
   "execution_count": 10,
   "metadata": {},
   "outputs": [],
   "source": [
    "import requests\n",
    "res = requests.get('https://tw.appledaily.com/new/realtime')\n",
    "#res.text\n"
   ]
  },
  {
   "cell_type": "code",
   "execution_count": 12,
   "metadata": {},
   "outputs": [
    {
     "data": {
      "text/plain": [
       "requests.models.Response"
      ]
     },
     "execution_count": 12,
     "metadata": {},
     "output_type": "execute_result"
    }
   ],
   "source": [
    "type(res)"
   ]
  },
  {
   "cell_type": "markdown",
   "metadata": {},
   "source": [
    "## BeautifulSoup"
   ]
  },
  {
   "cell_type": "code",
   "execution_count": 11,
   "metadata": {},
   "outputs": [
    {
     "name": "stdout",
     "output_type": "stream",
     "text": [
      "\n",
      "\n",
      "Hello World\n",
      "This is link1\n",
      "This is link2\n",
      "\n",
      "\n"
     ]
    }
   ],
   "source": [
    "from bs4 import BeautifulSoup \n",
    "html_sample = ''' \n",
    "<html> \n",
    " <body> \n",
    " <h1 id=\"title\">Hello World</h1> \n",
    " <a href=\"#\" class=\"link\">This is link1</a> \n",
    " <a href=\"# link2\" class=\"link\">This is link2</a> \n",
    " </body> \n",
    " </html>'''\n",
    "\n",
    "soup = BeautifulSoup(html_sample, 'lxml')\n",
    "print(soup.text)"
   ]
  },
  {
   "cell_type": "code",
   "execution_count": 13,
   "metadata": {},
   "outputs": [
    {
     "data": {
      "text/plain": [
       "bs4.BeautifulSoup"
      ]
     },
     "execution_count": 13,
     "metadata": {},
     "output_type": "execute_result"
    }
   ],
   "source": [
    "type(soup)"
   ]
  },
  {
   "cell_type": "code",
   "execution_count": 14,
   "metadata": {},
   "outputs": [
    {
     "data": {
      "text/plain": [
       "<h1 id=\"title\">Hello World</h1>"
      ]
     },
     "execution_count": 14,
     "metadata": {},
     "output_type": "execute_result"
    }
   ],
   "source": [
    "soup.select_one('h1')"
   ]
  },
  {
   "cell_type": "code",
   "execution_count": 15,
   "metadata": {},
   "outputs": [
    {
     "data": {
      "text/plain": [
       "'Hello World'"
      ]
     },
     "execution_count": 15,
     "metadata": {},
     "output_type": "execute_result"
    }
   ],
   "source": [
    "soup.select_one('h1').text"
   ]
  },
  {
   "cell_type": "code",
   "execution_count": 16,
   "metadata": {},
   "outputs": [
    {
     "data": {
      "text/plain": [
       "<a class=\"link\" href=\"#\">This is link1</a>"
      ]
     },
     "execution_count": 16,
     "metadata": {},
     "output_type": "execute_result"
    }
   ],
   "source": [
    "soup.select_one('a')"
   ]
  },
  {
   "cell_type": "code",
   "execution_count": 17,
   "metadata": {},
   "outputs": [
    {
     "data": {
      "text/plain": [
       "'This is link1'"
      ]
     },
     "execution_count": 17,
     "metadata": {},
     "output_type": "execute_result"
    }
   ],
   "source": [
    "soup.select_one('a').text"
   ]
  },
  {
   "cell_type": "code",
   "execution_count": 18,
   "metadata": {},
   "outputs": [
    {
     "data": {
      "text/plain": [
       "[<a class=\"link\" href=\"#\">This is link1</a>,\n",
       " <a class=\"link\" href=\"# link2\">This is link2</a>]"
      ]
     },
     "execution_count": 18,
     "metadata": {},
     "output_type": "execute_result"
    }
   ],
   "source": [
    "soup.select('a')"
   ]
  },
  {
   "cell_type": "code",
   "execution_count": 19,
   "metadata": {},
   "outputs": [
    {
     "data": {
      "text/plain": [
       "<a class=\"link\" href=\"#\">This is link1</a>"
      ]
     },
     "execution_count": 19,
     "metadata": {},
     "output_type": "execute_result"
    }
   ],
   "source": [
    "alink = soup.select('a')\n",
    "alink[0]"
   ]
  },
  {
   "cell_type": "code",
   "execution_count": 20,
   "metadata": {},
   "outputs": [
    {
     "data": {
      "text/plain": [
       "'This is link1'"
      ]
     },
     "execution_count": 20,
     "metadata": {},
     "output_type": "execute_result"
    }
   ],
   "source": [
    "alink[0].text"
   ]
  },
  {
   "cell_type": "code",
   "execution_count": 21,
   "metadata": {},
   "outputs": [
    {
     "data": {
      "text/plain": [
       "<a class=\"link\" href=\"# link2\">This is link2</a>"
      ]
     },
     "execution_count": 21,
     "metadata": {},
     "output_type": "execute_result"
    }
   ],
   "source": [
    "alink[1]"
   ]
  },
  {
   "cell_type": "code",
   "execution_count": 22,
   "metadata": {},
   "outputs": [
    {
     "data": {
      "text/plain": [
       "'This is link2'"
      ]
     },
     "execution_count": 22,
     "metadata": {},
     "output_type": "execute_result"
    }
   ],
   "source": [
    "alink[1].text"
   ]
  },
  {
   "cell_type": "code",
   "execution_count": 23,
   "metadata": {},
   "outputs": [
    {
     "name": "stdout",
     "output_type": "stream",
     "text": [
      "This is link1\n",
      "This is link2\n"
     ]
    }
   ],
   "source": [
    "for rec in alink:\n",
    "    print(rec.text)"
   ]
  },
  {
   "cell_type": "code",
   "execution_count": 24,
   "metadata": {},
   "outputs": [
    {
     "data": {
      "text/plain": [
       "<h1 id=\"title\">Hello World</h1>"
      ]
     },
     "execution_count": 24,
     "metadata": {},
     "output_type": "execute_result"
    }
   ],
   "source": [
    "# id => #\n",
    "soup.select_one('#title')"
   ]
  },
  {
   "cell_type": "code",
   "execution_count": 25,
   "metadata": {},
   "outputs": [
    {
     "data": {
      "text/plain": [
       "[<a class=\"link\" href=\"#\">This is link1</a>,\n",
       " <a class=\"link\" href=\"# link2\">This is link2</a>]"
      ]
     },
     "execution_count": 25,
     "metadata": {},
     "output_type": "execute_result"
    }
   ],
   "source": [
    "# class => .\n",
    "soup.select('.link')"
   ]
  },
  {
   "cell_type": "code",
   "execution_count": 26,
   "metadata": {},
   "outputs": [
    {
     "name": "stdout",
     "output_type": "stream",
     "text": [
      " \n",
      "<html> \n",
      " <body> \n",
      " <h1 id=\"title\">Hello World</h1> \n",
      " <a href=\"#\" class=\"link\">This is link1</a> \n",
      " <a href=\"# link2\" class=\"link\">This is link2</a> \n",
      " </body> \n",
      " </html>\n"
     ]
    }
   ],
   "source": [
    "print(html_sample)"
   ]
  },
  {
   "cell_type": "code",
   "execution_count": 27,
   "metadata": {},
   "outputs": [
    {
     "data": {
      "text/plain": [
       "<h1 id=\"title\">Hello World</h1>"
      ]
     },
     "execution_count": 27,
     "metadata": {},
     "output_type": "execute_result"
    }
   ],
   "source": [
    "soup.select_one('h1')"
   ]
  },
  {
   "cell_type": "code",
   "execution_count": 28,
   "metadata": {},
   "outputs": [
    {
     "data": {
      "text/plain": [
       "<h1 id=\"title\">Hello World</h1>"
      ]
     },
     "execution_count": 28,
     "metadata": {},
     "output_type": "execute_result"
    }
   ],
   "source": [
    "soup.select_one('#title')"
   ]
  },
  {
   "cell_type": "code",
   "execution_count": 29,
   "metadata": {},
   "outputs": [
    {
     "data": {
      "text/plain": [
       "<h1 id=\"title\">Hello World</h1>"
      ]
     },
     "execution_count": 29,
     "metadata": {},
     "output_type": "execute_result"
    }
   ],
   "source": [
    "soup.select_one('h1#title')"
   ]
  },
  {
   "cell_type": "code",
   "execution_count": 30,
   "metadata": {},
   "outputs": [
    {
     "data": {
      "text/plain": [
       "<h1 id=\"title\">Hello World</h1>"
      ]
     },
     "execution_count": 30,
     "metadata": {},
     "output_type": "execute_result"
    }
   ],
   "source": [
    "soup.select_one('body h1')"
   ]
  },
  {
   "cell_type": "code",
   "execution_count": 31,
   "metadata": {},
   "outputs": [
    {
     "data": {
      "text/plain": [
       "<h1 id=\"title\">Hello World</h1>"
      ]
     },
     "execution_count": 31,
     "metadata": {},
     "output_type": "execute_result"
    }
   ],
   "source": [
    "soup.select_one('body h1#title')"
   ]
  },
  {
   "cell_type": "markdown",
   "metadata": {},
   "source": [
    "## CSS Selector\n",
    "- https://www.w3schools.com/cssref/css_selectors.asp"
   ]
  },
  {
   "cell_type": "code",
   "execution_count": 32,
   "metadata": {},
   "outputs": [
    {
     "name": "stdout",
     "output_type": "stream",
     "text": [
      " \n",
      "<html> \n",
      " <body> \n",
      " <h1 id=\"title\">Hello World</h1> \n",
      " <a href=\"#\" class=\"link\">This is link1</a> \n",
      " <a href=\"# link2\" class=\"link\">This is link2</a> \n",
      " </body> \n",
      " </html>\n"
     ]
    }
   ],
   "source": [
    "print(html_sample)"
   ]
  },
  {
   "cell_type": "code",
   "execution_count": 33,
   "metadata": {},
   "outputs": [
    {
     "data": {
      "text/plain": [
       "[<a class=\"link\" href=\"#\">This is link1</a>,\n",
       " <a class=\"link\" href=\"# link2\">This is link2</a>]"
      ]
     },
     "execution_count": 33,
     "metadata": {},
     "output_type": "execute_result"
    }
   ],
   "source": [
    "soup.select('a')"
   ]
  },
  {
   "cell_type": "code",
   "execution_count": 34,
   "metadata": {},
   "outputs": [
    {
     "data": {
      "text/plain": [
       "[<a class=\"link\" href=\"#\">This is link1</a>,\n",
       " <a class=\"link\" href=\"# link2\">This is link2</a>]"
      ]
     },
     "execution_count": 34,
     "metadata": {},
     "output_type": "execute_result"
    }
   ],
   "source": [
    "soup.select('.link')"
   ]
  },
  {
   "cell_type": "code",
   "execution_count": 35,
   "metadata": {},
   "outputs": [
    {
     "data": {
      "text/plain": [
       "[<a class=\"link\" href=\"#\">This is link1</a>,\n",
       " <a class=\"link\" href=\"# link2\">This is link2</a>]"
      ]
     },
     "execution_count": 35,
     "metadata": {},
     "output_type": "execute_result"
    }
   ],
   "source": [
    "soup.select('a.link')"
   ]
  },
  {
   "cell_type": "code",
   "execution_count": 36,
   "metadata": {},
   "outputs": [
    {
     "data": {
      "text/plain": [
       "[<a class=\"link\" href=\"#\">This is link1</a>,\n",
       " <a class=\"link\" href=\"# link2\">This is link2</a>]"
      ]
     },
     "execution_count": 36,
     "metadata": {},
     "output_type": "execute_result"
    }
   ],
   "source": [
    "soup.select('body a.link')"
   ]
  },
  {
   "cell_type": "code",
   "execution_count": 37,
   "metadata": {},
   "outputs": [],
   "source": [
    "alink = soup.select('body a.link')"
   ]
  },
  {
   "cell_type": "code",
   "execution_count": 39,
   "metadata": {},
   "outputs": [
    {
     "name": "stdout",
     "output_type": "stream",
     "text": [
      "This is link1\n",
      "This is link2\n"
     ]
    }
   ],
   "source": [
    "for rec in alink:\n",
    "    #print(rec)\n",
    "    print(rec.text)"
   ]
  },
  {
   "cell_type": "code",
   "execution_count": 40,
   "metadata": {},
   "outputs": [
    {
     "name": "stdout",
     "output_type": "stream",
     "text": [
      "#\n",
      "# link2\n"
     ]
    }
   ],
   "source": [
    "for rec in alink:\n",
    "    #print(rec)\n",
    "    print(rec.get('href'))"
   ]
  },
  {
   "cell_type": "markdown",
   "metadata": {},
   "source": [
    "## 資料蒐集實務"
   ]
  },
  {
   "cell_type": "code",
   "execution_count": 41,
   "metadata": {},
   "outputs": [
    {
     "data": {
      "text/plain": [
       "<Response [200]>"
      ]
     },
     "execution_count": 41,
     "metadata": {},
     "output_type": "execute_result"
    }
   ],
   "source": [
    "import requests\n",
    "res = requests.get('https://tw.appledaily.com/new/realtime')\n",
    "res"
   ]
  },
  {
   "cell_type": "code",
   "execution_count": 43,
   "metadata": {},
   "outputs": [],
   "source": [
    "from bs4 import BeautifulSoup\n",
    "soup = BeautifulSoup(res.text, 'lxml')"
   ]
  },
  {
   "cell_type": "code",
   "execution_count": 60,
   "metadata": {},
   "outputs": [
    {
     "name": "stdout",
     "output_type": "stream",
     "text": [
      "再遭拒！民陣10.20九龍大遊行　警發反... https://tw.news.appledaily.com/international/realtime/20191018/1650645/ 國際 13:35\n",
      "==================================\n",
      "畫面曝光！轎車綠燈左轉　宜蘭高商教官騎車... https://tw.news.appledaily.com/local/realtime/20191018/1650642/ 社會 13:35\n",
      "==================================\n",
      "衛星導航帶路撞樹卡山區　找電桿編號報警脫... https://tw.news.appledaily.com/life/realtime/20191018/1650620/ 生活 13:35\n",
      "==================================\n",
      "一位花蓮市民心聲：社區旁的一塊地，到底想... https://tw.news.appledaily.com/forum/realtime/20191018/1650541/ 論壇 13:32\n",
      "==================================\n",
      "中國大撒幣時代已逝？　GDP成長創27年... https://tw.news.appledaily.com/international/realtime/20191018/1650618/ 國際 13:32\n",
      "==================================\n",
      "【專訪】蔡瑞雪信伊斯蘭教被笑恐怖分子　《... https://tw.entertainment.appledaily.com/realtime/20191018/1650630/ 娛樂 13:31\n",
      "==================================\n",
      "韓國瑜不在！蔡英文進擊高雄　比四盼「再給... https://tw.news.appledaily.com/politics/realtime/20191018/1650613/ 政治 13:31\n",
      "==================================\n",
      "全球經濟利空不斷　日通膨低迷、德下修展望 https://tw.finance.appledaily.com/realtime/20191018/1650641/ 財經 13:28\n",
      "==================================\n",
      "老翁血糖低騎車摔倒　暖警送糖解困 https://tw.news.appledaily.com/local/realtime/20191018/1650626/ 社會 13:27\n",
      "==================================\n",
      "在台殺女友港男傳將來台投案　港《蘋果》：... https://tw.news.appledaily.com/international/realtime/20191018/1650510/ 國際 13:26\n",
      "==================================\n",
      "多次猥褻智障女　老翁還呼朋引伴遭判刑 https://tw.news.appledaily.com/local/realtime/20191018/1650624/ 社會 13:26\n",
      "==================================\n",
      "桃園議員劉安祺服務處槍擊案　兩嫌落網稱「... https://tw.news.appledaily.com/local/realtime/20191018/1650520/ 社會 13:23\n",
      "==================================\n",
      "港女命案兇嫌若來台投案　檢：無法保證不判... https://tw.news.appledaily.com/local/realtime/20191018/1650621/ 社會 13:21\n",
      "==================================\n",
      "【Video Talk】夢多戳破遊日地雷... https://tw.entertainment.appledaily.com/realtime/20191018/1646011/ 娛樂 13:20\n",
      "==================================\n",
      "5月嬰吞兩口炒蛋　秒變「紅孩兒」全身軟癱... https://tw.news.appledaily.com/life/realtime/20191018/1650628/ 生活 13:19\n",
      "==================================\n",
      "【直播中】港人續抗爭　午餐時間快閃遊行 https://tw.news.appledaily.com/international/realtime/20191018/1650631/ 國際 13:18\n",
      "==================================\n",
      "瘋搶雙11限量優惠　月繳11元享1GB上... https://tw.lifestyle.appledaily.com/gadget/realtime/20191018/1650632/ 3C 13:17\n",
      "==================================\n",
      "外送員交通事故頻傳　北市警加強取締違規記... https://tw.news.appledaily.com/local/realtime/20191018/1650607/ 社會 13:16\n",
      "==================================\n",
      "自焚常引起火災　柯Ｐ失言亂扯「要自焚去河... https://tw.news.appledaily.com/life/realtime/20191018/1650612/ 生活 13:15\n",
      "==================================\n",
      "林佳龍兼蔡英文台中競選總部主委　安定力量... https://tw.news.appledaily.com/politics/realtime/20191018/1650603/ 政治 13:14\n",
      "==================================\n",
      "科技建警偵防並重　新北成立全國首支科偵小... https://tw.news.appledaily.com/local/realtime/20191018/1650627/ 社會 13:11\n",
      "==================================\n",
      "【獨家】美方盼韓國瑜赴美「面試」　蘇起反... https://tw.news.appledaily.com/politics/realtime/20191018/1650403/ 政治 13:08\n",
      "==================================\n",
      "​Libra計劃負責人：若Libra失敗... https://tw.finance.appledaily.com/realtime/20191018/1650617/ 財經 13:07\n",
      "==================================\n",
      "周玉蔻又輸了！稱馬英九擁10億「水」庫　... https://tw.news.appledaily.com/local/realtime/20191018/1650460/ 社會 13:06\n",
      "==================================\n",
      "赴中國藝人、球星若被逼表態　蘇貞昌：主權... https://tw.news.appledaily.com/politics/realtime/20191018/1650579/ 政治 13:06\n",
      "==================================\n",
      "遭影射拿黑錢　黃光芹賴坤成反告韓國瑜誹謗 https://tw.news.appledaily.com/local/realtime/20191018/1650608/ 社會 13:03\n",
      "==================================\n",
      "​電子煙全美已釀33死　專家曝青少年5大... https://tw.news.appledaily.com/life/realtime/20191018/1650616/ 生活 13:03\n",
      "==================================\n",
      "郭台銘入民眾黨列不分區？　郭辦：暫不在人... https://tw.news.appledaily.com/politics/realtime/20191018/1650625/ 政治 13:03\n",
      "==================================\n",
      "原民會明年預算突破10億元　增建文健站提... https://tw.news.appledaily.com/politics/realtime/20191018/1650609/ 政治 13:02\n",
      "==================================\n",
      "被捕爆激烈槍戰後　墨西哥釋放大毒梟兒子  https://tw.news.appledaily.com/international/realtime/20191018/1650515/ 國際 13:01\n",
      "==================================\n"
     ]
    }
   ],
   "source": [
    "for news in soup.select('li.rtddt'):\n",
    "    #print(news)\n",
    "    title = news.select_one('h1').text\n",
    "    category = news.select_one('h2').text\n",
    "    dt = news.select_one('time').text\n",
    "    link = news.select_one('a').get('href')\n",
    "    #print(link)\n",
    "    print(title, link, category, dt)\n",
    "    print('==================================')"
   ]
  },
  {
   "cell_type": "markdown",
   "metadata": {},
   "source": [
    "## 練習題\n",
    "-  https://news.ltn.com.tw/list/breakingnews"
   ]
  },
  {
   "cell_type": "code",
   "execution_count": 62,
   "metadata": {},
   "outputs": [
    {
     "data": {
      "text/plain": [
       "<Response [200]>"
      ]
     },
     "execution_count": 62,
     "metadata": {},
     "output_type": "execute_result"
    }
   ],
   "source": [
    "import requests\n",
    "res = requests.get('https://news.ltn.com.tw/list/breakingnews')\n",
    "res"
   ]
  },
  {
   "cell_type": "code",
   "execution_count": 63,
   "metadata": {},
   "outputs": [],
   "source": [
    "from bs4 import BeautifulSoup\n",
    "soup = BeautifulSoup(res.text, 'lxml')"
   ]
  },
  {
   "cell_type": "code",
   "execution_count": 72,
   "metadata": {},
   "outputs": [
    {
     "name": "stdout",
     "output_type": "stream",
     "text": [
      "府城福安坑溪試掘現場磚頭 文史工作者：與熱蘭遮城尺寸吻合 13:52\n",
      "========================================\n",
      "韓國瑜將到台南造勢 藍營選將：行程一再改、來去一陣風 13:49\n",
      "========================================\n",
      "郭彥甫尋「旅行箱畫作」靈感 驚見女性友人「內衣照」 13:49\n",
      "========================================\n",
      "郭台銘是否列民眾黨不分區 郭辦：暫時不在規劃中 13:47\n",
      "========================================\n",
      "韓國瑜空喊中華民國？學者：不敢要求北京正視存在 13:46\n",
      "========================================\n",
      "土耳其同意停火 敘利亞庫德族民兵接受協議 13:45\n",
      "========================================\n",
      "評韓國瑜兩岸政策 學者：還是在當「韓總機」 13:44\n",
      "========================================\n",
      "中捷綠線隔音牆獨漏烏日 市府允諾有住戶部份先設 13:43\n",
      "========================================\n",
      "中國「刷臉」辨識有漏洞...印刷照片竟能成功騙過機器 13:43\n",
      "========================================\n",
      "台虎名古屋航線12/1起  改降日本中部機場第二航廈 13:42\n",
      "========================================\n",
      "一路向南》歐盟要撤銷EBA！柬埔寨為什麼怕得要死？ 13:42\n",
      "========================================\n",
      "有如芝加哥脫胎換骨 賴清德：蔡總統過去3年為台灣「除鏽」 13:36\n",
      "========================================\n",
      "黃光芹「開吉」韓國瑜 民眾應援央合照 13:33\n",
      "========================================\n",
      "地層下陷防治宣導 兒童劇團前進台南北門錦湖演給你看 13:33\n",
      "========================================\n",
      "中職》台灣大賽帶兵失利丟飯碗  伯納近10年第4人? 13:30\n",
      "========================================\n",
      "頭痛人物又當街「練武功」！這次踼到鐵板收罰單 13:29\n",
      "========================================\n",
      "蔡英文：3年基礎建設有成  美鼓勵500大企業投資台灣 13:23\n",
      "========================================\n",
      "小輸去年！但全球仍有半數 iPhone 已升級 iOS 13 13:23\n",
      "========================================\n",
      "國有地承租爭議洪慈庸協調成功 完成老農30年心願 13:23\n",
      "========================================\n"
     ]
    }
   ],
   "source": [
    "for news in soup.select('.list li'):\n",
    "    if news.select_one('p'):\n",
    "        #print(news)\n",
    "        title = news.select_one('p').text.strip()\n",
    "        dt = news.select_one('span').text.strip()\n",
    "        print(title, dt)\n",
    "        print('========================================')"
   ]
  },
  {
   "cell_type": "markdown",
   "metadata": {},
   "source": [
    "## Apple Break\n",
    "- https://gist.github.com/ywchiu/c2363caa0ae9261babeaea49e4a710fa"
   ]
  },
  {
   "cell_type": "markdown",
   "metadata": {},
   "source": [
    "## 抓取內文"
   ]
  },
  {
   "cell_type": "code",
   "execution_count": 74,
   "metadata": {},
   "outputs": [],
   "source": [
    "import requests\n",
    "res = requests.get('https://tw.news.appledaily.com/international/realtime/20191018/1650618/')\n",
    "#res.text"
   ]
  },
  {
   "cell_type": "code",
   "execution_count": 75,
   "metadata": {},
   "outputs": [],
   "source": [
    "from bs4 import BeautifulSoup\n",
    "soup = BeautifulSoup(res.text, 'lxml')"
   ]
  },
  {
   "cell_type": "code",
   "execution_count": 78,
   "metadata": {},
   "outputs": [
    {
     "name": "stdout",
     "output_type": "stream",
     "text": [
      "中國大撒幣時代已逝？　GDP成長創27年來最差\n"
     ]
    }
   ],
   "source": [
    "print(soup.select_one('h1').text)"
   ]
  },
  {
   "cell_type": "code",
   "execution_count": 80,
   "metadata": {},
   "outputs": [
    {
     "data": {
      "text/plain": [
       "'中國自改革開放後，這20多年來經濟不斷起飛成長，甚至成為威震世界的「大撒幣之國」，但最新經濟數據顯示，中國第3季國內生產總值(GDP)年增率放緩至6%，也創下27年以來的新低點。中國國家統計局今日公布最新經濟數據，發言人毛盛勇公布中國前3季度GDP總值為人民幣69兆7798億元，年增率6.2%。其中第3季GDP的年增率為6%，中國GDP年增率從去年開始呈現下滑趨勢，今年第1季為6.4%，第2季為6.2%，但第3季只有6%，這也是自1992年以來的最低值。中國政府對於今年的GDP目標年增率，設定在6~6.5%，而第3季呈現「低空掠過」的狀態。數據報告也顯示，今年手機與汽車產業不振，讓工業成長值有減緩趨勢。國家統計局表示，當前中國國內外經濟形勢依然複雜嚴峻，全球經濟增長放緩，外部不穩定不確定因素增多，導致國內經濟下行壓力較大。縱使如此，中國當局仍堅持走「習近平路線」，強調以「習近平新時代中國特色社會主義思想」為指導，讓經濟走穩，並進一步改革開放，拓寬國內市場需求挖潛力，促進經濟持續健康發展。瑞穗銀行(Mizuho Bank)經濟與策略總監瓦拉坦(Vishnu Varathan)就直言：「無庸置疑，中國經濟衰退地相當嚴重。」《日本經濟新聞》也分析指出，中美貿易戰導致中國出口低迷，消費與投資的狀況不理想，而中國的經濟成長減慢速度，非常有可能導致世界經濟混亂。（施旖婕／綜合外電報導）'"
      ]
     },
     "execution_count": 80,
     "metadata": {},
     "output_type": "execute_result"
    }
   ],
   "source": [
    "soup.select_one('.ndArticle_margin p').text"
   ]
  },
  {
   "cell_type": "code",
   "execution_count": 82,
   "metadata": {},
   "outputs": [
    {
     "data": {
      "text/plain": [
       "'出版時間：2019/10/18 13:32'"
      ]
     },
     "execution_count": 82,
     "metadata": {},
     "output_type": "execute_result"
    }
   ],
   "source": [
    "soup.select_one('.ndArticle_creat').text"
   ]
  },
  {
   "cell_type": "markdown",
   "metadata": {},
   "source": [
    "## DateTime\n",
    "- https://docs.python.org/3/library/datetime.html#strftime-and-strptime-behavior"
   ]
  },
  {
   "cell_type": "code",
   "execution_count": 83,
   "metadata": {},
   "outputs": [],
   "source": [
    "from datetime import datetime\n",
    "currenttime = datetime.now()"
   ]
  },
  {
   "cell_type": "code",
   "execution_count": 84,
   "metadata": {},
   "outputs": [
    {
     "data": {
      "text/plain": [
       "datetime.datetime(2019, 10, 18, 14, 37, 20, 127027)"
      ]
     },
     "execution_count": 84,
     "metadata": {},
     "output_type": "execute_result"
    }
   ],
   "source": [
    "currenttime"
   ]
  },
  {
   "cell_type": "code",
   "execution_count": 85,
   "metadata": {},
   "outputs": [
    {
     "data": {
      "text/plain": [
       "'2019-10-18'"
      ]
     },
     "execution_count": 85,
     "metadata": {},
     "output_type": "execute_result"
    }
   ],
   "source": [
    "currenttime.strftime('%Y-%m-%d')"
   ]
  },
  {
   "cell_type": "code",
   "execution_count": 86,
   "metadata": {},
   "outputs": [
    {
     "name": "stdout",
     "output_type": "stream",
     "text": [
      "2019-09-03 14:00:00\n"
     ]
    }
   ],
   "source": [
    "a = '2019-09-03 14:00' \n",
    "print(datetime.strptime(a, \"%Y-%m-%d %H:%M\"))\n"
   ]
  },
  {
   "cell_type": "code",
   "execution_count": 87,
   "metadata": {},
   "outputs": [
    {
     "data": {
      "text/plain": [
       "datetime.datetime(2019, 12, 31, 0, 0)"
      ]
     },
     "execution_count": 87,
     "metadata": {},
     "output_type": "execute_result"
    }
   ],
   "source": [
    "dt = datetime.strptime('2019-12-31', \"%Y-%m-%d\")\n",
    "dt"
   ]
  },
  {
   "cell_type": "code",
   "execution_count": 88,
   "metadata": {},
   "outputs": [
    {
     "data": {
      "text/plain": [
       "datetime.timedelta(73, 33759, 872973)"
      ]
     },
     "execution_count": 88,
     "metadata": {},
     "output_type": "execute_result"
    }
   ],
   "source": [
    "dt - currenttime"
   ]
  },
  {
   "cell_type": "code",
   "execution_count": 89,
   "metadata": {},
   "outputs": [
    {
     "data": {
      "text/plain": [
       "'出版時間：2019/10/18 13:32'"
      ]
     },
     "execution_count": 89,
     "metadata": {},
     "output_type": "execute_result"
    }
   ],
   "source": [
    "dt = soup.select_one('.ndArticle_creat').text\n",
    "dt"
   ]
  },
  {
   "cell_type": "code",
   "execution_count": 90,
   "metadata": {},
   "outputs": [
    {
     "data": {
      "text/plain": [
       "datetime.datetime(2019, 10, 18, 13, 32)"
      ]
     },
     "execution_count": 90,
     "metadata": {},
     "output_type": "execute_result"
    }
   ],
   "source": [
    "datetime.strptime(dt, '出版時間：%Y/%m/%d %H:%M')"
   ]
  },
  {
   "cell_type": "code",
   "execution_count": 93,
   "metadata": {},
   "outputs": [
    {
     "data": {
      "text/plain": [
       "'國際'"
      ]
     },
     "execution_count": 93,
     "metadata": {},
     "output_type": "execute_result"
    }
   ],
   "source": [
    "soup.select_one('.ndgTag a.current').text"
   ]
  },
  {
   "cell_type": "code",
   "execution_count": 140,
   "metadata": {},
   "outputs": [],
   "source": [
    "def pageDetail(url):\n",
    "    res = requests.get(url)\n",
    "    soup = BeautifulSoup(res.text)\n",
    "    #print(res.text)\n",
    "    if soup.select_one('h1'):\n",
    "        title = soup.select_one('h1').text\n",
    "    else:\n",
    "        title = soup.select_one('title').text\n",
    "\n",
    "    if soup.select_one('.ndArticle_margin p'):\n",
    "        content = soup.select_one('.ndArticle_margin p').text\n",
    "    else:\n",
    "        m = re.search('\"content_elements\":(\\[.*?\\]),',res.text)\n",
    "        content = eval(m.group(1))[0]['content']\n",
    "    \n",
    "    if soup.select_one('.ndArticle_creat'):\n",
    "        dt = soup.select_one('.ndArticle_creat').text\n",
    "        dt = datetime.strptime(dt, '出版時間：%Y/%m/%d %H:%M')\n",
    "    else:\n",
    "        m = re.search('\"last_updated_date\":\"(.*?)\"',res.text)\n",
    "        dt = m.group(1)\n",
    "    if soup.select_one('.ndgTag a.current'):\n",
    "        category = soup.select_one('.ndgTag a.current').text\n",
    "    else:\n",
    "        category = None\n",
    "    return {'title': title, 'content': content, 'dt': dt, 'category': category}"
   ]
  },
  {
   "cell_type": "code",
   "execution_count": 141,
   "metadata": {},
   "outputs": [
    {
     "data": {
      "text/plain": [
       "{'title': '',\n",
       " 'content': '廖倫瑜／研究助理<br /><br />《蘋果日報》今日獨家報導指出，由於韓國瑜代表國民黨出馬競選的態勢已經確定，因此美國已向韓陣營傳達樂見他赴美「面試」。美方這次表現高度的誠意和善意，透過國民黨立委許毓仁傳話，主動表達邀請他赴美說明政策立場。不僅如此，為了減低韓國瑜的壓力，美方還提前「洩題」，希望韓到時能夠說明關於台灣未來是否在經濟上有過度依賴中國之虞等幾個問題，<br /><br />即便美國已經如此盛意拳拳，甚至都已把考卷快遞到家，但韓國瑜陣營卻還是傳出，內部對於是否讓韓訪美這件事意見喬不攏，有人說該去，有人說不該去。美方的作法幾乎等同在一場棒球比賽中，投手宣告將投出正中直球，放水讓打者可以把球打得又高又遠，而韓陣營的回應竟然是猶豫該不該讓打者站上打擊區？最後決定不赴美「面試」，這是什麼邏輯？<br /><br />據傳，其中反對韓國瑜赴美最力的，就是他國政顧問團中的頭號要角蘇起。蘇認為要是韓國瑜準備不足，到時赴美表現不如預期甚至被打臉，到時反而大大失分，因此不如顧好國內選舉就好。這說法乍聽有理，但細思之後卻有說不通之處。如果美國方面都已洩題，希望他對幾個美方關切的問題做出說明，那韓陣營要做的就是幕僚工作，幫老闆把答案寫好，讓他到美國照稿念即可。而幫韓國瑜準備答案不就是國政顧問團的工作嗎？難道蘇起國政顧問團的能力和學養沒有信心嗎？<br /><br />但是只要撇一眼韓國瑜國政顧問團的名單就知道，裡面不是久歷官場的政壇老兵，就是望重士林的大學教授。依這些人的學養跟能力，答一份已經知道問題的考卷根本就易如反掌，根本完全不可能有「準備不足，赴美被打臉」的情況發生。顯見，問題絕對不是出在韓的幕僚作業上，而是國政顧問團根本不認為韓國瑜有能力給美國人留下好印象。<br /><br />相信不少人都對韓國瑜今年8月應邀至台北美國商會（The American Chamber of Commerce in Taipei）時，發表的中英文夾雜演說還記憶猶新。那時韓國瑜有一句話是這麼說的：「我的 tuition in the fee，大學生活費都是American Chamber pay me」，這種不倫不類的中英文夾雜，不僅不該出現在正式演說中，韓國瑜甚至還把美國商會的全稱講錯。可以想見，幕僚給韓市長的絕對不可能是一篇中英夾雜的演說稿，這顯然是韓國瑜自作聰明的即興演出。在韓眼中，他認為他的「自作聰明」會給他加分，但殊不知在美國人和外界看來，這既不莊重又自曝其短。<br /><br />也就是說，蘇起等人非常清楚，即便他們手中已有一張洩題的考卷，而國政顧問團也為韓國瑜擬定了完美的答案，屆時韓還是有極大的可能「自作聰明」的脫稿演出，導致他「準備不足，赴美被打臉」。這種「自作聰明」反映了韓本人在知識上和格局上的侷限，簡單來說就是上不了檯面，而最清楚這個侷限的當然就是他所倚重的國政顧問團。因此，為什麼蘇起要反對韓國瑜訪美，實在就是護主心切，不想韓市長自曝其短，丟臉丟到國外去啊！',\n",
       " 'dt': '2019-10-18T07:08:23.718Z',\n",
       " 'category': None}"
      ]
     },
     "execution_count": 141,
     "metadata": {},
     "output_type": "execute_result"
    }
   ],
   "source": [
    "pageDetail('https://tw.news.appledaily.com/forum/20191018/2PSLCMNC376LJBCMC24TVOSL5I/')"
   ]
  },
  {
   "cell_type": "code",
   "execution_count": 112,
   "metadata": {},
   "outputs": [
    {
     "data": {
      "text/plain": [
       "{'title': '【狗仔直擊】郭台銘幕後老闆是她\\u3000迎70嗨喊「老婆最大」',\n",
       " 'content': '鴻海創辦人郭台銘（郭董）今天70大壽，《蘋果新聞網》前天直擊「投銀教父」宋學仁、張清芳夫婦，及身家超過數千億的企業大佬們，替郭董暖壽。郭董切蛋糕時臉上堆滿幸福笑意，深情攬著曾馨瑩，在眾人面前，曾馨瑩則顯得有些害羞；據悉，往年郭董過壽，都會買鮮花送給90多歲的郭媽媽，而郭媽媽則精心準備卡片、禮物送給兒子；郭董的寶貝兒女也會寫上卡片送給老爸，曾馨瑩昨向《蘋果》表示：「家人團聚在一起吃飯，就是最好的禮物。」《蘋果》昨在富錦街做訪問巧遇張清芳，她透露精心挑選1950年、郭董出生年份紅酒作為壽禮，席間，郭董戲稱老婆曾馨瑩「是我的老闆、老婆最大」，讓人窺見霸氣郭董私下幽默風趣的一面，賢內助曾馨瑩見到老公開心喝多了，不忘貼心請友人替郭董買解酒液。張清芳前晚身穿GALVAN LONDON的上衣優雅出席，郭董在台北君品酒店頤宮的生日晚宴，包廂席開2桌，男、女賓客各坐一桌，現場除了各式1950年份的紅白酒及香檳，還備有郭董最愛飲用的汾酒；郭董與老婆曾馨瑩同樣生肖屬「虎」，君品酒店精心備有Q版老虎紋飾蛋糕及虎頭拉花拿鐵。張清芳說，因為這半年來郭董相當辛苦，藉此次飯局替郭董加油打氣，問她前晚品嘗1950年份紅、白酒滋味如何？她笑說：「就是富有年紀的味道、酒越沉越香。」問及郭董當晚許下的生日心願為何？張清芳甜笑求饒說：「這太敏感，我不方便透露啦。」而身為人母的張清芳，笑稱因隔日小孩還要上學，因此先行離去。談到近況，張清芳才開打話匣子說，之前為了辦演唱會，重訓及快走，意外造成膝蓋半月板軟骨撕裂傷，為此一周需3天針灸治療，讓她不能穿上最愛的高跟鞋，她向《蘋果》坦言「心情有點沮喪」，還曾心想「Why Me，這不是像運動員如林書豪才會有的運動傷害嗎？」不過，天性樂觀的張清芳笑說：「就要面對它，只要能醫的都不是病。」她說也多虧認識了眾多醫師好友，才會很快發現病因，也才有這些年義唱的演出機會，她下月1日將為榮總60周年，再開金嗓義唱。（特勤中心、林丞偉／台北報導）',\n",
       " 'dt': datetime.datetime(2019, 10, 18, 0, 1),\n",
       " 'category': '娛樂時尚'}"
      ]
     },
     "execution_count": 112,
     "metadata": {},
     "output_type": "execute_result"
    }
   ],
   "source": [
    "pageDetail('https://tw.entertainment.appledaily.com/realtime/20191018/1650128')"
   ]
  },
  {
   "cell_type": "markdown",
   "metadata": {},
   "source": [
    "##  完整蘋果爬蟲"
   ]
  },
  {
   "cell_type": "code",
   "execution_count": 113,
   "metadata": {},
   "outputs": [],
   "source": [
    "import requests\n",
    "res  = requests.get('https://tw.appledaily.com/new/realtime')"
   ]
  },
  {
   "cell_type": "code",
   "execution_count": 114,
   "metadata": {},
   "outputs": [],
   "source": [
    "from bs4 import BeautifulSoup\n",
    "soup = BeautifulSoup(res.text, 'lxml')"
   ]
  },
  {
   "cell_type": "code",
   "execution_count": 142,
   "metadata": {},
   "outputs": [
    {
     "name": "stdout",
     "output_type": "stream",
     "text": [
      "https://tw.sports.appledaily.com/realtime/20191018/1650706/\n",
      "https://tw.sports.appledaily.com/realtime/20191018/1650695/\n"
     ]
    }
   ],
   "source": [
    "newsary = []\n",
    "for news in soup.select('li.rtddt a'):\n",
    "    url = news.get('href')\n",
    "    try:\n",
    "        newsary.append(pageDetail(url))\n",
    "    except Exception as e:\n",
    "        print(url)"
   ]
  },
  {
   "cell_type": "code",
   "execution_count": 143,
   "metadata": {},
   "outputs": [
    {
     "data": {
      "text/plain": [
       "28"
      ]
     },
     "execution_count": 143,
     "metadata": {},
     "output_type": "execute_result"
    }
   ],
   "source": [
    "len(newsary)"
   ]
  },
  {
   "cell_type": "code",
   "execution_count": 144,
   "metadata": {},
   "outputs": [
    {
     "data": {
      "text/plain": [
       "{'title': '韓國瑜證實取消訪美\\u3000規劃李佳芬代夫出征',\n",
       " 'content': '國民黨總統參選人、高雄市長韓國瑜請長假下鄉拚大選，上午臨時銷假回高雄市政府會見美國在台協會主席莫健，下午恢復請假繼續到屏東跑傾聽之旅行程。韓國瑜先前往高樹鄉與地方農民進行農業座談，會後接受媒體聯訪時，韓國瑜親自證實已向莫健表達，在時間壓力下，美國行無法成行，之後如果有時間，將規劃請夫人李佳芬代表韓國瑜訪美，拜會海外僑胞。韓國瑜表示，上午與莫健見面，除了對莫健表達感謝外，也對莫健表達選舉剩八十多天，台澎金馬自已還沒有跑完第一趟，時間壓力非常大，這趟美國之行，因為時間壓力，他無法成行，但保證明年選舉投票後，有可能的話，自己立刻去美國拜訪，莫健表達能理解他的想法。「未來如果有時間的話，我的內人李佳芬可以代表我去美國的話，我們再來進行規劃。」韓國瑜說，莫健知道選舉剩八十多天，加上之前高雄市政府工作繁忙，他無法請假太長時間，現在他請假，莫健能了解他一站一站跑，一站一站傾聽的觀點。韓國瑜競選辦公室隨後發佈新聞稿，指出國民黨總統參選人韓國瑜正進行全台「土地傾聽學習之旅」，他18日上午回到高雄市政府，以高雄市長身份接待美國在台協會（AIT）主席莫健（James F. Moriarty），雙方進行閉門會談。外界高度關注韓國瑜何時會再訪美，對此，韓國瑜下午表示，距離明年總統大選只剩84天，如果要訪美，時間上至少得花費兩個星期，但現在全台各地仍有許多熱情邀約，韓陣營在經過審慎評估後，決定忍痛放棄訪美行程，將心力留在台灣，韓國瑜也將持續深入基層，聆聽民意。韓國瑜指出，他今天上午和莫健會面時，已經親自告知美方這個決定，由於台澎金馬等地區跑起來，現在都還沒完全跑完第一趟，時間壓力非常大，因此這趟訪美行無法成行，韓國瑜也向莫健承諾，明年投完票後如果情況允許，會立刻到美國拜訪。韓國瑜表示，前陣子高雄市政繁忙，自己身為高雄市長，無法請假太長時間，莫健也能夠理解自己必須一站一站到全台傾聽、學習，而之後如果有時間，也將規劃請夫人李佳芬代表韓國瑜訪美，拜會海外僑胞，並呼籲海外的庶民夥伴明年都能回台投票，完成下架民進黨的目標。（地方中心/屏東報導）台灣《果燃台》《蘋果新聞網》《蘋果新聞網》Facebook《蘋果新聞網》YouTube頻道發稿時間：14:25更新時間：15:30（新增韓國瑜受訪影片）\\xa0',\n",
       " 'dt': datetime.datetime(2019, 10, 18, 15, 30),\n",
       " 'category': '政治'}"
      ]
     },
     "execution_count": 144,
     "metadata": {},
     "output_type": "execute_result"
    }
   ],
   "source": [
    "newsary[2]"
   ]
  },
  {
   "cell_type": "code",
   "execution_count": 145,
   "metadata": {},
   "outputs": [],
   "source": [
    "import pandas\n",
    "newsdf = pandas.DataFrame(newsary)"
   ]
  },
  {
   "cell_type": "code",
   "execution_count": 146,
   "metadata": {},
   "outputs": [
    {
     "data": {
      "text/html": [
       "<div>\n",
       "<style scoped>\n",
       "    .dataframe tbody tr th:only-of-type {\n",
       "        vertical-align: middle;\n",
       "    }\n",
       "\n",
       "    .dataframe tbody tr th {\n",
       "        vertical-align: top;\n",
       "    }\n",
       "\n",
       "    .dataframe thead th {\n",
       "        text-align: right;\n",
       "    }\n",
       "</style>\n",
       "<table border=\"1\" class=\"dataframe\">\n",
       "  <thead>\n",
       "    <tr style=\"text-align: right;\">\n",
       "      <th></th>\n",
       "      <th>category</th>\n",
       "      <th>content</th>\n",
       "      <th>dt</th>\n",
       "      <th>title</th>\n",
       "    </tr>\n",
       "  </thead>\n",
       "  <tbody>\n",
       "    <tr>\n",
       "      <th>0</th>\n",
       "      <td>政治</td>\n",
       "      <td>台中市大里區光榮國中日前的國文段考試題，竟出現「韓總管是個奸詐卑鄙的小人….」、「國榆出身卑...</td>\n",
       "      <td>2019-10-18 15:18:00.000</td>\n",
       "      <td>「韓總管是卑鄙小人」入段考題　國中道歉：未來出題避免政治</td>\n",
       "    </tr>\n",
       "    <tr>\n",
       "      <th>1</th>\n",
       "      <td>生活</td>\n",
       "      <td>(新增：學者說法)桃園國際機場第三航廈主體工程三度流標，桃機公司今天(10/18)向交通部提...</td>\n",
       "      <td>2019-10-18 15:17:00.000</td>\n",
       "      <td>桃機三航廈三度流標！修掉花俏屋頂從簡　確定延至2024年完工</td>\n",
       "    </tr>\n",
       "    <tr>\n",
       "      <th>2</th>\n",
       "      <td>政治</td>\n",
       "      <td>國民黨總統參選人、高雄市長韓國瑜請長假下鄉拚大選，上午臨時銷假回高雄市政府會見美國在台協會主...</td>\n",
       "      <td>2019-10-18 15:30:00.000</td>\n",
       "      <td>韓國瑜證實取消訪美　規劃李佳芬代夫出征</td>\n",
       "    </tr>\n",
       "    <tr>\n",
       "      <th>3</th>\n",
       "      <td>財經地產</td>\n",
       "      <td>美股財報季來臨，本周由醫療、銀行股打頭陣，其中，嬌生、聯合健康兩大醫療業龍頭都繳出亮眼成績，...</td>\n",
       "      <td>2019-10-18 15:15:00.000</td>\n",
       "      <td>財報助攻　投信看好醫療科技回神</td>\n",
       "    </tr>\n",
       "    <tr>\n",
       "      <th>4</th>\n",
       "      <td>財經地產</td>\n",
       "      <td>中國國家市場監督管理總局今在官網公告，該局局長肖亞慶周四（17日）在北京會見了美國蘋果公司（...</td>\n",
       "      <td>2019-10-18 15:13:00.000</td>\n",
       "      <td>Apple執行長庫克再訪中　長袖善舞惹爭議</td>\n",
       "    </tr>\n",
       "    <tr>\n",
       "      <th>5</th>\n",
       "      <td>財經地產</td>\n",
       "      <td>高雄房市今年買氣提升，從今年前9月建物買賣移轉棟數可看出端倪，交易量提升15%！但數字背後真...</td>\n",
       "      <td>2019-10-18 15:11:00.000</td>\n",
       "      <td>慘烈！　高雄房價創新高銷售率卻新低</td>\n",
       "    </tr>\n",
       "    <tr>\n",
       "      <th>6</th>\n",
       "      <td>國際</td>\n",
       "      <td>觸發港府修訂《逃犯條例》、以致「反送中惡法」運動的台灣殺人案嫌犯陳同佳，下周三（23日）因洗...</td>\n",
       "      <td>2019-10-18 15:09:00.000</td>\n",
       "      <td>港女箱屍案主嫌傳將來台投案　港《蘋果》：國民黨將安排律師商討</td>\n",
       "    </tr>\n",
       "    <tr>\n",
       "      <th>7</th>\n",
       "      <td>娛樂時尚</td>\n",
       "      <td>【編者按】《蘋果新聞網》進入會員新世代，為回饋升級壹會員支持，節目源源不絕推出。台灣《果燃台...</td>\n",
       "      <td>2019-10-18 15:07:00.000</td>\n",
       "      <td>【Video Talk】夢多戳破遊日地雷　脫口蛤、嘖犯大忌</td>\n",
       "    </tr>\n",
       "    <tr>\n",
       "      <th>8</th>\n",
       "      <td>None</td>\n",
       "      <td>廖倫瑜／研究助理&lt;br /&gt;&lt;br /&gt;《蘋果日報》今日獨家報導指出，由於韓國瑜代表國民黨出...</td>\n",
       "      <td>2019-10-18 07:08:23.718</td>\n",
       "      <td></td>\n",
       "    </tr>\n",
       "    <tr>\n",
       "      <th>9</th>\n",
       "      <td>財經地產</td>\n",
       "      <td>中國公布第3季GDP（國內生產毛額）較去年同季成長6%，遭遇「保6」危機，自第2季成長率6....</td>\n",
       "      <td>2019-10-18 15:03:00.000</td>\n",
       "      <td>關稅太傷！中國經濟成長率摔27年半新低</td>\n",
       "    </tr>\n",
       "    <tr>\n",
       "      <th>10</th>\n",
       "      <td>財經地產</td>\n",
       "      <td>金管會發放純網銀執照後風波不斷，其中純網銀董事應符合金金分離的要求，引發銀行大股東不滿，甚至...</td>\n",
       "      <td>2019-10-18 15:03:00.000</td>\n",
       "      <td>純網銀董事一度難產　顧立雄今證實3家都過關</td>\n",
       "    </tr>\n",
       "    <tr>\n",
       "      <th>11</th>\n",
       "      <td>生活</td>\n",
       "      <td>南投草屯毓繡美術館推出年度壓軸大展《食人之道》，邀請義大利當代寫實藝術家尼古拉．薩莫利（Ni...</td>\n",
       "      <td>2019-10-18 15:02:00.000</td>\n",
       "      <td>破壞展現衝突　義大利寫實藝術家南投個展</td>\n",
       "    </tr>\n",
       "    <tr>\n",
       "      <th>12</th>\n",
       "      <td>國際</td>\n",
       "      <td>美國諷刺卡通《南方四賤客》(South Park)最新一期節目再續前兩周火力，繼續砲轟中國「...</td>\n",
       "      <td>2019-10-18 15:01:00.000</td>\n",
       "      <td>《南方四賤客》再砲中國　暗諷NBA詹姆士舔共</td>\n",
       "    </tr>\n",
       "    <tr>\n",
       "      <th>13</th>\n",
       "      <td>社會</td>\n",
       "      <td>新竹一名9個月大男嬰日前獨自在臥房熟睡，半夜卻不明原因頭下腳上摔進床邊40公分高的垃圾桶，被...</td>\n",
       "      <td>2019-10-18 15:00:00.000</td>\n",
       "      <td>9月大男嬰「頭下腳上」摔進垃圾桶　臉發青昏迷指數3</td>\n",
       "    </tr>\n",
       "    <tr>\n",
       "      <th>14</th>\n",
       "      <td>生活</td>\n",
       "      <td>foodpanda、Uber Eats本月(10月)在短短5天內發生3起外送員車禍身亡憾事，...</td>\n",
       "      <td>2019-10-18 15:00:00.000</td>\n",
       "      <td>【獨家／外送險象3】不甩禁令照賺錢！　《蘋果》實測「戶戶送」違規營運</td>\n",
       "    </tr>\n",
       "    <tr>\n",
       "      <th>15</th>\n",
       "      <td>生活</td>\n",
       "      <td>秋冬進入阿里山年度楓紅盛事，林務局阿里山林業鐵路及文化資產管理處特別在12月推出《款行.楓旅...</td>\n",
       "      <td>2019-10-18 14:55:00.000</td>\n",
       "      <td>阿里山紅色饗宴　林鐵賞楓主題列車12月登場</td>\n",
       "    </tr>\n",
       "    <tr>\n",
       "      <th>16</th>\n",
       "      <td>國際</td>\n",
       "      <td>中國自改革開放後，這20多年來經濟不斷起飛成長，甚至成為威震世界的「大撒幣之國」，但最新經濟...</td>\n",
       "      <td>2019-10-18 14:54:00.000</td>\n",
       "      <td>中國大撒幣時代已逝？　GDP成長創27年來最差</td>\n",
       "    </tr>\n",
       "    <tr>\n",
       "      <th>17</th>\n",
       "      <td>社會</td>\n",
       "      <td>彰化一名已婚、退休的李姓男子，前年6月到10月間，與已婚的張姓女子多次進出汽車旅館、還在車上...</td>\n",
       "      <td>2019-10-18 14:54:00.000</td>\n",
       "      <td>「聞妳味道上癮像吃榴槤」　男女偷情對話全都錄！判賠50萬元</td>\n",
       "    </tr>\n",
       "    <tr>\n",
       "      <th>18</th>\n",
       "      <td>財經地產</td>\n",
       "      <td>由於台北市政府今公告，台北市雙子星大樓開發案因原最優申請人南海馬頓團隊，因未能於北市捷運局通...</td>\n",
       "      <td>2019-10-18 14:51:00.000</td>\n",
       "      <td>台北市雙子星開發案拍板！　藍天集團遞補獲優先資格</td>\n",
       "    </tr>\n",
       "    <tr>\n",
       "      <th>19</th>\n",
       "      <td>None</td>\n",
       "      <td>台灣大賽在昨天落幕，Lamigo桃猿隊以4勝1敗如願完成3連霸作業，而「恰恰」彭政閔也完成球...</td>\n",
       "      <td>2019-10-18 06:50:44.127</td>\n",
       "      <td></td>\n",
       "    </tr>\n",
       "    <tr>\n",
       "      <th>20</th>\n",
       "      <td>娛樂時尚</td>\n",
       "      <td>郭彥甫以藝術家身分和曲艾玲出席複合式歐系精品選物店HAMA BOUTIQUE派對，配合活動主...</td>\n",
       "      <td>2019-10-18 14:50:00.000</td>\n",
       "      <td>藝術家郭彥甫出關　自嘆不是好老公</td>\n",
       "    </tr>\n",
       "    <tr>\n",
       "      <th>21</th>\n",
       "      <td>生活</td>\n",
       "      <td>嘉義市政府推動市區公車，自即日起至108年12月31日止，全國民眾只要持悠遊卡、一卡通等電子...</td>\n",
       "      <td>2019-10-18 14:50:00.000</td>\n",
       "      <td>嘉市推免費公車　邀市民學童先體驗</td>\n",
       "    </tr>\n",
       "    <tr>\n",
       "      <th>22</th>\n",
       "      <td>None</td>\n",
       "      <td>王崇堯／台南神學院院長&lt;br /&gt;&amp;nbsp;&lt;br /&gt;10月10日香港中文大學舉行一場師...</td>\n",
       "      <td>2019-10-18 06:47:00.603</td>\n",
       "      <td></td>\n",
       "    </tr>\n",
       "    <tr>\n",
       "      <th>23</th>\n",
       "      <td>娛樂時尚</td>\n",
       "      <td>韓國演藝圈性醜聞時有所聞，近日已出道3年的4人組女團成員韓某，出面指控本月1日練舞時，遭到經...</td>\n",
       "      <td>2019-10-18 14:45:00.000</td>\n",
       "      <td>「你跳舞像在做愛」　韓女團成員遭老闆性騷擾</td>\n",
       "    </tr>\n",
       "    <tr>\n",
       "      <th>24</th>\n",
       "      <td>政治</td>\n",
       "      <td>新竹市民進黨立委參選人鄭宏輝長期關注消防議題，他本身也是20年資歷義消，目前擔任竹市義消總隊...</td>\n",
       "      <td>2019-10-18 14:44:00.000</td>\n",
       "      <td>任竹市義消19年　立委參選人挺義消入法</td>\n",
       "    </tr>\n",
       "    <tr>\n",
       "      <th>25</th>\n",
       "      <td>社會</td>\n",
       "      <td>已故誠品創辦人吳清友遺孀洪肅賢名下別墅遭法拍！台北地院證實，洪女位於新北市新店區安祥路「彩蝶...</td>\n",
       "      <td>2019-10-18 15:30:00.000</td>\n",
       "      <td>誠品創辦人吳清友遺孀別墅遭法拍　底價1.45億</td>\n",
       "    </tr>\n",
       "    <tr>\n",
       "      <th>26</th>\n",
       "      <td>財經地產</td>\n",
       "      <td>搶先預演雙11盛況，富邦媒（8454）momo購物網攜手永豐餘（1907）旗下五月花、橘子工...</td>\n",
       "      <td>2019-10-18 14:43:00.000</td>\n",
       "      <td>預演雙11　momo衛生紙、洗潔商品演練物流配送</td>\n",
       "    </tr>\n",
       "    <tr>\n",
       "      <th>27</th>\n",
       "      <td>財經地產</td>\n",
       "      <td>為了因應數位化浪潮，台灣金融服務業聯合總會與會計研究發展基金會於今（18）日舉辦「2019金...</td>\n",
       "      <td>2019-10-18 14:42:00.000</td>\n",
       "      <td>未來金融服務5大趨勢　顧立雄：7面向加強管理</td>\n",
       "    </tr>\n",
       "  </tbody>\n",
       "</table>\n",
       "</div>"
      ],
      "text/plain": [
       "   category                                            content  \\\n",
       "0        政治  台中市大里區光榮國中日前的國文段考試題，竟出現「韓總管是個奸詐卑鄙的小人….」、「國榆出身卑...   \n",
       "1        生活  (新增：學者說法)桃園國際機場第三航廈主體工程三度流標，桃機公司今天(10/18)向交通部提...   \n",
       "2        政治  國民黨總統參選人、高雄市長韓國瑜請長假下鄉拚大選，上午臨時銷假回高雄市政府會見美國在台協會主...   \n",
       "3      財經地產  美股財報季來臨，本周由醫療、銀行股打頭陣，其中，嬌生、聯合健康兩大醫療業龍頭都繳出亮眼成績，...   \n",
       "4      財經地產  中國國家市場監督管理總局今在官網公告，該局局長肖亞慶周四（17日）在北京會見了美國蘋果公司（...   \n",
       "5      財經地產  高雄房市今年買氣提升，從今年前9月建物買賣移轉棟數可看出端倪，交易量提升15%！但數字背後真...   \n",
       "6        國際  觸發港府修訂《逃犯條例》、以致「反送中惡法」運動的台灣殺人案嫌犯陳同佳，下周三（23日）因洗...   \n",
       "7      娛樂時尚  【編者按】《蘋果新聞網》進入會員新世代，為回饋升級壹會員支持，節目源源不絕推出。台灣《果燃台...   \n",
       "8      None  廖倫瑜／研究助理<br /><br />《蘋果日報》今日獨家報導指出，由於韓國瑜代表國民黨出...   \n",
       "9      財經地產  中國公布第3季GDP（國內生產毛額）較去年同季成長6%，遭遇「保6」危機，自第2季成長率6....   \n",
       "10     財經地產  金管會發放純網銀執照後風波不斷，其中純網銀董事應符合金金分離的要求，引發銀行大股東不滿，甚至...   \n",
       "11       生活  南投草屯毓繡美術館推出年度壓軸大展《食人之道》，邀請義大利當代寫實藝術家尼古拉．薩莫利（Ni...   \n",
       "12       國際  美國諷刺卡通《南方四賤客》(South Park)最新一期節目再續前兩周火力，繼續砲轟中國「...   \n",
       "13       社會  新竹一名9個月大男嬰日前獨自在臥房熟睡，半夜卻不明原因頭下腳上摔進床邊40公分高的垃圾桶，被...   \n",
       "14       生活  foodpanda、Uber Eats本月(10月)在短短5天內發生3起外送員車禍身亡憾事，...   \n",
       "15       生活  秋冬進入阿里山年度楓紅盛事，林務局阿里山林業鐵路及文化資產管理處特別在12月推出《款行.楓旅...   \n",
       "16       國際  中國自改革開放後，這20多年來經濟不斷起飛成長，甚至成為威震世界的「大撒幣之國」，但最新經濟...   \n",
       "17       社會  彰化一名已婚、退休的李姓男子，前年6月到10月間，與已婚的張姓女子多次進出汽車旅館、還在車上...   \n",
       "18     財經地產  由於台北市政府今公告，台北市雙子星大樓開發案因原最優申請人南海馬頓團隊，因未能於北市捷運局通...   \n",
       "19     None  台灣大賽在昨天落幕，Lamigo桃猿隊以4勝1敗如願完成3連霸作業，而「恰恰」彭政閔也完成球...   \n",
       "20     娛樂時尚  郭彥甫以藝術家身分和曲艾玲出席複合式歐系精品選物店HAMA BOUTIQUE派對，配合活動主...   \n",
       "21       生活  嘉義市政府推動市區公車，自即日起至108年12月31日止，全國民眾只要持悠遊卡、一卡通等電子...   \n",
       "22     None  王崇堯／台南神學院院長<br />&nbsp;<br />10月10日香港中文大學舉行一場師...   \n",
       "23     娛樂時尚  韓國演藝圈性醜聞時有所聞，近日已出道3年的4人組女團成員韓某，出面指控本月1日練舞時，遭到經...   \n",
       "24       政治  新竹市民進黨立委參選人鄭宏輝長期關注消防議題，他本身也是20年資歷義消，目前擔任竹市義消總隊...   \n",
       "25       社會  已故誠品創辦人吳清友遺孀洪肅賢名下別墅遭法拍！台北地院證實，洪女位於新北市新店區安祥路「彩蝶...   \n",
       "26     財經地產  搶先預演雙11盛況，富邦媒（8454）momo購物網攜手永豐餘（1907）旗下五月花、橘子工...   \n",
       "27     財經地產  為了因應數位化浪潮，台灣金融服務業聯合總會與會計研究發展基金會於今（18）日舉辦「2019金...   \n",
       "\n",
       "                        dt                               title  \n",
       "0  2019-10-18 15:18:00.000        「韓總管是卑鄙小人」入段考題　國中道歉：未來出題避免政治  \n",
       "1  2019-10-18 15:17:00.000      桃機三航廈三度流標！修掉花俏屋頂從簡　確定延至2024年完工  \n",
       "2  2019-10-18 15:30:00.000                 韓國瑜證實取消訪美　規劃李佳芬代夫出征  \n",
       "3  2019-10-18 15:15:00.000                     財報助攻　投信看好醫療科技回神  \n",
       "4  2019-10-18 15:13:00.000               Apple執行長庫克再訪中　長袖善舞惹爭議  \n",
       "5  2019-10-18 15:11:00.000                   慘烈！　高雄房價創新高銷售率卻新低  \n",
       "6  2019-10-18 15:09:00.000      港女箱屍案主嫌傳將來台投案　港《蘋果》：國民黨將安排律師商討  \n",
       "7  2019-10-18 15:07:00.000       【Video Talk】夢多戳破遊日地雷　脫口蛤、嘖犯大忌  \n",
       "8  2019-10-18 07:08:23.718                                      \n",
       "9  2019-10-18 15:03:00.000                 關稅太傷！中國經濟成長率摔27年半新低  \n",
       "10 2019-10-18 15:03:00.000               純網銀董事一度難產　顧立雄今證實3家都過關  \n",
       "11 2019-10-18 15:02:00.000                 破壞展現衝突　義大利寫實藝術家南投個展  \n",
       "12 2019-10-18 15:01:00.000              《南方四賤客》再砲中國　暗諷NBA詹姆士舔共  \n",
       "13 2019-10-18 15:00:00.000           9月大男嬰「頭下腳上」摔進垃圾桶　臉發青昏迷指數3  \n",
       "14 2019-10-18 15:00:00.000  【獨家／外送險象3】不甩禁令照賺錢！　《蘋果》實測「戶戶送」違規營運  \n",
       "15 2019-10-18 14:55:00.000               阿里山紅色饗宴　林鐵賞楓主題列車12月登場  \n",
       "16 2019-10-18 14:54:00.000             中國大撒幣時代已逝？　GDP成長創27年來最差  \n",
       "17 2019-10-18 14:54:00.000       「聞妳味道上癮像吃榴槤」　男女偷情對話全都錄！判賠50萬元  \n",
       "18 2019-10-18 14:51:00.000            台北市雙子星開發案拍板！　藍天集團遞補獲優先資格  \n",
       "19 2019-10-18 06:50:44.127                                      \n",
       "20 2019-10-18 14:50:00.000                    藝術家郭彥甫出關　自嘆不是好老公  \n",
       "21 2019-10-18 14:50:00.000                    嘉市推免費公車　邀市民學童先體驗  \n",
       "22 2019-10-18 06:47:00.603                                      \n",
       "23 2019-10-18 14:45:00.000               「你跳舞像在做愛」　韓女團成員遭老闆性騷擾  \n",
       "24 2019-10-18 14:44:00.000                 任竹市義消19年　立委參選人挺義消入法  \n",
       "25 2019-10-18 15:30:00.000             誠品創辦人吳清友遺孀別墅遭法拍　底價1.45億  \n",
       "26 2019-10-18 14:43:00.000            預演雙11　momo衛生紙、洗潔商品演練物流配送  \n",
       "27 2019-10-18 14:42:00.000              未來金融服務5大趨勢　顧立雄：7面向加強管理  "
      ]
     },
     "execution_count": 146,
     "metadata": {},
     "output_type": "execute_result"
    }
   ],
   "source": [
    "newsdf"
   ]
  },
  {
   "cell_type": "code",
   "execution_count": 128,
   "metadata": {},
   "outputs": [],
   "source": [
    "import requests\n",
    "res = requests.get('https://tw.news.appledaily.com/forum/20191018/2PSLCMNC376LJBCMC24TVOSL5I/')"
   ]
  },
  {
   "cell_type": "code",
   "execution_count": 137,
   "metadata": {},
   "outputs": [
    {
     "data": {
      "text/plain": [
       "'廖倫瑜／研究助理<br /><br />《蘋果日報》今日獨家報導指出，由於韓國瑜代表國民黨出馬競選的態勢已經確定，因此美國已向韓陣營傳達樂見他赴美「面試」。美方這次表現高度的誠意和善意，透過國民黨立委許毓仁傳話，主動表達邀請他赴美說明政策立場。不僅如此，為了減低韓國瑜的壓力，美方還提前「洩題」，希望韓到時能夠說明關於台灣未來是否在經濟上有過度依賴中國之虞等幾個問題，<br /><br />即便美國已經如此盛意拳拳，甚至都已把考卷快遞到家，但韓國瑜陣營卻還是傳出，內部對於是否讓韓訪美這件事意見喬不攏，有人說該去，有人說不該去。美方的作法幾乎等同在一場棒球比賽中，投手宣告將投出正中直球，放水讓打者可以把球打得又高又遠，而韓陣營的回應竟然是猶豫該不該讓打者站上打擊區？最後決定不赴美「面試」，這是什麼邏輯？<br /><br />據傳，其中反對韓國瑜赴美最力的，就是他國政顧問團中的頭號要角蘇起。蘇認為要是韓國瑜準備不足，到時赴美表現不如預期甚至被打臉，到時反而大大失分，因此不如顧好國內選舉就好。這說法乍聽有理，但細思之後卻有說不通之處。如果美國方面都已洩題，希望他對幾個美方關切的問題做出說明，那韓陣營要做的就是幕僚工作，幫老闆把答案寫好，讓他到美國照稿念即可。而幫韓國瑜準備答案不就是國政顧問團的工作嗎？難道蘇起國政顧問團的能力和學養沒有信心嗎？<br /><br />但是只要撇一眼韓國瑜國政顧問團的名單就知道，裡面不是久歷官場的政壇老兵，就是望重士林的大學教授。依這些人的學養跟能力，答一份已經知道問題的考卷根本就易如反掌，根本完全不可能有「準備不足，赴美被打臉」的情況發生。顯見，問題絕對不是出在韓的幕僚作業上，而是國政顧問團根本不認為韓國瑜有能力給美國人留下好印象。<br /><br />相信不少人都對韓國瑜今年8月應邀至台北美國商會（The American Chamber of Commerce in Taipei）時，發表的中英文夾雜演說還記憶猶新。那時韓國瑜有一句話是這麼說的：「我的 tuition in the fee，大學生活費都是American Chamber pay me」，這種不倫不類的中英文夾雜，不僅不該出現在正式演說中，韓國瑜甚至還把美國商會的全稱講錯。可以想見，幕僚給韓市長的絕對不可能是一篇中英夾雜的演說稿，這顯然是韓國瑜自作聰明的即興演出。在韓眼中，他認為他的「自作聰明」會給他加分，但殊不知在美國人和外界看來，這既不莊重又自曝其短。<br /><br />也就是說，蘇起等人非常清楚，即便他們手中已有一張洩題的考卷，而國政顧問團也為韓國瑜擬定了完美的答案，屆時韓還是有極大的可能「自作聰明」的脫稿演出，導致他「準備不足，赴美被打臉」。這種「自作聰明」反映了韓本人在知識上和格局上的侷限，簡單來說就是上不了檯面，而最清楚這個侷限的當然就是他所倚重的國政顧問團。因此，為什麼蘇起要反對韓國瑜訪美，實在就是護主心切，不想韓市長自曝其短，丟臉丟到國外去啊！'"
      ]
     },
     "execution_count": 137,
     "metadata": {},
     "output_type": "execute_result"
    }
   ],
   "source": [
    "import re\n",
    "m = re.search('\"content_elements\":(\\[.*?\\]),',res.text)\n",
    "eval(m.group(1))[0]['content']"
   ]
  },
  {
   "cell_type": "markdown",
   "metadata": {},
   "source": [
    "## 抓取不同分頁新聞"
   ]
  },
  {
   "cell_type": "code",
   "execution_count": 148,
   "metadata": {},
   "outputs": [
    {
     "name": "stdout",
     "output_type": "stream",
     "text": [
      "https://tw.sports.appledaily.com/realtime/20191018/1650706/\n",
      "https://tw.sports.appledaily.com/realtime/20191018/1650695/\n",
      "https://tw.lifestyle.appledaily.com/gadget/realtime/20191018/1650411/\n",
      "https://tw.lifestyle.appledaily.com/gadget/realtime/20191018/1650671/\n"
     ]
    }
   ],
   "source": [
    "import requests\n",
    "newsurl = 'https://tw.appledaily.com/new/realtime/{}'\n",
    "newsary = []\n",
    "for i in range(1,3):\n",
    "    res = requests.get(newsurl.format(i))\n",
    "    soup = BeautifulSoup(res.text, 'lxml')\n",
    "    for news in soup.select('li.rtddt a'):\n",
    "        url = news.get('href')\n",
    "        try:\n",
    "            newsary.append(pageDetail(url))\n",
    "        except Exception as e:\n",
    "            print(url) "
   ]
  },
  {
   "cell_type": "code",
   "execution_count": 149,
   "metadata": {},
   "outputs": [],
   "source": [
    "import pandas\n",
    "newsdf = pandas.DataFrame(newsary)"
   ]
  },
  {
   "cell_type": "code",
   "execution_count": 151,
   "metadata": {},
   "outputs": [],
   "source": [
    "newsdf.to_excel('appledaily.xlsx')"
   ]
  },
  {
   "cell_type": "markdown",
   "metadata": {},
   "source": [
    "## 591 租屋網"
   ]
  },
  {
   "cell_type": "code",
   "execution_count": 160,
   "metadata": {},
   "outputs": [
    {
     "data": {
      "text/plain": [
       "'DudB115mBDJffJkwj3Yfcp2K2f7uzZ0Z9KFtjFcw'"
      ]
     },
     "execution_count": 160,
     "metadata": {},
     "output_type": "execute_result"
    }
   ],
   "source": [
    "import requests\n",
    "from bs4 import BeautifulSoup\n",
    "rs = requests.session()\n",
    "res = rs.get('https://rent.591.com.tw/?kind=1&region=1&section=5')\n",
    "soup = BeautifulSoup(res.text, 'lxml')\n",
    "token = soup.select_one('meta[name=\"csrf-token\"]').get('content')\n",
    "token"
   ]
  },
  {
   "cell_type": "code",
   "execution_count": 162,
   "metadata": {},
   "outputs": [],
   "source": [
    "import requests\n",
    "headers  = {\n",
    " 'X-Requested-With': 'XMLHttpRequest',   \n",
    " 'X-CSRF-TOKEN': token,\n",
    " 'User-Agent': 'Mozilla/5.0 (Macintosh; Intel Mac OS X 10_14_6) AppleWebKit/537.36 (KHTML, like Gecko) Chrome/77.0.3865.90 Safari/537.36'   \n",
    "}\n",
    "res = rs.get('https://rent.591.com.tw/home/search/rsList?is_new_list=1&type=1&kind=1&searchtype=1&region=1&section=5&firstRow=30&totalRows=854', headers = headers)\n",
    "jd = res.json()"
   ]
  },
  {
   "cell_type": "code",
   "execution_count": 167,
   "metadata": {},
   "outputs": [],
   "source": [
    "import pandas\n",
    "df = pandas.DataFrame(jd['data']['data'])"
   ]
  },
  {
   "cell_type": "code",
   "execution_count": 170,
   "metadata": {},
   "outputs": [],
   "source": [
    "#df.columns"
   ]
  },
  {
   "cell_type": "code",
   "execution_count": 172,
   "metadata": {},
   "outputs": [],
   "source": [
    "df = df[['address', 'floor', 'allfloor', 'layout','area', 'price','browsenum_all']]\n"
   ]
  },
  {
   "cell_type": "code",
   "execution_count": 176,
   "metadata": {},
   "outputs": [],
   "source": [
    "import requests\n",
    "import math\n",
    "headers  = {\n",
    " 'X-Requested-With': 'XMLHttpRequest',   \n",
    " 'X-CSRF-TOKEN': token,\n",
    " 'User-Agent': 'Mozilla/5.0 (Macintosh; Intel Mac OS X 10_14_6) AppleWebKit/537.36 (KHTML, like Gecko) Chrome/77.0.3865.90 Safari/537.36'   \n",
    "}\n",
    "houseary = []\n",
    "for i in range(math.ceil(854 / 30)):\n",
    "    p = i * 30\n",
    "    res = rs.get('https://rent.591.com.tw/home/search/rsList?is_new_list=1&type=1&kind=1&searchtype=1&region=1&section=5&firstRow={}&totalRows=854'.format(p), headers = headers)\n",
    "    jd = res.json()\n",
    "    df = pandas.DataFrame(jd['data']['data'])\n",
    "    df = df[['address', 'floor', 'allfloor', 'layout','area', 'price','browsenum_all']]\n",
    "    houseary.append(df)"
   ]
  },
  {
   "cell_type": "code",
   "execution_count": 178,
   "metadata": {},
   "outputs": [],
   "source": [
    "import pandas\n",
    "housedf = pandas.concat(houseary)"
   ]
  },
  {
   "cell_type": "code",
   "execution_count": 180,
   "metadata": {},
   "outputs": [],
   "source": [
    "housedf['price'] = housedf['price'].map(lambda e: int(e.replace(',','')))"
   ]
  },
  {
   "cell_type": "code",
   "execution_count": 183,
   "metadata": {},
   "outputs": [
    {
     "data": {
      "text/html": [
       "<div>\n",
       "<style scoped>\n",
       "    .dataframe tbody tr th:only-of-type {\n",
       "        vertical-align: middle;\n",
       "    }\n",
       "\n",
       "    .dataframe tbody tr th {\n",
       "        vertical-align: top;\n",
       "    }\n",
       "\n",
       "    .dataframe thead th {\n",
       "        text-align: right;\n",
       "    }\n",
       "</style>\n",
       "<table border=\"1\" class=\"dataframe\">\n",
       "  <thead>\n",
       "    <tr style=\"text-align: right;\">\n",
       "      <th></th>\n",
       "      <th>address</th>\n",
       "      <th>floor</th>\n",
       "      <th>allfloor</th>\n",
       "      <th>layout</th>\n",
       "      <th>area</th>\n",
       "      <th>price</th>\n",
       "      <th>browsenum_all</th>\n",
       "    </tr>\n",
       "  </thead>\n",
       "  <tbody>\n",
       "    <tr>\n",
       "      <th>27</th>\n",
       "      <td>永康街41巷永康公園旁雅..</td>\n",
       "      <td>6</td>\n",
       "      <td>6</td>\n",
       "      <td>1房0廳0衛</td>\n",
       "      <td>6.0</td>\n",
       "      <td>6500</td>\n",
       "      <td>1446</td>\n",
       "    </tr>\n",
       "    <tr>\n",
       "      <th>25</th>\n",
       "      <td>復興南路一段107巷位太平洋百..</td>\n",
       "      <td>5</td>\n",
       "      <td>5</td>\n",
       "      <td>1房0廳0衛</td>\n",
       "      <td>4.0</td>\n",
       "      <td>7500</td>\n",
       "      <td>1703</td>\n",
       "    </tr>\n",
       "    <tr>\n",
       "      <th>12</th>\n",
       "      <td>安和路一段90巷近仁愛國小捷運..</td>\n",
       "      <td>100</td>\n",
       "      <td>5</td>\n",
       "      <td>1房0廳1衛</td>\n",
       "      <td>13.0</td>\n",
       "      <td>11000</td>\n",
       "      <td>197</td>\n",
       "    </tr>\n",
       "  </tbody>\n",
       "</table>\n",
       "</div>"
      ],
      "text/plain": [
       "              address  floor  allfloor  layout  area  price  browsenum_all\n",
       "27     永康街41巷永康公園旁雅..      6         6  1房0廳0衛   6.0   6500           1446\n",
       "25  復興南路一段107巷位太平洋百..      5         5  1房0廳0衛   4.0   7500           1703\n",
       "12  安和路一段90巷近仁愛國小捷運..    100         5  1房0廳1衛  13.0  11000            197"
      ]
     },
     "execution_count": 183,
     "metadata": {},
     "output_type": "execute_result"
    }
   ],
   "source": [
    "housedf.sort_values('price').head(3)"
   ]
  },
  {
   "cell_type": "code",
   "execution_count": 185,
   "metadata": {},
   "outputs": [
    {
     "data": {
      "text/html": [
       "<div>\n",
       "<style scoped>\n",
       "    .dataframe tbody tr th:only-of-type {\n",
       "        vertical-align: middle;\n",
       "    }\n",
       "\n",
       "    .dataframe tbody tr th {\n",
       "        vertical-align: top;\n",
       "    }\n",
       "\n",
       "    .dataframe thead th {\n",
       "        text-align: right;\n",
       "    }\n",
       "</style>\n",
       "<table border=\"1\" class=\"dataframe\">\n",
       "  <thead>\n",
       "    <tr style=\"text-align: right;\">\n",
       "      <th></th>\n",
       "      <th>address</th>\n",
       "      <th>floor</th>\n",
       "      <th>allfloor</th>\n",
       "      <th>layout</th>\n",
       "      <th>area</th>\n",
       "      <th>price</th>\n",
       "      <th>browsenum_all</th>\n",
       "    </tr>\n",
       "  </thead>\n",
       "  <tbody>\n",
       "    <tr>\n",
       "      <th>6</th>\n",
       "      <td>仁愛路三段帝寶ThePalace我成..</td>\n",
       "      <td>8</td>\n",
       "      <td>18</td>\n",
       "      <td>5房2廳4衛</td>\n",
       "      <td>210.7</td>\n",
       "      <td>350000</td>\n",
       "      <td>171</td>\n",
       "    </tr>\n",
       "    <tr>\n",
       "      <th>1</th>\n",
       "      <td>瑞安街81巷瑞安豪宅❂裝潢、家..</td>\n",
       "      <td>2</td>\n",
       "      <td>13</td>\n",
       "      <td>4房2廳3衛</td>\n",
       "      <td>112.6</td>\n",
       "      <td>280000</td>\n",
       "      <td>259</td>\n",
       "    </tr>\n",
       "    <tr>\n",
       "      <th>18</th>\n",
       "      <td>瑞安街81巷●仲介費８折●豪宅..</td>\n",
       "      <td>2</td>\n",
       "      <td>13</td>\n",
       "      <td>4房2廳3衛</td>\n",
       "      <td>112.6</td>\n",
       "      <td>280000</td>\n",
       "      <td>180</td>\n",
       "    </tr>\n",
       "  </tbody>\n",
       "</table>\n",
       "</div>"
      ],
      "text/plain": [
       "                 address  floor  allfloor  layout   area   price  \\\n",
       "6   仁愛路三段帝寶ThePalace我成..      8        18  5房2廳4衛  210.7  350000   \n",
       "1      瑞安街81巷瑞安豪宅❂裝潢、家..      2        13  4房2廳3衛  112.6  280000   \n",
       "18     瑞安街81巷●仲介費８折●豪宅..      2        13  4房2廳3衛  112.6  280000   \n",
       "\n",
       "    browsenum_all  \n",
       "6             171  \n",
       "1             259  \n",
       "18            180  "
      ]
     },
     "execution_count": 185,
     "metadata": {},
     "output_type": "execute_result"
    }
   ],
   "source": [
    "housedf.sort_values('price', ascending= False).head(3)"
   ]
  },
  {
   "cell_type": "code",
   "execution_count": 186,
   "metadata": {},
   "outputs": [],
   "source": [
    "housedf['avg_price'] = housedf['price'] / housedf['area']"
   ]
  },
  {
   "cell_type": "code",
   "execution_count": 187,
   "metadata": {},
   "outputs": [
    {
     "data": {
      "text/plain": [
       "count     854.000000\n",
       "mean     1687.777906\n",
       "std       554.069611\n",
       "min       580.000000\n",
       "25%      1317.975941\n",
       "50%      1590.106007\n",
       "75%      1979.654009\n",
       "max      5504.587156\n",
       "Name: avg_price, dtype: float64"
      ]
     },
     "execution_count": 187,
     "metadata": {},
     "output_type": "execute_result"
    }
   ],
   "source": [
    "housedf['avg_price'].describe()"
   ]
  },
  {
   "cell_type": "code",
   "execution_count": 188,
   "metadata": {},
   "outputs": [
    {
     "data": {
      "text/html": [
       "<div>\n",
       "<style scoped>\n",
       "    .dataframe tbody tr th:only-of-type {\n",
       "        vertical-align: middle;\n",
       "    }\n",
       "\n",
       "    .dataframe tbody tr th {\n",
       "        vertical-align: top;\n",
       "    }\n",
       "\n",
       "    .dataframe thead th {\n",
       "        text-align: right;\n",
       "    }\n",
       "</style>\n",
       "<table border=\"1\" class=\"dataframe\">\n",
       "  <thead>\n",
       "    <tr style=\"text-align: right;\">\n",
       "      <th></th>\n",
       "      <th>address</th>\n",
       "      <th>floor</th>\n",
       "      <th>allfloor</th>\n",
       "      <th>layout</th>\n",
       "      <th>area</th>\n",
       "      <th>price</th>\n",
       "      <th>browsenum_all</th>\n",
       "      <th>avg_price</th>\n",
       "    </tr>\n",
       "  </thead>\n",
       "  <tbody>\n",
       "    <tr>\n",
       "      <th>26</th>\n",
       "      <td>信義路二段✪旺德美客✵近東門..</td>\n",
       "      <td>11</td>\n",
       "      <td>11</td>\n",
       "      <td>3房2廳2衛</td>\n",
       "      <td>10.9</td>\n",
       "      <td>60000</td>\n",
       "      <td>97</td>\n",
       "      <td>5504.587156</td>\n",
       "    </tr>\n",
       "    <tr>\n",
       "      <th>19</th>\n",
       "      <td>建國南路一段新落成現代簡約風..</td>\n",
       "      <td>5</td>\n",
       "      <td>14</td>\n",
       "      <td>2房2廳1衛</td>\n",
       "      <td>12.5</td>\n",
       "      <td>56000</td>\n",
       "      <td>125</td>\n",
       "      <td>4480.000000</td>\n",
       "    </tr>\n",
       "    <tr>\n",
       "      <th>6</th>\n",
       "      <td>金山南路二段大安區和平大..</td>\n",
       "      <td>2</td>\n",
       "      <td>38</td>\n",
       "      <td>1房2廳1衛</td>\n",
       "      <td>13.5</td>\n",
       "      <td>60000</td>\n",
       "      <td>194</td>\n",
       "      <td>4444.444444</td>\n",
       "    </tr>\n",
       "  </tbody>\n",
       "</table>\n",
       "</div>"
      ],
      "text/plain": [
       "             address  floor  allfloor  layout  area  price  browsenum_all  \\\n",
       "26  信義路二段✪旺德美客✵近東門..     11        11  3房2廳2衛  10.9  60000             97   \n",
       "19  建國南路一段新落成現代簡約風..      5        14  2房2廳1衛  12.5  56000            125   \n",
       "6     金山南路二段大安區和平大..      2        38  1房2廳1衛  13.5  60000            194   \n",
       "\n",
       "      avg_price  \n",
       "26  5504.587156  \n",
       "19  4480.000000  \n",
       "6   4444.444444  "
      ]
     },
     "execution_count": 188,
     "metadata": {},
     "output_type": "execute_result"
    }
   ],
   "source": [
    "housedf.sort_values('avg_price', ascending= False).head(3)"
   ]
  },
  {
   "cell_type": "markdown",
   "metadata": {},
   "source": [
    "## SQLIte"
   ]
  },
  {
   "cell_type": "code",
   "execution_count": 189,
   "metadata": {},
   "outputs": [
    {
     "name": "stdout",
     "output_type": "stream",
     "text": [
      "('3.24.0',)\n"
     ]
    }
   ],
   "source": [
    "import sqlite3 as lite\n",
    "con = lite.connect('test.sqlite')\n",
    "cur = con.cursor()\n",
    "cur.execute('SELECT SQLITE_VERSION()')\n",
    "data = cur.fetchone()\n",
    "print(data)\n",
    "con.close()"
   ]
  },
  {
   "cell_type": "code",
   "execution_count": 190,
   "metadata": {},
   "outputs": [
    {
     "name": "stdout",
     "output_type": "stream",
     "text": [
      "('3.24.0',)\n"
     ]
    }
   ],
   "source": [
    "with lite.connect('test.sqlite') as con:\n",
    "    cur = con.cursor()\n",
    "    cur.execute('SELECT SQLITE_VERSION()')\n",
    "    data = cur.fetchone()\n",
    "    print(data)"
   ]
  },
  {
   "cell_type": "code",
   "execution_count": 192,
   "metadata": {},
   "outputs": [
    {
     "name": "stdout",
     "output_type": "stream",
     "text": [
      "('0912173381', 'United State')\n",
      "0912173381 United State\n",
      "('0928375018', 'Tokyo Japan')\n",
      "0928375018 Tokyo Japan\n",
      "('0957209108', 'Taipei')\n",
      "0957209108 Taipei\n"
     ]
    }
   ],
   "source": [
    "import sqlite3 as lite \n",
    "with lite.connect(\"test.sqlite\") as con: \n",
    "    cur = con.cursor() \n",
    "    cur.execute(\"DROP TABLE IF EXISTS PhoneAddress\") \n",
    "    cur.execute(\"CREATE TABLE PhoneAddress(phone CHAR(10) PRIMARY KEY, address TEXT, name TEXT unique, age INT NOT NULL)\") \n",
    "    cur.execute(\"INSERT INTO PhoneAddress VALUES('0912173381','United State','Jhon Doe',53)\") \n",
    "    cur.execute(\"INSERT INTO PhoneAddress VALUES('0928375018','Tokyo Japan','MuMu Cat',6)\") \n",
    "    cur.execute(\"INSERT INTO PhoneAddress VALUES('0957209108','Taipei','Richard',29)\") \n",
    "    cur.execute(\"SELECT phone,address FROM PhoneAddress\") \n",
    "    data = cur.fetchall() \n",
    "    for rec in data: \n",
    "        print(rec)\n",
    "        print(rec[0], rec[1])\n",
    "\n"
   ]
  },
  {
   "cell_type": "code",
   "execution_count": 193,
   "metadata": {},
   "outputs": [
    {
     "name": "stdout",
     "output_type": "stream",
     "text": [
      "('0912173381', 'United State')\n",
      "[('0928375018', 'Tokyo Japan'), ('0957209108', 'Taipei')]\n"
     ]
    }
   ],
   "source": [
    "import sqlite3 as lite \n",
    "with lite.connect(\"test.sqlite\") as con: \n",
    "    cur = con.cursor() \n",
    "    cur.execute(\"DROP TABLE IF EXISTS PhoneAddress\") \n",
    "    cur.execute(\"CREATE TABLE PhoneAddress(phone CHAR(10) PRIMARY KEY, address TEXT, name TEXT unique, age INT NOT NULL)\") \n",
    "    cur.execute(\"INSERT INTO PhoneAddress VALUES('0912173381','United State','Jhon Doe',53)\") \n",
    "    cur.execute(\"INSERT INTO PhoneAddress VALUES('0928375018','Tokyo Japan','MuMu Cat',6)\") \n",
    "    cur.execute(\"INSERT INTO PhoneAddress VALUES('0957209108','Taipei','Richard',29)\") \n",
    "    cur.execute(\"SELECT phone,address FROM PhoneAddress\") \n",
    "    data = cur.fetchone() \n",
    "    print(data)\n",
    "    data = cur.fetchall() \n",
    "    print(data)\n",
    "\n"
   ]
  },
  {
   "cell_type": "code",
   "execution_count": 195,
   "metadata": {},
   "outputs": [
    {
     "data": {
      "text/plain": [
       "[{'name': 'Mary', 'age': 23, 'gender': 'F'},\n",
       " {'name': 'John', 'age': 33, 'gender': 'M'}]"
      ]
     },
     "execution_count": 195,
     "metadata": {},
     "output_type": "execute_result"
    }
   ],
   "source": [
    "import pandas\n",
    "employee = [{'name':'Mary', 'age':23 , 'gender': 'F'},{'name':'John', 'age':33 , 'gender': 'M'}]\n",
    "employee"
   ]
  },
  {
   "cell_type": "code",
   "execution_count": 196,
   "metadata": {},
   "outputs": [
    {
     "data": {
      "text/html": [
       "<div>\n",
       "<style scoped>\n",
       "    .dataframe tbody tr th:only-of-type {\n",
       "        vertical-align: middle;\n",
       "    }\n",
       "\n",
       "    .dataframe tbody tr th {\n",
       "        vertical-align: top;\n",
       "    }\n",
       "\n",
       "    .dataframe thead th {\n",
       "        text-align: right;\n",
       "    }\n",
       "</style>\n",
       "<table border=\"1\" class=\"dataframe\">\n",
       "  <thead>\n",
       "    <tr style=\"text-align: right;\">\n",
       "      <th></th>\n",
       "      <th>age</th>\n",
       "      <th>gender</th>\n",
       "      <th>name</th>\n",
       "    </tr>\n",
       "  </thead>\n",
       "  <tbody>\n",
       "    <tr>\n",
       "      <th>0</th>\n",
       "      <td>23</td>\n",
       "      <td>F</td>\n",
       "      <td>Mary</td>\n",
       "    </tr>\n",
       "    <tr>\n",
       "      <th>1</th>\n",
       "      <td>33</td>\n",
       "      <td>M</td>\n",
       "      <td>John</td>\n",
       "    </tr>\n",
       "  </tbody>\n",
       "</table>\n",
       "</div>"
      ],
      "text/plain": [
       "   age gender  name\n",
       "0   23      F  Mary\n",
       "1   33      M  John"
      ]
     },
     "execution_count": 196,
     "metadata": {},
     "output_type": "execute_result"
    }
   ],
   "source": [
    "df = pandas.DataFrame(employee)\n",
    "df"
   ]
  },
  {
   "cell_type": "code",
   "execution_count": 197,
   "metadata": {},
   "outputs": [],
   "source": [
    "with lite.connect('test.sqlite') as db:\n",
    "    df.to_sql(name='employee', index=False, con=db, if_exists='replace')\n"
   ]
  },
  {
   "cell_type": "code",
   "execution_count": 199,
   "metadata": {},
   "outputs": [
    {
     "data": {
      "text/html": [
       "<div>\n",
       "<style scoped>\n",
       "    .dataframe tbody tr th:only-of-type {\n",
       "        vertical-align: middle;\n",
       "    }\n",
       "\n",
       "    .dataframe tbody tr th {\n",
       "        vertical-align: top;\n",
       "    }\n",
       "\n",
       "    .dataframe thead th {\n",
       "        text-align: right;\n",
       "    }\n",
       "</style>\n",
       "<table border=\"1\" class=\"dataframe\">\n",
       "  <thead>\n",
       "    <tr style=\"text-align: right;\">\n",
       "      <th></th>\n",
       "      <th>age</th>\n",
       "      <th>gender</th>\n",
       "      <th>name</th>\n",
       "    </tr>\n",
       "  </thead>\n",
       "  <tbody>\n",
       "    <tr>\n",
       "      <th>0</th>\n",
       "      <td>23</td>\n",
       "      <td>F</td>\n",
       "      <td>Mary</td>\n",
       "    </tr>\n",
       "    <tr>\n",
       "      <th>1</th>\n",
       "      <td>33</td>\n",
       "      <td>M</td>\n",
       "      <td>John</td>\n",
       "    </tr>\n",
       "  </tbody>\n",
       "</table>\n",
       "</div>"
      ],
      "text/plain": [
       "   age gender  name\n",
       "0   23      F  Mary\n",
       "1   33      M  John"
      ]
     },
     "execution_count": 199,
     "metadata": {},
     "output_type": "execute_result"
    }
   ],
   "source": [
    "with lite.connect('test.sqlite') as db:\n",
    "    df2 = pandas.read_sql_query('SELECT * FROM employee', con = db)\n",
    "df2"
   ]
  },
  {
   "cell_type": "markdown",
   "metadata": {},
   "source": [
    "## 591 租屋網資料"
   ]
  },
  {
   "cell_type": "code",
   "execution_count": 202,
   "metadata": {},
   "outputs": [
    {
     "data": {
      "text/html": [
       "<div>\n",
       "<style scoped>\n",
       "    .dataframe tbody tr th:only-of-type {\n",
       "        vertical-align: middle;\n",
       "    }\n",
       "\n",
       "    .dataframe tbody tr th {\n",
       "        vertical-align: top;\n",
       "    }\n",
       "\n",
       "    .dataframe thead th {\n",
       "        text-align: right;\n",
       "    }\n",
       "</style>\n",
       "<table border=\"1\" class=\"dataframe\">\n",
       "  <thead>\n",
       "    <tr style=\"text-align: right;\">\n",
       "      <th></th>\n",
       "      <th>address</th>\n",
       "      <th>floor</th>\n",
       "      <th>allfloor</th>\n",
       "      <th>layout</th>\n",
       "      <th>area</th>\n",
       "      <th>price</th>\n",
       "      <th>browsenum_all</th>\n",
       "      <th>avg_price</th>\n",
       "    </tr>\n",
       "  </thead>\n",
       "  <tbody>\n",
       "    <tr>\n",
       "      <th>0</th>\n",
       "      <td>光復南路國父紀念館..</td>\n",
       "      <td>2</td>\n",
       "      <td>9</td>\n",
       "      <td>2房1廳1衛</td>\n",
       "      <td>28.0</td>\n",
       "      <td>27939</td>\n",
       "      <td>3323</td>\n",
       "      <td>997.821429</td>\n",
       "    </tr>\n",
       "    <tr>\n",
       "      <th>1</th>\n",
       "      <td>敦化南路一段236巷遠東SO..</td>\n",
       "      <td>2</td>\n",
       "      <td>7</td>\n",
       "      <td>2房1廳1衛</td>\n",
       "      <td>32.0</td>\n",
       "      <td>32501</td>\n",
       "      <td>2844</td>\n",
       "      <td>1015.656250</td>\n",
       "    </tr>\n",
       "    <tr>\n",
       "      <th>2</th>\n",
       "      <td>潮州街48巷古亭站自租中正..</td>\n",
       "      <td>2</td>\n",
       "      <td>6</td>\n",
       "      <td>2房2廳2衛</td>\n",
       "      <td>33.1</td>\n",
       "      <td>75000</td>\n",
       "      <td>3029</td>\n",
       "      <td>2265.861027</td>\n",
       "    </tr>\n",
       "  </tbody>\n",
       "</table>\n",
       "</div>"
      ],
      "text/plain": [
       "            address  floor  allfloor  layout  area  price  browsenum_all  \\\n",
       "0       光復南路國父紀念館..      2         9  2房1廳1衛  28.0  27939           3323   \n",
       "1  敦化南路一段236巷遠東SO..      2         7  2房1廳1衛  32.0  32501           2844   \n",
       "2   潮州街48巷古亭站自租中正..      2         6  2房2廳2衛  33.1  75000           3029   \n",
       "\n",
       "     avg_price  \n",
       "0   997.821429  \n",
       "1  1015.656250  \n",
       "2  2265.861027  "
      ]
     },
     "execution_count": 202,
     "metadata": {},
     "output_type": "execute_result"
    }
   ],
   "source": [
    "housedf.head(3)"
   ]
  },
  {
   "cell_type": "code",
   "execution_count": 203,
   "metadata": {},
   "outputs": [],
   "source": [
    "with lite.connect('house.sqlite') as con:\n",
    "    housedf.to_sql('rent591', con = con, if_exists='replace')"
   ]
  },
  {
   "cell_type": "code",
   "execution_count": 208,
   "metadata": {},
   "outputs": [],
   "source": [
    "with lite.connect('house.sqlite') as con:\n",
    "    #df2 = pandas.read_sql_query('select * from rent591', con = con)\n",
    "    #df2 = pandas.read_sql_query('select * from rent591 order by price desc limit 3', con = con)\n",
    "    df2 = pandas.read_sql_query('select address, price/area as avg_price2 from rent591 order by avg_price2 desc limit 3', con = con)"
   ]
  },
  {
   "cell_type": "code",
   "execution_count": 209,
   "metadata": {},
   "outputs": [
    {
     "data": {
      "text/html": [
       "<div>\n",
       "<style scoped>\n",
       "    .dataframe tbody tr th:only-of-type {\n",
       "        vertical-align: middle;\n",
       "    }\n",
       "\n",
       "    .dataframe tbody tr th {\n",
       "        vertical-align: top;\n",
       "    }\n",
       "\n",
       "    .dataframe thead th {\n",
       "        text-align: right;\n",
       "    }\n",
       "</style>\n",
       "<table border=\"1\" class=\"dataframe\">\n",
       "  <thead>\n",
       "    <tr style=\"text-align: right;\">\n",
       "      <th></th>\n",
       "      <th>address</th>\n",
       "      <th>avg_price2</th>\n",
       "    </tr>\n",
       "  </thead>\n",
       "  <tbody>\n",
       "    <tr>\n",
       "      <th>0</th>\n",
       "      <td>信義路二段✪旺德美客✵近東門..</td>\n",
       "      <td>5504.587156</td>\n",
       "    </tr>\n",
       "    <tr>\n",
       "      <th>1</th>\n",
       "      <td>建國南路一段新落成現代簡約風..</td>\n",
       "      <td>4480.000000</td>\n",
       "    </tr>\n",
       "    <tr>\n",
       "      <th>2</th>\n",
       "      <td>金山南路二段大安區和平大..</td>\n",
       "      <td>4444.444444</td>\n",
       "    </tr>\n",
       "  </tbody>\n",
       "</table>\n",
       "</div>"
      ],
      "text/plain": [
       "            address   avg_price2\n",
       "0  信義路二段✪旺德美客✵近東門..  5504.587156\n",
       "1  建國南路一段新落成現代簡約風..  4480.000000\n",
       "2    金山南路二段大安區和平大..  4444.444444"
      ]
     },
     "execution_count": 209,
     "metadata": {},
     "output_type": "execute_result"
    }
   ],
   "source": [
    "df2"
   ]
  },
  {
   "cell_type": "markdown",
   "metadata": {},
   "source": [
    "## PTT (Cookie)"
   ]
  },
  {
   "cell_type": "code",
   "execution_count": 213,
   "metadata": {},
   "outputs": [],
   "source": [
    "?requests.get"
   ]
  },
  {
   "cell_type": "code",
   "execution_count": 218,
   "metadata": {},
   "outputs": [],
   "source": [
    "import requests\n",
    "cookies = {'over18':'1'}\n",
    "res = requests.get('https://www.ptt.cc/bbs/Gossiping/M.1571133975.A.DDA.html?fbclid=IwAR1OJ6mmsYrUAU-65v8b3j_izSGckrm6t5CNZ8KDwK6eC7Fj14hYTBnUsX8',\n",
    "                   cookies = cookies)\n",
    "#print(res.text)\n"
   ]
  },
  {
   "cell_type": "markdown",
   "metadata": {},
   "source": [
    "## 卡提諾 (User-Agent)\n"
   ]
  },
  {
   "cell_type": "code",
   "execution_count": 219,
   "metadata": {},
   "outputs": [
    {
     "data": {
      "text/plain": [
       "''"
      ]
     },
     "execution_count": 219,
     "metadata": {},
     "output_type": "execute_result"
    }
   ],
   "source": [
    "import requests\n",
    "res = requests.get('https://ck101.com/')\n",
    "res.text"
   ]
  },
  {
   "cell_type": "code",
   "execution_count": 220,
   "metadata": {},
   "outputs": [
    {
     "data": {
      "text/plain": [
       "<Response [200]>"
      ]
     },
     "execution_count": 220,
     "metadata": {},
     "output_type": "execute_result"
    }
   ],
   "source": [
    "import requests\n",
    "res = requests.get('https://www.largitdata.com/')\n",
    "res"
   ]
  },
  {
   "cell_type": "code",
   "execution_count": 221,
   "metadata": {},
   "outputs": [
    {
     "data": {
      "text/plain": [
       "<Response [200]>"
      ]
     },
     "execution_count": 221,
     "metadata": {},
     "output_type": "execute_result"
    }
   ],
   "source": [
    "import requests\n",
    "headers = {\n",
    "  'user-agent': 'qoo'  \n",
    "}\n",
    "res = requests.get('https://www.largitdata.com/', headers = headers)\n",
    "res"
   ]
  },
  {
   "cell_type": "code",
   "execution_count": 223,
   "metadata": {},
   "outputs": [],
   "source": [
    "import requests\n",
    "headers = {\n",
    "  'user-agent': 'qoo'  \n",
    "}\n",
    "res = requests.get('https://ck101.com/', headers = headers)\n",
    "#res.text"
   ]
  },
  {
   "cell_type": "markdown",
   "metadata": {},
   "source": [
    "## 證交所 (阻擋IP)"
   ]
  },
  {
   "cell_type": "code",
   "execution_count": 225,
   "metadata": {},
   "outputs": [
    {
     "name": "stdout",
     "output_type": "stream",
     "text": [
      "0\n",
      "1\n",
      "2\n",
      "3\n",
      "4\n",
      "5\n",
      "6\n",
      "7\n",
      "8\n",
      "9\n",
      "10\n",
      "11\n",
      "12\n",
      "13\n",
      "14\n",
      "15\n",
      "16\n",
      "17\n",
      "18\n",
      "19\n",
      "20\n",
      "21\n",
      "22\n",
      "23\n",
      "24\n"
     ]
    },
    {
     "ename": "JSONDecodeError",
     "evalue": "Expecting value: line 1 column 1 (char 0)",
     "output_type": "error",
     "traceback": [
      "\u001b[0;31m---------------------------------------------------------------------------\u001b[0m",
      "\u001b[0;31mJSONDecodeError\u001b[0m                           Traceback (most recent call last)",
      "\u001b[0;32m<ipython-input-225-254cdf8ba520>\u001b[0m in \u001b[0;36m<module>\u001b[0;34m()\u001b[0m\n\u001b[1;32m      2\u001b[0m \u001b[0;32mfor\u001b[0m \u001b[0mi\u001b[0m \u001b[0;32min\u001b[0m \u001b[0mrange\u001b[0m\u001b[0;34m(\u001b[0m\u001b[0;36m100\u001b[0m\u001b[0;34m)\u001b[0m\u001b[0;34m:\u001b[0m\u001b[0;34m\u001b[0m\u001b[0m\n\u001b[1;32m      3\u001b[0m     \u001b[0mres\u001b[0m \u001b[0;34m=\u001b[0m \u001b[0mrequests\u001b[0m\u001b[0;34m.\u001b[0m\u001b[0mget\u001b[0m\u001b[0;34m(\u001b[0m\u001b[0;34m'https://www.twse.com.tw/exchangeReport/MI_INDEX?response=json&date=20191018&type=MS&_=1571389562644'\u001b[0m\u001b[0;34m)\u001b[0m\u001b[0;34m\u001b[0m\u001b[0m\n\u001b[0;32m----> 4\u001b[0;31m     \u001b[0mres\u001b[0m\u001b[0;34m.\u001b[0m\u001b[0mjson\u001b[0m\u001b[0;34m(\u001b[0m\u001b[0;34m)\u001b[0m\u001b[0;34m\u001b[0m\u001b[0m\n\u001b[0m\u001b[1;32m      5\u001b[0m     \u001b[0mprint\u001b[0m\u001b[0;34m(\u001b[0m\u001b[0mi\u001b[0m\u001b[0;34m)\u001b[0m\u001b[0;34m\u001b[0m\u001b[0m\n",
      "\u001b[0;32m/Users/davidchiu/.pyenv/versions/3.6.2/lib/python3.6/site-packages/requests/models.py\u001b[0m in \u001b[0;36mjson\u001b[0;34m(self, **kwargs)\u001b[0m\n\u001b[1;32m    895\u001b[0m                     \u001b[0;31m# used.\u001b[0m\u001b[0;34m\u001b[0m\u001b[0;34m\u001b[0m\u001b[0m\n\u001b[1;32m    896\u001b[0m                     \u001b[0;32mpass\u001b[0m\u001b[0;34m\u001b[0m\u001b[0m\n\u001b[0;32m--> 897\u001b[0;31m         \u001b[0;32mreturn\u001b[0m \u001b[0mcomplexjson\u001b[0m\u001b[0;34m.\u001b[0m\u001b[0mloads\u001b[0m\u001b[0;34m(\u001b[0m\u001b[0mself\u001b[0m\u001b[0;34m.\u001b[0m\u001b[0mtext\u001b[0m\u001b[0;34m,\u001b[0m \u001b[0;34m**\u001b[0m\u001b[0mkwargs\u001b[0m\u001b[0;34m)\u001b[0m\u001b[0;34m\u001b[0m\u001b[0m\n\u001b[0m\u001b[1;32m    898\u001b[0m \u001b[0;34m\u001b[0m\u001b[0m\n\u001b[1;32m    899\u001b[0m     \u001b[0;34m@\u001b[0m\u001b[0mproperty\u001b[0m\u001b[0;34m\u001b[0m\u001b[0m\n",
      "\u001b[0;32m/Users/davidchiu/.pyenv/versions/3.6.2/lib/python3.6/site-packages/simplejson/__init__.py\u001b[0m in \u001b[0;36mloads\u001b[0;34m(s, encoding, cls, object_hook, parse_float, parse_int, parse_constant, object_pairs_hook, use_decimal, **kw)\u001b[0m\n\u001b[1;32m    516\u001b[0m             \u001b[0mparse_constant\u001b[0m \u001b[0;32mis\u001b[0m \u001b[0;32mNone\u001b[0m \u001b[0;32mand\u001b[0m \u001b[0mobject_pairs_hook\u001b[0m \u001b[0;32mis\u001b[0m \u001b[0;32mNone\u001b[0m\u001b[0;34m\u001b[0m\u001b[0m\n\u001b[1;32m    517\u001b[0m             and not use_decimal and not kw):\n\u001b[0;32m--> 518\u001b[0;31m         \u001b[0;32mreturn\u001b[0m \u001b[0m_default_decoder\u001b[0m\u001b[0;34m.\u001b[0m\u001b[0mdecode\u001b[0m\u001b[0;34m(\u001b[0m\u001b[0ms\u001b[0m\u001b[0;34m)\u001b[0m\u001b[0;34m\u001b[0m\u001b[0m\n\u001b[0m\u001b[1;32m    519\u001b[0m     \u001b[0;32mif\u001b[0m \u001b[0mcls\u001b[0m \u001b[0;32mis\u001b[0m \u001b[0;32mNone\u001b[0m\u001b[0;34m:\u001b[0m\u001b[0;34m\u001b[0m\u001b[0m\n\u001b[1;32m    520\u001b[0m         \u001b[0mcls\u001b[0m \u001b[0;34m=\u001b[0m \u001b[0mJSONDecoder\u001b[0m\u001b[0;34m\u001b[0m\u001b[0m\n",
      "\u001b[0;32m/Users/davidchiu/.pyenv/versions/3.6.2/lib/python3.6/site-packages/simplejson/decoder.py\u001b[0m in \u001b[0;36mdecode\u001b[0;34m(self, s, _w, _PY3)\u001b[0m\n\u001b[1;32m    368\u001b[0m         \u001b[0;32mif\u001b[0m \u001b[0m_PY3\u001b[0m \u001b[0;32mand\u001b[0m \u001b[0misinstance\u001b[0m\u001b[0;34m(\u001b[0m\u001b[0ms\u001b[0m\u001b[0;34m,\u001b[0m \u001b[0mbytes\u001b[0m\u001b[0;34m)\u001b[0m\u001b[0;34m:\u001b[0m\u001b[0;34m\u001b[0m\u001b[0m\n\u001b[1;32m    369\u001b[0m             \u001b[0ms\u001b[0m \u001b[0;34m=\u001b[0m \u001b[0mstr\u001b[0m\u001b[0;34m(\u001b[0m\u001b[0ms\u001b[0m\u001b[0;34m,\u001b[0m \u001b[0mself\u001b[0m\u001b[0;34m.\u001b[0m\u001b[0mencoding\u001b[0m\u001b[0;34m)\u001b[0m\u001b[0;34m\u001b[0m\u001b[0m\n\u001b[0;32m--> 370\u001b[0;31m         \u001b[0mobj\u001b[0m\u001b[0;34m,\u001b[0m \u001b[0mend\u001b[0m \u001b[0;34m=\u001b[0m \u001b[0mself\u001b[0m\u001b[0;34m.\u001b[0m\u001b[0mraw_decode\u001b[0m\u001b[0;34m(\u001b[0m\u001b[0ms\u001b[0m\u001b[0;34m)\u001b[0m\u001b[0;34m\u001b[0m\u001b[0m\n\u001b[0m\u001b[1;32m    371\u001b[0m         \u001b[0mend\u001b[0m \u001b[0;34m=\u001b[0m \u001b[0m_w\u001b[0m\u001b[0;34m(\u001b[0m\u001b[0ms\u001b[0m\u001b[0;34m,\u001b[0m \u001b[0mend\u001b[0m\u001b[0;34m)\u001b[0m\u001b[0;34m.\u001b[0m\u001b[0mend\u001b[0m\u001b[0;34m(\u001b[0m\u001b[0;34m)\u001b[0m\u001b[0;34m\u001b[0m\u001b[0m\n\u001b[1;32m    372\u001b[0m         \u001b[0;32mif\u001b[0m \u001b[0mend\u001b[0m \u001b[0;34m!=\u001b[0m \u001b[0mlen\u001b[0m\u001b[0;34m(\u001b[0m\u001b[0ms\u001b[0m\u001b[0;34m)\u001b[0m\u001b[0;34m:\u001b[0m\u001b[0;34m\u001b[0m\u001b[0m\n",
      "\u001b[0;32m/Users/davidchiu/.pyenv/versions/3.6.2/lib/python3.6/site-packages/simplejson/decoder.py\u001b[0m in \u001b[0;36mraw_decode\u001b[0;34m(self, s, idx, _w, _PY3)\u001b[0m\n\u001b[1;32m    398\u001b[0m             \u001b[0;32melif\u001b[0m \u001b[0mord0\u001b[0m \u001b[0;34m==\u001b[0m \u001b[0;36m0xef\u001b[0m \u001b[0;32mand\u001b[0m \u001b[0ms\u001b[0m\u001b[0;34m[\u001b[0m\u001b[0midx\u001b[0m\u001b[0;34m:\u001b[0m\u001b[0midx\u001b[0m \u001b[0;34m+\u001b[0m \u001b[0;36m3\u001b[0m\u001b[0;34m]\u001b[0m \u001b[0;34m==\u001b[0m \u001b[0;34m'\\xef\\xbb\\xbf'\u001b[0m\u001b[0;34m:\u001b[0m\u001b[0;34m\u001b[0m\u001b[0m\n\u001b[1;32m    399\u001b[0m                 \u001b[0midx\u001b[0m \u001b[0;34m+=\u001b[0m \u001b[0;36m3\u001b[0m\u001b[0;34m\u001b[0m\u001b[0m\n\u001b[0;32m--> 400\u001b[0;31m         \u001b[0;32mreturn\u001b[0m \u001b[0mself\u001b[0m\u001b[0;34m.\u001b[0m\u001b[0mscan_once\u001b[0m\u001b[0;34m(\u001b[0m\u001b[0ms\u001b[0m\u001b[0;34m,\u001b[0m \u001b[0midx\u001b[0m\u001b[0;34m=\u001b[0m\u001b[0m_w\u001b[0m\u001b[0;34m(\u001b[0m\u001b[0ms\u001b[0m\u001b[0;34m,\u001b[0m \u001b[0midx\u001b[0m\u001b[0;34m)\u001b[0m\u001b[0;34m.\u001b[0m\u001b[0mend\u001b[0m\u001b[0;34m(\u001b[0m\u001b[0;34m)\u001b[0m\u001b[0;34m)\u001b[0m\u001b[0;34m\u001b[0m\u001b[0m\n\u001b[0m",
      "\u001b[0;31mJSONDecodeError\u001b[0m: Expecting value: line 1 column 1 (char 0)"
     ]
    }
   ],
   "source": [
    "import requests\n",
    "import time\n",
    "for i in range(100):\n",
    "    res = requests.get('https://www.twse.com.tw/exchangeReport/MI_INDEX?response=json&date=20191018&type=MS&_=1571389562644')\n",
    "    res.json()\n",
    "    print(i)\n",
    "    time.sleep(3)"
   ]
  },
  {
   "cell_type": "markdown",
   "metadata": {},
   "source": [
    "## Proxy 種類\n",
    "- smartproxy\n",
    "- stormproxy\n",
    "- squidproxy\n",
    "- sharedproxy"
   ]
  },
  {
   "cell_type": "markdown",
   "metadata": {},
   "source": [
    "## 財報狗 (需要登入的網站)"
   ]
  },
  {
   "cell_type": "code",
   "execution_count": 228,
   "metadata": {},
   "outputs": [],
   "source": [
    "import requests\n",
    "headers = {\n",
    "  'cookie': 'buuid=VWlFSzZBSWxGb2RrK1BlKy95dGZVOHk2a3RGOWZXTXVObWtQTWtCcCtwWjdMeFBuYXNKZTYvbm9qSCtHYUd0cC0tUU1ZR2tyK0QxUHFTb2ljL3VDWCtMZz09--ecaca4e3dd311ddb4b8da91e65c141d2dccc9f6d; easy_ab=40d5e0e1-b292-4e6f-9e4a-9583fbe9c9b5; _ga=GA1.2.860094865.1568734397; _fbp=fb.1.1568734396970.242972596; _gid=GA1.2.481735538.1571390007; upgrade_browser=1; intercom-id-d5wdetwg=8a1bad79-4701-419a-ad3e-29bdd8f0160f; remember_user_token=W1s0MzAzNzZdLCIkMmEkMTAkMkJJS2JBZXNGUmliQW9OcXpIV2M2LiIsIjE1NzEzOTAwOTUuMTc2NDQ5MyJd--09d63cf8853e4a8fed48de108a7828a806191789; _gali=naviMy; intercom-session-d5wdetwg=ZTREVzVEdmF5eGdJMHFxbGFxZUZmaHNnNnVhRnJHTXNQRy9YL0Q2OUw1YzJ4dGVyVWdpNDZjVjd3cUJFYUZONS0tWDZESXNWUXFLVkI1aDFIaUhWdUxLdz09--c3263e59491857e07e575840b771e11e18786b2f; _statementdog_session_v2=cUZHWHIyZ3NqTGl5eVIwTmR4ajY1SUkvdzhFZFc5Wmd4cWt5R0I2SFZNcGdYd3kvdkpvMXFZRlZ3MjBqcEdkWmE0N01pai9DRFQva0x5aWtSb1JpVDJZcnd3SXdVSEl3N3JhTkJVSENpRU1WVFR2N2Irc3labG13bVlRSmRScnVsWG1FaFRCOGdBQ25NZkM0TEN2eXRTNHZsRUZJdC8vdDdYSEkrZTBvYWtPdHFTWHdRY1E3blpYcEdtMXBMSkxuUUJ2bnRkU29HeXowNXQyeDJmbXVFMVFQQVZ4cHB6YjE3UENvL0lYQ1Z3bmd5L3RRRW5hYmFZNnVtcUdPWnN6NVdobVk1bWlNL3dNT3VvRFNqUjcxUko1OVFsNEMvakpCZ2Nzd1p6QmNEWE45QlZFakUzZmhKbHFkY1NjKzdUSGR6Mk93TE9adm5qcHBSUUtZcVFhR2t3PT0tLW5ublE1MGxKWFM5RmkwbFZUekcvbmc9PQ%3D%3D--069eac991670b5468267d81e98eb2636dc390f00; _gat=1; amplitude_id_0ab77a441fbc226251ef1a272380fcd7statementdog.com=eyJkZXZpY2VJZCI6ImIxYzI0NjI5LWZiYjctNGJmNi04YzExLTEyNWZkYTI1ZTMyM1IiLCJ1c2VySWQiOiI0MzAzNzYiLCJvcHRPdXQiOmZhbHNlLCJzZXNzaW9uSWQiOjE1NzEzOTAwMDc0MjAsImxhc3RFdmVudFRpbWUiOjE1NzEzOTAxNTIzMjYsImV2ZW50SWQiOjI0LCJpZGVudGlmeUlkIjozMCwic2VxdWVuY2VOdW1iZXIiOjU0fQ=='  \n",
    "}\n",
    "res = requests.get('https://statementdog.com/api/v1/feeds?&_=1571390153123', headers = headers)\n",
    "#res.json()"
   ]
  },
  {
   "cell_type": "markdown",
   "metadata": {},
   "source": [
    "## 期交所 "
   ]
  },
  {
   "cell_type": "code",
   "execution_count": 229,
   "metadata": {},
   "outputs": [],
   "source": [
    "url ='https://www.taifex.com.tw/cht/3/dlOptDataDown'\n",
    "payload = {\n",
    "'down_type': '1',\n",
    "'commodity_id': 'specialid',\n",
    "'commodity_id2': 'all',\n",
    "'queryStartDate': '2019/10/18',\n",
    "'queryEndDate': '2019/10/18'    \n",
    "}\n",
    "res = requests.post(url, data = payload)"
   ]
  },
  {
   "cell_type": "code",
   "execution_count": 231,
   "metadata": {},
   "outputs": [],
   "source": [
    "#res.text"
   ]
  },
  {
   "cell_type": "markdown",
   "metadata": {},
   "source": [
    "## Instagram"
   ]
  },
  {
   "cell_type": "code",
   "execution_count": 234,
   "metadata": {},
   "outputs": [],
   "source": [
    "import requests\n",
    "import re\n",
    "res = requests.get('https://www.instagram.com/watanabenaomi703/?hl=zh-tw')\n",
    "m = re.search('window._sharedData = (.+);</script>',res.text)"
   ]
  },
  {
   "cell_type": "code",
   "execution_count": 236,
   "metadata": {},
   "outputs": [],
   "source": [
    "import json\n",
    "jd = json.loads(m.group(1))"
   ]
  },
  {
   "cell_type": "code",
   "execution_count": 246,
   "metadata": {},
   "outputs": [],
   "source": [
    "edges = jd['entry_data']['ProfilePage'][0]['graphql']['user']['edge_felix_video_timeline']['edges']"
   ]
  },
  {
   "cell_type": "code",
   "execution_count": 251,
   "metadata": {},
   "outputs": [],
   "source": [
    "for idx, ele in enumerate(edges):\n",
    "    res = requests.get(ele['node']['display_url'])\n",
    "    with open('{}.jpg'.format(idx), 'wb') as f:\n",
    "        f.write(res.content)"
   ]
  },
  {
   "cell_type": "code",
   "execution_count": 250,
   "metadata": {},
   "outputs": [],
   "source": [
    "with open('1.jpg', 'wb') as f:\n",
    "    res = requests.get('https://instagram.ftpe7-1.fna.fbcdn.net/vp/fed568ef8fbf4e915539888765c8ee6a/5DABAB91/t51.2885-15/e35/66376587_159080425243342_37869935385781174_n.jpg?_nc_ht=instagram.ftpe7-1.fna.fbcdn.net&_nc_cat=110')\n",
    "    f.write(res.content)"
   ]
  },
  {
   "cell_type": "code",
   "execution_count": null,
   "metadata": {},
   "outputs": [],
   "source": []
  }
 ],
 "metadata": {
  "kernelspec": {
   "display_name": "Python 3",
   "language": "python",
   "name": "python3"
  },
  "language_info": {
   "codemirror_mode": {
    "name": "ipython",
    "version": 3
   },
   "file_extension": ".py",
   "mimetype": "text/x-python",
   "name": "python",
   "nbconvert_exporter": "python",
   "pygments_lexer": "ipython3",
   "version": "3.6.2"
  }
 },
 "nbformat": 4,
 "nbformat_minor": 2
}
