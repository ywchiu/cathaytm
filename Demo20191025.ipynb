{
 "cells": [
  {
   "cell_type": "code",
   "execution_count": 1,
   "metadata": {},
   "outputs": [
    {
     "data": {
      "text/plain": [
       "['this', 'is', 'a', 'book']"
      ]
     },
     "execution_count": 1,
     "metadata": {},
     "output_type": "execute_result"
    }
   ],
   "source": [
    "s = 'this is a book'\n",
    "s.split()"
   ]
  },
  {
   "cell_type": "code",
   "execution_count": 3,
   "metadata": {},
   "outputs": [
    {
     "name": "stderr",
     "output_type": "stream",
     "text": [
      "Building prefix dict from the default dictionary ...\n",
      "Dumping model to file cache /var/folders/46/b7dzk4mn6g54qzptv608w7d00000gn/T/jieba.cache\n",
      "Loading model cost 0.752 seconds.\n",
      "Prefix dict has been built succesfully.\n"
     ]
    },
    {
     "data": {
      "text/plain": [
       "['我', '來到', '國泰世華', '上課']"
      ]
     },
     "execution_count": 3,
     "metadata": {},
     "output_type": "execute_result"
    }
   ],
   "source": [
    "import jieba\n",
    "\n",
    "s = '我來到國泰世華上課'\n",
    "\n",
    "list(jieba.cut(s))"
   ]
  },
  {
   "cell_type": "code",
   "execution_count": 4,
   "metadata": {},
   "outputs": [],
   "source": [
    "article = '''\n",
    "「大同大同國貨好...」這首歌對於7年級以前的民眾都耳熟能詳，但你可知道大同電鍋第一台是甚麼顏色？記者實際訪問現場民眾多數都回答綠色與紅色，結果據大同公司回答竟令人跌破眼鏡，答案是「白色」！ 大同公司慶祝第一台大同電鍋邁向一甲子，25日開始將在華山舉辦為期3天的「2019大同心生活特展」，也在華山門口放了一個偌大的「芭樂綠大同電鍋」，記者實際訪問現場民眾，發現多數人都以為第一台大同電鍋都是綠色或紅色。 而對於大同的印象就是「芭樂綠電鍋」很耐用，一位51年次李姓民眾表示「家裡就有一台，是自己1983年結婚時的嫁妝，算起來約36年的歷史，期間也有自己買或者股票贈品送的電鍋，已經壞了7、8台了，大同電鍋還沒壞，到現在還常拿來幫子女蒸消夜。 其實大同最先出的是電扇，第一台電鍋也不是綠色的！大同公司表示，民國1949年大同做出第一台電扇、1960年第一台「白色」的大同電鍋；據悉，第一台大同電鍋是參照日本東芝RC－6K電鍋所開發，為配合「嫁妝家電」第二台是紅色，而現在大家多數知道的芭樂綠，則是配合綠色電冰箱所製作的第三台。 大同指出，由於現在已走向智慧型家電時代，透過聲控、遠端就可操作家電，所以也舉辦這樣的展覽，讓大家不僅回顧歷史，也了解大同的改變，來的人還有許多闖關活動、打卡等好禮。 2019大同心生活特展 國產家電品牌大同24日宣布，「2019大同心生活特展」將於10月25日至27日展出，現場展示可聲控的智慧家電系列，包括知名的大同電鍋系列。 大同綜合訊電總經理張忠棋說，希望以可聲控的智慧空調為主力，推升大同智慧家電占比。大同綜合訊電董事長彭文傑表示，內部已進行營運調整，看好今年獲利將優於去年。 \n",
    "'''"
   ]
  },
  {
   "cell_type": "code",
   "execution_count": 10,
   "metadata": {},
   "outputs": [
    {
     "data": {
      "text/plain": [
       "['\\n',\n",
       " '大同大同國貨好...',\n",
       " '這首歌對於7年級以前的民眾都耳熟能詳',\n",
       " '但你可知道大同電鍋第一台是甚麼顏色',\n",
       " '記者實際訪問現場民眾多數都回答綠色與紅色',\n",
       " '結果據大同公司回答竟令人跌破眼鏡',\n",
       " '答案是',\n",
       " '白色',\n",
       " '',\n",
       " ' 大同公司慶祝第一台大同電鍋邁向一甲子',\n",
       " '25日開始將在華山舉辦為期3天的',\n",
       " '2019大同心生活特展',\n",
       " '',\n",
       " '也在華山門口放了一個偌大的',\n",
       " '芭樂綠大同電鍋',\n",
       " '',\n",
       " '記者實際訪問現場民眾',\n",
       " '發現多數人都以為第一台大同電鍋都是綠色或紅色',\n",
       " ' 而對於大同的印象就是',\n",
       " '芭樂綠電鍋',\n",
       " '很耐用',\n",
       " '一位51年次李姓民眾表示',\n",
       " '家裡就有一台',\n",
       " '是自己1983年結婚時的嫁妝',\n",
       " '算起來約36年的歷史',\n",
       " '期間也有自己買或者股票贈品送的電鍋',\n",
       " '已經壞了7',\n",
       " '8台了',\n",
       " '大同電鍋還沒壞',\n",
       " '到現在還常拿來幫子女蒸消夜',\n",
       " ' 其實大同最先出的是電扇',\n",
       " '第一台電鍋也不是綠色的',\n",
       " '大同公司表示',\n",
       " '民國1949年大同做出第一台電扇',\n",
       " '1960年第一台',\n",
       " '白色',\n",
       " '的大同電鍋；據悉',\n",
       " '第一台大同電鍋是參照日本東芝RC－6K電鍋所開發',\n",
       " '為配合',\n",
       " '嫁妝家電',\n",
       " '第二台是紅色',\n",
       " '而現在大家多數知道的芭樂綠',\n",
       " '則是配合綠色電冰箱所製作的第三台',\n",
       " ' 大同指出',\n",
       " '由於現在已走向智慧型家電時代',\n",
       " '透過聲控',\n",
       " '遠端就可操作家電',\n",
       " '所以也舉辦這樣的展覽',\n",
       " '讓大家不僅回顧歷史',\n",
       " '也了解大同的改變',\n",
       " '來的人還有許多闖關活動',\n",
       " '打卡等好禮',\n",
       " ' 2019大同心生活特展 國產家電品牌大同24日宣布',\n",
       " '',\n",
       " '2019大同心生活特展',\n",
       " '將於10月25日至27日展出',\n",
       " '現場展示可聲控的智慧家電系列',\n",
       " '包括知名的大同電鍋系列',\n",
       " ' 大同綜合訊電總經理張忠棋說',\n",
       " '希望以可聲控的智慧空調為主力',\n",
       " '推升大同智慧家電占比',\n",
       " '大同綜合訊電董事長彭文傑表示',\n",
       " '內部已進行營運調整',\n",
       " '看好今年獲利將優於去年',\n",
       " ' \\n']"
      ]
     },
     "execution_count": 10,
     "metadata": {},
     "output_type": "execute_result"
    }
   ],
   "source": [
    "import re\n",
    "re.split('[，？！「」。、]', article)"
   ]
  },
  {
   "cell_type": "code",
   "execution_count": 14,
   "metadata": {},
   "outputs": [
    {
     "data": {
      "text/plain": [
       "<_io.BufferedReader name='/Users/davidchiu/.pyenv/versions/3.6.2/lib/python3.6/site-packages/jieba/dict.txt'>"
      ]
     },
     "execution_count": 14,
     "metadata": {},
     "output_type": "execute_result"
    }
   ],
   "source": [
    "jieba.get_dict_file()"
   ]
  },
  {
   "cell_type": "code",
   "execution_count": null,
   "metadata": {},
   "outputs": [],
   "source": []
  }
 ],
 "metadata": {
  "kernelspec": {
   "display_name": "Python 3",
   "language": "python",
   "name": "python3"
  },
  "language_info": {
   "codemirror_mode": {
    "name": "ipython",
    "version": 3
   },
   "file_extension": ".py",
   "mimetype": "text/x-python",
   "name": "python",
   "nbconvert_exporter": "python",
   "pygments_lexer": "ipython3",
   "version": "3.6.2"
  }
 },
 "nbformat": 4,
 "nbformat_minor": 2
}
