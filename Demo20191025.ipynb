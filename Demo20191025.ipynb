{
 "cells": [
  {
   "cell_type": "markdown",
   "metadata": {},
   "source": [
    "## 斷詞"
   ]
  },
  {
   "cell_type": "code",
   "execution_count": 1,
   "metadata": {},
   "outputs": [
    {
     "data": {
      "text/plain": [
       "['this', 'is', 'a', 'book']"
      ]
     },
     "execution_count": 1,
     "metadata": {},
     "output_type": "execute_result"
    }
   ],
   "source": [
    "s = 'this is a book'\n",
    "s.split()"
   ]
  },
  {
   "cell_type": "code",
   "execution_count": 3,
   "metadata": {},
   "outputs": [
    {
     "name": "stderr",
     "output_type": "stream",
     "text": [
      "Building prefix dict from the default dictionary ...\n",
      "Dumping model to file cache /var/folders/46/b7dzk4mn6g54qzptv608w7d00000gn/T/jieba.cache\n",
      "Loading model cost 0.752 seconds.\n",
      "Prefix dict has been built succesfully.\n"
     ]
    },
    {
     "data": {
      "text/plain": [
       "['我', '來到', '國泰世華', '上課']"
      ]
     },
     "execution_count": 3,
     "metadata": {},
     "output_type": "execute_result"
    }
   ],
   "source": [
    "import jieba\n",
    "\n",
    "s = '我來到國泰世華上課'\n",
    "\n",
    "list(jieba.cut(s))"
   ]
  },
  {
   "cell_type": "code",
   "execution_count": 4,
   "metadata": {},
   "outputs": [],
   "source": [
    "article = '''\n",
    "「大同大同國貨好...」這首歌對於7年級以前的民眾都耳熟能詳，但你可知道大同電鍋第一台是甚麼顏色？記者實際訪問現場民眾多數都回答綠色與紅色，結果據大同公司回答竟令人跌破眼鏡，答案是「白色」！ 大同公司慶祝第一台大同電鍋邁向一甲子，25日開始將在華山舉辦為期3天的「2019大同心生活特展」，也在華山門口放了一個偌大的「芭樂綠大同電鍋」，記者實際訪問現場民眾，發現多數人都以為第一台大同電鍋都是綠色或紅色。 而對於大同的印象就是「芭樂綠電鍋」很耐用，一位51年次李姓民眾表示「家裡就有一台，是自己1983年結婚時的嫁妝，算起來約36年的歷史，期間也有自己買或者股票贈品送的電鍋，已經壞了7、8台了，大同電鍋還沒壞，到現在還常拿來幫子女蒸消夜。 其實大同最先出的是電扇，第一台電鍋也不是綠色的！大同公司表示，民國1949年大同做出第一台電扇、1960年第一台「白色」的大同電鍋；據悉，第一台大同電鍋是參照日本東芝RC－6K電鍋所開發，為配合「嫁妝家電」第二台是紅色，而現在大家多數知道的芭樂綠，則是配合綠色電冰箱所製作的第三台。 大同指出，由於現在已走向智慧型家電時代，透過聲控、遠端就可操作家電，所以也舉辦這樣的展覽，讓大家不僅回顧歷史，也了解大同的改變，來的人還有許多闖關活動、打卡等好禮。 2019大同心生活特展 國產家電品牌大同24日宣布，「2019大同心生活特展」將於10月25日至27日展出，現場展示可聲控的智慧家電系列，包括知名的大同電鍋系列。 大同綜合訊電總經理張忠棋說，希望以可聲控的智慧空調為主力，推升大同智慧家電占比。大同綜合訊電董事長彭文傑表示，內部已進行營運調整，看好今年獲利將優於去年。 \n",
    "'''"
   ]
  },
  {
   "cell_type": "code",
   "execution_count": 10,
   "metadata": {},
   "outputs": [
    {
     "data": {
      "text/plain": [
       "['\\n',\n",
       " '大同大同國貨好...',\n",
       " '這首歌對於7年級以前的民眾都耳熟能詳',\n",
       " '但你可知道大同電鍋第一台是甚麼顏色',\n",
       " '記者實際訪問現場民眾多數都回答綠色與紅色',\n",
       " '結果據大同公司回答竟令人跌破眼鏡',\n",
       " '答案是',\n",
       " '白色',\n",
       " '',\n",
       " ' 大同公司慶祝第一台大同電鍋邁向一甲子',\n",
       " '25日開始將在華山舉辦為期3天的',\n",
       " '2019大同心生活特展',\n",
       " '',\n",
       " '也在華山門口放了一個偌大的',\n",
       " '芭樂綠大同電鍋',\n",
       " '',\n",
       " '記者實際訪問現場民眾',\n",
       " '發現多數人都以為第一台大同電鍋都是綠色或紅色',\n",
       " ' 而對於大同的印象就是',\n",
       " '芭樂綠電鍋',\n",
       " '很耐用',\n",
       " '一位51年次李姓民眾表示',\n",
       " '家裡就有一台',\n",
       " '是自己1983年結婚時的嫁妝',\n",
       " '算起來約36年的歷史',\n",
       " '期間也有自己買或者股票贈品送的電鍋',\n",
       " '已經壞了7',\n",
       " '8台了',\n",
       " '大同電鍋還沒壞',\n",
       " '到現在還常拿來幫子女蒸消夜',\n",
       " ' 其實大同最先出的是電扇',\n",
       " '第一台電鍋也不是綠色的',\n",
       " '大同公司表示',\n",
       " '民國1949年大同做出第一台電扇',\n",
       " '1960年第一台',\n",
       " '白色',\n",
       " '的大同電鍋；據悉',\n",
       " '第一台大同電鍋是參照日本東芝RC－6K電鍋所開發',\n",
       " '為配合',\n",
       " '嫁妝家電',\n",
       " '第二台是紅色',\n",
       " '而現在大家多數知道的芭樂綠',\n",
       " '則是配合綠色電冰箱所製作的第三台',\n",
       " ' 大同指出',\n",
       " '由於現在已走向智慧型家電時代',\n",
       " '透過聲控',\n",
       " '遠端就可操作家電',\n",
       " '所以也舉辦這樣的展覽',\n",
       " '讓大家不僅回顧歷史',\n",
       " '也了解大同的改變',\n",
       " '來的人還有許多闖關活動',\n",
       " '打卡等好禮',\n",
       " ' 2019大同心生活特展 國產家電品牌大同24日宣布',\n",
       " '',\n",
       " '2019大同心生活特展',\n",
       " '將於10月25日至27日展出',\n",
       " '現場展示可聲控的智慧家電系列',\n",
       " '包括知名的大同電鍋系列',\n",
       " ' 大同綜合訊電總經理張忠棋說',\n",
       " '希望以可聲控的智慧空調為主力',\n",
       " '推升大同智慧家電占比',\n",
       " '大同綜合訊電董事長彭文傑表示',\n",
       " '內部已進行營運調整',\n",
       " '看好今年獲利將優於去年',\n",
       " ' \\n']"
      ]
     },
     "execution_count": 10,
     "metadata": {},
     "output_type": "execute_result"
    }
   ],
   "source": [
    "import re\n",
    "re.split('[，？！「」。、]', article)"
   ]
  },
  {
   "cell_type": "code",
   "execution_count": 14,
   "metadata": {},
   "outputs": [
    {
     "data": {
      "text/plain": [
       "<_io.BufferedReader name='/Users/davidchiu/.pyenv/versions/3.6.2/lib/python3.6/site-packages/jieba/dict.txt'>"
      ]
     },
     "execution_count": 14,
     "metadata": {},
     "output_type": "execute_result"
    }
   ],
   "source": [
    "jieba.get_dict_file()"
   ]
  },
  {
   "cell_type": "markdown",
   "metadata": {},
   "source": [
    "## 結巴實戰"
   ]
  },
  {
   "cell_type": "code",
   "execution_count": 15,
   "metadata": {},
   "outputs": [
    {
     "data": {
      "text/plain": [
       "<generator object Tokenizer.cut at 0x10e7e9af0>"
      ]
     },
     "execution_count": 15,
     "metadata": {},
     "output_type": "execute_result"
    }
   ],
   "source": [
    "import jieba\n",
    "\n",
    "seg_list = jieba.cut(\"大巨蛋案對市府同仁下封口令？　柯P否認\")\n",
    "seg_list"
   ]
  },
  {
   "cell_type": "code",
   "execution_count": 16,
   "metadata": {},
   "outputs": [
    {
     "data": {
      "text/plain": [
       "['大巨蛋案', '對', '市府', '同仁', '下', '封口', '令', '？', '\\u3000', '柯P', '否認']"
      ]
     },
     "execution_count": 16,
     "metadata": {},
     "output_type": "execute_result"
    }
   ],
   "source": [
    "list(seg_list)"
   ]
  },
  {
   "cell_type": "code",
   "execution_count": 17,
   "metadata": {},
   "outputs": [
    {
     "data": {
      "text/plain": [
       "['大巨蛋',\n",
       " '大巨蛋案',\n",
       " '巨蛋',\n",
       " '巨蛋案',\n",
       " '蛋案',\n",
       " '對',\n",
       " '市府',\n",
       " '同仁',\n",
       " '下',\n",
       " '封口',\n",
       " '口令',\n",
       " '',\n",
       " '',\n",
       " '',\n",
       " '柯',\n",
       " 'P',\n",
       " '否認']"
      ]
     },
     "execution_count": 17,
     "metadata": {},
     "output_type": "execute_result"
    }
   ],
   "source": [
    "import jieba\n",
    "\n",
    "seg_list = jieba.cut(\"大巨蛋案對市府同仁下封口令？　柯P否認\", cut_all= True)\n",
    "list(seg_list)"
   ]
  },
  {
   "cell_type": "code",
   "execution_count": 18,
   "metadata": {},
   "outputs": [
    {
     "data": {
      "text/plain": [
       "['大巨蛋案', '對', '市府', '同仁', '下', '封口', '令', '？', '\\u3000', '柯P', '否認']"
      ]
     },
     "execution_count": 18,
     "metadata": {},
     "output_type": "execute_result"
    }
   ],
   "source": [
    "import jieba\n",
    "\n",
    "seg_list = jieba.cut(\"大巨蛋案對市府同仁下封口令？　柯P否認\")\n",
    "list(seg_list)"
   ]
  },
  {
   "cell_type": "code",
   "execution_count": 19,
   "metadata": {},
   "outputs": [
    {
     "data": {
      "text/plain": [
       "['大巨蛋案', '對', '市府', '同仁', '下', '封口令', '？', '\\u3000', '柯P', '否認']"
      ]
     },
     "execution_count": 19,
     "metadata": {},
     "output_type": "execute_result"
    }
   ],
   "source": [
    "import jieba\n",
    "jieba.load_userdict('userdict.txt')\n",
    "seg_list = jieba.cut(\"大巨蛋案對市府同仁下封口令？　柯P否認\")\n",
    "list(seg_list)"
   ]
  },
  {
   "cell_type": "code",
   "execution_count": 3,
   "metadata": {},
   "outputs": [
    {
     "name": "stdout",
     "output_type": "stream",
     "text": [
      "大巨蛋案 N\n",
      "對 P\n",
      "市府 N\n",
      "同仁 N\n",
      "下 POST\n",
      "封口令 n\n",
      "？ x\n",
      "　 x\n",
      "柯P N\n",
      "否認 Vt\n"
     ]
    }
   ],
   "source": [
    "import jieba\n",
    "import jieba.posseg as pseg\n",
    "jieba.load_userdict('userdict.txt')\n",
    "words = pseg.cut(\"大巨蛋案對市府同仁下封口令？　柯P否認\")\n",
    "for w in words:\n",
    "    print(w.word, w.flag)"
   ]
  },
  {
   "cell_type": "code",
   "execution_count": 5,
   "metadata": {},
   "outputs": [
    {
     "name": "stdout",
     "output_type": "stream",
     "text": [
      "大巨蛋案 0 4\n",
      "對 4 5\n",
      "市府 5 7\n",
      "同仁 7 9\n",
      "下 9 10\n",
      "封口令 10 13\n",
      "？ 13 14\n",
      "　 14 15\n",
      "柯P 15 17\n",
      "否認 17 19\n"
     ]
    }
   ],
   "source": [
    "sentence = \"大巨蛋案對市府同仁下封口令？　柯P否認\"\n",
    "words = jieba.tokenize(sentence)\n",
    "\n",
    "for tw in words:\n",
    "    print(tw[0], tw[1], tw[2])\n"
   ]
  },
  {
   "cell_type": "code",
   "execution_count": 7,
   "metadata": {},
   "outputs": [
    {
     "data": {
      "text/plain": [
       "'公費,公費流感疫苗'"
      ]
     },
     "execution_count": 7,
     "metadata": {},
     "output_type": "execute_result"
    }
   ],
   "source": [
    "import requests\n",
    "from bs4 import BeautifulSoup\n",
    "res = requests.get('https://news.ltn.com.tw/news/life/breakingnews/2957070')\n",
    "soup = BeautifulSoup(res.text, 'lxml')\n",
    "soup.select_one('meta[name=\"keywords\"]').get('content')"
   ]
  },
  {
   "cell_type": "markdown",
   "metadata": {},
   "source": [
    "## 使用內部字詞建立辭典"
   ]
  },
  {
   "cell_type": "code",
   "execution_count": 8,
   "metadata": {},
   "outputs": [
    {
     "data": {
      "text/plain": [
       "'那我'"
      ]
     },
     "execution_count": 8,
     "metadata": {},
     "output_type": "execute_result"
    }
   ],
   "source": [
    "sentence = '那我們酸民婉君也可以報名嗎'\n",
    "sentence[0:2]"
   ]
  },
  {
   "cell_type": "code",
   "execution_count": 10,
   "metadata": {},
   "outputs": [
    {
     "data": {
      "text/plain": [
       "'我們'"
      ]
     },
     "execution_count": 10,
     "metadata": {},
     "output_type": "execute_result"
    }
   ],
   "source": [
    "sentence[1:3]"
   ]
  },
  {
   "cell_type": "code",
   "execution_count": 13,
   "metadata": {},
   "outputs": [
    {
     "name": "stdout",
     "output_type": "stream",
     "text": [
      "那我\n",
      "我們\n",
      "們酸\n",
      "酸民\n",
      "民婉\n",
      "婉君\n",
      "君也\n",
      "也可\n",
      "可以\n",
      "以報\n",
      "報名\n",
      "名嗎\n"
     ]
    }
   ],
   "source": [
    "for i in range(0, len(sentence) - 2 + 1):\n",
    "    print(sentence[i:i+2])"
   ]
  },
  {
   "cell_type": "code",
   "execution_count": 14,
   "metadata": {},
   "outputs": [
    {
     "name": "stdout",
     "output_type": "stream",
     "text": [
      "那我們\n",
      "我們酸\n",
      "們酸民\n",
      "酸民婉\n",
      "民婉君\n",
      "婉君也\n",
      "君也可\n",
      "也可以\n",
      "可以報\n",
      "以報名\n",
      "報名嗎\n"
     ]
    }
   ],
   "source": [
    "for i in range(0, len(sentence) - 3 + 1):\n",
    "    print(sentence[i:i+3])"
   ]
  },
  {
   "cell_type": "code",
   "execution_count": 16,
   "metadata": {},
   "outputs": [],
   "source": [
    "def ngram(input_sentece, n = 2):\n",
    "    output_sentence = []\n",
    "    for i in range(0, len(input_sentece) - n + 1):\n",
    "        output_sentence.append(input_sentece[i:i+n])\n",
    "    return output_sentence"
   ]
  },
  {
   "cell_type": "code",
   "execution_count": 18,
   "metadata": {},
   "outputs": [
    {
     "data": {
      "text/plain": [
       "['公費流', '費流感', '流感疫', '感疫苗', '疫苗1', '苗11', '11/', '1/1', '/15', '15開', '5開打']"
      ]
     },
     "execution_count": 18,
     "metadata": {},
     "output_type": "execute_result"
    }
   ],
   "source": [
    "ngram('公費流感疫苗11/15開打', n = 3)"
   ]
  },
  {
   "cell_type": "code",
   "execution_count": 19,
   "metadata": {},
   "outputs": [],
   "source": [
    "news = '''\n",
    "〔記者吳亮儀／台北報導〕今年公費流感疫苗首次由三價疫苗升級到四價，不過以往三價疫苗有分3歲以上接種的的成人劑型和3歲以下幼童接種的幼兒劑型，今年全面開始施打四價疫苗後，劑型全都是0.5mL，不用另外減半，家長可特別注意。\n",
    "\n",
    "疾管署今天說明，四價疫苗相較三價疫苗除了多一種B型疫苗株外，另一個差異是四價疫苗部分成人、幼兒劑型，都是單一劑型0.5mL接種。三價疫苗分別有3歲以上接種的「成人劑型（0.5mL）」，及3歲以下接種的「幼兒劑型（0.25mL）」，因此不同於三價疫苗，三歲以下幼兒接種四價疫苗無須減半。\n",
    "\n",
    "今年提供的公費疫苗共有2家廠牌，國光生技的「安定伏」裂解型四價流感疫苗適用3歲以上的人、賽諾菲的巴斯德四價流感疫苗適用6個月以上的成人和幼兒。\n",
    "\n",
    "民眾可攜幼兒到各地衛生局指定提供3歲以下幼兒接種公費流感疫苗的合約院所或衛生所，詳細名單將於10月31日前公布。\n",
    "\n",
    "疾管署副署長羅一鈞說，6個月以下的嬰兒還不能施打流感疫苗，因此為保護這些嬰兒，有6個月以下嬰兒的父母是公費流感疫苗的接種對象，替父母施打疫苗，來保護小孩。\n",
    "'''"
   ]
  },
  {
   "cell_type": "code",
   "execution_count": 25,
   "metadata": {},
   "outputs": [
    {
     "data": {
      "text/plain": [
       "[('疫苗', 18),\n",
       " ('價疫', 9),\n",
       " ('接種', 8),\n",
       " ('四價', 7),\n",
       " ('歲以', 7),\n",
       " ('劑型', 7),\n",
       " ('幼兒', 7),\n",
       " ('流感', 6),\n",
       " ('感疫', 6),\n",
       " ('3歲', 6)]"
      ]
     },
     "execution_count": 25,
     "metadata": {},
     "output_type": "execute_result"
    }
   ],
   "source": [
    "# method 1\n",
    "dic = {}\n",
    "for word in ngram(news):\n",
    "    if word not in dic:\n",
    "        dic[word] = 1\n",
    "    else:\n",
    "        dic[word] = dic[word] + 1\n",
    "swd = sorted(dic.items(), key = lambda e: e[1], reverse=True)\n",
    "swd[0:10]"
   ]
  },
  {
   "cell_type": "markdown",
   "metadata": {},
   "source": [
    "## Collections\n",
    "- https://docs.python.org/zh-cn/3/library/collections.html"
   ]
  },
  {
   "cell_type": "code",
   "execution_count": 26,
   "metadata": {},
   "outputs": [
    {
     "data": {
      "text/plain": [
       "[('疫苗', 18),\n",
       " ('價疫', 9),\n",
       " ('接種', 8),\n",
       " ('四價', 7),\n",
       " ('歲以', 7),\n",
       " ('劑型', 7),\n",
       " ('幼兒', 7),\n",
       " ('流感', 6),\n",
       " ('感疫', 6),\n",
       " ('3歲', 6)]"
      ]
     },
     "execution_count": 26,
     "metadata": {},
     "output_type": "execute_result"
    }
   ],
   "source": [
    "from collections import Counter\n",
    "c = Counter(ngram(news))\n",
    "c.most_common(10)"
   ]
  },
  {
   "cell_type": "code",
   "execution_count": 27,
   "metadata": {},
   "outputs": [
    {
     "data": {
      "text/plain": [
       "[('價疫苗', 9),\n",
       " ('流感疫', 6),\n",
       " ('感疫苗', 6),\n",
       " ('3歲以', 6),\n",
       " ('三價疫', 5),\n",
       " ('接種的', 4),\n",
       " ('歲以下', 4),\n",
       " ('四價疫', 4),\n",
       " ('5mL', 4),\n",
       " ('。\\n\\n', 4)]"
      ]
     },
     "execution_count": 27,
     "metadata": {},
     "output_type": "execute_result"
    }
   ],
   "source": [
    "from collections import Counter\n",
    "c = Counter(ngram(news, n= 3))\n",
    "c.most_common(10)"
   ]
  },
  {
   "cell_type": "code",
   "execution_count": 28,
   "metadata": {},
   "outputs": [
    {
     "data": {
      "text/plain": [
       "[('流感疫苗', 6),\n",
       " ('三價疫苗', 5),\n",
       " ('四價疫苗', 4),\n",
       " ('公費流感', 3),\n",
       " ('費流感疫', 3),\n",
       " ('3歲以上', 3),\n",
       " ('3歲以下', 3),\n",
       " ('歲以下幼', 3),\n",
       " ('幼兒劑型', 3),\n",
       " ('0.5m', 3)]"
      ]
     },
     "execution_count": 28,
     "metadata": {},
     "output_type": "execute_result"
    }
   ],
   "source": [
    "from collections import Counter\n",
    "c = Counter(ngram(news, n= 4))\n",
    "c.most_common(10)"
   ]
  },
  {
   "cell_type": "code",
   "execution_count": 29,
   "metadata": {},
   "outputs": [],
   "source": [
    "news = '''\n",
    "潤寅集團涉嫌向國內13家銀行詐貸84億元，金管會今天一次開罰9家銀行總共800萬元，其中以中小企銀、王道銀行各被罰200萬元最重。\n",
    "\n",
    "銀行局副局長黃光熙指出，七月初時預估，潤寅向13家銀行詐貸，當時初估整體銀行共損失55億元。另核貸前五大銀行包括王道銀行14億、台企銀13億、星展銀行9億、元大銀8億、兆豐銀6億。\n",
    "\n",
    "中小企銀跟王道銀行都被金管會認為在徵授信作業上有缺失，情節較重，因此被罰最重。中小企銀對於潤寅集團的銷售情形、營業額、收款天期及營業週期評估作業有待加強，就潤寅集團銷售對象有集中特定企業的情形，沒有確實查證銷售對象的內容、增貸額度於短期間用罄的原因沒有妥適掌握，顯示風險意識有待強化，且應收帳款融資案件撥款前，潤寅集團提供的交易文件審核、撥款後貸款資金流向，中小企銀也應再審慎，因此開罰200萬元。\n",
    "\n",
    "銀行局也指出，王道銀行沒有確實評估潤寅集團實際營運週轉金需求，核貸金額與潤寅集團營運規模的關連性沒有妥適評估，風險控管有待加強；應收帳款融資案件撥款前未加強審查潤寅集團提供的交易文件及照會買方，以評估交易真實性；且王道銀行沒有實際瞭解應收帳款買方未依約還款原因。針對王道銀行開罰200萬元。\n",
    "\n",
    "但元大銀行、星展銀行、兆豐銀行等3家銀行也被徵授信作業缺失，卻只有被處以糾正，銀行局說，因為星展跟元大在評估過程有考慮潤寅的營收情形，因此有做授信風險額度調整，相較於王道銀行跟中小企銀就比較沒有。\n",
    "\n",
    "另華南銀行、國泰世華銀行、第一銀行、合作金庫銀行也被金管會認為在存匯作業上有缺失。華南銀被罰150萬元，國泰、第一銀各罰100萬元，合庫被罰50萬元。\n",
    "\n",
    "但13家銀行中仍有4家銀行沒被罰，包括高雄銀、陽信銀行、玉山銀行、安泰銀行。銀行局說，這四家銀行貸給潤寅的金額非常低，不到一億元，所以只要求這四家銀行要留意。\n",
    "'''"
   ]
  },
  {
   "cell_type": "code",
   "execution_count": 31,
   "metadata": {},
   "outputs": [
    {
     "name": "stdout",
     "output_type": "stream",
     "text": [
      "\n",
      "潤寅集團涉嫌向國內13家銀行詐貸84億元\n",
      "金管會今天一次開罰9家銀行總共800萬元\n",
      "其中以中小企銀\n",
      "王道銀行各被罰200萬元最重\n",
      "\n",
      "\n",
      "銀行局副局長黃光熙指出\n",
      "七月初時預估\n",
      "潤寅向13家銀行詐貸\n",
      "當時初估整體銀行共損失55億元\n",
      "另核貸前五大銀行包括王道銀行14億\n",
      "台企銀13億\n",
      "星展銀行9億\n",
      "元大銀8億\n",
      "兆豐銀6億\n",
      "\n",
      "\n",
      "中小企銀跟王道銀行都被金管會認為在徵授信作業上有缺失\n",
      "情節較重\n",
      "因此被罰最重\n",
      "中小企銀對於潤寅集團的銷售情形\n",
      "營業額\n",
      "收款天期及營業週期評估作業有待加強\n",
      "就潤寅集團銷售對象有集中特定企業的情形\n",
      "沒有確實查證銷售對象的內容\n",
      "增貸額度於短期間用罄的原因沒有妥適掌握\n",
      "顯示風險意識有待強化\n",
      "且應收帳款融資案件撥款前\n",
      "潤寅集團提供的交易文件審核\n",
      "撥款後貸款資金流向\n",
      "中小企銀也應再審慎\n",
      "因此開罰200萬元\n",
      "\n",
      "\n",
      "銀行局也指出\n",
      "王道銀行沒有確實評估潤寅集團實際營運週轉金需求\n",
      "核貸金額與潤寅集團營運規模的關連性沒有妥適評估\n",
      "風險控管有待加強\n",
      "應收帳款融資案件撥款前未加強審查潤寅集團提供的交易文件及照會買方\n",
      "以評估交易真實性\n",
      "且王道銀行沒有實際瞭解應收帳款買方未依約還款原因\n",
      "針對王道銀行開罰200萬元\n",
      "\n",
      "\n",
      "但元大銀行\n",
      "星展銀行\n",
      "兆豐銀行等3家銀行也被徵授信作業缺失\n",
      "卻只有被處以糾正\n",
      "銀行局說\n",
      "因為星展跟元大在評估過程有考慮潤寅的營收情形\n",
      "因此有做授信風險額度調整\n",
      "相較於王道銀行跟中小企銀就比較沒有\n",
      "\n",
      "\n",
      "另華南銀行\n",
      "國泰世華銀行\n",
      "第一銀行\n",
      "合作金庫銀行也被金管會認為在存匯作業上有缺失\n",
      "華南銀被罰150萬元\n",
      "國泰\n",
      "第一銀各罰100萬元\n",
      "合庫被罰50萬元\n",
      "\n",
      "\n",
      "但13家銀行中仍有4家銀行沒被罰\n",
      "包括高雄銀\n",
      "陽信銀行\n",
      "玉山銀行\n",
      "安泰銀行\n",
      "銀行局說\n",
      "這四家銀行貸給潤寅的金額非常低\n",
      "不到一億元\n",
      "所以只要求這四家銀行要留意\n",
      "\n",
      "\n"
     ]
    }
   ],
   "source": [
    "import re\n",
    "delimiter = \"[，。、()；]\"  \n",
    "for i in re.split(delimiter, news):\n",
    "    print(i)\n"
   ]
  },
  {
   "cell_type": "code",
   "execution_count": 32,
   "metadata": {},
   "outputs": [
    {
     "data": {
      "text/plain": [
       "'潤寅集團涉嫌向13家詐貸84億元'"
      ]
     },
     "execution_count": 32,
     "metadata": {},
     "output_type": "execute_result"
    }
   ],
   "source": [
    "keywords = ['銀行', '國內']\n",
    "s = '潤寅集團涉嫌向國內13家銀行詐貸84億元'\n",
    "for w in keywords:\n",
    "    s= s.replace(w, '')\n",
    "s\n"
   ]
  },
  {
   "cell_type": "code",
   "execution_count": 34,
   "metadata": {},
   "outputs": [
    {
     "data": {
      "text/plain": [
       "'潤寅集團涉嫌向13家詐貸84億元'"
      ]
     },
     "execution_count": 34,
     "metadata": {},
     "output_type": "execute_result"
    }
   ],
   "source": [
    "\n",
    "def removeKey(text, keywords):    \n",
    "    ret = text\n",
    "    for w in keywords:\n",
    "        ret= ret.replace(w, '')\n",
    "    return ret\n",
    "\n",
    "removeKey('潤寅集團涉嫌向國內13家銀行詐貸84億元',['銀行', '國內'])"
   ]
  },
  {
   "cell_type": "code",
   "execution_count": 36,
   "metadata": {},
   "outputs": [],
   "source": [
    "import re\n",
    "delimiter = \"[，。、()；]\"  \n",
    "sentenceAry =re.split(delimiter, news)"
   ]
  },
  {
   "cell_type": "code",
   "execution_count": 39,
   "metadata": {},
   "outputs": [
    {
     "data": {
      "text/plain": [
       "['潤寅集團', '00萬元', '中小企銀', '王道銀行', '家銀行', '被罰', '\\n\\n', '銀行', '評估', '沒有']"
      ]
     },
     "execution_count": 39,
     "metadata": {},
     "output_type": "execute_result"
    }
   ],
   "source": [
    "keywords = []\n",
    "for n in range(4,1,-1):\n",
    "    words = []\n",
    "    for sentence in sentenceAry:\n",
    "        sentence = removeKey(sentence, keywords)\n",
    "        words.extend(ngram(sentence, n))\n",
    "    c = Counter(words)\n",
    "    for k, v in c.items():\n",
    "        if v >=5:\n",
    "            keywords.append(k)\n",
    "keywords"
   ]
  },
  {
   "cell_type": "code",
   "execution_count": 41,
   "metadata": {},
   "outputs": [],
   "source": [
    "news = '''\n",
    "銀行理專監守自盜今年特別多！永豐銀行爆出理專A客戶存款上千萬元，該理專已經遭停職，永豐銀行除強調「這只是個案」之外，也將密切配合檢調。不過，據金管會統計，今年還沒過完，已經裁罰了8件相關違規案，罰鍰總額更超過前4年加總金額。\n",
    "\n",
    "永豐銀行表示，於8月19日發現忠孝分行游姓理財專員，與客戶間疑有資金異常交易往來，該行主管發現後，除立即通報主管機關外，同步啟動內部查核流程，並報警處理，也先將游員暫停職務配合調查。\n",
    "\n",
    "永豐銀行表示，本案已進入司法程序，除主動將相關資料送交檢調單位偵辦，目前已知影響十餘名客戶，金額約數千萬元，後續將與檢調單位密切合作並協助偵辦，待司法釐清民刑事等相關責任。\n",
    "\n",
    "永豐銀行強調，一向重視客戶權益保障，此次發生的案件僅係個案，將持續加強內控稽核制度，維護本行業務執行秩序，對於可能受影響客戶，也已經主動積極聯繫，進行客戶關懷，以期確保客戶資產安全及權益，客戶如對交易有疑慮，請攜帶對帳單到分行核對。\n",
    "\n",
    "經統計，不包括本次永豐案，光是今年已裁罰案件，就有8件銀行理專、行員監守自盜案，共A走4億4,526萬元。據金管會統計，自2015年到2019年8月止，金管會總計裁罰18件銀行理專監守自盜案，累積裁罰金額高達9,500萬元，其中，2015年只有1件、2016年有3件、2017年共4件、2018年有2件，但今年竟則一下暴增至8件，罰鍰總額5,100萬元，比過去4年的罰鍰加起來還多。\n",
    "\n",
    "金管會表示，近年來銀行財富管理業務盛行，民眾透過理財專員從事多元投資的比率逐漸增加，為防範這類違規行為發生，除了將請銀行公會建立「理專挪用客戶款項遭主管機關重大處分案例分享機制」，更呼籲民眾不要將存摺、印鑑、密碼及已簽章的空白表單交給銀行行員保管，以維護自身權益。\n",
    "'''"
   ]
  },
  {
   "cell_type": "code",
   "execution_count": 44,
   "metadata": {},
   "outputs": [],
   "source": [
    "import re\n",
    "def ngram(input_sentece, n = 2):\n",
    "    output_sentence = []\n",
    "    for i in range(0, len(input_sentece) - n + 1):\n",
    "        m = re.match('^[\\u4e00-\\u9fa5]+$',input_sentece[i:i+n])\n",
    "        if m:\n",
    "            output_sentence.append(input_sentece[i:i+n])\n",
    "    return output_sentence"
   ]
  },
  {
   "cell_type": "code",
   "execution_count": 45,
   "metadata": {},
   "outputs": [],
   "source": [
    "def getNewWords(text, threshold = 3):\n",
    "    delimiter = \"[，。、()；]\"  \n",
    "    sentenceAry =re.split(delimiter, text)  \n",
    "    keywords = []\n",
    "    for n in range(4,1,-1):\n",
    "        words = []\n",
    "        for sentence in sentenceAry:\n",
    "            sentence = removeKey(sentence, keywords)\n",
    "            words.extend(ngram(sentence, n))\n",
    "        c = Counter(words)\n",
    "        for k, v in c.items():\n",
    "            if v >= threshold:\n",
    "                keywords.append(k)\n",
    "    return keywords"
   ]
  },
  {
   "cell_type": "code",
   "execution_count": 47,
   "metadata": {},
   "outputs": [
    {
     "data": {
      "text/plain": [
       "['永豐銀行', '金管會', '銀行', '理專', '今年', '客戶', '萬元', '裁罰']"
      ]
     },
     "execution_count": 47,
     "metadata": {},
     "output_type": "execute_result"
    }
   ],
   "source": [
    "getNewWords(news, 4)"
   ]
  },
  {
   "cell_type": "markdown",
   "metadata": {},
   "source": [
    "## CKIPTAGGER"
   ]
  },
  {
   "cell_type": "code",
   "execution_count": 48,
   "metadata": {},
   "outputs": [
    {
     "name": "stdout",
     "output_type": "stream",
     "text": [
      "Requirement already satisfied: ckiptagger in /Users/davidchiu/.pyenv/versions/3.6.2/lib/python3.6/site-packages\n",
      "\u001b[33mYou are using pip version 9.0.1, however version 19.3.1 is available.\n",
      "You should consider upgrading via the 'pip install --upgrade pip' command.\u001b[0m\n"
     ]
    }
   ],
   "source": [
    "! pip install ckiptagger"
   ]
  },
  {
   "cell_type": "code",
   "execution_count": 55,
   "metadata": {},
   "outputs": [
    {
     "name": "stderr",
     "output_type": "stream",
     "text": [
      "/Users/davidchiu/.pyenv/versions/3.6.2/lib/python3.6/site-packages/tensorflow/python/framework/dtypes.py:516: FutureWarning: Passing (type, 1) or '1type' as a synonym of type is deprecated; in a future version of numpy, it will be understood as (type, (1,)) / '(1,)type'.\n",
      "  _np_qint8 = np.dtype([(\"qint8\", np.int8, 1)])\n",
      "/Users/davidchiu/.pyenv/versions/3.6.2/lib/python3.6/site-packages/tensorflow/python/framework/dtypes.py:517: FutureWarning: Passing (type, 1) or '1type' as a synonym of type is deprecated; in a future version of numpy, it will be understood as (type, (1,)) / '(1,)type'.\n",
      "  _np_quint8 = np.dtype([(\"quint8\", np.uint8, 1)])\n",
      "/Users/davidchiu/.pyenv/versions/3.6.2/lib/python3.6/site-packages/tensorflow/python/framework/dtypes.py:518: FutureWarning: Passing (type, 1) or '1type' as a synonym of type is deprecated; in a future version of numpy, it will be understood as (type, (1,)) / '(1,)type'.\n",
      "  _np_qint16 = np.dtype([(\"qint16\", np.int16, 1)])\n",
      "/Users/davidchiu/.pyenv/versions/3.6.2/lib/python3.6/site-packages/tensorflow/python/framework/dtypes.py:519: FutureWarning: Passing (type, 1) or '1type' as a synonym of type is deprecated; in a future version of numpy, it will be understood as (type, (1,)) / '(1,)type'.\n",
      "  _np_quint16 = np.dtype([(\"quint16\", np.uint16, 1)])\n",
      "/Users/davidchiu/.pyenv/versions/3.6.2/lib/python3.6/site-packages/tensorflow/python/framework/dtypes.py:520: FutureWarning: Passing (type, 1) or '1type' as a synonym of type is deprecated; in a future version of numpy, it will be understood as (type, (1,)) / '(1,)type'.\n",
      "  _np_qint32 = np.dtype([(\"qint32\", np.int32, 1)])\n",
      "/Users/davidchiu/.pyenv/versions/3.6.2/lib/python3.6/site-packages/tensorflow/python/framework/dtypes.py:525: FutureWarning: Passing (type, 1) or '1type' as a synonym of type is deprecated; in a future version of numpy, it will be understood as (type, (1,)) / '(1,)type'.\n",
      "  np_resource = np.dtype([(\"resource\", np.ubyte, 1)])\n"
     ]
    }
   ],
   "source": [
    "from ckiptagger import data_utils, construct_dictionary, WS, POS, NER\n",
    "ws = WS(\"/Users/davidchiu/project/ckip/data\")\n",
    "pos = POS(\"/Users/davidchiu/project/ckip/data\")\n",
    "ner = NER(\"/Users/davidchiu/project/ckip/data\")\n",
    "sentence_list = [\"\"\"全聯福利中心強力推出「PX Pay」行動支付後，更進一步開放8家銀行的實體信用卡、33家金融機構金融卡、3大電子票證、3大國際行動Pay與台灣Pay等交易。同時釋出8大銀行刷卡優惠，其中聯邦卡首刷500元送1,000點福利點最高，平日則以國泰世華天天消費滿500元送300點最強。\"\"\"]\n",
    "\n",
    "word_sentence_list = ws(sentence_list)\n",
    "pos_sentence_list = pos(word_sentence_list)\n",
    "entity_sentence_list = ner(word_sentence_list, pos_sentence_list)\n",
    "\n"
   ]
  },
  {
   "cell_type": "code",
   "execution_count": 58,
   "metadata": {},
   "outputs": [
    {
     "data": {
      "text/plain": [
       "[{(0, 6, 'ORG', '全聯福利中心'),\n",
       "  (30, 31, 'CARDINAL', '8'),\n",
       "  (41, 43, 'CARDINAL', '33'),\n",
       "  (52, 53, 'CARDINAL', '3'),\n",
       "  (59, 60, 'CARDINAL', '3'),\n",
       "  (69, 74, 'ORG', '台灣Pay'),\n",
       "  (82, 83, 'CARDINAL', '8'),\n",
       "  (93, 96, 'ORG', '聯邦卡'),\n",
       "  (98, 102, 'MONEY', '500元'),\n",
       "  (103, 109, 'QUANTITY', '1,000點'),\n",
       "  (119, 123, 'ORG', '國泰世華'),\n",
       "  (128, 132, 'MONEY', '500元'),\n",
       "  (133, 137, 'QUANTITY', '300點')}]"
      ]
     },
     "execution_count": 58,
     "metadata": {},
     "output_type": "execute_result"
    }
   ],
   "source": [
    "#word_sentence_list\n",
    "#pos_sentence_list\n",
    "entity_sentence_list"
   ]
  },
  {
   "cell_type": "code",
   "execution_count": null,
   "metadata": {},
   "outputs": [],
   "source": []
  }
 ],
 "metadata": {
  "kernelspec": {
   "display_name": "Python 3",
   "language": "python",
   "name": "python3"
  },
  "language_info": {
   "codemirror_mode": {
    "name": "ipython",
    "version": 3
   },
   "file_extension": ".py",
   "mimetype": "text/x-python",
   "name": "python",
   "nbconvert_exporter": "python",
   "pygments_lexer": "ipython3",
   "version": "3.6.2"
  }
 },
 "nbformat": 4,
 "nbformat_minor": 2
}
