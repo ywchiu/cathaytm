{
 "cells": [
  {
   "cell_type": "markdown",
   "metadata": {},
   "source": [
    "## 斷詞"
   ]
  },
  {
   "cell_type": "code",
   "execution_count": 1,
   "metadata": {},
   "outputs": [
    {
     "data": {
      "text/plain": [
       "['this', 'is', 'a', 'book']"
      ]
     },
     "execution_count": 1,
     "metadata": {},
     "output_type": "execute_result"
    }
   ],
   "source": [
    "s = 'this is a book'\n",
    "s.split()"
   ]
  },
  {
   "cell_type": "code",
   "execution_count": 3,
   "metadata": {},
   "outputs": [
    {
     "name": "stderr",
     "output_type": "stream",
     "text": [
      "Building prefix dict from the default dictionary ...\n",
      "Dumping model to file cache /var/folders/46/b7dzk4mn6g54qzptv608w7d00000gn/T/jieba.cache\n",
      "Loading model cost 0.752 seconds.\n",
      "Prefix dict has been built succesfully.\n"
     ]
    },
    {
     "data": {
      "text/plain": [
       "['我', '來到', '國泰世華', '上課']"
      ]
     },
     "execution_count": 3,
     "metadata": {},
     "output_type": "execute_result"
    }
   ],
   "source": [
    "import jieba\n",
    "\n",
    "s = '我來到國泰世華上課'\n",
    "\n",
    "list(jieba.cut(s))"
   ]
  },
  {
   "cell_type": "code",
   "execution_count": 4,
   "metadata": {},
   "outputs": [],
   "source": [
    "article = '''\n",
    "「大同大同國貨好...」這首歌對於7年級以前的民眾都耳熟能詳，但你可知道大同電鍋第一台是甚麼顏色？記者實際訪問現場民眾多數都回答綠色與紅色，結果據大同公司回答竟令人跌破眼鏡，答案是「白色」！ 大同公司慶祝第一台大同電鍋邁向一甲子，25日開始將在華山舉辦為期3天的「2019大同心生活特展」，也在華山門口放了一個偌大的「芭樂綠大同電鍋」，記者實際訪問現場民眾，發現多數人都以為第一台大同電鍋都是綠色或紅色。 而對於大同的印象就是「芭樂綠電鍋」很耐用，一位51年次李姓民眾表示「家裡就有一台，是自己1983年結婚時的嫁妝，算起來約36年的歷史，期間也有自己買或者股票贈品送的電鍋，已經壞了7、8台了，大同電鍋還沒壞，到現在還常拿來幫子女蒸消夜。 其實大同最先出的是電扇，第一台電鍋也不是綠色的！大同公司表示，民國1949年大同做出第一台電扇、1960年第一台「白色」的大同電鍋；據悉，第一台大同電鍋是參照日本東芝RC－6K電鍋所開發，為配合「嫁妝家電」第二台是紅色，而現在大家多數知道的芭樂綠，則是配合綠色電冰箱所製作的第三台。 大同指出，由於現在已走向智慧型家電時代，透過聲控、遠端就可操作家電，所以也舉辦這樣的展覽，讓大家不僅回顧歷史，也了解大同的改變，來的人還有許多闖關活動、打卡等好禮。 2019大同心生活特展 國產家電品牌大同24日宣布，「2019大同心生活特展」將於10月25日至27日展出，現場展示可聲控的智慧家電系列，包括知名的大同電鍋系列。 大同綜合訊電總經理張忠棋說，希望以可聲控的智慧空調為主力，推升大同智慧家電占比。大同綜合訊電董事長彭文傑表示，內部已進行營運調整，看好今年獲利將優於去年。 \n",
    "'''"
   ]
  },
  {
   "cell_type": "code",
   "execution_count": 10,
   "metadata": {},
   "outputs": [
    {
     "data": {
      "text/plain": [
       "['\\n',\n",
       " '大同大同國貨好...',\n",
       " '這首歌對於7年級以前的民眾都耳熟能詳',\n",
       " '但你可知道大同電鍋第一台是甚麼顏色',\n",
       " '記者實際訪問現場民眾多數都回答綠色與紅色',\n",
       " '結果據大同公司回答竟令人跌破眼鏡',\n",
       " '答案是',\n",
       " '白色',\n",
       " '',\n",
       " ' 大同公司慶祝第一台大同電鍋邁向一甲子',\n",
       " '25日開始將在華山舉辦為期3天的',\n",
       " '2019大同心生活特展',\n",
       " '',\n",
       " '也在華山門口放了一個偌大的',\n",
       " '芭樂綠大同電鍋',\n",
       " '',\n",
       " '記者實際訪問現場民眾',\n",
       " '發現多數人都以為第一台大同電鍋都是綠色或紅色',\n",
       " ' 而對於大同的印象就是',\n",
       " '芭樂綠電鍋',\n",
       " '很耐用',\n",
       " '一位51年次李姓民眾表示',\n",
       " '家裡就有一台',\n",
       " '是自己1983年結婚時的嫁妝',\n",
       " '算起來約36年的歷史',\n",
       " '期間也有自己買或者股票贈品送的電鍋',\n",
       " '已經壞了7',\n",
       " '8台了',\n",
       " '大同電鍋還沒壞',\n",
       " '到現在還常拿來幫子女蒸消夜',\n",
       " ' 其實大同最先出的是電扇',\n",
       " '第一台電鍋也不是綠色的',\n",
       " '大同公司表示',\n",
       " '民國1949年大同做出第一台電扇',\n",
       " '1960年第一台',\n",
       " '白色',\n",
       " '的大同電鍋；據悉',\n",
       " '第一台大同電鍋是參照日本東芝RC－6K電鍋所開發',\n",
       " '為配合',\n",
       " '嫁妝家電',\n",
       " '第二台是紅色',\n",
       " '而現在大家多數知道的芭樂綠',\n",
       " '則是配合綠色電冰箱所製作的第三台',\n",
       " ' 大同指出',\n",
       " '由於現在已走向智慧型家電時代',\n",
       " '透過聲控',\n",
       " '遠端就可操作家電',\n",
       " '所以也舉辦這樣的展覽',\n",
       " '讓大家不僅回顧歷史',\n",
       " '也了解大同的改變',\n",
       " '來的人還有許多闖關活動',\n",
       " '打卡等好禮',\n",
       " ' 2019大同心生活特展 國產家電品牌大同24日宣布',\n",
       " '',\n",
       " '2019大同心生活特展',\n",
       " '將於10月25日至27日展出',\n",
       " '現場展示可聲控的智慧家電系列',\n",
       " '包括知名的大同電鍋系列',\n",
       " ' 大同綜合訊電總經理張忠棋說',\n",
       " '希望以可聲控的智慧空調為主力',\n",
       " '推升大同智慧家電占比',\n",
       " '大同綜合訊電董事長彭文傑表示',\n",
       " '內部已進行營運調整',\n",
       " '看好今年獲利將優於去年',\n",
       " ' \\n']"
      ]
     },
     "execution_count": 10,
     "metadata": {},
     "output_type": "execute_result"
    }
   ],
   "source": [
    "import re\n",
    "re.split('[，？！「」。、]', article)"
   ]
  },
  {
   "cell_type": "code",
   "execution_count": 14,
   "metadata": {},
   "outputs": [
    {
     "data": {
      "text/plain": [
       "<_io.BufferedReader name='/Users/davidchiu/.pyenv/versions/3.6.2/lib/python3.6/site-packages/jieba/dict.txt'>"
      ]
     },
     "execution_count": 14,
     "metadata": {},
     "output_type": "execute_result"
    }
   ],
   "source": [
    "jieba.get_dict_file()"
   ]
  },
  {
   "cell_type": "markdown",
   "metadata": {},
   "source": [
    "## 結巴實戰"
   ]
  },
  {
   "cell_type": "code",
   "execution_count": 15,
   "metadata": {},
   "outputs": [
    {
     "data": {
      "text/plain": [
       "<generator object Tokenizer.cut at 0x10e7e9af0>"
      ]
     },
     "execution_count": 15,
     "metadata": {},
     "output_type": "execute_result"
    }
   ],
   "source": [
    "import jieba\n",
    "\n",
    "seg_list = jieba.cut(\"大巨蛋案對市府同仁下封口令？　柯P否認\")\n",
    "seg_list"
   ]
  },
  {
   "cell_type": "code",
   "execution_count": 16,
   "metadata": {},
   "outputs": [
    {
     "data": {
      "text/plain": [
       "['大巨蛋案', '對', '市府', '同仁', '下', '封口', '令', '？', '\\u3000', '柯P', '否認']"
      ]
     },
     "execution_count": 16,
     "metadata": {},
     "output_type": "execute_result"
    }
   ],
   "source": [
    "list(seg_list)"
   ]
  },
  {
   "cell_type": "code",
   "execution_count": 17,
   "metadata": {},
   "outputs": [
    {
     "data": {
      "text/plain": [
       "['大巨蛋',\n",
       " '大巨蛋案',\n",
       " '巨蛋',\n",
       " '巨蛋案',\n",
       " '蛋案',\n",
       " '對',\n",
       " '市府',\n",
       " '同仁',\n",
       " '下',\n",
       " '封口',\n",
       " '口令',\n",
       " '',\n",
       " '',\n",
       " '',\n",
       " '柯',\n",
       " 'P',\n",
       " '否認']"
      ]
     },
     "execution_count": 17,
     "metadata": {},
     "output_type": "execute_result"
    }
   ],
   "source": [
    "import jieba\n",
    "\n",
    "seg_list = jieba.cut(\"大巨蛋案對市府同仁下封口令？　柯P否認\", cut_all= True)\n",
    "list(seg_list)"
   ]
  },
  {
   "cell_type": "code",
   "execution_count": 18,
   "metadata": {},
   "outputs": [
    {
     "data": {
      "text/plain": [
       "['大巨蛋案', '對', '市府', '同仁', '下', '封口', '令', '？', '\\u3000', '柯P', '否認']"
      ]
     },
     "execution_count": 18,
     "metadata": {},
     "output_type": "execute_result"
    }
   ],
   "source": [
    "import jieba\n",
    "\n",
    "seg_list = jieba.cut(\"大巨蛋案對市府同仁下封口令？　柯P否認\")\n",
    "list(seg_list)"
   ]
  },
  {
   "cell_type": "code",
   "execution_count": 19,
   "metadata": {},
   "outputs": [
    {
     "data": {
      "text/plain": [
       "['大巨蛋案', '對', '市府', '同仁', '下', '封口令', '？', '\\u3000', '柯P', '否認']"
      ]
     },
     "execution_count": 19,
     "metadata": {},
     "output_type": "execute_result"
    }
   ],
   "source": [
    "import jieba\n",
    "jieba.load_userdict('userdict.txt')\n",
    "seg_list = jieba.cut(\"大巨蛋案對市府同仁下封口令？　柯P否認\")\n",
    "list(seg_list)"
   ]
  },
  {
   "cell_type": "code",
   "execution_count": 3,
   "metadata": {},
   "outputs": [
    {
     "name": "stdout",
     "output_type": "stream",
     "text": [
      "大巨蛋案 N\n",
      "對 P\n",
      "市府 N\n",
      "同仁 N\n",
      "下 POST\n",
      "封口令 n\n",
      "？ x\n",
      "　 x\n",
      "柯P N\n",
      "否認 Vt\n"
     ]
    }
   ],
   "source": [
    "import jieba\n",
    "import jieba.posseg as pseg\n",
    "jieba.load_userdict('userdict.txt')\n",
    "words = pseg.cut(\"大巨蛋案對市府同仁下封口令？　柯P否認\")\n",
    "for w in words:\n",
    "    print(w.word, w.flag)"
   ]
  },
  {
   "cell_type": "code",
   "execution_count": 5,
   "metadata": {},
   "outputs": [
    {
     "name": "stdout",
     "output_type": "stream",
     "text": [
      "大巨蛋案 0 4\n",
      "對 4 5\n",
      "市府 5 7\n",
      "同仁 7 9\n",
      "下 9 10\n",
      "封口令 10 13\n",
      "？ 13 14\n",
      "　 14 15\n",
      "柯P 15 17\n",
      "否認 17 19\n"
     ]
    }
   ],
   "source": [
    "sentence = \"大巨蛋案對市府同仁下封口令？　柯P否認\"\n",
    "words = jieba.tokenize(sentence)\n",
    "\n",
    "for tw in words:\n",
    "    print(tw[0], tw[1], tw[2])\n"
   ]
  },
  {
   "cell_type": "code",
   "execution_count": 7,
   "metadata": {},
   "outputs": [
    {
     "data": {
      "text/plain": [
       "'公費,公費流感疫苗'"
      ]
     },
     "execution_count": 7,
     "metadata": {},
     "output_type": "execute_result"
    }
   ],
   "source": [
    "import requests\n",
    "from bs4 import BeautifulSoup\n",
    "res = requests.get('https://news.ltn.com.tw/news/life/breakingnews/2957070')\n",
    "soup = BeautifulSoup(res.text, 'lxml')\n",
    "soup.select_one('meta[name=\"keywords\"]').get('content')"
   ]
  },
  {
   "cell_type": "markdown",
   "metadata": {},
   "source": [
    "## 使用內部字詞建立辭典"
   ]
  },
  {
   "cell_type": "code",
   "execution_count": 8,
   "metadata": {},
   "outputs": [
    {
     "data": {
      "text/plain": [
       "'那我'"
      ]
     },
     "execution_count": 8,
     "metadata": {},
     "output_type": "execute_result"
    }
   ],
   "source": [
    "sentence = '那我們酸民婉君也可以報名嗎'\n",
    "sentence[0:2]"
   ]
  },
  {
   "cell_type": "code",
   "execution_count": 10,
   "metadata": {},
   "outputs": [
    {
     "data": {
      "text/plain": [
       "'我們'"
      ]
     },
     "execution_count": 10,
     "metadata": {},
     "output_type": "execute_result"
    }
   ],
   "source": [
    "sentence[1:3]"
   ]
  },
  {
   "cell_type": "code",
   "execution_count": 13,
   "metadata": {},
   "outputs": [
    {
     "name": "stdout",
     "output_type": "stream",
     "text": [
      "那我\n",
      "我們\n",
      "們酸\n",
      "酸民\n",
      "民婉\n",
      "婉君\n",
      "君也\n",
      "也可\n",
      "可以\n",
      "以報\n",
      "報名\n",
      "名嗎\n"
     ]
    }
   ],
   "source": [
    "for i in range(0, len(sentence) - 2 + 1):\n",
    "    print(sentence[i:i+2])"
   ]
  },
  {
   "cell_type": "code",
   "execution_count": 14,
   "metadata": {},
   "outputs": [
    {
     "name": "stdout",
     "output_type": "stream",
     "text": [
      "那我們\n",
      "我們酸\n",
      "們酸民\n",
      "酸民婉\n",
      "民婉君\n",
      "婉君也\n",
      "君也可\n",
      "也可以\n",
      "可以報\n",
      "以報名\n",
      "報名嗎\n"
     ]
    }
   ],
   "source": [
    "for i in range(0, len(sentence) - 3 + 1):\n",
    "    print(sentence[i:i+3])"
   ]
  },
  {
   "cell_type": "code",
   "execution_count": 16,
   "metadata": {},
   "outputs": [],
   "source": [
    "def ngram(input_sentece, n = 2):\n",
    "    output_sentence = []\n",
    "    for i in range(0, len(input_sentece) - n + 1):\n",
    "        output_sentence.append(input_sentece[i:i+n])\n",
    "    return output_sentence"
   ]
  },
  {
   "cell_type": "code",
   "execution_count": 18,
   "metadata": {},
   "outputs": [
    {
     "data": {
      "text/plain": [
       "['公費流', '費流感', '流感疫', '感疫苗', '疫苗1', '苗11', '11/', '1/1', '/15', '15開', '5開打']"
      ]
     },
     "execution_count": 18,
     "metadata": {},
     "output_type": "execute_result"
    }
   ],
   "source": [
    "ngram('公費流感疫苗11/15開打', n = 3)"
   ]
  },
  {
   "cell_type": "code",
   "execution_count": 19,
   "metadata": {},
   "outputs": [],
   "source": [
    "news = '''\n",
    "〔記者吳亮儀／台北報導〕今年公費流感疫苗首次由三價疫苗升級到四價，不過以往三價疫苗有分3歲以上接種的的成人劑型和3歲以下幼童接種的幼兒劑型，今年全面開始施打四價疫苗後，劑型全都是0.5mL，不用另外減半，家長可特別注意。\n",
    "\n",
    "疾管署今天說明，四價疫苗相較三價疫苗除了多一種B型疫苗株外，另一個差異是四價疫苗部分成人、幼兒劑型，都是單一劑型0.5mL接種。三價疫苗分別有3歲以上接種的「成人劑型（0.5mL）」，及3歲以下接種的「幼兒劑型（0.25mL）」，因此不同於三價疫苗，三歲以下幼兒接種四價疫苗無須減半。\n",
    "\n",
    "今年提供的公費疫苗共有2家廠牌，國光生技的「安定伏」裂解型四價流感疫苗適用3歲以上的人、賽諾菲的巴斯德四價流感疫苗適用6個月以上的成人和幼兒。\n",
    "\n",
    "民眾可攜幼兒到各地衛生局指定提供3歲以下幼兒接種公費流感疫苗的合約院所或衛生所，詳細名單將於10月31日前公布。\n",
    "\n",
    "疾管署副署長羅一鈞說，6個月以下的嬰兒還不能施打流感疫苗，因此為保護這些嬰兒，有6個月以下嬰兒的父母是公費流感疫苗的接種對象，替父母施打疫苗，來保護小孩。\n",
    "'''"
   ]
  },
  {
   "cell_type": "code",
   "execution_count": 25,
   "metadata": {},
   "outputs": [
    {
     "data": {
      "text/plain": [
       "[('疫苗', 18),\n",
       " ('價疫', 9),\n",
       " ('接種', 8),\n",
       " ('四價', 7),\n",
       " ('歲以', 7),\n",
       " ('劑型', 7),\n",
       " ('幼兒', 7),\n",
       " ('流感', 6),\n",
       " ('感疫', 6),\n",
       " ('3歲', 6)]"
      ]
     },
     "execution_count": 25,
     "metadata": {},
     "output_type": "execute_result"
    }
   ],
   "source": [
    "# method 1\n",
    "dic = {}\n",
    "for word in ngram(news):\n",
    "    if word not in dic:\n",
    "        dic[word] = 1\n",
    "    else:\n",
    "        dic[word] = dic[word] + 1\n",
    "swd = sorted(dic.items(), key = lambda e: e[1], reverse=True)\n",
    "swd[0:10]"
   ]
  },
  {
   "cell_type": "markdown",
   "metadata": {},
   "source": [
    "## Collections\n",
    "- https://docs.python.org/zh-cn/3/library/collections.html"
   ]
  },
  {
   "cell_type": "code",
   "execution_count": 26,
   "metadata": {},
   "outputs": [
    {
     "data": {
      "text/plain": [
       "[('疫苗', 18),\n",
       " ('價疫', 9),\n",
       " ('接種', 8),\n",
       " ('四價', 7),\n",
       " ('歲以', 7),\n",
       " ('劑型', 7),\n",
       " ('幼兒', 7),\n",
       " ('流感', 6),\n",
       " ('感疫', 6),\n",
       " ('3歲', 6)]"
      ]
     },
     "execution_count": 26,
     "metadata": {},
     "output_type": "execute_result"
    }
   ],
   "source": [
    "from collections import Counter\n",
    "c = Counter(ngram(news))\n",
    "c.most_common(10)"
   ]
  },
  {
   "cell_type": "code",
   "execution_count": 27,
   "metadata": {},
   "outputs": [
    {
     "data": {
      "text/plain": [
       "[('價疫苗', 9),\n",
       " ('流感疫', 6),\n",
       " ('感疫苗', 6),\n",
       " ('3歲以', 6),\n",
       " ('三價疫', 5),\n",
       " ('接種的', 4),\n",
       " ('歲以下', 4),\n",
       " ('四價疫', 4),\n",
       " ('5mL', 4),\n",
       " ('。\\n\\n', 4)]"
      ]
     },
     "execution_count": 27,
     "metadata": {},
     "output_type": "execute_result"
    }
   ],
   "source": [
    "from collections import Counter\n",
    "c = Counter(ngram(news, n= 3))\n",
    "c.most_common(10)"
   ]
  },
  {
   "cell_type": "code",
   "execution_count": 28,
   "metadata": {},
   "outputs": [
    {
     "data": {
      "text/plain": [
       "[('流感疫苗', 6),\n",
       " ('三價疫苗', 5),\n",
       " ('四價疫苗', 4),\n",
       " ('公費流感', 3),\n",
       " ('費流感疫', 3),\n",
       " ('3歲以上', 3),\n",
       " ('3歲以下', 3),\n",
       " ('歲以下幼', 3),\n",
       " ('幼兒劑型', 3),\n",
       " ('0.5m', 3)]"
      ]
     },
     "execution_count": 28,
     "metadata": {},
     "output_type": "execute_result"
    }
   ],
   "source": [
    "from collections import Counter\n",
    "c = Counter(ngram(news, n= 4))\n",
    "c.most_common(10)"
   ]
  },
  {
   "cell_type": "code",
   "execution_count": 29,
   "metadata": {},
   "outputs": [],
   "source": [
    "news = '''\n",
    "潤寅集團涉嫌向國內13家銀行詐貸84億元，金管會今天一次開罰9家銀行總共800萬元，其中以中小企銀、王道銀行各被罰200萬元最重。\n",
    "\n",
    "銀行局副局長黃光熙指出，七月初時預估，潤寅向13家銀行詐貸，當時初估整體銀行共損失55億元。另核貸前五大銀行包括王道銀行14億、台企銀13億、星展銀行9億、元大銀8億、兆豐銀6億。\n",
    "\n",
    "中小企銀跟王道銀行都被金管會認為在徵授信作業上有缺失，情節較重，因此被罰最重。中小企銀對於潤寅集團的銷售情形、營業額、收款天期及營業週期評估作業有待加強，就潤寅集團銷售對象有集中特定企業的情形，沒有確實查證銷售對象的內容、增貸額度於短期間用罄的原因沒有妥適掌握，顯示風險意識有待強化，且應收帳款融資案件撥款前，潤寅集團提供的交易文件審核、撥款後貸款資金流向，中小企銀也應再審慎，因此開罰200萬元。\n",
    "\n",
    "銀行局也指出，王道銀行沒有確實評估潤寅集團實際營運週轉金需求，核貸金額與潤寅集團營運規模的關連性沒有妥適評估，風險控管有待加強；應收帳款融資案件撥款前未加強審查潤寅集團提供的交易文件及照會買方，以評估交易真實性；且王道銀行沒有實際瞭解應收帳款買方未依約還款原因。針對王道銀行開罰200萬元。\n",
    "\n",
    "但元大銀行、星展銀行、兆豐銀行等3家銀行也被徵授信作業缺失，卻只有被處以糾正，銀行局說，因為星展跟元大在評估過程有考慮潤寅的營收情形，因此有做授信風險額度調整，相較於王道銀行跟中小企銀就比較沒有。\n",
    "\n",
    "另華南銀行、國泰世華銀行、第一銀行、合作金庫銀行也被金管會認為在存匯作業上有缺失。華南銀被罰150萬元，國泰、第一銀各罰100萬元，合庫被罰50萬元。\n",
    "\n",
    "但13家銀行中仍有4家銀行沒被罰，包括高雄銀、陽信銀行、玉山銀行、安泰銀行。銀行局說，這四家銀行貸給潤寅的金額非常低，不到一億元，所以只要求這四家銀行要留意。\n",
    "'''"
   ]
  },
  {
   "cell_type": "code",
   "execution_count": 31,
   "metadata": {},
   "outputs": [
    {
     "name": "stdout",
     "output_type": "stream",
     "text": [
      "\n",
      "潤寅集團涉嫌向國內13家銀行詐貸84億元\n",
      "金管會今天一次開罰9家銀行總共800萬元\n",
      "其中以中小企銀\n",
      "王道銀行各被罰200萬元最重\n",
      "\n",
      "\n",
      "銀行局副局長黃光熙指出\n",
      "七月初時預估\n",
      "潤寅向13家銀行詐貸\n",
      "當時初估整體銀行共損失55億元\n",
      "另核貸前五大銀行包括王道銀行14億\n",
      "台企銀13億\n",
      "星展銀行9億\n",
      "元大銀8億\n",
      "兆豐銀6億\n",
      "\n",
      "\n",
      "中小企銀跟王道銀行都被金管會認為在徵授信作業上有缺失\n",
      "情節較重\n",
      "因此被罰最重\n",
      "中小企銀對於潤寅集團的銷售情形\n",
      "營業額\n",
      "收款天期及營業週期評估作業有待加強\n",
      "就潤寅集團銷售對象有集中特定企業的情形\n",
      "沒有確實查證銷售對象的內容\n",
      "增貸額度於短期間用罄的原因沒有妥適掌握\n",
      "顯示風險意識有待強化\n",
      "且應收帳款融資案件撥款前\n",
      "潤寅集團提供的交易文件審核\n",
      "撥款後貸款資金流向\n",
      "中小企銀也應再審慎\n",
      "因此開罰200萬元\n",
      "\n",
      "\n",
      "銀行局也指出\n",
      "王道銀行沒有確實評估潤寅集團實際營運週轉金需求\n",
      "核貸金額與潤寅集團營運規模的關連性沒有妥適評估\n",
      "風險控管有待加強\n",
      "應收帳款融資案件撥款前未加強審查潤寅集團提供的交易文件及照會買方\n",
      "以評估交易真實性\n",
      "且王道銀行沒有實際瞭解應收帳款買方未依約還款原因\n",
      "針對王道銀行開罰200萬元\n",
      "\n",
      "\n",
      "但元大銀行\n",
      "星展銀行\n",
      "兆豐銀行等3家銀行也被徵授信作業缺失\n",
      "卻只有被處以糾正\n",
      "銀行局說\n",
      "因為星展跟元大在評估過程有考慮潤寅的營收情形\n",
      "因此有做授信風險額度調整\n",
      "相較於王道銀行跟中小企銀就比較沒有\n",
      "\n",
      "\n",
      "另華南銀行\n",
      "國泰世華銀行\n",
      "第一銀行\n",
      "合作金庫銀行也被金管會認為在存匯作業上有缺失\n",
      "華南銀被罰150萬元\n",
      "國泰\n",
      "第一銀各罰100萬元\n",
      "合庫被罰50萬元\n",
      "\n",
      "\n",
      "但13家銀行中仍有4家銀行沒被罰\n",
      "包括高雄銀\n",
      "陽信銀行\n",
      "玉山銀行\n",
      "安泰銀行\n",
      "銀行局說\n",
      "這四家銀行貸給潤寅的金額非常低\n",
      "不到一億元\n",
      "所以只要求這四家銀行要留意\n",
      "\n",
      "\n"
     ]
    }
   ],
   "source": [
    "import re\n",
    "delimiter = \"[，。、()；]\"  \n",
    "for i in re.split(delimiter, news):\n",
    "    print(i)\n"
   ]
  },
  {
   "cell_type": "code",
   "execution_count": 32,
   "metadata": {},
   "outputs": [
    {
     "data": {
      "text/plain": [
       "'潤寅集團涉嫌向13家詐貸84億元'"
      ]
     },
     "execution_count": 32,
     "metadata": {},
     "output_type": "execute_result"
    }
   ],
   "source": [
    "keywords = ['銀行', '國內']\n",
    "s = '潤寅集團涉嫌向國內13家銀行詐貸84億元'\n",
    "for w in keywords:\n",
    "    s= s.replace(w, '')\n",
    "s\n"
   ]
  },
  {
   "cell_type": "code",
   "execution_count": 34,
   "metadata": {},
   "outputs": [
    {
     "data": {
      "text/plain": [
       "'潤寅集團涉嫌向13家詐貸84億元'"
      ]
     },
     "execution_count": 34,
     "metadata": {},
     "output_type": "execute_result"
    }
   ],
   "source": [
    "\n",
    "def removeKey(text, keywords):    \n",
    "    ret = text\n",
    "    for w in keywords:\n",
    "        ret= ret.replace(w, '')\n",
    "    return ret\n",
    "\n",
    "removeKey('潤寅集團涉嫌向國內13家銀行詐貸84億元',['銀行', '國內'])"
   ]
  },
  {
   "cell_type": "code",
   "execution_count": 36,
   "metadata": {},
   "outputs": [],
   "source": [
    "import re\n",
    "delimiter = \"[，。、()；]\"  \n",
    "sentenceAry =re.split(delimiter, news)"
   ]
  },
  {
   "cell_type": "code",
   "execution_count": 39,
   "metadata": {},
   "outputs": [
    {
     "data": {
      "text/plain": [
       "['潤寅集團', '00萬元', '中小企銀', '王道銀行', '家銀行', '被罰', '\\n\\n', '銀行', '評估', '沒有']"
      ]
     },
     "execution_count": 39,
     "metadata": {},
     "output_type": "execute_result"
    }
   ],
   "source": [
    "keywords = []\n",
    "for n in range(4,1,-1):\n",
    "    words = []\n",
    "    for sentence in sentenceAry:\n",
    "        sentence = removeKey(sentence, keywords)\n",
    "        words.extend(ngram(sentence, n))\n",
    "    c = Counter(words)\n",
    "    for k, v in c.items():\n",
    "        if v >=5:\n",
    "            keywords.append(k)\n",
    "keywords"
   ]
  },
  {
   "cell_type": "code",
   "execution_count": 41,
   "metadata": {},
   "outputs": [],
   "source": [
    "news = '''\n",
    "銀行理專監守自盜今年特別多！永豐銀行爆出理專A客戶存款上千萬元，該理專已經遭停職，永豐銀行除強調「這只是個案」之外，也將密切配合檢調。不過，據金管會統計，今年還沒過完，已經裁罰了8件相關違規案，罰鍰總額更超過前4年加總金額。\n",
    "\n",
    "永豐銀行表示，於8月19日發現忠孝分行游姓理財專員，與客戶間疑有資金異常交易往來，該行主管發現後，除立即通報主管機關外，同步啟動內部查核流程，並報警處理，也先將游員暫停職務配合調查。\n",
    "\n",
    "永豐銀行表示，本案已進入司法程序，除主動將相關資料送交檢調單位偵辦，目前已知影響十餘名客戶，金額約數千萬元，後續將與檢調單位密切合作並協助偵辦，待司法釐清民刑事等相關責任。\n",
    "\n",
    "永豐銀行強調，一向重視客戶權益保障，此次發生的案件僅係個案，將持續加強內控稽核制度，維護本行業務執行秩序，對於可能受影響客戶，也已經主動積極聯繫，進行客戶關懷，以期確保客戶資產安全及權益，客戶如對交易有疑慮，請攜帶對帳單到分行核對。\n",
    "\n",
    "經統計，不包括本次永豐案，光是今年已裁罰案件，就有8件銀行理專、行員監守自盜案，共A走4億4,526萬元。據金管會統計，自2015年到2019年8月止，金管會總計裁罰18件銀行理專監守自盜案，累積裁罰金額高達9,500萬元，其中，2015年只有1件、2016年有3件、2017年共4件、2018年有2件，但今年竟則一下暴增至8件，罰鍰總額5,100萬元，比過去4年的罰鍰加起來還多。\n",
    "\n",
    "金管會表示，近年來銀行財富管理業務盛行，民眾透過理財專員從事多元投資的比率逐漸增加，為防範這類違規行為發生，除了將請銀行公會建立「理專挪用客戶款項遭主管機關重大處分案例分享機制」，更呼籲民眾不要將存摺、印鑑、密碼及已簽章的空白表單交給銀行行員保管，以維護自身權益。\n",
    "'''"
   ]
  },
  {
   "cell_type": "code",
   "execution_count": 44,
   "metadata": {},
   "outputs": [],
   "source": [
    "import re\n",
    "def ngram(input_sentece, n = 2):\n",
    "    output_sentence = []\n",
    "    for i in range(0, len(input_sentece) - n + 1):\n",
    "        m = re.match('^[\\u4e00-\\u9fa5]+$',input_sentece[i:i+n])\n",
    "        if m:\n",
    "            output_sentence.append(input_sentece[i:i+n])\n",
    "    return output_sentence"
   ]
  },
  {
   "cell_type": "code",
   "execution_count": 45,
   "metadata": {},
   "outputs": [],
   "source": [
    "def getNewWords(text, threshold = 3):\n",
    "    delimiter = \"[，。、()；]\"  \n",
    "    sentenceAry =re.split(delimiter, text)  \n",
    "    keywords = []\n",
    "    for n in range(4,1,-1):\n",
    "        words = []\n",
    "        for sentence in sentenceAry:\n",
    "            sentence = removeKey(sentence, keywords)\n",
    "            words.extend(ngram(sentence, n))\n",
    "        c = Counter(words)\n",
    "        for k, v in c.items():\n",
    "            if v >= threshold:\n",
    "                keywords.append(k)\n",
    "    return keywords"
   ]
  },
  {
   "cell_type": "code",
   "execution_count": 47,
   "metadata": {},
   "outputs": [
    {
     "data": {
      "text/plain": [
       "['永豐銀行', '金管會', '銀行', '理專', '今年', '客戶', '萬元', '裁罰']"
      ]
     },
     "execution_count": 47,
     "metadata": {},
     "output_type": "execute_result"
    }
   ],
   "source": [
    "getNewWords(news, 4)"
   ]
  },
  {
   "cell_type": "markdown",
   "metadata": {},
   "source": [
    "## CKIPTAGGER"
   ]
  },
  {
   "cell_type": "code",
   "execution_count": 48,
   "metadata": {},
   "outputs": [
    {
     "name": "stdout",
     "output_type": "stream",
     "text": [
      "Requirement already satisfied: ckiptagger in /Users/davidchiu/.pyenv/versions/3.6.2/lib/python3.6/site-packages\n",
      "\u001b[33mYou are using pip version 9.0.1, however version 19.3.1 is available.\n",
      "You should consider upgrading via the 'pip install --upgrade pip' command.\u001b[0m\n"
     ]
    }
   ],
   "source": [
    "! pip install ckiptagger"
   ]
  },
  {
   "cell_type": "code",
   "execution_count": 55,
   "metadata": {},
   "outputs": [
    {
     "name": "stderr",
     "output_type": "stream",
     "text": [
      "/Users/davidchiu/.pyenv/versions/3.6.2/lib/python3.6/site-packages/tensorflow/python/framework/dtypes.py:516: FutureWarning: Passing (type, 1) or '1type' as a synonym of type is deprecated; in a future version of numpy, it will be understood as (type, (1,)) / '(1,)type'.\n",
      "  _np_qint8 = np.dtype([(\"qint8\", np.int8, 1)])\n",
      "/Users/davidchiu/.pyenv/versions/3.6.2/lib/python3.6/site-packages/tensorflow/python/framework/dtypes.py:517: FutureWarning: Passing (type, 1) or '1type' as a synonym of type is deprecated; in a future version of numpy, it will be understood as (type, (1,)) / '(1,)type'.\n",
      "  _np_quint8 = np.dtype([(\"quint8\", np.uint8, 1)])\n",
      "/Users/davidchiu/.pyenv/versions/3.6.2/lib/python3.6/site-packages/tensorflow/python/framework/dtypes.py:518: FutureWarning: Passing (type, 1) or '1type' as a synonym of type is deprecated; in a future version of numpy, it will be understood as (type, (1,)) / '(1,)type'.\n",
      "  _np_qint16 = np.dtype([(\"qint16\", np.int16, 1)])\n",
      "/Users/davidchiu/.pyenv/versions/3.6.2/lib/python3.6/site-packages/tensorflow/python/framework/dtypes.py:519: FutureWarning: Passing (type, 1) or '1type' as a synonym of type is deprecated; in a future version of numpy, it will be understood as (type, (1,)) / '(1,)type'.\n",
      "  _np_quint16 = np.dtype([(\"quint16\", np.uint16, 1)])\n",
      "/Users/davidchiu/.pyenv/versions/3.6.2/lib/python3.6/site-packages/tensorflow/python/framework/dtypes.py:520: FutureWarning: Passing (type, 1) or '1type' as a synonym of type is deprecated; in a future version of numpy, it will be understood as (type, (1,)) / '(1,)type'.\n",
      "  _np_qint32 = np.dtype([(\"qint32\", np.int32, 1)])\n",
      "/Users/davidchiu/.pyenv/versions/3.6.2/lib/python3.6/site-packages/tensorflow/python/framework/dtypes.py:525: FutureWarning: Passing (type, 1) or '1type' as a synonym of type is deprecated; in a future version of numpy, it will be understood as (type, (1,)) / '(1,)type'.\n",
      "  np_resource = np.dtype([(\"resource\", np.ubyte, 1)])\n"
     ]
    }
   ],
   "source": [
    "from ckiptagger import data_utils, construct_dictionary, WS, POS, NER\n",
    "ws = WS(\"/Users/davidchiu/project/ckip/data\")\n",
    "pos = POS(\"/Users/davidchiu/project/ckip/data\")\n",
    "ner = NER(\"/Users/davidchiu/project/ckip/data\")\n",
    "sentence_list = [\"\"\"全聯福利中心強力推出「PX Pay」行動支付後，更進一步開放8家銀行的實體信用卡、33家金融機構金融卡、3大電子票證、3大國際行動Pay與台灣Pay等交易。同時釋出8大銀行刷卡優惠，其中聯邦卡首刷500元送1,000點福利點最高，平日則以國泰世華天天消費滿500元送300點最強。\"\"\"]\n",
    "\n",
    "word_sentence_list = ws(sentence_list)\n",
    "pos_sentence_list = pos(word_sentence_list)\n",
    "entity_sentence_list = ner(word_sentence_list, pos_sentence_list)\n",
    "\n"
   ]
  },
  {
   "cell_type": "code",
   "execution_count": 58,
   "metadata": {},
   "outputs": [
    {
     "data": {
      "text/plain": [
       "[{(0, 6, 'ORG', '全聯福利中心'),\n",
       "  (30, 31, 'CARDINAL', '8'),\n",
       "  (41, 43, 'CARDINAL', '33'),\n",
       "  (52, 53, 'CARDINAL', '3'),\n",
       "  (59, 60, 'CARDINAL', '3'),\n",
       "  (69, 74, 'ORG', '台灣Pay'),\n",
       "  (82, 83, 'CARDINAL', '8'),\n",
       "  (93, 96, 'ORG', '聯邦卡'),\n",
       "  (98, 102, 'MONEY', '500元'),\n",
       "  (103, 109, 'QUANTITY', '1,000點'),\n",
       "  (119, 123, 'ORG', '國泰世華'),\n",
       "  (128, 132, 'MONEY', '500元'),\n",
       "  (133, 137, 'QUANTITY', '300點')}]"
      ]
     },
     "execution_count": 58,
     "metadata": {},
     "output_type": "execute_result"
    }
   ],
   "source": [
    "#word_sentence_list\n",
    "#pos_sentence_list\n",
    "entity_sentence_list"
   ]
  },
  {
   "cell_type": "markdown",
   "metadata": {},
   "source": [
    "## 文字雲"
   ]
  },
  {
   "cell_type": "code",
   "execution_count": 60,
   "metadata": {},
   "outputs": [
    {
     "name": "stdout",
     "output_type": "stream",
     "text": [
      "Requirement already satisfied: wordcloud in /Users/davidchiu/.pyenv/versions/3.6.2/lib/python3.6/site-packages\n",
      "Requirement already satisfied: numpy>=1.6.1 in /Users/davidchiu/.pyenv/versions/3.6.2/lib/python3.6/site-packages (from wordcloud)\n",
      "Requirement already satisfied: pillow in /Users/davidchiu/.pyenv/versions/3.6.2/lib/python3.6/site-packages (from wordcloud)\n",
      "\u001b[33mYou are using pip version 9.0.1, however version 19.3.1 is available.\n",
      "You should consider upgrading via the 'pip install --upgrade pip' command.\u001b[0m\n"
     ]
    }
   ],
   "source": [
    "! pip install wordcloud"
   ]
  },
  {
   "cell_type": "code",
   "execution_count": 63,
   "metadata": {},
   "outputs": [],
   "source": [
    "speech = '''\n",
    "The Inaugural Address\n",
    "\n",
    "\n",
    "REMARKS OF PRESIDENT DONALD J.  TRUMP ¡V AS PREPARED FOR DELIVERY\n",
    "INAUGURAL ADDRESS\n",
    "FRIDAY, JANUARY 20, 2017\n",
    "WASHINGTON, D.C.\n",
    "As Prepared for Delivery ¡V\n",
    "\n",
    "Chief Justice Roberts, President Carter, President Clinton, President Bush, President Obama, fellow Americans, and people of the world: thank you.\n",
    "\n",
    "We, the citizens of America, are now joined in a great national effort to rebuild our country and to restore its promise for all of our people.\n",
    "\n",
    "Together, we will determine the course of America and the world for years to come.\n",
    "\n",
    "We will face challenges. We will confront hardships. But we will get the job done.\n",
    "\n",
    "Every four years, we gather on these steps to carry out the orderly and peaceful transfer of power, and we are grateful to President Obama and First Lady Michelle Obama for their gracious aid throughout this transition. They have been magnificent.\n",
    "\n",
    "Today¡¦s ceremony, however, has very special meaning. Because today we are not merely transferring power from one Administration to another, or from one party to another ¡V but we are transferring power from Washington, D.C. and giving it back to you, the American People.\n",
    "\n",
    "For too long, a small group in our nation¡¦s Capital has reaped the rewards of government while the people have borne the cost.\n",
    "\n",
    "Washington flourished ¡V but the people did not share in its wealth.\n",
    "\n",
    "Politicians prospered ¡V but the jobs left, and the factories closed.\n",
    "\n",
    "The establishment protected itself, but not the citizens of our country.\n",
    "\n",
    "Their victories have not been your victories; their triumphs have not been your triumphs; and while they celebrated in our nation¡¦s Capital, there was little to celebrate for struggling families all across our land.\n",
    "\n",
    "That all changes ¡V starting right here, and right now, because this moment is your moment: it belongs to you.\n",
    "\n",
    "It belongs to everyone gathered here today and everyone watching all across America. \n",
    "\n",
    "This is your day. This is your celebration.\n",
    "\n",
    "And this, the United States of America, is your country.\n",
    "\n",
    "What truly matters is not which party controls our government, but whether our government is controlled by the people.\n",
    "\n",
    "January 20th 2017, will be remembered as the day the people became the rulers of this nation again. \n",
    "\n",
    "The forgotten men and women of our country will be forgotten no longer.\n",
    "\n",
    "Everyone is listening to you now.\n",
    "\n",
    "You came by the tens of millions to become part of a historic movement the likes of which the world has never seen before.\n",
    "\n",
    "At the center of this movement is a crucial conviction: that a nation exists to serve its citizens.\n",
    "\n",
    "Americans want great schools for their children, safe neighborhoods for their families, and good jobs for themselves.\n",
    "\n",
    "These are the just and reasonable demands of a righteous public.\n",
    "\n",
    "But for too many of our citizens, a different reality exists: Mothers and children trapped in poverty in our inner cities; rusted-out factories scattered like tombstones across the landscape of our nation; an education system, flush with cash, but which leaves our young and beautiful students deprived of knowledge; and the crime and gangs and drugs that have stolen too many lives and robbed our country of so much unrealized potential.\n",
    "\n",
    "This American carnage stops right here and stops right now.\n",
    "\n",
    "We are one nation ¡V and their pain is our pain.  Their dreams are our dreams; and their success will be our success.  We share one heart, one home, and one glorious destiny.\n",
    "\n",
    "The oath of office I take today is an oath of allegiance to all Americans.\n",
    "\n",
    "For many decades, we¡¦ve enriched foreign industry at the expense of American industry;\n",
    "\n",
    "Subsidized the armies of other countries while allowing for the very sad depletion of our military;\n",
    "\n",
    "We've defended other nation¡¦s borders while refusing to defend our own;\n",
    "\n",
    "And spent trillions of dollars overseas while America's infrastructure has fallen into disrepair and decay.\n",
    "\n",
    "We¡¦ve made other countries rich while the wealth, strength, and confidence of our country has disappeared over the horizon.\n",
    "\n",
    "One by one, the factories shuttered and left our shores, with not even a thought about the millions upon millions of American workers left behind.\n",
    "\n",
    "The wealth of our middle class has been ripped from their homes and then redistributed across the entire world.\n",
    "\n",
    "But that is the past. And now we are looking only to the future.\n",
    "\n",
    "We assembled here today are issuing a new decree to be heard in every city, in every foreign capital, and in every hall of power.\n",
    "\n",
    "From this day forward, a new vision will govern our land.\n",
    "\n",
    "From this moment on, it¡¦s going to be America First.\n",
    "\n",
    "Every decision on trade, on taxes, on immigration, on foreign affairs, will be made to benefit American workers and American families.\n",
    "\n",
    "We must protect our borders from the ravages of other countries making our products, stealing our companies, and destroying our jobs.  Protection will lead to great prosperity and strength.\n",
    "\n",
    "I will fight for you with every breath in my body ¡V and I will never, ever let you down.\n",
    "\n",
    "America will start winning again, winning like never before.\n",
    "\n",
    "We will bring back our jobs. We will bring back our borders.  We will bring back our wealth.  And we will bring back our dreams.\n",
    "\n",
    "We will build new roads, and highways, and bridges, and airports, and tunnels, and railways all across our wonderful nation.\n",
    "\n",
    "We will get our people off of welfare and back to work ¡V rebuilding our country with American hands and American labor.\n",
    "\n",
    "We will follow two simple rules: Buy American and Hire American.\n",
    "\n",
    "We will seek friendship and goodwill with the nations of the world ¡V but we do so with the understanding that it is the right of all nations to put their own interests first.\n",
    "\n",
    "We do not seek to impose our way of life on anyone, but rather to let it shine as an example for everyone to follow.\n",
    "\n",
    "We will reinforce old alliances and form new ones ¡V and unite the civilized world against Radical Islamic Terrorism, which we will eradicate completely from the face of the Earth.\n",
    "\n",
    "At the bedrock of our politics will be a total allegiance to the United States of America, and through our loyalty to our country, we will rediscover our loyalty to each other.\n",
    "\n",
    "When you open your heart to patriotism, there is no room for prejudice.\n",
    "\n",
    "The Bible tells us, ¡§how good and pleasant it is when God¡¦s people live together in unity.¡¨\n",
    "\n",
    "We must speak our minds openly, debate our disagreements honestly, but always pursue solidarity.\n",
    "\n",
    "When America is united, America is totally unstoppable.\n",
    "\n",
    "There should be no fear ¡V we are protected, and we will always be protected.\n",
    "\n",
    "We will be protected by the great men and women of our military and law enforcement and, most importantly, we are protected by God.\n",
    "\n",
    "Finally, we must think big and dream even bigger.\n",
    "\n",
    "In America, we understand that a nation is only living as long as it is striving.\n",
    "\n",
    "We will no longer accept politicians who are all talk and no action ¡V constantly complaining but never doing anything about it.\n",
    "\n",
    "The time for empty talk is over.\n",
    "\n",
    "Now arrives the hour of action.\n",
    "\n",
    "Do not let anyone tell you it cannot be done.  No challenge can match the heart and fight and spirit of America.\n",
    "\n",
    "We will not fail. Our country will thrive and prosper again.\n",
    "\n",
    "We stand at the birth of a new millennium, ready to unlock the mysteries of space, to free the Earth from the miseries of disease, and to harness the energies, industries and technologies of tomorrow.\n",
    "\n",
    "A new national pride will stir our souls, lift our sights, and heal our divisions.\n",
    "\n",
    "It is time to remember that old wisdom our soldiers will never forget: that whether we are black or brown or white, we all bleed the same red blood of patriots, we all enjoy the same glorious freedoms, and we all salute the same great American Flag.\n",
    "\n",
    "And whether a child is born in the urban sprawl of Detroit or the windswept plains of Nebraska, they look up at the same night sky, they fill their heart with the same dreams, and they are infused with the breath of life by the same almighty Creator.\n",
    "\n",
    "So to all Americans, in every city near and far, small and large, from mountain to mountain, and from ocean to ocean, hear these words:\n",
    "\n",
    "You will never be ignored again.\n",
    "\n",
    "Your voice, your hopes, and your dreams, will define our American destiny. And your courage and goodness and love will forever guide us along the way.\n",
    "\n",
    "Together, We Will Make America Strong Again.\n",
    "\n",
    "We Will Make America Wealthy Again.\n",
    "\n",
    "We Will Make America Proud Again.\n",
    "\n",
    "We Will Make America Safe Again.\n",
    "\n",
    "And, Yes, Together, We Will Make America Great Again. Thank you, God Bless You, And God Bless America.\n",
    "'''"
   ]
  },
  {
   "cell_type": "code",
   "execution_count": 64,
   "metadata": {},
   "outputs": [
    {
     "data": {
      "image/png": "[encoded data removed]",
      "text/plain": [
       "<PIL.Image.Image image mode=RGB size=400x200 at 0x14542E748>"
      ]
     },
     "execution_count": 64,
     "metadata": {},
     "output_type": "execute_result"
    }
   ],
   "source": [
    "from wordcloud import WordCloud\n",
    "wordcloud = WordCloud(background_color=\"white\", max_words=5000, contour_width=3, contour_color='steelblue')\n",
    "wordcloud.generate(speech)\n",
    "wordcloud.to_image()\n"
   ]
  },
  {
   "cell_type": "code",
   "execution_count": 70,
   "metadata": {},
   "outputs": [],
   "source": [
    "words = ' '.join(jieba.cut(news))"
   ]
  },
  {
   "cell_type": "code",
   "execution_count": 74,
   "metadata": {},
   "outputs": [
    {
     "data": {
      "image/png": "[encoded data removed]",
      "text/plain": [
       "<PIL.Image.Image image mode=RGB size=400x200 at 0x14567C6D8>"
      ]
     },
     "execution_count": 74,
     "metadata": {},
     "output_type": "execute_result"
    }
   ],
   "source": [
    "from wordcloud import WordCloud\n",
    "font_path = '/Library/Fonts/Microsoft/SimHei.ttf'\n",
    "wordcloud = WordCloud(background_color=\"white\", \n",
    "                      max_words=5000, \n",
    "                      contour_width=3, \n",
    "                      contour_color='steelblue', \n",
    "                      font_path=font_path,\n",
    "                      stopwords=['今年', '已經', '萬元'])\n",
    "wordcloud.generate(words)\n",
    "wordcloud.to_image()\n"
   ]
  },
  {
   "cell_type": "markdown",
   "metadata": {},
   "source": [
    "## TFIDF"
   ]
  },
  {
   "cell_type": "code",
   "execution_count": 75,
   "metadata": {},
   "outputs": [],
   "source": [
    "a, abb, abc = [\"a\"], [\"a\", \"b\", \"b\"], [\"a\", \"b\", \"c\"]\n",
    "D = [a, abb, abc]"
   ]
  },
  {
   "cell_type": "code",
   "execution_count": 76,
   "metadata": {},
   "outputs": [
    {
     "data": {
      "text/plain": [
       "0.0"
      ]
     },
     "execution_count": 76,
     "metadata": {},
     "output_type": "execute_result"
    }
   ],
   "source": [
    "import math\n",
    "#tfidf('a', a, D)\n",
    "tf = 1 / 1\n",
    "idf = math.log(3/3)\n",
    "tf * idf"
   ]
  },
  {
   "cell_type": "code",
   "execution_count": 77,
   "metadata": {},
   "outputs": [
    {
     "data": {
      "text/plain": [
       "0.0"
      ]
     },
     "execution_count": 77,
     "metadata": {},
     "output_type": "execute_result"
    }
   ],
   "source": [
    "#tfidf('a', abb, D)\n",
    "tf = 1 / 3\n",
    "idf = math.log(3/3)\n",
    "tf * idf"
   ]
  },
  {
   "cell_type": "code",
   "execution_count": 78,
   "metadata": {},
   "outputs": [
    {
     "data": {
      "text/plain": [
       "0.27031007207210955"
      ]
     },
     "execution_count": 78,
     "metadata": {},
     "output_type": "execute_result"
    }
   ],
   "source": [
    "#tfidf('b', abb, D)\n",
    "tf = 2 / 3\n",
    "idf = math.log(3/2)\n",
    "tf * idf"
   ]
  },
  {
   "cell_type": "code",
   "execution_count": 80,
   "metadata": {},
   "outputs": [
    {
     "data": {
      "text/plain": [
       "0.0"
      ]
     },
     "execution_count": 80,
     "metadata": {},
     "output_type": "execute_result"
    }
   ],
   "source": [
    "#tfidf('a', abc, D)\n",
    "tf = 1 / 3\n",
    "idf = math.log(3/3)\n",
    "tf * idf"
   ]
  },
  {
   "cell_type": "code",
   "execution_count": 81,
   "metadata": {},
   "outputs": [
    {
     "data": {
      "text/plain": [
       "0.13515503603605478"
      ]
     },
     "execution_count": 81,
     "metadata": {},
     "output_type": "execute_result"
    }
   ],
   "source": [
    "#tfidf('b', abc, D)\n",
    "tf = 1 / 3\n",
    "idf = math.log(3/2)\n",
    "tf * idf"
   ]
  },
  {
   "cell_type": "code",
   "execution_count": 82,
   "metadata": {},
   "outputs": [
    {
     "data": {
      "text/plain": [
       "0.3662040962227032"
      ]
     },
     "execution_count": 82,
     "metadata": {},
     "output_type": "execute_result"
    }
   ],
   "source": [
    "#tfidf('c', abc, D)\n",
    "tf = 1 / 3\n",
    "idf = math.log(3/1)\n",
    "tf * idf"
   ]
  },
  {
   "cell_type": "code",
   "execution_count": 83,
   "metadata": {},
   "outputs": [],
   "source": [
    "def tfidf(t, d, D):\n",
    "    tf = d.count(t) / len(d)\n",
    "    idf = math.log(len(D)/ len([doc for doc in D if t in doc]))\n",
    "    return tf * idf"
   ]
  },
  {
   "cell_type": "code",
   "execution_count": 84,
   "metadata": {},
   "outputs": [
    {
     "data": {
      "text/plain": [
       "0.0"
      ]
     },
     "execution_count": 84,
     "metadata": {},
     "output_type": "execute_result"
    }
   ],
   "source": [
    "tfidf('a', a, D)"
   ]
  },
  {
   "cell_type": "code",
   "execution_count": 85,
   "metadata": {},
   "outputs": [
    {
     "data": {
      "text/plain": [
       "0.0"
      ]
     },
     "execution_count": 85,
     "metadata": {},
     "output_type": "execute_result"
    }
   ],
   "source": [
    "tfidf('a', abb, D)"
   ]
  },
  {
   "cell_type": "code",
   "execution_count": 86,
   "metadata": {},
   "outputs": [
    {
     "data": {
      "text/plain": [
       "0.27031007207210955"
      ]
     },
     "execution_count": 86,
     "metadata": {},
     "output_type": "execute_result"
    }
   ],
   "source": [
    "tfidf('b', abb, D)"
   ]
  },
  {
   "cell_type": "code",
   "execution_count": 87,
   "metadata": {},
   "outputs": [
    {
     "data": {
      "text/plain": [
       "0.0"
      ]
     },
     "execution_count": 87,
     "metadata": {},
     "output_type": "execute_result"
    }
   ],
   "source": [
    "tfidf('a', abc, D)"
   ]
  },
  {
   "cell_type": "code",
   "execution_count": 88,
   "metadata": {},
   "outputs": [
    {
     "data": {
      "text/plain": [
       "0.13515503603605478"
      ]
     },
     "execution_count": 88,
     "metadata": {},
     "output_type": "execute_result"
    }
   ],
   "source": [
    "tfidf('b', abc, D)"
   ]
  },
  {
   "cell_type": "code",
   "execution_count": 89,
   "metadata": {},
   "outputs": [
    {
     "data": {
      "text/plain": [
       "0.3662040962227032"
      ]
     },
     "execution_count": 89,
     "metadata": {},
     "output_type": "execute_result"
    }
   ],
   "source": [
    "tfidf('c', abc, D)"
   ]
  },
  {
   "cell_type": "code",
   "execution_count": 91,
   "metadata": {},
   "outputs": [
    {
     "data": {
      "text/plain": [
       "['銀行', '客戶', '理專', '永豐', '金管會', '裁罰', '萬元', '監守自盜', '已經', '檢調']"
      ]
     },
     "execution_count": 91,
     "metadata": {},
     "output_type": "execute_result"
    }
   ],
   "source": [
    "import jieba.analyse\n",
    "tags = jieba.analyse.extract_tags(news, 10)\n",
    "tags"
   ]
  },
  {
   "cell_type": "code",
   "execution_count": 93,
   "metadata": {},
   "outputs": [
    {
     "data": {
      "text/plain": [
       "<_io.BufferedReader name='/Users/davidchiu/.pyenv/versions/3.6.2/lib/python3.6/site-packages/jieba/dict.txt'>"
      ]
     },
     "execution_count": 93,
     "metadata": {},
     "output_type": "execute_result"
    }
   ],
   "source": [
    "jieba.get_dict_file()"
   ]
  },
  {
   "cell_type": "markdown",
   "metadata": {},
   "source": [
    "## 詞頻矩陣"
   ]
  },
  {
   "cell_type": "code",
   "execution_count": 99,
   "metadata": {},
   "outputs": [
    {
     "data": {
      "text/plain": [
       "{'disk', 'format', 'hard', 'how', 'my', 'problems', 'to'}"
      ]
     },
     "execution_count": 99,
     "metadata": {},
     "output_type": "execute_result"
    }
   ],
   "source": [
    "content = [\"How to format my hard disk\", \" Hard disk format problems\"]\n",
    "words = []\n",
    "for sentence in content:\n",
    "    words.extend(sentence.lower().split())\n",
    "set(words)\n"
   ]
  },
  {
   "cell_type": "code",
   "execution_count": 102,
   "metadata": {},
   "outputs": [],
   "source": [
    "word_to_id = {}\n",
    "id_to_word = {}\n",
    "for idx , w in enumerate(list(set(words))):\n",
    "    word_to_id[w] = idx\n",
    "    id_to_word[idx] = w\n",
    "    #print(idx, w)"
   ]
  },
  {
   "cell_type": "code",
   "execution_count": 103,
   "metadata": {},
   "outputs": [
    {
     "data": {
      "text/plain": [
       "{'my': 0, 'problems': 1, 'hard': 2, 'to': 3, 'disk': 4, 'how': 5, 'format': 6}"
      ]
     },
     "execution_count": 103,
     "metadata": {},
     "output_type": "execute_result"
    }
   ],
   "source": [
    "word_to_id"
   ]
  },
  {
   "cell_type": "code",
   "execution_count": 104,
   "metadata": {},
   "outputs": [
    {
     "data": {
      "text/plain": [
       "{0: 'my', 1: 'problems', 2: 'hard', 3: 'to', 4: 'disk', 5: 'how', 6: 'format'}"
      ]
     },
     "execution_count": 104,
     "metadata": {},
     "output_type": "execute_result"
    }
   ],
   "source": [
    "id_to_word"
   ]
  },
  {
   "cell_type": "code",
   "execution_count": 107,
   "metadata": {},
   "outputs": [],
   "source": [
    "import numpy as np\n",
    "m = np.zeros((len(content),len(word_to_id)))"
   ]
  },
  {
   "cell_type": "code",
   "execution_count": 108,
   "metadata": {},
   "outputs": [
    {
     "data": {
      "text/plain": [
       "array([[0., 0., 0., 0., 0., 0., 0.],\n",
       "       [0., 0., 0., 0., 0., 0., 0.]])"
      ]
     },
     "execution_count": 108,
     "metadata": {},
     "output_type": "execute_result"
    }
   ],
   "source": [
    "m"
   ]
  },
  {
   "cell_type": "code",
   "execution_count": 109,
   "metadata": {},
   "outputs": [],
   "source": [
    "for i, sentence in enumerate(content):\n",
    "    for w in sentence.lower().split():\n",
    "        m[i, word_to_id[w]] = 1\n",
    "    "
   ]
  },
  {
   "cell_type": "code",
   "execution_count": 110,
   "metadata": {},
   "outputs": [
    {
     "data": {
      "text/plain": [
       "array([[1., 0., 1., 1., 1., 1., 1.],\n",
       "       [0., 1., 1., 0., 1., 0., 1.]])"
      ]
     },
     "execution_count": 110,
     "metadata": {},
     "output_type": "execute_result"
    }
   ],
   "source": [
    "m"
   ]
  },
  {
   "cell_type": "code",
   "execution_count": 112,
   "metadata": {},
   "outputs": [],
   "source": [
    "from sklearn.feature_extraction.text import CountVectorizer\n",
    "vectorizer = CountVectorizer()\n",
    "X = vectorizer.fit_transform(content)"
   ]
  },
  {
   "cell_type": "code",
   "execution_count": 113,
   "metadata": {},
   "outputs": [
    {
     "data": {
      "text/plain": [
       "array([[1, 1, 1, 1, 1, 0, 1],\n",
       "       [1, 1, 1, 0, 0, 1, 0]])"
      ]
     },
     "execution_count": 113,
     "metadata": {},
     "output_type": "execute_result"
    }
   ],
   "source": [
    "X.toarray()"
   ]
  },
  {
   "cell_type": "code",
   "execution_count": 115,
   "metadata": {},
   "outputs": [
    {
     "data": {
      "text/plain": [
       "array([[ 0,  0,  0,  1,  1, -1,  1]], dtype=int64)"
      ]
     },
     "execution_count": 115,
     "metadata": {},
     "output_type": "execute_result"
    }
   ],
   "source": [
    "(X[0] - X[1]).toarray()"
   ]
  },
  {
   "cell_type": "code",
   "execution_count": 117,
   "metadata": {},
   "outputs": [],
   "source": [
    "contents = [\n",
    "'This is a toy post about machine learning. Actually, it contains not much interesting stuff.',\n",
    "'Imaging databases can get huge.',\n",
    "'Most imaging databases safe images permanently.',\n",
    "'Imaging databases store images.',\n",
    "'Imaging databases store images. Imaging databases store images. Imaging databases store images.']"
   ]
  },
  {
   "cell_type": "code",
   "execution_count": 119,
   "metadata": {},
   "outputs": [
    {
     "data": {
      "text/plain": [
       "<5x24 sparse matrix of type '<class 'numpy.int64'>'\n",
       "\twith 33 stored elements in Compressed Sparse Row format>"
      ]
     },
     "execution_count": 119,
     "metadata": {},
     "output_type": "execute_result"
    }
   ],
   "source": [
    "from sklearn.feature_extraction.text import CountVectorizer\n",
    "vectorizer = CountVectorizer()\n",
    "X = vectorizer.fit_transform(contents)\n",
    "X"
   ]
  },
  {
   "cell_type": "code",
   "execution_count": 121,
   "metadata": {},
   "outputs": [
    {
     "name": "stdout",
     "output_type": "stream",
     "text": [
      "['about', 'actually', 'can', 'contains', 'databases', 'get', 'huge', 'images', 'imaging', 'interesting', 'is', 'it', 'learning', 'machine', 'most', 'much', 'not', 'permanently', 'post', 'safe', 'store', 'stuff', 'this', 'toy']\n"
     ]
    }
   ],
   "source": [
    "print(vectorizer.get_feature_names())"
   ]
  },
  {
   "cell_type": "code",
   "execution_count": 120,
   "metadata": {},
   "outputs": [
    {
     "data": {
      "text/plain": [
       "array([[1, 1, 0, 1, 0, 0, 0, 0, 0, 1, 1, 1, 1, 1, 0, 1, 1, 0, 1, 0, 0, 1,\n",
       "        1, 1],\n",
       "       [0, 0, 1, 0, 1, 1, 1, 0, 1, 0, 0, 0, 0, 0, 0, 0, 0, 0, 0, 0, 0, 0,\n",
       "        0, 0],\n",
       "       [0, 0, 0, 0, 1, 0, 0, 1, 1, 0, 0, 0, 0, 0, 1, 0, 0, 1, 0, 1, 0, 0,\n",
       "        0, 0],\n",
       "       [0, 0, 0, 0, 1, 0, 0, 1, 1, 0, 0, 0, 0, 0, 0, 0, 0, 0, 0, 0, 1, 0,\n",
       "        0, 0],\n",
       "       [0, 0, 0, 0, 3, 0, 0, 3, 3, 0, 0, 0, 0, 0, 0, 0, 0, 0, 0, 0, 3, 0,\n",
       "        0, 0]])"
      ]
     },
     "execution_count": 120,
     "metadata": {},
     "output_type": "execute_result"
    }
   ],
   "source": [
    "X.toarray()"
   ]
  },
  {
   "cell_type": "code",
   "execution_count": 125,
   "metadata": {},
   "outputs": [],
   "source": [
    "# fit: 產生架構, fit_transform: 產生架構，且做資料轉換, transform:資料轉化\n",
    "new_post = 'imaging databases'\n",
    "new_post_vec  = vectorizer.transform([new_post])"
   ]
  },
  {
   "cell_type": "code",
   "execution_count": 126,
   "metadata": {},
   "outputs": [
    {
     "data": {
      "text/plain": [
       "array([[0, 0, 0, 0, 1, 0, 0, 0, 1, 0, 0, 0, 0, 0, 0, 0, 0, 0, 0, 0, 0, 0,\n",
       "        0, 0]])"
      ]
     },
     "execution_count": 126,
     "metadata": {},
     "output_type": "execute_result"
    }
   ],
   "source": [
    "new_post_vec.toarray()"
   ]
  },
  {
   "cell_type": "code",
   "execution_count": 128,
   "metadata": {},
   "outputs": [],
   "source": [
    "import scipy as sp\n",
    "def dist_raw(v1, v2):\n",
    "    delta = v1 - v2\n",
    "    return sp.linalg.norm(delta.toarray())\n"
   ]
  },
  {
   "cell_type": "code",
   "execution_count": 130,
   "metadata": {},
   "outputs": [
    {
     "name": "stdout",
     "output_type": "stream",
     "text": [
      "This is a toy post about machine learning. Actually, it contains not much interesting stuff. 4.0\n",
      "Imaging databases can get huge. 1.7320508075688772\n",
      "Most imaging databases safe images permanently. 2.0\n",
      "Imaging databases store images. 1.4142135623730951\n",
      "Imaging databases store images. Imaging databases store images. Imaging databases store images. 5.0990195135927845\n"
     ]
    }
   ],
   "source": [
    "for i in range(5):\n",
    "    d = dist_raw(X[i], new_post_vec)\n",
    "    print(contents[i], d)\n"
   ]
  },
  {
   "cell_type": "code",
   "execution_count": 132,
   "metadata": {},
   "outputs": [
    {
     "data": {
      "text/plain": [
       "2.0"
      ]
     },
     "execution_count": 132,
     "metadata": {},
     "output_type": "execute_result"
    }
   ],
   "source": [
    "import numpy as np\n",
    "a = np.array([1,1,-1,-1])\n",
    "sp.linalg.norm(a)"
   ]
  },
  {
   "cell_type": "code",
   "execution_count": 137,
   "metadata": {},
   "outputs": [
    {
     "data": {
      "text/plain": [
       "2.0"
      ]
     },
     "execution_count": 137,
     "metadata": {},
     "output_type": "execute_result"
    }
   ],
   "source": [
    "math.sqrt((a ** 2).sum())"
   ]
  },
  {
   "cell_type": "code",
   "execution_count": 152,
   "metadata": {},
   "outputs": [],
   "source": [
    "def dist(v1, v2):\n",
    "    v1_normalized  = v1 / sp.linalg.norm(v1.toarray()) \n",
    "    v2_normalized  = v2 / sp.linalg.norm(v2.toarray())\n",
    "    delta = v1_normalized.toarray() * v2_normalized.toarray()\n",
    "    return 1- delta.sum()\n"
   ]
  },
  {
   "cell_type": "code",
   "execution_count": 153,
   "metadata": {},
   "outputs": [
    {
     "name": "stdout",
     "output_type": "stream",
     "text": [
      "This is a toy post about machine learning. Actually, it contains not much interesting stuff. 1.0\n",
      "Imaging databases can get huge. 0.36754446796632423\n",
      "Most imaging databases safe images permanently. 0.42264973081037416\n",
      "Imaging databases store images. 0.29289321881345254\n",
      "Imaging databases store images. Imaging databases store images. Imaging databases store images. 0.29289321881345254\n"
     ]
    }
   ],
   "source": [
    "for i in range(5):\n",
    "    d = dist(X[i], new_post_vec)\n",
    "    print(contents[i], d)\n"
   ]
  },
  {
   "cell_type": "code",
   "execution_count": 154,
   "metadata": {},
   "outputs": [
    {
     "data": {
      "text/plain": [
       "array([[4.        ],\n",
       "       [1.73205081],\n",
       "       [2.        ],\n",
       "       [1.41421356],\n",
       "       [5.09901951]])"
      ]
     },
     "execution_count": 154,
     "metadata": {},
     "output_type": "execute_result"
    }
   ],
   "source": [
    "from sklearn.metrics.pairwise import cosine_distances, euclidean_distances\n",
    "euclidean_distances(X, new_post_vec)"
   ]
  },
  {
   "cell_type": "code",
   "execution_count": 155,
   "metadata": {},
   "outputs": [
    {
     "data": {
      "text/plain": [
       "array([[1.        ],\n",
       "       [0.36754447],\n",
       "       [0.42264973],\n",
       "       [0.29289322],\n",
       "       [0.29289322]])"
      ]
     },
     "execution_count": 155,
     "metadata": {},
     "output_type": "execute_result"
    }
   ],
   "source": [
    "cosine_distances(X, new_post_vec)"
   ]
  },
  {
   "cell_type": "code",
   "execution_count": null,
   "metadata": {},
   "outputs": [],
   "source": [
    "contents = [\n",
    "'This is a toy post about machine learning. Actually, it contains not much interesting stuff.',\n",
    "'Imaging databases can get huge.',\n",
    "'Most imaging databases safe images permanently.',\n",
    "'Imaging databases store images.',\n",
    "'Imaging databases store images. Imaging databases store images. Imaging databases store images.']"
   ]
  },
  {
   "cell_type": "code",
   "execution_count": 160,
   "metadata": {},
   "outputs": [],
   "source": [
    "vectorizer = CountVectorizer(stop_words='english')\n",
    "X = vectorizer.fit_transform(contents)"
   ]
  },
  {
   "cell_type": "code",
   "execution_count": 159,
   "metadata": {},
   "outputs": [
    {
     "data": {
      "text/plain": [
       "15"
      ]
     },
     "execution_count": 159,
     "metadata": {},
     "output_type": "execute_result"
    }
   ],
   "source": [
    "len(vectorizer.get_feature_names())"
   ]
  },
  {
   "cell_type": "code",
   "execution_count": 161,
   "metadata": {},
   "outputs": [
    {
     "name": "stdout",
     "output_type": "stream",
     "text": [
      "['actually', 'contains', 'databases', 'huge', 'images', 'imaging', 'interesting', 'learning', 'machine', 'permanently', 'post', 'safe', 'store', 'stuff', 'toy']\n"
     ]
    }
   ],
   "source": [
    "print(vectorizer.get_feature_names())"
   ]
  },
  {
   "cell_type": "code",
   "execution_count": 163,
   "metadata": {},
   "outputs": [
    {
     "name": "stdout",
     "output_type": "stream",
     "text": [
      "['seem', 'she', 'eg', 'go', 'such', 'therefore', 'whose', 'fill', 'whether', 'thin']\n"
     ]
    }
   ],
   "source": [
    "print(list(vectorizer.get_stop_words())[0:10])"
   ]
  },
  {
   "cell_type": "code",
   "execution_count": 165,
   "metadata": {},
   "outputs": [],
   "source": [
    "new_post = 'imaging databases'\n",
    "new_post_vec = vectorizer.transform([new_post])"
   ]
  },
  {
   "cell_type": "code",
   "execution_count": 166,
   "metadata": {},
   "outputs": [
    {
     "data": {
      "text/plain": [
       "array([[1.        , 0.18350342, 0.36754447, 0.29289322, 0.29289322]])"
      ]
     },
     "execution_count": 166,
     "metadata": {},
     "output_type": "execute_result"
    }
   ],
   "source": [
    "cosine_distances(new_post_vec, X)"
   ]
  },
  {
   "cell_type": "markdown",
   "metadata": {},
   "source": [
    "## NLTK"
   ]
  },
  {
   "cell_type": "code",
   "execution_count": 167,
   "metadata": {},
   "outputs": [
    {
     "name": "stdout",
     "output_type": "stream",
     "text": [
      "Requirement already satisfied: nltk in /Users/davidchiu/.pyenv/versions/3.6.2/lib/python3.6/site-packages\n",
      "Requirement already satisfied: six in /Users/davidchiu/.pyenv/versions/3.6.2/lib/python3.6/site-packages (from nltk)\n",
      "\u001b[33mYou are using pip version 9.0.1, however version 19.3.1 is available.\n",
      "You should consider upgrading via the 'pip install --upgrade pip' command.\u001b[0m\n"
     ]
    }
   ],
   "source": [
    "! pip install nltk"
   ]
  },
  {
   "cell_type": "code",
   "execution_count": 168,
   "metadata": {},
   "outputs": [],
   "source": [
    "import nltk.stem\n",
    "s = nltk.stem.SnowballStemmer('english')\n"
   ]
  },
  {
   "cell_type": "code",
   "execution_count": 169,
   "metadata": {},
   "outputs": [
    {
     "data": {
      "text/plain": [
       "'graphic'"
      ]
     },
     "execution_count": 169,
     "metadata": {},
     "output_type": "execute_result"
    }
   ],
   "source": [
    "s.stem('graphics')"
   ]
  },
  {
   "cell_type": "code",
   "execution_count": 170,
   "metadata": {},
   "outputs": [
    {
     "name": "stdout",
     "output_type": "stream",
     "text": [
      "imag\n",
      "imag\n",
      "imagin\n",
      "imagin\n"
     ]
    }
   ],
   "source": [
    "print(s.stem(\"imaging\"))\n",
    "print(s.stem(\"image\"))\n",
    "print(s.stem(\"imagination\"))\n",
    "print(s.stem(\"imagine\"))"
   ]
  },
  {
   "cell_type": "code",
   "execution_count": 172,
   "metadata": {},
   "outputs": [
    {
     "data": {
      "text/plain": [
       "['this is a toy post about machin learning. actually, it contain not much interest stuff.',\n",
       " 'imag databas can get huge.',\n",
       " 'most imag databas safe imag permanently.',\n",
       " 'imag databas store images.',\n",
       " 'imag databas store images. imag databas store images. imag databas store images.']"
      ]
     },
     "execution_count": 172,
     "metadata": {},
     "output_type": "execute_result"
    }
   ],
   "source": [
    "#contents\n",
    "post_ary = []\n",
    "for p in contents:\n",
    "    word_ary = [] \n",
    "    for w in p.split():\n",
    "        word_ary.append(s.stem(w))\n",
    "    post_ary.append(' '.join(word_ary))\n",
    "post_ary"
   ]
  },
  {
   "cell_type": "code",
   "execution_count": 173,
   "metadata": {},
   "outputs": [],
   "source": [
    "import nltk.stem\n",
    "english_stemmer = nltk.stem.SnowballStemmer('english')\n",
    "\n",
    "class StemmedCountVectorizer(CountVectorizer):\n",
    "    def build_analyzer(self):\n",
    "        analyzer = super(StemmedCountVectorizer, self).build_analyzer()\n",
    "        return lambda doc: (english_stemmer.stem(w) for w in analyzer(doc))\n"
   ]
  },
  {
   "cell_type": "code",
   "execution_count": 174,
   "metadata": {},
   "outputs": [],
   "source": [
    "vectorizer = StemmedCountVectorizer(stop_words='english')\n",
    "X = vectorizer.fit_transform(contents)"
   ]
  },
  {
   "cell_type": "code",
   "execution_count": 175,
   "metadata": {},
   "outputs": [
    {
     "name": "stdout",
     "output_type": "stream",
     "text": [
      "['actual', 'contain', 'databas', 'huge', 'imag', 'interest', 'learn', 'machin', 'perman', 'post', 'safe', 'store', 'stuff', 'toy']\n"
     ]
    }
   ],
   "source": [
    "print(vectorizer.get_feature_names())"
   ]
  },
  {
   "cell_type": "code",
   "execution_count": 178,
   "metadata": {},
   "outputs": [
    {
     "data": {
      "text/plain": [
       "array([[1, 1, 0, 0, 0, 1, 1, 1, 0, 1, 0, 0, 1, 1],\n",
       "       [0, 0, 1, 1, 1, 0, 0, 0, 0, 0, 0, 0, 0, 0],\n",
       "       [0, 0, 1, 0, 2, 0, 0, 0, 1, 0, 1, 0, 0, 0],\n",
       "       [0, 0, 1, 0, 2, 0, 0, 0, 0, 0, 0, 1, 0, 0],\n",
       "       [0, 0, 3, 0, 6, 0, 0, 0, 0, 0, 0, 3, 0, 0]])"
      ]
     },
     "execution_count": 178,
     "metadata": {},
     "output_type": "execute_result"
    }
   ],
   "source": [
    "X.toarray()"
   ]
  },
  {
   "cell_type": "code",
   "execution_count": 176,
   "metadata": {},
   "outputs": [],
   "source": [
    "new_post_vec = vectorizer.transform([new_post])"
   ]
  },
  {
   "cell_type": "code",
   "execution_count": 177,
   "metadata": {},
   "outputs": [
    {
     "data": {
      "text/plain": [
       "array([[1.        ],\n",
       "       [0.18350342],\n",
       "       [0.19821627],\n",
       "       [0.1339746 ],\n",
       "       [0.1339746 ]])"
      ]
     },
     "execution_count": 177,
     "metadata": {},
     "output_type": "execute_result"
    }
   ],
   "source": [
    "cosine_distances(X, new_post_vec)"
   ]
  },
  {
   "cell_type": "code",
   "execution_count": 179,
   "metadata": {},
   "outputs": [],
   "source": [
    "from sklearn.feature_extraction.text import TfidfVectorizer\n",
    "class StemmedTfidfVectorizer(TfidfVectorizer):\n",
    "    def build_analyzer(self):\n",
    "        analyzer = super(TfidfVectorizer,self).build_analyzer()\n",
    "        return lambda doc: (english_stemmer.stem(w) for w in analyzer(doc))\n"
   ]
  },
  {
   "cell_type": "code",
   "execution_count": 181,
   "metadata": {},
   "outputs": [],
   "source": [
    "vectorizer = StemmedTfidfVectorizer(stop_words='english')\n",
    "X = vectorizer.fit_transform(contents)\n",
    "new_post_vec = vectorizer.transform([new_post])"
   ]
  },
  {
   "cell_type": "code",
   "execution_count": 182,
   "metadata": {},
   "outputs": [
    {
     "data": {
      "text/plain": [
       "array([[1.        ],\n",
       "       [0.37685932],\n",
       "       [0.36897874],\n",
       "       [0.2011085 ],\n",
       "       [0.2011085 ]])"
      ]
     },
     "execution_count": 182,
     "metadata": {},
     "output_type": "execute_result"
    }
   ],
   "source": [
    "cosine_distances(X, new_post_vec)"
   ]
  },
  {
   "cell_type": "markdown",
   "metadata": {},
   "source": [
    "## 中文分詞方法"
   ]
  },
  {
   "cell_type": "code",
   "execution_count": 183,
   "metadata": {},
   "outputs": [],
   "source": [
    "import jieba\n",
    "jieba.load_userdict('userdict.txt')\n",
    "ary = ['【更新】柯P：洪智坤洩漏公文案還沒看到公文　今處理',\n",
    "       '留洪智坤 柯：殘障求職不易',\n",
    "       '人事處議處洪智坤　柯P：不清楚議處結果']\n",
    "\n",
    "corpus = []\n",
    "for title in ary:\n",
    "    corpus.append(' '.join(jieba.cut(title)) )"
   ]
  },
  {
   "cell_type": "code",
   "execution_count": 184,
   "metadata": {},
   "outputs": [
    {
     "data": {
      "text/plain": [
       "['【 更新 】 柯P ： 洪智坤 洩漏 公文案 還 沒 看到 公文 \\u3000 今 處理',\n",
       " '留 洪智坤   柯 ： 殘障 求職 不易',\n",
       " '人事處 議處 洪智坤 \\u3000 柯P ： 不 清楚 議處 結果']"
      ]
     },
     "execution_count": 184,
     "metadata": {},
     "output_type": "execute_result"
    }
   ],
   "source": [
    "corpus"
   ]
  },
  {
   "cell_type": "code",
   "execution_count": 185,
   "metadata": {},
   "outputs": [],
   "source": [
    "from sklearn.feature_extraction.text import CountVectorizer\n",
    "vectorizer = CountVectorizer()\n",
    "X = vectorizer.fit_transform(corpus)"
   ]
  },
  {
   "cell_type": "code",
   "execution_count": 187,
   "metadata": {},
   "outputs": [
    {
     "name": "stdout",
     "output_type": "stream",
     "text": [
      "['不易', '人事處', '公文', '公文案', '更新', '柯p', '殘障', '求職', '洩漏', '洪智坤', '清楚', '看到', '結果', '處理', '議處']\n"
     ]
    }
   ],
   "source": [
    "print(vectorizer.get_feature_names())"
   ]
  },
  {
   "cell_type": "code",
   "execution_count": 186,
   "metadata": {},
   "outputs": [
    {
     "data": {
      "text/plain": [
       "<3x15 sparse matrix of type '<class 'numpy.int64'>'\n",
       "\twith 18 stored elements in Compressed Sparse Row format>"
      ]
     },
     "execution_count": 186,
     "metadata": {},
     "output_type": "execute_result"
    }
   ],
   "source": [
    "X"
   ]
  },
  {
   "cell_type": "code",
   "execution_count": 188,
   "metadata": {},
   "outputs": [
    {
     "data": {
      "text/plain": [
       "array([[0, 0, 1, 1, 1, 1, 0, 0, 1, 1, 0, 1, 0, 1, 0],\n",
       "       [1, 0, 0, 0, 0, 0, 1, 1, 0, 1, 0, 0, 0, 0, 0],\n",
       "       [0, 1, 0, 0, 0, 1, 0, 0, 0, 1, 1, 0, 1, 0, 2]])"
      ]
     },
     "execution_count": 188,
     "metadata": {},
     "output_type": "execute_result"
    }
   ],
   "source": [
    "X.toarray()"
   ]
  },
  {
   "cell_type": "code",
   "execution_count": 189,
   "metadata": {},
   "outputs": [
    {
     "data": {
      "text/plain": [
       "array([[0.        , 0.8232233 , 0.76429774],\n",
       "       [0.8232233 , 0.        , 0.83333333],\n",
       "       [0.76429774, 0.83333333, 0.        ]])"
      ]
     },
     "execution_count": 189,
     "metadata": {},
     "output_type": "execute_result"
    }
   ],
   "source": [
    "from sklearn.metrics.pairwise import cosine_distances\n",
    "cosine_distances(X)"
   ]
  },
  {
   "cell_type": "code",
   "execution_count": 190,
   "metadata": {},
   "outputs": [],
   "source": [
    "from sklearn.feature_extraction.text import TfidfVectorizer\n",
    "vectorizer = TfidfVectorizer()\n",
    "X = vectorizer.fit_transform(corpus)"
   ]
  },
  {
   "cell_type": "code",
   "execution_count": 191,
   "metadata": {},
   "outputs": [
    {
     "data": {
      "text/plain": [
       "array([[0.        , 0.92757567, 0.87487455],\n",
       "       [0.92757567, 0.        , 0.93229768],\n",
       "       [0.87487455, 0.93229768, 0.        ]])"
      ]
     },
     "execution_count": 191,
     "metadata": {},
     "output_type": "execute_result"
    }
   ],
   "source": [
    "from sklearn.metrics.pairwise import cosine_distances\n",
    "cosine_distances(X)"
   ]
  },
  {
   "cell_type": "code",
   "execution_count": 192,
   "metadata": {},
   "outputs": [],
   "source": [
    "from sklearn.feature_extraction.text import CountVectorizer\n",
    "vectorizer = CountVectorizer(stop_words=['看到'])\n",
    "X = vectorizer.fit_transform(corpus)"
   ]
  },
  {
   "cell_type": "code",
   "execution_count": 193,
   "metadata": {},
   "outputs": [
    {
     "name": "stdout",
     "output_type": "stream",
     "text": [
      "['不易', '人事處', '公文', '公文案', '更新', '柯p', '殘障', '求職', '洩漏', '洪智坤', '清楚', '結果', '處理', '議處']\n"
     ]
    }
   ],
   "source": [
    "print(vectorizer.get_feature_names())"
   ]
  },
  {
   "cell_type": "code",
   "execution_count": 194,
   "metadata": {},
   "outputs": [],
   "source": [
    "import jieba\n",
    "jieba.load_userdict('userdict.txt')\n",
    "ary = ['【更新】柯P：洪智坤洩漏公文案還沒看到公文　今處理',\n",
    "       '留洪智坤 柯文哲：殘障求職不易',\n",
    "       '人事處議處洪智坤　柯P：不清楚議處結果']\n",
    "\n",
    "corpus = []\n",
    "for title in ary:\n",
    "    corpus.append(' '.join(jieba.cut(title)) )"
   ]
  },
  {
   "cell_type": "code",
   "execution_count": 196,
   "metadata": {},
   "outputs": [
    {
     "name": "stdout",
     "output_type": "stream",
     "text": [
      "['不易', '人事處', '公文', '公文案', '更新', '柯p', '柯文哲', '殘障', '求職', '洩漏', '洪智坤', '清楚', '結果', '處理', '議處']\n"
     ]
    }
   ],
   "source": [
    "from sklearn.feature_extraction.text import CountVectorizer\n",
    "vectorizer = CountVectorizer(stop_words=['看到'])\n",
    "X = vectorizer.fit_transform(corpus)\n",
    "print(vectorizer.get_feature_names())"
   ]
  },
  {
   "cell_type": "code",
   "execution_count": 202,
   "metadata": {},
   "outputs": [
    {
     "data": {
      "text/plain": [
       "{'柯p': '柯文哲', 'kp': '柯文哲', '阿北': '柯文哲'}"
      ]
     },
     "execution_count": 202,
     "metadata": {},
     "output_type": "execute_result"
    }
   ],
   "source": [
    "synonym_dic = {}\n",
    "with open('synonym.txt') as f:\n",
    "    for line in f.readlines():\n",
    "        words = line.split('/')\n",
    "        for w in words[1:]:\n",
    "            synonym_dic[w] = words[0]\n",
    "synonym_dic"
   ]
  },
  {
   "cell_type": "code",
   "execution_count": 203,
   "metadata": {},
   "outputs": [],
   "source": [
    "import nltk.stem\n",
    "class SynonymCountVectorizer(CountVectorizer):\n",
    "    def build_analyzer(self):\n",
    "        analyzer = super(SynonymCountVectorizer, self).build_analyzer()\n",
    "        return lambda doc: (synonym_dic.get(w, w) for w in analyzer(doc))\n"
   ]
  },
  {
   "cell_type": "code",
   "execution_count": 204,
   "metadata": {},
   "outputs": [
    {
     "name": "stdout",
     "output_type": "stream",
     "text": [
      "['不易', '人事處', '公文', '公文案', '更新', '柯文哲', '殘障', '求職', '洩漏', '洪智坤', '清楚', '結果', '處理', '議處']\n"
     ]
    }
   ],
   "source": [
    "from sklearn.feature_extraction.text import CountVectorizer\n",
    "vectorizer = SynonymCountVectorizer(stop_words=['看到'])\n",
    "X = vectorizer.fit_transform(corpus)\n",
    "print(vectorizer.get_feature_names())"
   ]
  },
  {
   "cell_type": "code",
   "execution_count": 205,
   "metadata": {},
   "outputs": [
    {
     "data": {
      "text/plain": [
       "array([[0, 0, 1, 1, 1, 1, 0, 0, 1, 1, 0, 0, 1, 0],\n",
       "       [1, 0, 0, 0, 0, 1, 1, 1, 0, 1, 0, 0, 0, 0],\n",
       "       [0, 1, 0, 0, 0, 1, 0, 0, 0, 1, 1, 1, 0, 2]])"
      ]
     },
     "execution_count": 205,
     "metadata": {},
     "output_type": "execute_result"
    }
   ],
   "source": [
    "X.toarray()"
   ]
  },
  {
   "cell_type": "markdown",
   "metadata": {},
   "source": [
    "## 新聞推薦"
   ]
  },
  {
   "cell_type": "code",
   "execution_count": 208,
   "metadata": {},
   "outputs": [],
   "source": [
    "import pandas\n",
    "news = pandas.read_excel('https://raw.githubusercontent.com/ywchiu/pytextmining/master/data/20171214news.xlsx', index_col = 0)"
   ]
  },
  {
   "cell_type": "code",
   "execution_count": 211,
   "metadata": {},
   "outputs": [],
   "source": [
    "import jieba\n",
    "corpus = [] \n",
    "titles = []\n",
    "for idx, rec in news.iterrows():\n",
    "    corpus.append(' '.join(jieba.cut(rec['content'])))\n",
    "    titles.append(rec['title'])"
   ]
  },
  {
   "cell_type": "code",
   "execution_count": 212,
   "metadata": {},
   "outputs": [
    {
     "data": {
      "text/plain": [
       "['【更新】水利會改官派明闖關\\u3000綠委24小時前顧議場大門防藍突襲',\n",
       " '請中市府為所當為 加速中火燃煤限制',\n",
       " '陸生共諜嗆台司法\\u3000「不敢公開審理我」']"
      ]
     },
     "execution_count": 212,
     "metadata": {},
     "output_type": "execute_result"
    }
   ],
   "source": [
    "titles[0:3]"
   ]
  },
  {
   "cell_type": "code",
   "execution_count": 214,
   "metadata": {},
   "outputs": [],
   "source": [
    "#corpus[0]"
   ]
  },
  {
   "cell_type": "code",
   "execution_count": 215,
   "metadata": {},
   "outputs": [],
   "source": [
    "from sklearn.feature_extraction.text import CountVectorizer\n",
    "vectorizer = CountVectorizer()\n",
    "X = vectorizer.fit_transform(corpus)"
   ]
  },
  {
   "cell_type": "code",
   "execution_count": 216,
   "metadata": {},
   "outputs": [
    {
     "data": {
      "text/plain": [
       "<899x28936 sparse matrix of type '<class 'numpy.int64'>'\n",
       "\twith 122251 stored elements in Compressed Sparse Row format>"
      ]
     },
     "execution_count": 216,
     "metadata": {},
     "output_type": "execute_result"
    }
   ],
   "source": [
    "X"
   ]
  },
  {
   "cell_type": "code",
   "execution_count": 217,
   "metadata": {},
   "outputs": [],
   "source": [
    "from sklearn.metrics.pairwise import cosine_distances\n",
    "cs = cosine_distances(X)"
   ]
  },
  {
   "cell_type": "code",
   "execution_count": 218,
   "metadata": {},
   "outputs": [
    {
     "data": {
      "text/plain": [
       "(899, 899)"
      ]
     },
     "execution_count": 218,
     "metadata": {},
     "output_type": "execute_result"
    }
   ],
   "source": [
    "cs.shape"
   ]
  },
  {
   "cell_type": "code",
   "execution_count": 221,
   "metadata": {},
   "outputs": [
    {
     "data": {
      "text/plain": [
       "array([2, 3, 0, 1, 4])"
      ]
     },
     "execution_count": 221,
     "metadata": {},
     "output_type": "execute_result"
    }
   ],
   "source": [
    "a = np.array([50,60,30,40,70])\n",
    "a.argsort()"
   ]
  },
  {
   "cell_type": "code",
   "execution_count": 228,
   "metadata": {},
   "outputs": [
    {
     "name": "stdout",
     "output_type": "stream",
     "text": [
      "【更新】水利會改官派明闖關　綠委24小時前顧議場大門防藍突襲\n",
      "反對水利會改制　吳敦義下令：藍委做好夜宿立院抗爭準備 0.6536245242470944\n",
      "農田水利會改公務機關　蔡英文：這不是綁樁 0.6791340621697286\n"
     ]
    }
   ],
   "source": [
    "print(titles[0])\n",
    "for idx in cs[0].argsort()[1:]:\n",
    "    if cs[0][idx] < 0.7:\n",
    "        print(titles[idx], cs[0][idx])"
   ]
  },
  {
   "cell_type": "code",
   "execution_count": 237,
   "metadata": {},
   "outputs": [],
   "source": [
    "def getSimiliarArticle(newsid):\n",
    "    print('查詢文章', titles[newsid])\n",
    "    for idx in cs[newsid].argsort()[1:]:\n",
    "        if cs[newsid][idx] < 0.7:\n",
    "            print('相似文章:', titles[idx], cs[newsid][idx])"
   ]
  },
  {
   "cell_type": "code",
   "execution_count": 238,
   "metadata": {},
   "outputs": [
    {
     "name": "stdout",
     "output_type": "stream",
     "text": [
      "查詢文章 桃園工廠火勢熄滅　員工宿舍內發現一堆白骨\n",
      "相似文章: 【不斷更新】桃園工廠惡火撲滅 6人仍失聯宿舍內發現一堆白骨 0.34845170154392413\n",
      "相似文章: 汽車用品大廠「矽卡」燒毀　資本額達2億 0.528329871611273\n",
      "相似文章: 桃園工廠大火6員工失聯　家屬焦急等待 0.643965502541844\n"
     ]
    }
   ],
   "source": [
    "getSimiliarArticle(25)"
   ]
  },
  {
   "cell_type": "code",
   "execution_count": 239,
   "metadata": {},
   "outputs": [],
   "source": [
    "from sklearn.feature_extraction.text import TfidfVectorizer\n",
    "vectorizer = TfidfVectorizer()\n",
    "X = vectorizer.fit_transform(corpus)"
   ]
  },
  {
   "cell_type": "code",
   "execution_count": 240,
   "metadata": {},
   "outputs": [],
   "source": [
    "from sklearn.metrics.pairwise import cosine_distances\n",
    "cs = cosine_distances(X)"
   ]
  },
  {
   "cell_type": "code",
   "execution_count": 251,
   "metadata": {},
   "outputs": [],
   "source": [
    "def getSimiliarArticle(newsid):\n",
    "    print('查詢文章', titles[newsid])\n",
    "    for idx in cs[newsid].argsort()[1:]:\n",
    "        if cs[newsid][idx] < 0.9:\n",
    "            print('相似文章:', titles[idx], cs[newsid][idx])"
   ]
  },
  {
   "cell_type": "code",
   "execution_count": 252,
   "metadata": {},
   "outputs": [
    {
     "name": "stdout",
     "output_type": "stream",
     "text": [
      "查詢文章 小嫻婚變冒毒菇　勾于美人「奉茶」夢魘\n",
      "相似文章: 遭粉絲頁冒名捲「正嫻」口水戰　于美人：跟我真的無關！ 0.59890030235092\n",
      "相似文章: 小嫻何守正想離婚　必須先做這件事！ 0.7359443656250136\n",
      "相似文章: 小嫻別傻傻被欺負！女律師說「姐寶」就要這樣對付 0.8154260804097387\n",
      "相似文章: 「小嫻不快樂！」　許聖梅：何守正虧欠她 0.8375974647277524\n",
      "相似文章: 【動畫解盤】毒菇跳火線譙seafood　小嫻難瘦香菇 0.8414677401362807\n",
      "相似文章: 【內幕動畫】小嫻婚變何守正姊反擊　不滿媽煮飯侍奉星媳婦 0.8415322924735106\n",
      "相似文章: 小嫻守正結婚在台沒登記　想離婚只有兩條路 0.842801692787191\n",
      "相似文章: 【獨家內幕】太傷！小嫻被分手　何守正當小三面前攤牌 0.8454062728890546\n",
      "相似文章: 小心！在美結婚台灣沒登記　偷腥照樣能捉姦 0.8471444157741324\n",
      "相似文章: 小嫻離婚導火線　拉何守正信妙禪 0.8508255802995953\n",
      "相似文章: 【狗仔偷拍】小嫻搬離何守正家租66坪房　月租6萬元 0.870002056739816\n",
      "相似文章: 大姑出面護弟！轟小嫻不能生「媽媽是全台最沒有尊嚴的婆婆」 0.8740633483056627\n",
      "相似文章: 【小嫻離婚】何守正稱沒有遺憾　人妻女星超火「一嘴屁話」 0.8744807322446506\n",
      "相似文章: 【K律師論點】離婚＝失敗？　K律師這麼說 0.8746714201018273\n",
      "相似文章: 小嫻信奉妙禪　關鍵原因與何守正有關！ 0.8749624771240616\n",
      "相似文章: 【好聚不好散】離婚掏出6千萬　這女星比小嫻還慘 0.8785382228409797\n",
      "相似文章: 許聖梅心疼小嫻被當空氣　爆何守正「有兩個女學員」 0.8798251467971077\n",
      "相似文章: 【獨家】小嫻賣房求子　婆婆竟拒入籍何家 0.8826891460811168\n",
      "相似文章: 小嫻中分手魔咒！ 同公司4女星全都婚變 0.8842852753334738\n",
      "相似文章: 【小嫻離婚】3大退讓人財兩失　求子花光430萬積蓄 0.89078590716543\n",
      "相似文章: 【小嫻婚變】他說很奇怪　「一定是男生劈腿？」 0.8920881638547095\n",
      "相似文章: 小嫻婚變無徵兆　男星嘆：兩人向來出雙入對 0.8934964311520521\n",
      "相似文章: 【話當年】被拍和她上賓館　何守正掰了阿妹 0.8941313588377476\n",
      "相似文章: 真尷尬！他只是聊個天　正妹就退出對話了 0.8965222830288937\n"
     ]
    }
   ],
   "source": [
    "getSimiliarArticle(16)"
   ]
  },
  {
   "cell_type": "code",
   "execution_count": null,
   "metadata": {},
   "outputs": [],
   "source": []
  }
 ],
 "metadata": {
  "kernelspec": {
   "display_name": "Python 3",
   "language": "python",
   "name": "python3"
  },
  "language_info": {
   "codemirror_mode": {
    "name": "ipython",
    "version": 3
   },
   "file_extension": ".py",
   "mimetype": "text/x-python",
   "name": "python",
   "nbconvert_exporter": "python",
   "pygments_lexer": "ipython3",
   "version": "3.6.2"
  }
 },
 "nbformat": 4,
 "nbformat_minor": 2
}
