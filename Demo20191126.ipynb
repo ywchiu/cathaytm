{
 "cells": [
  {
   "cell_type": "markdown",
   "metadata": {},
   "source": [
    "## 撰寫網路爬蟲爬取Yahoo 電影評論"
   ]
  },
  {
   "cell_type": "code",
   "execution_count": 2,
   "metadata": {},
   "outputs": [],
   "source": [
    "import requests\n",
    "from bs4 import BeautifulSoup\n",
    "res = requests.get('https://movies.yahoo.com.tw/movieinfo_review.html/id=10240')\n",
    "soup = BeautifulSoup(res.text, 'lxml')"
   ]
  },
  {
   "cell_type": "code",
   "execution_count": 17,
   "metadata": {},
   "outputs": [],
   "source": [
    "ary = []\n",
    "for com in soup.select('.usercom_list li'):\n",
    "    comment = com.select('span')[2].text\n",
    "    stars = com.select_one('input[name=\"score\"]').get('value')\n",
    "    ary.append({'comment':comment, 'stars':stars})"
   ]
  },
  {
   "cell_type": "code",
   "execution_count": 18,
   "metadata": {},
   "outputs": [],
   "source": [
    "import pandas\n",
    "df = pandas.DataFrame(ary)"
   ]
  },
  {
   "cell_type": "code",
   "execution_count": 19,
   "metadata": {},
   "outputs": [
    {
     "data": {
      "text/html": [
       "<div>\n",
       "<style scoped>\n",
       "    .dataframe tbody tr th:only-of-type {\n",
       "        vertical-align: middle;\n",
       "    }\n",
       "\n",
       "    .dataframe tbody tr th {\n",
       "        vertical-align: top;\n",
       "    }\n",
       "\n",
       "    .dataframe thead th {\n",
       "        text-align: right;\n",
       "    }\n",
       "</style>\n",
       "<table border=\"1\" class=\"dataframe\">\n",
       "  <thead>\n",
       "    <tr style=\"text-align: right;\">\n",
       "      <th></th>\n",
       "      <th>comment</th>\n",
       "      <th>stars</th>\n",
       "    </tr>\n",
       "  </thead>\n",
       "  <tbody>\n",
       "    <tr>\n",
       "      <th>0</th>\n",
       "      <td>頭一次覺得得獎又超好看的！\\r\\n是自己心目中今年第一名的國片\\r\\n很值得進戲院</td>\n",
       "      <td>5</td>\n",
       "    </tr>\n",
       "    <tr>\n",
       "      <th>1</th>\n",
       "      <td>最多最多三顆星。不用花錢進來看</td>\n",
       "      <td>3</td>\n",
       "    </tr>\n",
       "    <tr>\n",
       "      <th>2</th>\n",
       "      <td>本來只想著支持金馬獎的心情去看，沒想到超級好看!!!!!一開始就有爆點~~~從頭到尾真的沒有...</td>\n",
       "      <td>5</td>\n",
       "    </tr>\n",
       "    <tr>\n",
       "      <th>3</th>\n",
       "      <td>不懂評論裡的五顆星是怎麼一回事，邊看邊覺得尷尬癌上身，畫面很美但剪接零碎的讓人出戲，人物刻畫...</td>\n",
       "      <td>1</td>\n",
       "    </tr>\n",
       "    <tr>\n",
       "      <th>4</th>\n",
       "      <td>得獎實至名歸 很久沒進戲院了 看完後覺得值回票價 難得的好片</td>\n",
       "      <td>5</td>\n",
       "    </tr>\n",
       "    <tr>\n",
       "      <th>5</th>\n",
       "      <td>很好看！最佳劇情長片實至名歸！值得進戲院支持</td>\n",
       "      <td>5</td>\n",
       "    </tr>\n",
       "    <tr>\n",
       "      <th>6</th>\n",
       "      <td>家庭真的是很難，或許也很簡單。</td>\n",
       "      <td>5</td>\n",
       "    </tr>\n",
       "    <tr>\n",
       "      <th>7</th>\n",
       "      <td>很棒的電影，值得一看再看的好戲！</td>\n",
       "      <td>5</td>\n",
       "    </tr>\n",
       "    <tr>\n",
       "      <th>8</th>\n",
       "      <td>社會寫實面，很值得看的國片!!</td>\n",
       "      <td>5</td>\n",
       "    </tr>\n",
       "    <tr>\n",
       "      <th>9</th>\n",
       "      <td>很寫實的劇情，確實會是發生在家中的每一個角落\\r\\n片長158分鐘，確毫無冷場</td>\n",
       "      <td>5</td>\n",
       "    </tr>\n",
       "  </tbody>\n",
       "</table>\n",
       "</div>"
      ],
      "text/plain": [
       "                                             comment stars\n",
       "0          頭一次覺得得獎又超好看的！\\r\\n是自己心目中今年第一名的國片\\r\\n很值得進戲院     5\n",
       "1                                    最多最多三顆星。不用花錢進來看     3\n",
       "2  本來只想著支持金馬獎的心情去看，沒想到超級好看!!!!!一開始就有爆點~~~從頭到尾真的沒有...     5\n",
       "3  不懂評論裡的五顆星是怎麼一回事，邊看邊覺得尷尬癌上身，畫面很美但剪接零碎的讓人出戲，人物刻畫...     1\n",
       "4                     得獎實至名歸 很久沒進戲院了 看完後覺得值回票價 難得的好片     5\n",
       "5                             很好看！最佳劇情長片實至名歸！值得進戲院支持     5\n",
       "6                                    家庭真的是很難，或許也很簡單。     5\n",
       "7                                   很棒的電影，值得一看再看的好戲！     5\n",
       "8                                    社會寫實面，很值得看的國片!!     5\n",
       "9            很寫實的劇情，確實會是發生在家中的每一個角落\\r\\n片長158分鐘，確毫無冷場     5"
      ]
     },
     "execution_count": 19,
     "metadata": {},
     "output_type": "execute_result"
    }
   ],
   "source": [
    "df"
   ]
  },
  {
   "cell_type": "markdown",
   "metadata": {},
   "source": [
    "## 讀取Yahoo 電影評論 "
   ]
  },
  {
   "cell_type": "code",
   "execution_count": 22,
   "metadata": {},
   "outputs": [],
   "source": [
    "import pandas\n",
    "df = pandas.read_excel('https://raw.githubusercontent.com/ywchiu/pytextmining/master/data/yahoo_movie.xlsx', index_col = 0)"
   ]
  },
  {
   "cell_type": "code",
   "execution_count": 23,
   "metadata": {},
   "outputs": [
    {
     "data": {
      "text/html": [
       "<div>\n",
       "<style scoped>\n",
       "    .dataframe tbody tr th:only-of-type {\n",
       "        vertical-align: middle;\n",
       "    }\n",
       "\n",
       "    .dataframe tbody tr th {\n",
       "        vertical-align: top;\n",
       "    }\n",
       "\n",
       "    .dataframe thead th {\n",
       "        text-align: right;\n",
       "    }\n",
       "</style>\n",
       "<table border=\"1\" class=\"dataframe\">\n",
       "  <thead>\n",
       "    <tr style=\"text-align: right;\">\n",
       "      <th></th>\n",
       "      <th>content</th>\n",
       "      <th>stars</th>\n",
       "      <th>title</th>\n",
       "      <th>status</th>\n",
       "    </tr>\n",
       "  </thead>\n",
       "  <tbody>\n",
       "    <tr>\n",
       "      <th>0</th>\n",
       "      <td>不知道耶! 看完整個無感\\r\\n有種覺得就是女兒\"給蕭\"害死了老爸\\r\\n然後...既然可以...</td>\n",
       "      <td>3</td>\n",
       "      <td>古墓奇兵</td>\n",
       "      <td>soso</td>\n",
       "    </tr>\n",
       "    <tr>\n",
       "      <th>1</th>\n",
       "      <td>很好看的動作片，不會浪費錢跟時間。很久沒有這樣的探險片。可說是女版的印第安那瓊。女主角跟爸爸...</td>\n",
       "      <td>5</td>\n",
       "      <td>古墓奇兵</td>\n",
       "      <td>good</td>\n",
       "    </tr>\n",
       "    <tr>\n",
       "      <th>2</th>\n",
       "      <td>說這個不好看的話，那我還真不知道，還有什麼片是您可以去看得了。電影好看，但話說羅拉有裝可以撿...</td>\n",
       "      <td>5</td>\n",
       "      <td>古墓奇兵</td>\n",
       "      <td>good</td>\n",
       "    </tr>\n",
       "    <tr>\n",
       "      <th>3</th>\n",
       "      <td>父女重逢真的很讓人感動，五顆星。</td>\n",
       "      <td>5</td>\n",
       "      <td>古墓奇兵</td>\n",
       "      <td>good</td>\n",
       "    </tr>\n",
       "    <tr>\n",
       "      <th>4</th>\n",
       "      <td>劇情雖然老套，但仍拍出新意，古墓能殺人的方式不就是機關和毒，要求亂七八糟的觀眾，你看喪尸片看多了。</td>\n",
       "      <td>4</td>\n",
       "      <td>古墓奇兵</td>\n",
       "      <td>good</td>\n",
       "    </tr>\n",
       "  </tbody>\n",
       "</table>\n",
       "</div>"
      ],
      "text/plain": [
       "                                             content  stars title status\n",
       "0  不知道耶! 看完整個無感\\r\\n有種覺得就是女兒\"給蕭\"害死了老爸\\r\\n然後...既然可以...      3  古墓奇兵   soso\n",
       "1  很好看的動作片，不會浪費錢跟時間。很久沒有這樣的探險片。可說是女版的印第安那瓊。女主角跟爸爸...      5  古墓奇兵   good\n",
       "2  說這個不好看的話，那我還真不知道，還有什麼片是您可以去看得了。電影好看，但話說羅拉有裝可以撿...      5  古墓奇兵   good\n",
       "3                                   父女重逢真的很讓人感動，五顆星。      5  古墓奇兵   good\n",
       "4  劇情雖然老套，但仍拍出新意，古墓能殺人的方式不就是機關和毒，要求亂七八糟的觀眾，你看喪尸片看多了。      4  古墓奇兵   good"
      ]
     },
     "execution_count": 23,
     "metadata": {},
     "output_type": "execute_result"
    }
   ],
   "source": [
    "df.head()"
   ]
  },
  {
   "cell_type": "code",
   "execution_count": 25,
   "metadata": {},
   "outputs": [
    {
     "data": {
      "text/plain": [
       "array(['古墓奇兵', '最後的絕地武士', '攻殼機動隊', '奧創紀元', '最終騎士'], dtype=object)"
      ]
     },
     "execution_count": 25,
     "metadata": {},
     "output_type": "execute_result"
    }
   ],
   "source": [
    "df['title'].unique()"
   ]
  },
  {
   "cell_type": "code",
   "execution_count": 28,
   "metadata": {},
   "outputs": [
    {
     "name": "stderr",
     "output_type": "stream",
     "text": [
      "Building prefix dict from the default dictionary ...\n",
      "Dumping model to file cache /var/folders/46/b7dzk4mn6g54qzptv608w7d00000gn/T/jieba.cache\n",
      "Loading model cost 0.806 seconds.\n",
      "Prefix dict has been built succesfully.\n"
     ]
    }
   ],
   "source": [
    "import jieba\n",
    "corpus = []\n",
    "tags = []\n",
    "for idx, rec in df[df['status'].isin(['good', 'bad'])].iterrows():\n",
    "    corpus.append(' '.join(jieba.cut(rec['content'])))\n",
    "    tags.append(rec['status'])"
   ]
  },
  {
   "cell_type": "code",
   "execution_count": 29,
   "metadata": {},
   "outputs": [
    {
     "data": {
      "text/plain": [
       "'很 好看 的 動作片 ， 不會 浪費 錢 跟 時間 。 很 久 沒有 這樣 的 探險 片 。 可 說 是 女版 的 印第安那 瓊 。 女 主角 跟 爸爸 還 有 反派 都 演 得到 位 。 陸任 的 男 配角 常 在 港片 看到 ， 很帥 。 一時 忘了 名字 。 希望 有 續集 。'"
      ]
     },
     "execution_count": 29,
     "metadata": {},
     "output_type": "execute_result"
    }
   ],
   "source": [
    "corpus[0]"
   ]
  },
  {
   "cell_type": "code",
   "execution_count": 30,
   "metadata": {},
   "outputs": [],
   "source": [
    "from sklearn.feature_extraction.text import TfidfVectorizer\n",
    "vectorizer = TfidfVectorizer()\n",
    "X = vectorizer.fit_transform(corpus)"
   ]
  },
  {
   "cell_type": "code",
   "execution_count": 31,
   "metadata": {},
   "outputs": [
    {
     "data": {
      "text/plain": [
       "(980, 4839)"
      ]
     },
     "execution_count": 31,
     "metadata": {},
     "output_type": "execute_result"
    }
   ],
   "source": [
    "X.shape"
   ]
  },
  {
   "cell_type": "code",
   "execution_count": 32,
   "metadata": {},
   "outputs": [
    {
     "data": {
      "text/plain": [
       "980"
      ]
     },
     "execution_count": 32,
     "metadata": {},
     "output_type": "execute_result"
    }
   ],
   "source": [
    "len(tags)"
   ]
  },
  {
   "cell_type": "code",
   "execution_count": 33,
   "metadata": {},
   "outputs": [],
   "source": [
    "from sklearn.model_selection import train_test_split\n",
    "train_X, test_X, train_y, test_y = train_test_split(X, tags, test_size = 0.3, random_state = 42)"
   ]
  },
  {
   "cell_type": "code",
   "execution_count": 34,
   "metadata": {},
   "outputs": [
    {
     "data": {
      "text/plain": [
       "(686, 4839)"
      ]
     },
     "execution_count": 34,
     "metadata": {},
     "output_type": "execute_result"
    }
   ],
   "source": [
    "train_X.shape"
   ]
  },
  {
   "cell_type": "code",
   "execution_count": 35,
   "metadata": {},
   "outputs": [
    {
     "data": {
      "text/plain": [
       "(294, 4839)"
      ]
     },
     "execution_count": 35,
     "metadata": {},
     "output_type": "execute_result"
    }
   ],
   "source": [
    "test_X.shape"
   ]
  },
  {
   "cell_type": "code",
   "execution_count": 36,
   "metadata": {},
   "outputs": [
    {
     "data": {
      "text/plain": [
       "MultinomialNB(alpha=0.01, class_prior=None, fit_prior=True)"
      ]
     },
     "execution_count": 36,
     "metadata": {},
     "output_type": "execute_result"
    }
   ],
   "source": [
    "from sklearn.naive_bayes import MultinomialNB\n",
    "clf = MultinomialNB(alpha = 0.01)\n",
    "clf.fit(train_X, train_y)"
   ]
  },
  {
   "cell_type": "code",
   "execution_count": 37,
   "metadata": {},
   "outputs": [],
   "source": [
    "predicted = clf.predict(test_X)"
   ]
  },
  {
   "cell_type": "code",
   "execution_count": 41,
   "metadata": {},
   "outputs": [
    {
     "data": {
      "text/plain": [
       "0.7687074829931972"
      ]
     },
     "execution_count": 41,
     "metadata": {},
     "output_type": "execute_result"
    }
   ],
   "source": [
    "(predicted == test_y).sum() / len(predicted)"
   ]
  },
  {
   "cell_type": "code",
   "execution_count": 42,
   "metadata": {},
   "outputs": [
    {
     "data": {
      "text/plain": [
       "0.7687074829931972"
      ]
     },
     "execution_count": 42,
     "metadata": {},
     "output_type": "execute_result"
    }
   ],
   "source": [
    "from sklearn.metrics import accuracy_score, confusion_matrix\n",
    "accuracy_score(test_y, predicted)"
   ]
  },
  {
   "cell_type": "code",
   "execution_count": 44,
   "metadata": {},
   "outputs": [
    {
     "name": "stdout",
     "output_type": "stream",
     "text": [
      "['bad' 'good']\n"
     ]
    }
   ],
   "source": [
    "print(clf.classes_)"
   ]
  },
  {
   "cell_type": "code",
   "execution_count": 43,
   "metadata": {},
   "outputs": [
    {
     "data": {
      "text/plain": [
       "array([[ 82,  35],\n",
       "       [ 33, 144]])"
      ]
     },
     "execution_count": 43,
     "metadata": {},
     "output_type": "execute_result"
    }
   ],
   "source": [
    "confusion_matrix(test_y, predicted)"
   ]
  },
  {
   "cell_type": "code",
   "execution_count": 46,
   "metadata": {},
   "outputs": [
    {
     "name": "stdout",
     "output_type": "stream",
     "text": [
      "(6.672863530338025, '睡著', 10.800754416632653, 0.6186086179534868)\n",
      "(4.823810509851034, '浪費', 7.204200091270568, 0.49346664355044145)\n",
      "(4.058824255401444, '爛片', 7.2666613024304265, 0.7903365223956232)\n",
      "(3.6956875803437925, '看到', 13.897332511559544, 2.760418652668346)\n",
      "(3.4692918154989485, '睡覺', 4.362408041695186, 0.2574347370279635)\n",
      "(3.2563387106676434, '失望', 7.196320060507634, 1.2099421159515005)\n",
      "(3.184964059891438, '演什麼', 3.184964059891438, 0.0)\n",
      "(2.6264409387388845, '只有', 4.606838953575162, 0.7540234336231402)\n",
      "(2.2930874637087633, '空洞', 3.1738043456202947, 0.3840747009654352)\n",
      "(2.17199793254736, '五集', 2.3499882879130665, 0.08194775542762894)\n",
      "(2.1053163150222374, '四集', 2.1053163150222374, 0.0)\n",
      "(2.021695889662221, '亂七八糟', 2.529498271257764, 0.25117644260551225)\n",
      "(1.9198916259333108, '爛透', 1.9198916259333108, 0.0)\n",
      "(1.9147255861808632, '超爛', 1.9147255861808632, 0.0)\n",
      "(1.8322298165070485, '難看', 11.96566093557524, 5.530655067270165)\n",
      "(1.764198580729871, '小時', 2.941518804755412, 0.6673399677821239)\n",
      "(1.6914526886055228, '爛爆', 1.6914526886055228, 0.0)\n",
      "(1.6847481692992514, '一星', 1.9875291630967915, 0.1797188442255307)\n",
      "(1.6261288030017416, '失眠', 1.6261288030017416, 0.0)\n",
      "(1.6084425904206807, '完全', 4.8813863212916315, 2.0348526894049277)\n"
     ]
    }
   ],
   "source": [
    "import operator\n",
    "coef_features_c1_c2 = []\n",
    "\n",
    "for index, features in enumerate(zip(vectorizer.get_feature_names(), \\\n",
    "                        clf.feature_count_[0], clf.feature_count_[1])):\n",
    "    feat,c1,c2 = features\n",
    "    coef_features_c1_c2.append(tuple([c1/(c2 + 1), feat, c1, c2]))\n",
    "\n",
    "for i in sorted(coef_features_c1_c2, key = operator.itemgetter(0), reverse=True)[0:20]:\n",
    "    print(i)\n"
   ]
  },
  {
   "cell_type": "code",
   "execution_count": 59,
   "metadata": {},
   "outputs": [],
   "source": [
    "s = '很好看！最佳劇情長片實至名歸！值得進戲院支持'\n",
    "seg_corpus = [' '.join(jieba.cut(s))]"
   ]
  },
  {
   "cell_type": "code",
   "execution_count": 60,
   "metadata": {},
   "outputs": [],
   "source": [
    "predict_X = vectorizer.transform(seg_corpus)"
   ]
  },
  {
   "cell_type": "code",
   "execution_count": 61,
   "metadata": {},
   "outputs": [
    {
     "data": {
      "text/plain": [
       "array(['good'], dtype='<U4')"
      ]
     },
     "execution_count": 61,
     "metadata": {},
     "output_type": "execute_result"
    }
   ],
   "source": [
    "clf.predict(predict_X)"
   ]
  },
  {
   "cell_type": "markdown",
   "metadata": {},
   "source": [
    "## Wordnet"
   ]
  },
  {
   "cell_type": "code",
   "execution_count": 62,
   "metadata": {},
   "outputs": [],
   "source": [
    "import nltk"
   ]
  },
  {
   "cell_type": "code",
   "execution_count": 63,
   "metadata": {},
   "outputs": [
    {
     "name": "stdout",
     "output_type": "stream",
     "text": [
      "[nltk_data] Downloading package wordnet to\n",
      "[nltk_data]     /Users/davidchiu/nltk_data...\n",
      "[nltk_data]   Package wordnet is already up-to-date!\n"
     ]
    },
    {
     "data": {
      "text/plain": [
       "True"
      ]
     },
     "execution_count": 63,
     "metadata": {},
     "output_type": "execute_result"
    }
   ],
   "source": [
    "nltk.download('wordnet')"
   ]
  },
  {
   "cell_type": "code",
   "execution_count": 64,
   "metadata": {},
   "outputs": [
    {
     "data": {
      "text/plain": [
       "[Synset('car.n.01')]"
      ]
     },
     "execution_count": 64,
     "metadata": {},
     "output_type": "execute_result"
    }
   ],
   "source": [
    "from nltk.corpus import wordnet as wn\n",
    "wn.synsets('motorcar')\n",
    "#wn.synsets('trunk’)\n"
   ]
  },
  {
   "cell_type": "code",
   "execution_count": 66,
   "metadata": {},
   "outputs": [
    {
     "data": {
      "text/plain": [
       "[Synset('trunk.n.01'),\n",
       " Synset('trunk.n.02'),\n",
       " Synset('torso.n.01'),\n",
       " Synset('luggage_compartment.n.01'),\n",
       " Synset('proboscis.n.02')]"
      ]
     },
     "execution_count": 66,
     "metadata": {},
     "output_type": "execute_result"
    }
   ],
   "source": [
    "wn.synsets('trunk')"
   ]
  },
  {
   "cell_type": "code",
   "execution_count": 67,
   "metadata": {},
   "outputs": [
    {
     "data": {
      "text/plain": [
       "['car', 'auto', 'automobile', 'machine', 'motorcar']"
      ]
     },
     "execution_count": 67,
     "metadata": {},
     "output_type": "execute_result"
    }
   ],
   "source": [
    "wn.synset('car.n.01').lemma_names()"
   ]
  },
  {
   "cell_type": "markdown",
   "metadata": {},
   "source": [
    "## 計數手法"
   ]
  },
  {
   "cell_type": "code",
   "execution_count": 70,
   "metadata": {},
   "outputs": [],
   "source": [
    "text = 'You say goodbye and I say hello .'\n",
    "words = text.lower().split()\n"
   ]
  },
  {
   "cell_type": "code",
   "execution_count": 72,
   "metadata": {},
   "outputs": [],
   "source": [
    "word_to_id = {}\n",
    "id_to_word = {}\n",
    "for idx, w in enumerate(set(words)):\n",
    "    word_to_id[w] = idx\n",
    "    id_to_word[idx] = w"
   ]
  },
  {
   "cell_type": "code",
   "execution_count": 73,
   "metadata": {},
   "outputs": [
    {
     "data": {
      "text/plain": [
       "{'.': 0, 'say': 1, 'and': 2, 'goodbye': 3, 'i': 4, 'hello': 5, 'you': 6}"
      ]
     },
     "execution_count": 73,
     "metadata": {},
     "output_type": "execute_result"
    }
   ],
   "source": [
    "word_to_id"
   ]
  },
  {
   "cell_type": "code",
   "execution_count": 74,
   "metadata": {},
   "outputs": [
    {
     "data": {
      "text/plain": [
       "{0: '.', 1: 'say', 2: 'and', 3: 'goodbye', 4: 'i', 5: 'hello', 6: 'you'}"
      ]
     },
     "execution_count": 74,
     "metadata": {},
     "output_type": "execute_result"
    }
   ],
   "source": [
    "id_to_word"
   ]
  },
  {
   "cell_type": "code",
   "execution_count": 87,
   "metadata": {},
   "outputs": [],
   "source": [
    "def preprocess(text):\n",
    "    text = text.lower()\n",
    "    text = text.replace('.', ' .')\n",
    "    words = text.split(' ')\n",
    "    word_to_id = {}\n",
    "    id_to_word = {}\n",
    "    for word in words:\n",
    "        if word not in word_to_id:\n",
    "            new_id = len(word_to_id)\n",
    "            word_to_id[word] = new_id\n",
    "            id_to_word[new_id] = word\n",
    "    corpus = np.array([word_to_id[w] for w in words])\n",
    "    return corpus, word_to_id, id_to_word\n",
    "\n",
    "text = 'You say goodbye and I say hello.'\n",
    "corpus, word_to_id, id_to_word = preprocess(text)\n",
    "\n"
   ]
  },
  {
   "cell_type": "code",
   "execution_count": 88,
   "metadata": {},
   "outputs": [
    {
     "data": {
      "text/plain": [
       "(array([0, 1, 2, 3, 4, 1, 5, 6]),\n",
       " {'you': 0, 'say': 1, 'goodbye': 2, 'and': 3, 'i': 4, 'hello': 5, '.': 6},\n",
       " {0: 'you', 1: 'say', 2: 'goodbye', 3: 'and', 4: 'i', 5: 'hello', 6: '.'})"
      ]
     },
     "execution_count": 88,
     "metadata": {},
     "output_type": "execute_result"
    }
   ],
   "source": [
    "corpus, word_to_id, id_to_word"
   ]
  },
  {
   "cell_type": "code",
   "execution_count": 89,
   "metadata": {},
   "outputs": [],
   "source": [
    "import numpy as np\n",
    "def create_co_matrix(corpus, vocab_size, window_size=1):\n",
    "    corpus_size = len(corpus)\n",
    "    co_matrix = np.zeros((vocab_size, vocab_size), dtype=np.int32)\n",
    "\n",
    "    for idx, word_id in enumerate(corpus):\n",
    "        for i in range(1, window_size + 1):\n",
    "            left_idx = idx - i\n",
    "            right_idx = idx + i\n",
    "\n",
    "            if left_idx >= 0:\n",
    "                left_word_id = corpus[left_idx]\n",
    "                co_matrix[word_id, left_word_id] += 1\n",
    "\n",
    "            if right_idx < corpus_size:\n",
    "                right_word_id = corpus[right_idx]\n",
    "                co_matrix[word_id, right_word_id] += 1\n",
    "\n",
    "    return co_matrix\n",
    "\n"
   ]
  },
  {
   "cell_type": "code",
   "execution_count": 91,
   "metadata": {},
   "outputs": [],
   "source": [
    "C =create_co_matrix(corpus, len(word_to_id), 1)"
   ]
  },
  {
   "cell_type": "code",
   "execution_count": 95,
   "metadata": {},
   "outputs": [
    {
     "data": {
      "text/plain": [
       "array([1, 0, 1, 0, 1, 1, 0], dtype=int32)"
      ]
     },
     "execution_count": 95,
     "metadata": {},
     "output_type": "execute_result"
    }
   ],
   "source": [
    "from sklearn.metrics.pairwise import cosine_similarity\n",
    "C[0]\n",
    "C[1]"
   ]
  },
  {
   "cell_type": "code",
   "execution_count": 97,
   "metadata": {},
   "outputs": [
    {
     "data": {
      "text/plain": [
       "array([1.        , 0.        , 0.70710678, 0.        , 0.70710678,\n",
       "       0.70710678, 0.        ])"
      ]
     },
     "execution_count": 97,
     "metadata": {},
     "output_type": "execute_result"
    }
   ],
   "source": [
    "cosine_similarity(C)[0]"
   ]
  },
  {
   "cell_type": "code",
   "execution_count": 99,
   "metadata": {},
   "outputs": [],
   "source": [
    "C2 =create_co_matrix(corpus, len(word_to_id), 2)"
   ]
  },
  {
   "cell_type": "code",
   "execution_count": 100,
   "metadata": {},
   "outputs": [
    {
     "data": {
      "text/plain": [
       "array([[0, 1, 1, 0, 0, 0, 0],\n",
       "       [1, 0, 1, 2, 1, 1, 1],\n",
       "       [1, 1, 0, 1, 1, 0, 0],\n",
       "       [0, 2, 1, 0, 1, 0, 0],\n",
       "       [0, 1, 1, 1, 0, 1, 0],\n",
       "       [0, 1, 0, 0, 1, 0, 1],\n",
       "       [0, 1, 0, 0, 0, 1, 0]], dtype=int32)"
      ]
     },
     "execution_count": 100,
     "metadata": {},
     "output_type": "execute_result"
    }
   ],
   "source": [
    "C2"
   ]
  },
  {
   "cell_type": "code",
   "execution_count": 115,
   "metadata": {},
   "outputs": [],
   "source": [
    "def most_similar(term, word_to_id, id_to_word, C, top=5):\n",
    "    cs = cosine_similarity(C)\n",
    "    ranks = cs[word_to_id[term]].argsort()[::-1][1:top+1]\n",
    "    for rank in ranks:\n",
    "        print(id_to_word[rank],cs[word_to_id[term]][rank])\n",
    "    #return cs[word_to_id[term]].argsort()[::-1][1:top]"
   ]
  },
  {
   "cell_type": "code",
   "execution_count": 116,
   "metadata": {},
   "outputs": [
    {
     "name": "stdout",
     "output_type": "stream",
     "text": [
      "hello 0.7071067811865475\n",
      "i 0.7071067811865475\n",
      "goodbye 0.7071067811865475\n",
      ". 0.0\n",
      "and 0.0\n"
     ]
    }
   ],
   "source": [
    "most_similar('you', word_to_id, id_to_word, C, top=5)\n"
   ]
  },
  {
   "cell_type": "code",
   "execution_count": 117,
   "metadata": {},
   "outputs": [],
   "source": [
    "text = '''\n",
    "Tesla's new Cybertruck smashed during demo\n",
    "Tesla has unveiled its \"Cybertruck\" pickup truck, but not without an embarrassing moment on stage.\n",
    "\n",
    "The truck's windows were smashed during a demonstration supposed to show how hard they were to break.\n",
    "\n",
    "Mr Musk was heard to swear before joking: \"Room for improvement.\"\n",
    "\n",
    "The truck was unveiled in Hawthorne, California, where its stainless steel, angular design was greeted with cheers but also bemusement.\n",
    "\n",
    "\"People probably won’t get past the looks of it,\" said Jessica Caldwell, from vehicle marketplace Edmunds.\n",
    "\n",
    "\"It looks like a truck version of the DeLorean from Back To The Future.\"\n",
    "\n",
    "The pickup market represents a significant opportunity for Tesla as it improves its battery technology, meaning carrying heavier loads over long distances is now practical.\n",
    "According to Edmunds, large trucks have accounted for 14.4% of new vehicle sales up until October this year, compared to 12.6% in 2015. The vehicles have an average selling value of more than $50,000.\n",
    "\n",
    "Tesla's truck will be sold starting at $39,900 (£30,900), a model which has a range of 250 miles (402km), while the most expensive model, at $69,900, will have a range of 500 miles. The truck will seat up to six adults and haul a payload of 3,500lbs, Tesla said.\n",
    "\n",
    "Mr Musk said pre-orders would start immediately, with production starting in late 2021 - though the 48-year-old has a history of missing his own deadlines.\n",
    "\n",
    "The Cybertruck's launch will undoubtedly be overshadowed by the \"fail\", Ms Caldwell said.\n",
    "\n",
    "It happened during a segment displaying how the car's stainless steel exterior, and metal windows, could withstand bullets and sledgehammers. However, when Tesla's head of design, Franz von Holzhausen, threw a metal ball at the front left window, it smashed. As too did the rear left.\n",
    "\n",
    "\"It didn’t go through, that’s a plus side,\" Mr Musk said.\n",
    "\n",
    "\"We threw wrenches, we threw literally the kitchen sink at the glass and it didn’t break. For some reason it broke now… I don’t know why.\"\n",
    "\n",
    "At the time of writing, Tesla stock price was mostly unchanged in after-hours trading.\n",
    "'''"
   ]
  },
  {
   "cell_type": "code",
   "execution_count": 118,
   "metadata": {},
   "outputs": [],
   "source": [
    "corpus, word_to_id, id_to_word = preprocess(text)"
   ]
  },
  {
   "cell_type": "code",
   "execution_count": 120,
   "metadata": {},
   "outputs": [],
   "source": [
    "#corpus"
   ]
  },
  {
   "cell_type": "code",
   "execution_count": 123,
   "metadata": {},
   "outputs": [],
   "source": [
    "C =create_co_matrix(corpus, len(word_to_id), 3)"
   ]
  },
  {
   "cell_type": "code",
   "execution_count": 125,
   "metadata": {},
   "outputs": [
    {
     "name": "stdout",
     "output_type": "stream",
     "text": [
      "\n",
      "tesla's 0.5163977794943223\n",
      "smashed 0.49999999999999994\n",
      "new 0.4242640687119285\n",
      "during 0.3813850356982369\n",
      "windows 0.36514837167011077\n"
     ]
    }
   ],
   "source": [
    "most_similar('cybertruck', word_to_id, id_to_word, C, top=5)\n"
   ]
  },
  {
   "cell_type": "code",
   "execution_count": 126,
   "metadata": {},
   "outputs": [
    {
     "data": {
      "text/plain": [
       "(237, 237)"
      ]
     },
     "execution_count": 126,
     "metadata": {},
     "output_type": "execute_result"
    }
   ],
   "source": [
    "C.shape"
   ]
  },
  {
   "cell_type": "code",
   "execution_count": 128,
   "metadata": {},
   "outputs": [],
   "source": [
    "def ppmi(C, verbose=False, eps = 1e-8):\n",
    "    M = np.zeros_like(C, dtype=np.float32)\n",
    "    N = np.sum(C)\n",
    "    S = np.sum(C, axis=0)\n",
    "    total = C.shape[0] * C.shape[1]\n",
    "    cnt = 0\n",
    "    for i in range(C.shape[0]):\n",
    "        for j in range(C.shape[1]):\n",
    "            pmi = np.log2(C[i, j] * N / (S[j]*S[i]) + eps)\n",
    "            M[i, j] = max(0, pmi)\n",
    "            if verbose:\n",
    "                cnt += 1\n",
    "                if cnt % (total//100) == 0:\n",
    "                    print('%.1f%% done' % (100*cnt/total))\n",
    "    return M\n",
    "\n"
   ]
  },
  {
   "cell_type": "code",
   "execution_count": 130,
   "metadata": {},
   "outputs": [],
   "source": [
    "W = ppmi(C)"
   ]
  },
  {
   "cell_type": "code",
   "execution_count": 133,
   "metadata": {},
   "outputs": [
    {
     "name": "stdout",
     "output_type": "stream",
     "text": [
      "smashed 0.517946\n",
      "\n",
      "tesla's 0.4196544\n",
      "new 0.41764203\n",
      "during 0.32555664\n",
      "has 0.29877335\n"
     ]
    }
   ],
   "source": [
    "most_similar('cybertruck', word_to_id, id_to_word, W, top=5)"
   ]
  },
  {
   "cell_type": "code",
   "execution_count": 135,
   "metadata": {},
   "outputs": [],
   "source": [
    "text = 'You say goodbye and I say hello.'\n",
    "corpus, word_to_id, id_to_word = preprocess(text)\n",
    "C =create_co_matrix(corpus, len(word_to_id), 2)"
   ]
  },
  {
   "cell_type": "code",
   "execution_count": 136,
   "metadata": {},
   "outputs": [
    {
     "data": {
      "text/plain": [
       "array([[0, 1, 1, 0, 0, 0, 0],\n",
       "       [1, 0, 1, 2, 1, 1, 1],\n",
       "       [1, 1, 0, 1, 1, 0, 0],\n",
       "       [0, 2, 1, 0, 1, 0, 0],\n",
       "       [0, 1, 1, 1, 0, 1, 0],\n",
       "       [0, 1, 0, 0, 1, 0, 1],\n",
       "       [0, 1, 0, 0, 0, 1, 0]], dtype=int32)"
      ]
     },
     "execution_count": 136,
     "metadata": {},
     "output_type": "execute_result"
    }
   ],
   "source": [
    "C"
   ]
  },
  {
   "cell_type": "markdown",
   "metadata": {},
   "source": [
    "## 降低維度"
   ]
  },
  {
   "cell_type": "code",
   "execution_count": 137,
   "metadata": {},
   "outputs": [],
   "source": [
    "from sklearn.datasets import load_iris\n",
    "iris = load_iris()"
   ]
  },
  {
   "cell_type": "code",
   "execution_count": 138,
   "metadata": {},
   "outputs": [
    {
     "data": {
      "text/plain": [
       "(150, 4)"
      ]
     },
     "execution_count": 138,
     "metadata": {},
     "output_type": "execute_result"
    }
   ],
   "source": [
    "iris.data.shape"
   ]
  },
  {
   "cell_type": "code",
   "execution_count": 141,
   "metadata": {},
   "outputs": [
    {
     "data": {
      "text/plain": [
       "array([[5.1, 3.5, 1.4, 0.2],\n",
       "       [4.9, 3. , 1.4, 0.2],\n",
       "       [4.7, 3.2, 1.3, 0.2]])"
      ]
     },
     "execution_count": 141,
     "metadata": {},
     "output_type": "execute_result"
    }
   ],
   "source": [
    "iris.data[0:3,:]"
   ]
  },
  {
   "cell_type": "code",
   "execution_count": 142,
   "metadata": {},
   "outputs": [],
   "source": [
    "X = iris.data[:,2]\n",
    "Y = iris.data[:,3]"
   ]
  },
  {
   "cell_type": "code",
   "execution_count": 146,
   "metadata": {},
   "outputs": [
    {
     "name": "stdout",
     "output_type": "stream",
     "text": [
      "Populating the interactive namespace from numpy and matplotlib\n"
     ]
    },
    {
     "data": {
      "text/plain": [
       "<matplotlib.collections.PathCollection at 0x11db14c88>"
      ]
     },
     "execution_count": 146,
     "metadata": {},
     "output_type": "execute_result"
    },
    {
     "data": {
      "image/png": "[encoded data removed]",
      "text/plain": [
       "<Figure size 432x288 with 1 Axes>"
      ]
     },
     "metadata": {},
     "output_type": "display_data"
    }
   ],
   "source": [
    "%pylab inline\n",
    "from matplotlib import pyplot as plt\n",
    "plt.scatter(X, Y, c=iris.target, cmap=plt.cm.Set1)"
   ]
  },
  {
   "cell_type": "code",
   "execution_count": 155,
   "metadata": {},
   "outputs": [],
   "source": [
    "from sklearn.decomposition.pca import PCA\n",
    "clf = PCA(n_components  = 2)\n",
    "X = clf.fit_transform(iris.data)"
   ]
  },
  {
   "cell_type": "code",
   "execution_count": 158,
   "metadata": {},
   "outputs": [
    {
     "data": {
      "text/plain": [
       "array([[ 0.36158968, -0.08226889,  0.85657211,  0.35884393],\n",
       "       [ 0.65653988,  0.72971237, -0.1757674 , -0.07470647]])"
      ]
     },
     "execution_count": 158,
     "metadata": {},
     "output_type": "execute_result"
    }
   ],
   "source": [
    "clf.components_"
   ]
  },
  {
   "cell_type": "code",
   "execution_count": 152,
   "metadata": {},
   "outputs": [
    {
     "data": {
      "text/plain": [
       "(150, 2)"
      ]
     },
     "execution_count": 152,
     "metadata": {},
     "output_type": "execute_result"
    }
   ],
   "source": [
    "X.shape"
   ]
  },
  {
   "cell_type": "code",
   "execution_count": 151,
   "metadata": {},
   "outputs": [
    {
     "name": "stdout",
     "output_type": "stream",
     "text": [
      "Populating the interactive namespace from numpy and matplotlib\n"
     ]
    },
    {
     "name": "stderr",
     "output_type": "stream",
     "text": [
      "/Users/davidchiu/.pyenv/versions/3.6.2/lib/python3.6/site-packages/IPython/core/magics/pylab.py:161: UserWarning: pylab import has clobbered these variables: ['clf']\n",
      "`%matplotlib` prevents importing * from pylab and numpy\n",
      "  \"\\n`%matplotlib` prevents importing * from pylab and numpy\"\n"
     ]
    },
    {
     "data": {
      "text/plain": [
       "<matplotlib.collections.PathCollection at 0x134562780>"
      ]
     },
     "execution_count": 151,
     "metadata": {},
     "output_type": "execute_result"
    },
    {
     "data": {
      "image/png": "[encoded data removed]",
      "text/plain": [
       "<Figure size 432x288 with 1 Axes>"
      ]
     },
     "metadata": {},
     "output_type": "display_data"
    }
   ],
   "source": [
    "%pylab inline\n",
    "from matplotlib import pyplot as plt\n",
    "plt.scatter(X[:,0], X[:,1], c=iris.target, cmap=plt.cm.Set1)"
   ]
  },
  {
   "cell_type": "markdown",
   "metadata": {},
   "source": [
    "## SVD"
   ]
  },
  {
   "cell_type": "code",
   "execution_count": 159,
   "metadata": {},
   "outputs": [],
   "source": [
    "from scipy.linalg import svd\n",
    "U, S, V = svd(iris.data, full_matrices=False)"
   ]
  },
  {
   "cell_type": "code",
   "execution_count": 160,
   "metadata": {},
   "outputs": [
    {
     "data": {
      "text/plain": [
       "(150, 4)"
      ]
     },
     "execution_count": 160,
     "metadata": {},
     "output_type": "execute_result"
    }
   ],
   "source": [
    "iris.data.shape"
   ]
  },
  {
   "cell_type": "code",
   "execution_count": 161,
   "metadata": {},
   "outputs": [
    {
     "data": {
      "text/plain": [
       "(150, 4)"
      ]
     },
     "execution_count": 161,
     "metadata": {},
     "output_type": "execute_result"
    }
   ],
   "source": [
    "U.shape"
   ]
  },
  {
   "cell_type": "code",
   "execution_count": 162,
   "metadata": {},
   "outputs": [
    {
     "data": {
      "text/plain": [
       "(4,)"
      ]
     },
     "execution_count": 162,
     "metadata": {},
     "output_type": "execute_result"
    }
   ],
   "source": [
    "S.shape"
   ]
  },
  {
   "cell_type": "code",
   "execution_count": 163,
   "metadata": {},
   "outputs": [
    {
     "data": {
      "text/plain": [
       "(4, 4)"
      ]
     },
     "execution_count": 163,
     "metadata": {},
     "output_type": "execute_result"
    }
   ],
   "source": [
    "V.shape"
   ]
  },
  {
   "cell_type": "code",
   "execution_count": 164,
   "metadata": {},
   "outputs": [
    {
     "data": {
      "text/plain": [
       "array([95.95066751, 17.72295328,  3.46929666,  1.87891236])"
      ]
     },
     "execution_count": 164,
     "metadata": {},
     "output_type": "execute_result"
    }
   ],
   "source": [
    "S"
   ]
  },
  {
   "cell_type": "code",
   "execution_count": 165,
   "metadata": {},
   "outputs": [
    {
     "data": {
      "text/plain": [
       "array([[95.95066751,  0.        ,  0.        ,  0.        ],\n",
       "       [ 0.        , 17.72295328,  0.        ,  0.        ],\n",
       "       [ 0.        ,  0.        ,  3.46929666,  0.        ],\n",
       "       [ 0.        ,  0.        ,  0.        ,  1.87891236]])"
      ]
     },
     "execution_count": 165,
     "metadata": {},
     "output_type": "execute_result"
    }
   ],
   "source": [
    "np.diag(S)"
   ]
  },
  {
   "cell_type": "code",
   "execution_count": 166,
   "metadata": {},
   "outputs": [],
   "source": [
    "A_new = np.dot(U.dot(np.diag(S)), V)"
   ]
  },
  {
   "cell_type": "code",
   "execution_count": 168,
   "metadata": {},
   "outputs": [],
   "source": [
    "#A_new"
   ]
  },
  {
   "cell_type": "code",
   "execution_count": 169,
   "metadata": {},
   "outputs": [],
   "source": [
    "from sklearn.decomposition import TruncatedSVD\n",
    "svd = TruncatedSVD(2)\n",
    "X = svd.fit_transform(iris.data)"
   ]
  },
  {
   "cell_type": "code",
   "execution_count": 171,
   "metadata": {},
   "outputs": [],
   "source": [
    "#X"
   ]
  },
  {
   "cell_type": "markdown",
   "metadata": {},
   "source": [
    "## 使用 SVD 壓縮圖片"
   ]
  },
  {
   "cell_type": "code",
   "execution_count": 172,
   "metadata": {},
   "outputs": [],
   "source": [
    "from PIL import Image\n",
    "im = Image.open('/Users/davidchiu/Desktop/chilin.jpg')"
   ]
  },
  {
   "cell_type": "code",
   "execution_count": 173,
   "metadata": {},
   "outputs": [
    {
     "data": {
      "image/png": "[encoded data removed]",
      "text/plain": [
       "<PIL.JpegImagePlugin.JpegImageFile image mode=RGB size=640x640 at 0x1365A92E8>"
      ]
     },
     "execution_count": 173,
     "metadata": {},
     "output_type": "execute_result"
    }
   ],
   "source": [
    "im"
   ]
  },
  {
   "cell_type": "code",
   "execution_count": 174,
   "metadata": {},
   "outputs": [],
   "source": [
    "import numpy\n",
    "imgary = numpy.array(im)\n",
    "imgary = imgary / 255"
   ]
  },
  {
   "cell_type": "code",
   "execution_count": 176,
   "metadata": {},
   "outputs": [
    {
     "data": {
      "text/plain": [
       "(640, 640, 3)"
      ]
     },
     "execution_count": 176,
     "metadata": {},
     "output_type": "execute_result"
    }
   ],
   "source": [
    "imgary.shape"
   ]
  },
  {
   "cell_type": "code",
   "execution_count": 177,
   "metadata": {},
   "outputs": [
    {
     "data": {
      "text/plain": [
       "9830400"
      ]
     },
     "execution_count": 177,
     "metadata": {},
     "output_type": "execute_result"
    }
   ],
   "source": [
    "original_bytes = imgary.nbytes\n",
    "original_bytes\n"
   ]
  },
  {
   "cell_type": "code",
   "execution_count": 178,
   "metadata": {},
   "outputs": [],
   "source": [
    "img_red   = imgary[:, :, 0]\n",
    "img_green = imgary[:, :, 1]\n",
    "img_blue  = imgary[:, :, 2]"
   ]
  },
  {
   "cell_type": "code",
   "execution_count": 180,
   "metadata": {},
   "outputs": [],
   "source": [
    "from numpy.linalg import svd\n",
    "\n",
    "U_r, S_r, V_r = svd(img_red, full_matrices=True)\n",
    "U_g, S_g, V_g = svd(img_green, full_matrices=True)\n",
    "U_b, S_b, V_b = svd(img_blue, full_matrices=True)"
   ]
  },
  {
   "cell_type": "code",
   "execution_count": 181,
   "metadata": {},
   "outputs": [
    {
     "data": {
      "text/plain": [
       "((640, 640), (640,), (640, 640))"
      ]
     },
     "execution_count": 181,
     "metadata": {},
     "output_type": "execute_result"
    }
   ],
   "source": [
    "U_r.shape, S_r.shape, V_r.shape"
   ]
  },
  {
   "cell_type": "code",
   "execution_count": 182,
   "metadata": {},
   "outputs": [],
   "source": [
    "k = 100"
   ]
  },
  {
   "cell_type": "code",
   "execution_count": 183,
   "metadata": {},
   "outputs": [],
   "source": [
    "U_r_k = U_r[:, 0:k]\n",
    "V_r_k = V_r[0:k, :]\n",
    "U_g_k = U_g[:, 0:k]\n",
    "V_g_k = V_g[0:k, :]\n",
    "U_b_k = U_b[:, 0:k]\n",
    "V_b_k = V_b[0:k, :]\n",
    "\n",
    "S_r_k = S_r[0:k]\n",
    "S_g_k = S_g[0:k]\n",
    "S_b_k = S_b[0:k]"
   ]
  },
  {
   "cell_type": "code",
   "execution_count": 184,
   "metadata": {},
   "outputs": [
    {
     "data": {
      "text/plain": [
       "((640, 100), (100,), (100, 640))"
      ]
     },
     "execution_count": 184,
     "metadata": {},
     "output_type": "execute_result"
    }
   ],
   "source": [
    "U_r_k.shape, S_r_k.shape, V_r_k.shape"
   ]
  },
  {
   "cell_type": "code",
   "execution_count": 185,
   "metadata": {},
   "outputs": [
    {
     "data": {
      "text/plain": [
       "0.312744140625"
      ]
     },
     "execution_count": 185,
     "metadata": {},
     "output_type": "execute_result"
    }
   ],
   "source": [
    "compressed_bytes = sum([matrix.nbytes for matrix in \n",
    "                        [U_r_k, S_r_k, V_r_k, U_g_k, S_g_k, V_g_k, U_b_k, S_b_k, V_b_k]])\n",
    "ratio = compressed_bytes / original_bytes\n",
    "ratio"
   ]
  },
  {
   "cell_type": "code",
   "execution_count": 186,
   "metadata": {},
   "outputs": [],
   "source": [
    "\n",
    "image_red_approx   = np.dot(U_r_k, np.dot(numpy.diag(S_r_k), V_r_k))\n",
    "image_green_approx = np.dot(U_g_k, np.dot(numpy.diag(S_g_k), V_g_k))\n",
    "image_blue_approx  = np.dot(U_b_k, np.dot(numpy.diag(S_b_k), V_b_k))"
   ]
  },
  {
   "cell_type": "code",
   "execution_count": 188,
   "metadata": {},
   "outputs": [],
   "source": [
    "\n",
    "row, col, _ = imgary.shape\n",
    "img_reconstructed = np.zeros((row, col, 3))\n",
    "\n",
    "img_reconstructed[:, :, 0] = image_red_approx\n",
    "img_reconstructed[:, :, 1] = image_green_approx\n",
    "img_reconstructed[:, :, 2] = image_blue_approx"
   ]
  },
  {
   "cell_type": "code",
   "execution_count": 189,
   "metadata": {},
   "outputs": [],
   "source": [
    "img_reconstructed[img_reconstructed < 0] = 0\n",
    "img_reconstructed[img_reconstructed > 1] = 1"
   ]
  },
  {
   "cell_type": "code",
   "execution_count": 190,
   "metadata": {},
   "outputs": [
    {
     "data": {
      "image/png": "[encoded data removed]",
      "text/plain": [
       "<Figure size 720x360 with 1 Axes>"
      ]
     },
     "metadata": {},
     "output_type": "display_data"
    }
   ],
   "source": [
    "fig = plt.figure(figsize=(10,5))\n",
    "a = fig.add_subplot(1, 1, 1)\n",
    "imgplot = plt.imshow(img_reconstructed)"
   ]
  },
  {
   "cell_type": "markdown",
   "metadata": {},
   "source": [
    "## 將文字資訊進行降維 (SVD)"
   ]
  },
  {
   "cell_type": "code",
   "execution_count": 191,
   "metadata": {},
   "outputs": [],
   "source": [
    "text = 'You say goodbye and I say hello.'\n",
    "corpus, word_to_id, id_to_word = preprocess(text)\n",
    "C =create_co_matrix(corpus, len(word_to_id), 2)"
   ]
  },
  {
   "cell_type": "code",
   "execution_count": 192,
   "metadata": {},
   "outputs": [],
   "source": [
    "W = ppmi(C)"
   ]
  },
  {
   "cell_type": "code",
   "execution_count": 193,
   "metadata": {},
   "outputs": [],
   "source": [
    "U, S, V = np.linalg.svd(W)"
   ]
  },
  {
   "cell_type": "code",
   "execution_count": 194,
   "metadata": {},
   "outputs": [
    {
     "data": {
      "text/plain": [
       "((7, 7), (7,), (7, 7))"
      ]
     },
     "execution_count": 194,
     "metadata": {},
     "output_type": "execute_result"
    }
   ],
   "source": [
    "U.shape, S.shape, V.shape"
   ]
  },
  {
   "cell_type": "code",
   "execution_count": 196,
   "metadata": {},
   "outputs": [
    {
     "data": {
      "text/plain": [
       "array([[-0.29432744, -0.29746118],\n",
       "       [-0.3710324 ,  0.26495245],\n",
       "       [-0.31352073,  0.30776066],\n",
       "       [-0.2670278 , -0.09261478],\n",
       "       [-0.33312967, -0.30777904],\n",
       "       [-0.5126197 ,  0.5698161 ],\n",
       "       [-0.48203   , -0.56445074]], dtype=float32)"
      ]
     },
     "execution_count": 196,
     "metadata": {},
     "output_type": "execute_result"
    }
   ],
   "source": [
    "U[:,:2]"
   ]
  },
  {
   "cell_type": "code",
   "execution_count": 198,
   "metadata": {},
   "outputs": [
    {
     "data": {
      "image/png": "[encoded data removed]",
      "text/plain": [
       "<Figure size 432x288 with 1 Axes>"
      ]
     },
     "metadata": {},
     "output_type": "display_data"
    }
   ],
   "source": [
    "from matplotlib import pyplot as plt\n",
    "for word, word_id in word_to_id.items():\n",
    "    plt.annotate(word, (U[word_id, 0], U[word_id, 1]))\n",
    "plt.scatter(U[:,0], U[:,1], alpha=0.5)\n",
    "plt.show()\n"
   ]
  },
  {
   "cell_type": "code",
   "execution_count": 199,
   "metadata": {},
   "outputs": [],
   "source": [
    "text = '''\n",
    "Tesla's new Cybertruck smashed during demo\n",
    "Tesla has unveiled its \"Cybertruck\" pickup truck, but not without an embarrassing moment on stage.\n",
    "\n",
    "The truck's windows were smashed during a demonstration supposed to show how hard they were to break.\n",
    "\n",
    "Mr Musk was heard to swear before joking: \"Room for improvement.\"\n",
    "\n",
    "The truck was unveiled in Hawthorne, California, where its stainless steel, angular design was greeted with cheers but also bemusement.\n",
    "\n",
    "\"People probably won’t get past the looks of it,\" said Jessica Caldwell, from vehicle marketplace Edmunds.\n",
    "\n",
    "\"It looks like a truck version of the DeLorean from Back To The Future.\"\n",
    "\n",
    "The pickup market represents a significant opportunity for Tesla as it improves its battery technology, meaning carrying heavier loads over long distances is now practical.\n",
    "According to Edmunds, large trucks have accounted for 14.4% of new vehicle sales up until October this year, compared to 12.6% in 2015. The vehicles have an average selling value of more than $50,000.\n",
    "\n",
    "Tesla's truck will be sold starting at $39,900 (£30,900), a model which has a range of 250 miles (402km), while the most expensive model, at $69,900, will have a range of 500 miles. The truck will seat up to six adults and haul a payload of 3,500lbs, Tesla said.\n",
    "\n",
    "Mr Musk said pre-orders would start immediately, with production starting in late 2021 - though the 48-year-old has a history of missing his own deadlines.\n",
    "\n",
    "The Cybertruck's launch will undoubtedly be overshadowed by the \"fail\", Ms Caldwell said.\n",
    "\n",
    "It happened during a segment displaying how the car's stainless steel exterior, and metal windows, could withstand bullets and sledgehammers. However, when Tesla's head of design, Franz von Holzhausen, threw a metal ball at the front left window, it smashed. As too did the rear left.\n",
    "\n",
    "\"It didn’t go through, that’s a plus side,\" Mr Musk said.\n",
    "\n",
    "\"We threw wrenches, we threw literally the kitchen sink at the glass and it didn’t break. For some reason it broke now… I don’t know why.\"\n",
    "\n",
    "At the time of writing, Tesla stock price was mostly unchanged in after-hours trading.\n",
    "'''"
   ]
  },
  {
   "cell_type": "code",
   "execution_count": 200,
   "metadata": {},
   "outputs": [],
   "source": [
    "corpus, word_to_id, id_to_word = preprocess(text)\n",
    "C =create_co_matrix(corpus, len(word_to_id), 2)"
   ]
  },
  {
   "cell_type": "code",
   "execution_count": 201,
   "metadata": {},
   "outputs": [],
   "source": [
    "W = ppmi(C)"
   ]
  },
  {
   "cell_type": "code",
   "execution_count": 202,
   "metadata": {},
   "outputs": [],
   "source": [
    "U, S, V = np.linalg.svd(W)"
   ]
  },
  {
   "cell_type": "code",
   "execution_count": 203,
   "metadata": {},
   "outputs": [
    {
     "data": {
      "image/png": "[encoded data removed]",
      "text/plain": [
       "<Figure size 432x288 with 1 Axes>"
      ]
     },
     "metadata": {},
     "output_type": "display_data"
    }
   ],
   "source": [
    "from matplotlib import pyplot as plt\n",
    "for word, word_id in word_to_id.items():\n",
    "    plt.annotate(word, (U[word_id, 0], U[word_id, 1]))\n",
    "plt.scatter(U[:,0], U[:,1], alpha=0.5)\n",
    "plt.show()\n"
   ]
  },
  {
   "cell_type": "code",
   "execution_count": 204,
   "metadata": {},
   "outputs": [],
   "source": [
    "cs = cosine_similarity(U[:,:2],U[:,:2])"
   ]
  },
  {
   "cell_type": "code",
   "execution_count": 206,
   "metadata": {},
   "outputs": [
    {
     "data": {
      "text/plain": [
       "(237, 237)"
      ]
     },
     "execution_count": 206,
     "metadata": {},
     "output_type": "execute_result"
    }
   ],
   "source": [
    "cs.shape"
   ]
  },
  {
   "cell_type": "code",
   "execution_count": 212,
   "metadata": {},
   "outputs": [
    {
     "name": "stdout",
     "output_type": "stream",
     "text": [
      "than\n",
      "payload\n",
      "500\n",
      "however,\n",
      ".\"\n",
      "\n",
      "at\n",
      "it,\"\n",
      "while\n",
      "left\n",
      ".4%\n",
      "why\n"
     ]
    }
   ],
   "source": [
    "pos = word_to_id['cybertruck']\n",
    "for ele in cs[pos].argsort()[::-1][1:11]:\n",
    "    print(id_to_word[ele])"
   ]
  },
  {
   "cell_type": "markdown",
   "metadata": {},
   "source": [
    "## 人工神經網路"
   ]
  },
  {
   "cell_type": "code",
   "execution_count": 300,
   "metadata": {},
   "outputs": [],
   "source": [
    "import numpy as np\n",
    "X = np.array([20,6,300,2])\n",
    "W = np.random.random((4,1))\n",
    "O = np.dot(X,W)"
   ]
  },
  {
   "cell_type": "code",
   "execution_count": 301,
   "metadata": {},
   "outputs": [
    {
     "data": {
      "text/plain": [
       "array([229.96803813])"
      ]
     },
     "execution_count": 301,
     "metadata": {},
     "output_type": "execute_result"
    }
   ],
   "source": [
    "def f(i):\n",
    "    return i\n",
    "O2 = f(O)\n",
    "O2"
   ]
  },
  {
   "cell_type": "code",
   "execution_count": 302,
   "metadata": {},
   "outputs": [
    {
     "data": {
      "text/plain": [
       "1770.031961867567"
      ]
     },
     "execution_count": 302,
     "metadata": {},
     "output_type": "execute_result"
    }
   ],
   "source": [
    "2000 - O2[0]"
   ]
  },
  {
   "cell_type": "code",
   "execution_count": 303,
   "metadata": {},
   "outputs": [
    {
     "data": {
      "text/plain": [
       "2000"
      ]
     },
     "execution_count": 303,
     "metadata": {},
     "output_type": "execute_result"
    }
   ],
   "source": [
    "W = np.array([100, -50, 1, 0])\n",
    "np.dot(X,W)"
   ]
  },
  {
   "cell_type": "code",
   "execution_count": 304,
   "metadata": {},
   "outputs": [],
   "source": [
    "text = 'You say goodbye and I say hello.'\n",
    "corpus, word_to_id, id_to_word = preprocess(text)"
   ]
  },
  {
   "cell_type": "code",
   "execution_count": 305,
   "metadata": {},
   "outputs": [],
   "source": [
    "def convert_one_hot(corpus, vocab_size):\n",
    "    N = corpus.shape[0]\n",
    "\n",
    "    if corpus.ndim == 1:\n",
    "        one_hot = np.zeros((N, vocab_size), dtype=np.int32)\n",
    "        for idx, word_id in enumerate(corpus):\n",
    "            one_hot[idx, word_id] = 1\n",
    "    elif corpus.ndim == 2:\n",
    "        C = corpus.shape[1]\n",
    "        one_hot = np.zeros((N, C, vocab_size), dtype=np.int32)\n",
    "        for idx_0, word_ids in enumerate(corpus):\n",
    "            for idx_1, word_id in enumerate(word_ids):\n",
    "                one_hot[idx_0, idx_1, word_id] = 1\n",
    "    return one_hot"
   ]
  },
  {
   "cell_type": "code",
   "execution_count": 306,
   "metadata": {},
   "outputs": [],
   "source": [
    "def create_contexts_target(corpus, window_size=1):\n",
    "    target = corpus[window_size:-window_size]\n",
    "    contexts = []\n",
    "    for idx in range(window_size, len(corpus)-window_size):\n",
    "        cs = []\n",
    "        for t in range(-window_size, window_size + 1):\n",
    "            if t == 0:\n",
    "                continue\n",
    "            cs.append(corpus[idx + t])\n",
    "        contexts.append(cs)\n",
    "    return np.array(contexts), np.array(target)"
   ]
  },
  {
   "cell_type": "code",
   "execution_count": 307,
   "metadata": {},
   "outputs": [
    {
     "data": {
      "text/plain": [
       "'You say goodbye and I say hello.'"
      ]
     },
     "execution_count": 307,
     "metadata": {},
     "output_type": "execute_result"
    }
   ],
   "source": [
    "text"
   ]
  },
  {
   "cell_type": "code",
   "execution_count": 308,
   "metadata": {},
   "outputs": [
    {
     "data": {
      "text/plain": [
       "array([0, 1, 2, 3, 4, 1, 5, 6])"
      ]
     },
     "execution_count": 308,
     "metadata": {},
     "output_type": "execute_result"
    }
   ],
   "source": [
    "corpus"
   ]
  },
  {
   "cell_type": "code",
   "execution_count": 309,
   "metadata": {},
   "outputs": [],
   "source": [
    "contexts, target = create_contexts_target(corpus, 1)"
   ]
  },
  {
   "cell_type": "code",
   "execution_count": 310,
   "metadata": {},
   "outputs": [
    {
     "data": {
      "text/plain": [
       "array([[0, 2],\n",
       "       [1, 3],\n",
       "       [2, 4],\n",
       "       [3, 1],\n",
       "       [4, 5],\n",
       "       [1, 6]])"
      ]
     },
     "execution_count": 310,
     "metadata": {},
     "output_type": "execute_result"
    }
   ],
   "source": [
    "contexts"
   ]
  },
  {
   "cell_type": "code",
   "execution_count": 311,
   "metadata": {},
   "outputs": [
    {
     "data": {
      "text/plain": [
       "array([1, 2, 3, 4, 1, 5])"
      ]
     },
     "execution_count": 311,
     "metadata": {},
     "output_type": "execute_result"
    }
   ],
   "source": [
    "target"
   ]
  },
  {
   "cell_type": "code",
   "execution_count": 312,
   "metadata": {},
   "outputs": [],
   "source": [
    "vocab_size = len(word_to_id)\n",
    "target = convert_one_hot(target, vocab_size)\n",
    "contexts = convert_one_hot(contexts, vocab_size)"
   ]
  },
  {
   "cell_type": "code",
   "execution_count": 313,
   "metadata": {},
   "outputs": [
    {
     "data": {
      "text/plain": [
       "array([[[1, 0, 0, 0, 0, 0, 0],\n",
       "        [0, 0, 1, 0, 0, 0, 0]],\n",
       "\n",
       "       [[0, 1, 0, 0, 0, 0, 0],\n",
       "        [0, 0, 0, 1, 0, 0, 0]],\n",
       "\n",
       "       [[0, 0, 1, 0, 0, 0, 0],\n",
       "        [0, 0, 0, 0, 1, 0, 0]],\n",
       "\n",
       "       [[0, 0, 0, 1, 0, 0, 0],\n",
       "        [0, 1, 0, 0, 0, 0, 0]],\n",
       "\n",
       "       [[0, 0, 0, 0, 1, 0, 0],\n",
       "        [0, 0, 0, 0, 0, 1, 0]],\n",
       "\n",
       "       [[0, 1, 0, 0, 0, 0, 0],\n",
       "        [0, 0, 0, 0, 0, 0, 1]]], dtype=int32)"
      ]
     },
     "execution_count": 313,
     "metadata": {},
     "output_type": "execute_result"
    }
   ],
   "source": [
    "contexts"
   ]
  },
  {
   "cell_type": "code",
   "execution_count": 314,
   "metadata": {},
   "outputs": [
    {
     "data": {
      "text/plain": [
       "array([[0, 1, 0, 0, 0, 0, 0],\n",
       "       [0, 0, 1, 0, 0, 0, 0],\n",
       "       [0, 0, 0, 1, 0, 0, 0],\n",
       "       [0, 0, 0, 0, 1, 0, 0],\n",
       "       [0, 1, 0, 0, 0, 0, 0],\n",
       "       [0, 0, 0, 0, 0, 1, 0]], dtype=int32)"
      ]
     },
     "execution_count": 314,
     "metadata": {},
     "output_type": "execute_result"
    }
   ],
   "source": [
    "target"
   ]
  },
  {
   "cell_type": "code",
   "execution_count": 315,
   "metadata": {},
   "outputs": [
    {
     "name": "stdout",
     "output_type": "stream",
     "text": [
      "[[-0.20304755  1.48978961 -0.2225045 ]]\n"
     ]
    }
   ],
   "source": [
    "c = np.array([[1, 0, 0, 0, 0, 0, 0]])\n",
    "W = np.random.randn(7, 3)\n",
    "h = np.dot(c,W)\n",
    "print(h)"
   ]
  },
  {
   "cell_type": "code",
   "execution_count": 316,
   "metadata": {},
   "outputs": [],
   "source": [
    "class MatMul:\n",
    "    def __init__(self, W):\n",
    "        self.params = [W]\n",
    "        self.grads = [np.zeros_like(W)]\n",
    "        self.x = None\n",
    "\n",
    "    def forward(self, x):\n",
    "        W, = self.params\n",
    "        out = np.dot(x, W)\n",
    "        self.x = x\n",
    "        return out\n",
    "\n",
    "    def backward(self, dout):\n",
    "        W, = self.params\n",
    "        dx = np.dot(dout, W.T)\n",
    "        dW = np.dot(self.x.T, dout)\n",
    "        self.grads[0][...] = dW\n",
    "        return dx\n",
    "\n",
    "\n",
    "class Affine:\n",
    "    def __init__(self, W, b):\n",
    "        self.params = [W, b]\n",
    "        self.grads = [np.zeros_like(W), np.zeros_like(b)]\n",
    "        self.x = None\n",
    "\n",
    "    def forward(self, x):\n",
    "        W, b = self.params\n",
    "        out = np.dot(x, W) + b\n",
    "        self.x = x\n",
    "        return out\n",
    "\n",
    "    def backward(self, dout):\n",
    "        W, b = self.params\n",
    "        dx = np.dot(dout, W.T)\n",
    "        dW = np.dot(self.x.T, dout)\n",
    "        db = np.sum(dout, axis=0)\n",
    "\n",
    "        self.grads[0][...] = dW\n",
    "        self.grads[1][...] = db\n",
    "        return dx\n",
    "\n",
    "\n",
    "class Softmax:\n",
    "    def __init__(self):\n",
    "        self.params, self.grads = [], []\n",
    "        self.out = None\n",
    "\n",
    "    def forward(self, x):\n",
    "        self.out = softmax(x)\n",
    "        return self.out\n",
    "\n",
    "    def backward(self, dout):\n",
    "        dx = self.out * dout\n",
    "        sumdx = np.sum(dx, axis=1, keepdims=True)\n",
    "        dx -= self.out * sumdx\n",
    "        return dx\n",
    "\n",
    "\n",
    "class SoftmaxWithLoss:\n",
    "    def __init__(self):\n",
    "        self.params, self.grads = [], []\n",
    "        self.y = None  \n",
    "        self.t = None\n",
    "\n",
    "    def forward(self, x, t):\n",
    "        self.t = t\n",
    "        self.y = softmax(x)\n",
    "\n",
    "        if self.t.size == self.y.size:\n",
    "            self.t = self.t.argmax(axis=1)\n",
    "\n",
    "        loss = cross_entropy_error(self.y, self.t)\n",
    "        return loss\n",
    "\n",
    "    def backward(self, dout=1):\n",
    "        batch_size = self.t.shape[0]\n",
    "\n",
    "        dx = self.y.copy()\n",
    "        dx[np.arange(batch_size), self.t] -= 1\n",
    "        dx *= dout\n",
    "        dx = dx / batch_size\n",
    "\n",
    "        return dx\n",
    "\n",
    "\n",
    "class Sigmoid:\n",
    "    def __init__(self):\n",
    "        self.params, self.grads = [], []\n",
    "        self.out = None\n",
    "\n",
    "    def forward(self, x):\n",
    "        out = 1 / (1 + np.exp(-x))\n",
    "        self.out = out\n",
    "        return out\n",
    "\n",
    "    def backward(self, dout):\n",
    "        dx = dout * (1.0 - self.out) * self.out\n",
    "        return dx\n",
    "\n",
    "\n",
    "class SigmoidWithLoss:\n",
    "    def __init__(self):\n",
    "        self.params, self.grads = [], []\n",
    "        self.loss = None\n",
    "        self.y = None \n",
    "        self.t = None \n",
    "\n",
    "    def forward(self, x, t):\n",
    "        self.t = t\n",
    "        self.y = 1 / (1 + np.exp(-x))\n",
    "\n",
    "        self.loss = cross_entropy_error(np.c_[1 - self.y, self.y], self.t)\n",
    "\n",
    "        return self.loss\n",
    "\n",
    "    def backward(self, dout=1):\n",
    "        batch_size = self.t.shape[0]\n",
    "\n",
    "        dx = (self.y - self.t) * dout / batch_size\n",
    "        return dx\n",
    "\n",
    "\n",
    "class Dropout:\n",
    "    def __init__(self, dropout_ratio=0.5):\n",
    "        self.params, self.grads = [], []\n",
    "        self.dropout_ratio = dropout_ratio\n",
    "        self.mask = None\n",
    "\n",
    "    def forward(self, x, train_flg=True):\n",
    "        if train_flg:\n",
    "            self.mask = np.random.rand(*x.shape) > self.dropout_ratio\n",
    "            return x * self.mask\n",
    "        else:\n",
    "            return x * (1.0 - self.dropout_ratio)\n",
    "\n",
    "    def backward(self, dout):\n",
    "        return dout * self.mask\n",
    "\n",
    "\n",
    "class Embedding:\n",
    "    def __init__(self, W):\n",
    "        self.params = [W]\n",
    "        self.grads = [np.zeros_like(W)]\n",
    "        self.idx = None\n",
    "\n",
    "    def forward(self, idx):\n",
    "        W, = self.params\n",
    "        self.idx = idx\n",
    "        out = W[idx]\n",
    "        return out\n",
    "\n",
    "    def backward(self, dout):\n",
    "        dW, = self.grads\n",
    "        dW[...] = 0\n",
    "        np.add.at(dW, self.idx, dout)\n",
    "        return None"
   ]
  },
  {
   "cell_type": "code",
   "execution_count": 317,
   "metadata": {},
   "outputs": [],
   "source": [
    "class SimpleCBOW:\n",
    "    def __init__(self, vocab_size, hidden_size):\n",
    "        V, H = vocab_size, hidden_size\n",
    "\n",
    "        W_in = 0.01 * np.random.randn(V, H).astype('f')\n",
    "        W_out = 0.01 * np.random.randn(H, V).astype('f')\n",
    "\n",
    "        self.in_layer0 = MatMul(W_in)\n",
    "        self.in_layer1 = MatMul(W_in)\n",
    "        self.out_layer = MatMul(W_out)\n",
    "        self.loss_layer = SoftmaxWithLoss()\n",
    "\n",
    "        layers = [self.in_layer0, self.in_layer1, self.out_layer]\n",
    "        self.params, self.grads = [], []\n",
    "        for layer in layers:\n",
    "            self.params += layer.params\n",
    "            self.grads += layer.grads\n",
    "\n",
    "        self.word_vecs = W_in\n",
    "\n",
    "    def forward(self, contexts, target):\n",
    "        h0 = self.in_layer0.forward(contexts[:, 0])\n",
    "        h1 = self.in_layer1.forward(contexts[:, 1])\n",
    "        h = (h0 + h1) * 0.5\n",
    "        score = self.out_layer.forward(h)\n",
    "        loss = self.loss_layer.forward(score, target)\n",
    "        return loss\n",
    "\n",
    "    def backward(self, dout=1):\n",
    "        ds = self.loss_layer.backward(dout)\n",
    "        da = self.out_layer.backward(ds)\n",
    "        da *= 0.5\n",
    "        self.in_layer1.backward(da)\n",
    "        self.in_layer0.backward(da)\n",
    "        return None"
   ]
  },
  {
   "cell_type": "code",
   "execution_count": 318,
   "metadata": {},
   "outputs": [],
   "source": [
    "def softmax_function(x):\n",
    "    return np.exp(x) / np.sum(np.exp(x))"
   ]
  },
  {
   "cell_type": "code",
   "execution_count": 319,
   "metadata": {},
   "outputs": [
    {
     "data": {
      "text/plain": [
       "array([8.67881295e-04, 4.73847131e-02, 9.51747406e-01])"
      ]
     },
     "execution_count": 319,
     "metadata": {},
     "output_type": "execute_result"
    }
   ],
   "source": [
    "in_ary = np.array([3,7,10])\n",
    "softmax_function(in_ary)"
   ]
  },
  {
   "cell_type": "code",
   "execution_count": 320,
   "metadata": {},
   "outputs": [
    {
     "data": {
      "text/plain": [
       "array([[[1, 0, 0, 0, 0, 0, 0],\n",
       "        [0, 0, 1, 0, 0, 0, 0]],\n",
       "\n",
       "       [[0, 1, 0, 0, 0, 0, 0],\n",
       "        [0, 0, 0, 1, 0, 0, 0]],\n",
       "\n",
       "       [[0, 0, 1, 0, 0, 0, 0],\n",
       "        [0, 0, 0, 0, 1, 0, 0]],\n",
       "\n",
       "       [[0, 0, 0, 1, 0, 0, 0],\n",
       "        [0, 1, 0, 0, 0, 0, 0]],\n",
       "\n",
       "       [[0, 0, 0, 0, 1, 0, 0],\n",
       "        [0, 0, 0, 0, 0, 1, 0]],\n",
       "\n",
       "       [[0, 1, 0, 0, 0, 0, 0],\n",
       "        [0, 0, 0, 0, 0, 0, 1]]], dtype=int32)"
      ]
     },
     "execution_count": 320,
     "metadata": {},
     "output_type": "execute_result"
    }
   ],
   "source": [
    "contexts"
   ]
  },
  {
   "cell_type": "code",
   "execution_count": 321,
   "metadata": {},
   "outputs": [
    {
     "data": {
      "text/plain": [
       "array([[0, 1, 0, 0, 0, 0, 0],\n",
       "       [0, 0, 1, 0, 0, 0, 0],\n",
       "       [0, 0, 0, 1, 0, 0, 0],\n",
       "       [0, 0, 0, 0, 1, 0, 0],\n",
       "       [0, 1, 0, 0, 0, 0, 0],\n",
       "       [0, 0, 0, 0, 0, 1, 0]], dtype=int32)"
      ]
     },
     "execution_count": 321,
     "metadata": {},
     "output_type": "execute_result"
    }
   ],
   "source": [
    "target"
   ]
  },
  {
   "cell_type": "code",
   "execution_count": 322,
   "metadata": {},
   "outputs": [],
   "source": [
    "class MatMul:\n",
    "    def __init__(self, W):\n",
    "        self.params = [W]\n",
    "        self.grads = [np.zeros_like(W)]\n",
    "        self.x = None\n",
    "\n",
    "    def forward(self, x):\n",
    "        W, = self.params\n",
    "        out = np.dot(x, W)\n",
    "        self.x = x\n",
    "        return out\n",
    "\n",
    "    def backward(self, dout):\n",
    "        W, = self.params\n",
    "        dx = np.dot(dout, W.T)\n",
    "        dW = np.dot(self.x.T, dout)\n",
    "        self.grads[0][...] = dW\n",
    "        return dx\n",
    "\n",
    "\n",
    "class Affine:\n",
    "    def __init__(self, W, b):\n",
    "        self.params = [W, b]\n",
    "        self.grads = [np.zeros_like(W), np.zeros_like(b)]\n",
    "        self.x = None\n",
    "\n",
    "    def forward(self, x):\n",
    "        W, b = self.params\n",
    "        out = np.dot(x, W) + b\n",
    "        self.x = x\n",
    "        return out\n",
    "\n",
    "    def backward(self, dout):\n",
    "        W, b = self.params\n",
    "        dx = np.dot(dout, W.T)\n",
    "        dW = np.dot(self.x.T, dout)\n",
    "        db = np.sum(dout, axis=0)\n",
    "\n",
    "        self.grads[0][...] = dW\n",
    "        self.grads[1][...] = db\n",
    "        return dx\n",
    "\n",
    "\n",
    "class Softmax:\n",
    "    def __init__(self):\n",
    "        self.params, self.grads = [], []\n",
    "        self.out = None\n",
    "\n",
    "    def forward(self, x):\n",
    "        self.out = softmax(x)\n",
    "        return self.out\n",
    "\n",
    "    def backward(self, dout):\n",
    "        dx = self.out * dout\n",
    "        sumdx = np.sum(dx, axis=1, keepdims=True)\n",
    "        dx -= self.out * sumdx\n",
    "        return dx\n",
    "\n",
    "\n",
    "class SoftmaxWithLoss:\n",
    "    def __init__(self):\n",
    "        self.params, self.grads = [], []\n",
    "        self.y = None  \n",
    "        self.t = None\n",
    "\n",
    "    def forward(self, x, t):\n",
    "        self.t = t\n",
    "        self.y = softmax(x)\n",
    "\n",
    "        if self.t.size == self.y.size:\n",
    "            self.t = self.t.argmax(axis=1)\n",
    "\n",
    "        loss = cross_entropy_error(self.y, self.t)\n",
    "        return loss\n",
    "\n",
    "    def backward(self, dout=1):\n",
    "        batch_size = self.t.shape[0]\n",
    "\n",
    "        dx = self.y.copy()\n",
    "        dx[np.arange(batch_size), self.t] -= 1\n",
    "        dx *= dout\n",
    "        dx = dx / batch_size\n",
    "\n",
    "        return dx\n",
    "\n",
    "\n",
    "class Sigmoid:\n",
    "    def __init__(self):\n",
    "        self.params, self.grads = [], []\n",
    "        self.out = None\n",
    "\n",
    "    def forward(self, x):\n",
    "        out = 1 / (1 + np.exp(-x))\n",
    "        self.out = out\n",
    "        return out\n",
    "\n",
    "    def backward(self, dout):\n",
    "        dx = dout * (1.0 - self.out) * self.out\n",
    "        return dx\n",
    "\n",
    "\n",
    "class SigmoidWithLoss:\n",
    "    def __init__(self):\n",
    "        self.params, self.grads = [], []\n",
    "        self.loss = None\n",
    "        self.y = None \n",
    "        self.t = None \n",
    "\n",
    "    def forward(self, x, t):\n",
    "        self.t = t\n",
    "        self.y = 1 / (1 + np.exp(-x))\n",
    "\n",
    "        self.loss = cross_entropy_error(np.c_[1 - self.y, self.y], self.t)\n",
    "\n",
    "        return self.loss\n",
    "\n",
    "    def backward(self, dout=1):\n",
    "        batch_size = self.t.shape[0]\n",
    "\n",
    "        dx = (self.y - self.t) * dout / batch_size\n",
    "        return dx\n",
    "\n",
    "\n",
    "class Dropout:\n",
    "    def __init__(self, dropout_ratio=0.5):\n",
    "        self.params, self.grads = [], []\n",
    "        self.dropout_ratio = dropout_ratio\n",
    "        self.mask = None\n",
    "\n",
    "    def forward(self, x, train_flg=True):\n",
    "        if train_flg:\n",
    "            self.mask = np.random.rand(*x.shape) > self.dropout_ratio\n",
    "            return x * self.mask\n",
    "        else:\n",
    "            return x * (1.0 - self.dropout_ratio)\n",
    "\n",
    "    def backward(self, dout):\n",
    "        return dout * self.mask\n",
    "\n",
    "\n",
    "class Embedding:\n",
    "    def __init__(self, W):\n",
    "        self.params = [W]\n",
    "        self.grads = [np.zeros_like(W)]\n",
    "        self.idx = None\n",
    "\n",
    "    def forward(self, idx):\n",
    "        W, = self.params\n",
    "        self.idx = idx\n",
    "        out = W[idx]\n",
    "        return out\n",
    "\n",
    "    def backward(self, dout):\n",
    "        dW, = self.grads\n",
    "        dW[...] = 0\n",
    "        np.add.at(dW, self.idx, dout)\n",
    "        return None"
   ]
  },
  {
   "cell_type": "code",
   "execution_count": 323,
   "metadata": {},
   "outputs": [],
   "source": [
    "class SimpleCBOW:\n",
    "    def __init__(self, vocab_size, hidden_size):\n",
    "        V, H = vocab_size, hidden_size\n",
    "\n",
    "        W_in = 0.01 * np.random.randn(V, H).astype('f')\n",
    "        W_out = 0.01 * np.random.randn(H, V).astype('f')\n",
    "\n",
    "        self.in_layer0 = MatMul(W_in)\n",
    "        self.in_layer1 = MatMul(W_in)\n",
    "        self.out_layer = MatMul(W_out)\n",
    "        self.loss_layer = SoftmaxWithLoss()\n",
    "\n",
    "        layers = [self.in_layer0, self.in_layer1, self.out_layer]\n",
    "        self.params, self.grads = [], []\n",
    "        for layer in layers:\n",
    "            self.params += layer.params\n",
    "            self.grads += layer.grads\n",
    "\n",
    "        self.word_vecs = W_in\n",
    "\n",
    "    def forward(self, contexts, target):\n",
    "        h0 = self.in_layer0.forward(contexts[:, 0])\n",
    "        h1 = self.in_layer1.forward(contexts[:, 1])\n",
    "        h = (h0 + h1) * 0.5\n",
    "        score = self.out_layer.forward(h)\n",
    "        loss = self.loss_layer.forward(score, target)\n",
    "        return loss\n",
    "\n",
    "    def backward(self, dout=1):\n",
    "        ds = self.loss_layer.backward(dout)\n",
    "        da = self.out_layer.backward(ds)\n",
    "        da *= 0.5\n",
    "        self.in_layer1.backward(da)\n",
    "        self.in_layer0.backward(da)\n",
    "        return None"
   ]
  },
  {
   "cell_type": "code",
   "execution_count": 324,
   "metadata": {},
   "outputs": [],
   "source": [
    "vocab_size = len(word_to_id)\n",
    "hidden_size = 5\n",
    "model = SimpleCBOW(vocab_size, hidden_size)"
   ]
  },
  {
   "cell_type": "code",
   "execution_count": 325,
   "metadata": {},
   "outputs": [],
   "source": [
    "class Adam:\n",
    "    '''\n",
    "    Adam (http://arxiv.org/abs/1412.6980v8)\n",
    "    '''\n",
    "    def __init__(self, lr=0.001, beta1=0.9, beta2=0.999):\n",
    "        self.lr = lr\n",
    "        self.beta1 = beta1\n",
    "        self.beta2 = beta2\n",
    "        self.iter = 0\n",
    "        self.m = None\n",
    "        self.v = None\n",
    "        \n",
    "    def update(self, params, grads):\n",
    "        if self.m is None:\n",
    "            self.m, self.v = [], []\n",
    "            for param in params:\n",
    "                self.m.append(np.zeros_like(param))\n",
    "                self.v.append(np.zeros_like(param))\n",
    "        \n",
    "        self.iter += 1\n",
    "        lr_t = self.lr * np.sqrt(1.0 - self.beta2**self.iter) / (1.0 - self.beta1**self.iter)\n",
    "\n",
    "        for i in range(len(params)):\n",
    "            self.m[i] += (1 - self.beta1) * (grads[i] - self.m[i])\n",
    "            self.v[i] += (1 - self.beta2) * (grads[i]**2 - self.v[i])\n",
    "            \n",
    "            params[i] -= lr_t * self.m[i] / (np.sqrt(self.v[i]) + 1e-7)"
   ]
  },
  {
   "cell_type": "code",
   "execution_count": 326,
   "metadata": {},
   "outputs": [],
   "source": [
    "optimizer = Adam()"
   ]
  },
  {
   "cell_type": "code",
   "execution_count": 327,
   "metadata": {},
   "outputs": [],
   "source": [
    "def cross_entropy_error(y, t):\n",
    "    if y.ndim == 1:\n",
    "        t = t.reshape(1, t.size)\n",
    "        y = y.reshape(1, y.size)\n",
    "        \n",
    "    if t.size == y.size:\n",
    "        t = t.argmax(axis=1)\n",
    "             \n",
    "    batch_size = y.shape[0]\n",
    "\n",
    "    return -np.sum(np.log(y[np.arange(batch_size), t] + 1e-7)) / batch_size"
   ]
  },
  {
   "cell_type": "code",
   "execution_count": 328,
   "metadata": {},
   "outputs": [],
   "source": [
    "def remove_duplicate(params, grads):\n",
    "    params, grads = params[:], grads[:]  # copy list\n",
    "\n",
    "    while True:\n",
    "        find_flg = False\n",
    "        L = len(params)\n",
    "\n",
    "        for i in range(0, L - 1):\n",
    "            for j in range(i + 1, L):\n",
    "                if params[i] is params[j]:\n",
    "                    grads[i] += grads[j]  \n",
    "                    find_flg = True\n",
    "                    params.pop(j)\n",
    "                    grads.pop(j)\n",
    "                elif params[i].ndim == 2 and params[j].ndim == 2 and \\\n",
    "                     params[i].T.shape == params[j].shape and np.all(params[i].T == params[j]):\n",
    "                    grads[i] += grads[j].T\n",
    "                    find_flg = True\n",
    "                    params.pop(j)\n",
    "                    grads.pop(j)\n",
    "\n",
    "                if find_flg: break\n",
    "            if find_flg: break\n",
    "\n",
    "        if not find_flg: break\n",
    "\n",
    "    return params, grads"
   ]
  },
  {
   "cell_type": "code",
   "execution_count": 329,
   "metadata": {},
   "outputs": [],
   "source": [
    "class Trainer:\n",
    "    def __init__(self, model, optimizer):\n",
    "        self.model = model\n",
    "        self.optimizer = optimizer\n",
    "        self.loss_list = []\n",
    "        self.eval_interval = None\n",
    "        self.current_epoch = 0\n",
    "\n",
    "    def fit(self, x, t, max_epoch=10, batch_size=32, max_grad=None, eval_interval=20):\n",
    "        data_size = len(x)\n",
    "        max_iters = data_size // batch_size\n",
    "        self.eval_interval = eval_interval\n",
    "        model, optimizer = self.model, self.optimizer\n",
    "        total_loss = 0\n",
    "        loss_count = 0\n",
    "\n",
    "        start_time = time.time()\n",
    "        for epoch in range(max_epoch):\n",
    "       \n",
    "            idx = numpy.random.permutation(numpy.arange(data_size))\n",
    "            x = x[idx]\n",
    "            t = t[idx]\n",
    "\n",
    "            for iters in range(max_iters):\n",
    "                batch_x = x[iters*batch_size:(iters+1)*batch_size]\n",
    "                batch_t = t[iters*batch_size:(iters+1)*batch_size]\n",
    "\n",
    "              \n",
    "                loss = model.forward(batch_x, batch_t)\n",
    "                model.backward()\n",
    "                params, grads = remove_duplicate(model.params, model.grads)  # 共有された重みを1つに集約\n",
    "                if max_grad is not None:\n",
    "                    clip_grads(grads, max_grad)\n",
    "                optimizer.update(params, grads)\n",
    "                total_loss += loss\n",
    "                loss_count += 1\n",
    "\n",
    "                if (eval_interval is not None) and (iters % eval_interval) == 0:\n",
    "                    avg_loss = total_loss / loss_count\n",
    "                    elapsed_time = time.time() - start_time\n",
    "                    print('| epoch %d |  iter %d / %d | time %d[s] | loss %.2f'\n",
    "                          % (self.current_epoch + 1, iters + 1, max_iters, elapsed_time, avg_loss))\n",
    "                    self.loss_list.append(float(avg_loss))\n",
    "                    total_loss, loss_count = 0, 0\n",
    "\n",
    "            self.current_epoch += 1\n",
    "\n",
    "    def plot(self, ylim=None):\n",
    "        x = numpy.arange(len(self.loss_list))\n",
    "        if ylim is not None:\n",
    "            plt.ylim(*ylim)\n",
    "        plt.plot(x, self.loss_list, label='train')\n",
    "        plt.xlabel('iterations (x' + str(self.eval_interval) + ')')\n",
    "        plt.ylabel('loss')\n",
    "        plt.show()"
   ]
  },
  {
   "cell_type": "code",
   "execution_count": 330,
   "metadata": {},
   "outputs": [],
   "source": [
    "trainer = Trainer(model, optimizer)"
   ]
  },
  {
   "cell_type": "code",
   "execution_count": 331,
   "metadata": {},
   "outputs": [],
   "source": [
    "def softmax(x):\n",
    "    if x.ndim == 2:\n",
    "        x = x - x.max(axis=1, keepdims=True)\n",
    "        x = np.exp(x)\n",
    "        x /= x.sum(axis=1, keepdims=True)\n",
    "    elif x.ndim == 1:\n",
    "        x = x - np.max(x)\n",
    "        x = np.exp(x) / np.sum(np.exp(x))\n",
    "\n",
    "    return x"
   ]
  },
  {
   "cell_type": "code",
   "execution_count": 332,
   "metadata": {},
   "outputs": [
    {
     "name": "stdout",
     "output_type": "stream",
     "text": [
      "| epoch 1 |  iter 1 / 2 | time 0[s] | loss 1.95\n",
      "| epoch 2 |  iter 1 / 2 | time 0[s] | loss 1.95\n",
      "| epoch 3 |  iter 1 / 2 | time 0[s] | loss 1.95\n",
      "| epoch 4 |  iter 1 / 2 | time 0[s] | loss 1.95\n",
      "| epoch 5 |  iter 1 / 2 | time 0[s] | loss 1.95\n",
      "| epoch 6 |  iter 1 / 2 | time 0[s] | loss 1.95\n",
      "| epoch 7 |  iter 1 / 2 | time 0[s] | loss 1.95\n",
      "| epoch 8 |  iter 1 / 2 | time 0[s] | loss 1.95\n",
      "| epoch 9 |  iter 1 / 2 | time 0[s] | loss 1.95\n",
      "| epoch 10 |  iter 1 / 2 | time 0[s] | loss 1.95\n",
      "| epoch 11 |  iter 1 / 2 | time 0[s] | loss 1.95\n",
      "| epoch 12 |  iter 1 / 2 | time 0[s] | loss 1.95\n",
      "| epoch 13 |  iter 1 / 2 | time 0[s] | loss 1.94\n",
      "| epoch 14 |  iter 1 / 2 | time 0[s] | loss 1.94\n",
      "| epoch 15 |  iter 1 / 2 | time 0[s] | loss 1.94\n",
      "| epoch 16 |  iter 1 / 2 | time 0[s] | loss 1.94\n",
      "| epoch 17 |  iter 1 / 2 | time 0[s] | loss 1.94\n",
      "| epoch 18 |  iter 1 / 2 | time 0[s] | loss 1.94\n",
      "| epoch 19 |  iter 1 / 2 | time 0[s] | loss 1.94\n",
      "| epoch 20 |  iter 1 / 2 | time 0[s] | loss 1.94\n",
      "| epoch 21 |  iter 1 / 2 | time 0[s] | loss 1.94\n",
      "| epoch 22 |  iter 1 / 2 | time 0[s] | loss 1.94\n",
      "| epoch 23 |  iter 1 / 2 | time 0[s] | loss 1.94\n",
      "| epoch 24 |  iter 1 / 2 | time 0[s] | loss 1.94\n",
      "| epoch 25 |  iter 1 / 2 | time 0[s] | loss 1.94\n",
      "| epoch 26 |  iter 1 / 2 | time 0[s] | loss 1.94\n",
      "| epoch 27 |  iter 1 / 2 | time 0[s] | loss 1.94\n",
      "| epoch 28 |  iter 1 / 2 | time 0[s] | loss 1.94\n",
      "| epoch 29 |  iter 1 / 2 | time 0[s] | loss 1.94\n",
      "| epoch 30 |  iter 1 / 2 | time 0[s] | loss 1.94\n",
      "| epoch 31 |  iter 1 / 2 | time 0[s] | loss 1.94\n",
      "| epoch 32 |  iter 1 / 2 | time 0[s] | loss 1.94\n",
      "| epoch 33 |  iter 1 / 2 | time 0[s] | loss 1.93\n",
      "| epoch 34 |  iter 1 / 2 | time 0[s] | loss 1.93\n",
      "| epoch 35 |  iter 1 / 2 | time 0[s] | loss 1.93\n",
      "| epoch 36 |  iter 1 / 2 | time 0[s] | loss 1.93\n",
      "| epoch 37 |  iter 1 / 2 | time 0[s] | loss 1.93\n",
      "| epoch 38 |  iter 1 / 2 | time 0[s] | loss 1.93\n",
      "| epoch 39 |  iter 1 / 2 | time 0[s] | loss 1.93\n",
      "| epoch 40 |  iter 1 / 2 | time 0[s] | loss 1.93\n",
      "| epoch 41 |  iter 1 / 2 | time 0[s] | loss 1.93\n",
      "| epoch 42 |  iter 1 / 2 | time 0[s] | loss 1.92\n",
      "| epoch 43 |  iter 1 / 2 | time 0[s] | loss 1.93\n",
      "| epoch 44 |  iter 1 / 2 | time 0[s] | loss 1.92\n",
      "| epoch 45 |  iter 1 / 2 | time 0[s] | loss 1.92\n",
      "| epoch 46 |  iter 1 / 2 | time 0[s] | loss 1.92\n",
      "| epoch 47 |  iter 1 / 2 | time 0[s] | loss 1.92\n",
      "| epoch 48 |  iter 1 / 2 | time 0[s] | loss 1.92\n",
      "| epoch 49 |  iter 1 / 2 | time 0[s] | loss 1.91\n",
      "| epoch 50 |  iter 1 / 2 | time 0[s] | loss 1.92\n",
      "| epoch 51 |  iter 1 / 2 | time 0[s] | loss 1.91\n",
      "| epoch 52 |  iter 1 / 2 | time 0[s] | loss 1.91\n",
      "| epoch 53 |  iter 1 / 2 | time 0[s] | loss 1.91\n",
      "| epoch 54 |  iter 1 / 2 | time 0[s] | loss 1.91\n",
      "| epoch 55 |  iter 1 / 2 | time 0[s] | loss 1.90\n",
      "| epoch 56 |  iter 1 / 2 | time 0[s] | loss 1.90\n",
      "| epoch 57 |  iter 1 / 2 | time 0[s] | loss 1.90\n",
      "| epoch 58 |  iter 1 / 2 | time 0[s] | loss 1.90\n",
      "| epoch 59 |  iter 1 / 2 | time 0[s] | loss 1.90\n",
      "| epoch 60 |  iter 1 / 2 | time 0[s] | loss 1.89\n",
      "| epoch 61 |  iter 1 / 2 | time 0[s] | loss 1.89\n",
      "| epoch 62 |  iter 1 / 2 | time 0[s] | loss 1.89\n",
      "| epoch 63 |  iter 1 / 2 | time 0[s] | loss 1.89\n",
      "| epoch 64 |  iter 1 / 2 | time 0[s] | loss 1.88\n",
      "| epoch 65 |  iter 1 / 2 | time 0[s] | loss 1.88\n",
      "| epoch 66 |  iter 1 / 2 | time 0[s] | loss 1.88\n",
      "| epoch 67 |  iter 1 / 2 | time 0[s] | loss 1.88\n",
      "| epoch 68 |  iter 1 / 2 | time 0[s] | loss 1.88\n",
      "| epoch 69 |  iter 1 / 2 | time 0[s] | loss 1.87\n",
      "| epoch 70 |  iter 1 / 2 | time 0[s] | loss 1.86\n",
      "| epoch 71 |  iter 1 / 2 | time 0[s] | loss 1.87\n",
      "| epoch 72 |  iter 1 / 2 | time 0[s] | loss 1.86\n",
      "| epoch 73 |  iter 1 / 2 | time 0[s] | loss 1.86\n",
      "| epoch 74 |  iter 1 / 2 | time 0[s] | loss 1.86\n",
      "| epoch 75 |  iter 1 / 2 | time 0[s] | loss 1.86\n",
      "| epoch 76 |  iter 1 / 2 | time 0[s] | loss 1.86\n",
      "| epoch 77 |  iter 1 / 2 | time 0[s] | loss 1.85\n",
      "| epoch 78 |  iter 1 / 2 | time 0[s] | loss 1.85\n",
      "| epoch 79 |  iter 1 / 2 | time 0[s] | loss 1.84\n",
      "| epoch 80 |  iter 1 / 2 | time 0[s] | loss 1.85\n",
      "| epoch 81 |  iter 1 / 2 | time 0[s] | loss 1.83\n",
      "| epoch 82 |  iter 1 / 2 | time 0[s] | loss 1.84\n",
      "| epoch 83 |  iter 1 / 2 | time 0[s] | loss 1.83\n",
      "| epoch 84 |  iter 1 / 2 | time 0[s] | loss 1.83\n",
      "| epoch 85 |  iter 1 / 2 | time 0[s] | loss 1.82\n",
      "| epoch 86 |  iter 1 / 2 | time 0[s] | loss 1.82\n",
      "| epoch 87 |  iter 1 / 2 | time 0[s] | loss 1.82\n",
      "| epoch 88 |  iter 1 / 2 | time 0[s] | loss 1.81\n",
      "| epoch 89 |  iter 1 / 2 | time 0[s] | loss 1.82\n",
      "| epoch 90 |  iter 1 / 2 | time 0[s] | loss 1.80\n",
      "| epoch 91 |  iter 1 / 2 | time 0[s] | loss 1.81\n",
      "| epoch 92 |  iter 1 / 2 | time 0[s] | loss 1.79\n",
      "| epoch 93 |  iter 1 / 2 | time 0[s] | loss 1.79\n",
      "| epoch 94 |  iter 1 / 2 | time 0[s] | loss 1.79\n",
      "| epoch 95 |  iter 1 / 2 | time 0[s] | loss 1.79\n",
      "| epoch 96 |  iter 1 / 2 | time 0[s] | loss 1.78\n",
      "| epoch 97 |  iter 1 / 2 | time 0[s] | loss 1.78\n",
      "| epoch 98 |  iter 1 / 2 | time 0[s] | loss 1.77\n",
      "| epoch 99 |  iter 1 / 2 | time 0[s] | loss 1.77\n",
      "| epoch 100 |  iter 1 / 2 | time 0[s] | loss 1.78\n"
     ]
    }
   ],
   "source": [
    "window_size = 1\n",
    "batch_size = 3\n",
    "max_epoch = 100\n",
    "trainer.fit(contexts, target, max_epoch, batch_size)"
   ]
  },
  {
   "cell_type": "code",
   "execution_count": 333,
   "metadata": {},
   "outputs": [
    {
     "data": {
      "image/png": "[encoded data removed]",
      "text/plain": [
       "<Figure size 432x288 with 1 Axes>"
      ]
     },
     "metadata": {},
     "output_type": "display_data"
    }
   ],
   "source": [
    "trainer.plot()\n"
   ]
  },
  {
   "cell_type": "code",
   "execution_count": 334,
   "metadata": {},
   "outputs": [
    {
     "name": "stdout",
     "output_type": "stream",
     "text": [
      "you [ 0.03289481  0.21492422  0.20366178 -0.22606649  0.21531178]\n",
      "say [-0.2699106   0.24681577 -0.02971628  0.05729116 -0.2704473 ]\n",
      "goodbye [0.20407131 0.20051731 0.26006317 0.03038748 0.24266446]\n",
      "and [-0.2489221   0.2171378   0.23336744  0.25474545 -0.24848984]\n",
      "i [0.21090278 0.21694866 0.25860485 0.03920621 0.2574415 ]\n",
      "hello [ 0.03933945  0.21559449  0.19990267 -0.23554845  0.21161886]\n",
      ". [-0.20673133  0.2094742  -0.21651976 -0.21512006 -0.16285518]\n"
     ]
    }
   ],
   "source": [
    "word_vecs = model.word_vecs\n",
    "for word_id, word in id_to_word.items():\n",
    "    print(word, word_vecs[word_id])\n"
   ]
  },
  {
   "cell_type": "code",
   "execution_count": 339,
   "metadata": {},
   "outputs": [
    {
     "data": {
      "text/plain": [
       "array([0, 5, 2, 4, 6, 1, 3])"
      ]
     },
     "execution_count": 339,
     "metadata": {},
     "output_type": "execute_result"
    }
   ],
   "source": [
    "from sklearn.metrics.pairwise import euclidean_distances\n",
    "euclidean_distances(word_vecs)[0].argsort()"
   ]
  },
  {
   "cell_type": "code",
   "execution_count": 338,
   "metadata": {},
   "outputs": [
    {
     "data": {
      "text/plain": [
       "'hello'"
      ]
     },
     "execution_count": 338,
     "metadata": {},
     "output_type": "execute_result"
    }
   ],
   "source": [
    "id_to_word[5]"
   ]
  },
  {
   "cell_type": "code",
   "execution_count": 340,
   "metadata": {},
   "outputs": [
    {
     "data": {
      "text/plain": [
       "array([4, 2, 0, 5, 3, 1, 6])"
      ]
     },
     "execution_count": 340,
     "metadata": {},
     "output_type": "execute_result"
    }
   ],
   "source": [
    "euclidean_distances(word_vecs)[4].argsort()"
   ]
  },
  {
   "cell_type": "code",
   "execution_count": 341,
   "metadata": {},
   "outputs": [
    {
     "data": {
      "text/plain": [
       "'goodbye'"
      ]
     },
     "execution_count": 341,
     "metadata": {},
     "output_type": "execute_result"
    }
   ],
   "source": [
    "id_to_word[2]"
   ]
  },
  {
   "cell_type": "code",
   "execution_count": 351,
   "metadata": {},
   "outputs": [],
   "source": [
    "\n",
    "answer = np.array([0,1,0,0,0,0,0])\n",
    "predict = softmax_function(np.random.rand(1,7))"
   ]
  },
  {
   "cell_type": "code",
   "execution_count": 352,
   "metadata": {},
   "outputs": [
    {
     "data": {
      "text/plain": [
       "array([[ 0.15365408, -0.80949807,  0.16394032,  0.099864  ,  0.09372394,\n",
       "         0.14013886,  0.15817687]])"
      ]
     },
     "execution_count": 352,
     "metadata": {},
     "output_type": "execute_result"
    }
   ],
   "source": [
    "predict - answer"
   ]
  },
  {
   "cell_type": "code",
   "execution_count": 358,
   "metadata": {},
   "outputs": [],
   "source": [
    "def sigmoid_function(x):\n",
    "    return 1 / (1 + np.exp(-x))"
   ]
  },
  {
   "cell_type": "code",
   "execution_count": 360,
   "metadata": {},
   "outputs": [],
   "source": [
    "#sigmoid_function(300)"
   ]
  },
  {
   "cell_type": "code",
   "execution_count": 356,
   "metadata": {},
   "outputs": [],
   "source": [
    "answer = 1\n",
    "predict = sigmoid_function(np.random.rand(1))"
   ]
  },
  {
   "cell_type": "markdown",
   "metadata": {},
   "source": [
    "## Gensim"
   ]
  },
  {
   "cell_type": "code",
   "execution_count": 361,
   "metadata": {},
   "outputs": [
    {
     "name": "stdout",
     "output_type": "stream",
     "text": [
      "Requirement already satisfied: gensim in /Users/davidchiu/.pyenv/versions/3.6.2/lib/python3.6/site-packages\n",
      "Requirement already satisfied: six>=1.5.0 in /Users/davidchiu/.pyenv/versions/3.6.2/lib/python3.6/site-packages (from gensim)\n",
      "Requirement already satisfied: scipy>=0.18.1 in /Users/davidchiu/.pyenv/versions/3.6.2/lib/python3.6/site-packages (from gensim)\n",
      "Requirement already satisfied: smart-open>=1.7.0 in /Users/davidchiu/.pyenv/versions/3.6.2/lib/python3.6/site-packages (from gensim)\n",
      "Requirement already satisfied: numpy>=1.11.3 in /Users/davidchiu/.pyenv/versions/3.6.2/lib/python3.6/site-packages (from gensim)\n",
      "Requirement already satisfied: boto3 in /Users/davidchiu/.pyenv/versions/3.6.2/lib/python3.6/site-packages (from smart-open>=1.7.0->gensim)\n",
      "Requirement already satisfied: boto>=2.32 in /Users/davidchiu/.pyenv/versions/3.6.2/lib/python3.6/site-packages (from smart-open>=1.7.0->gensim)\n",
      "Requirement already satisfied: requests in /Users/davidchiu/.pyenv/versions/3.6.2/lib/python3.6/site-packages (from smart-open>=1.7.0->gensim)\n",
      "Requirement already satisfied: botocore<1.5.0,>=1.4.1 in /Users/davidchiu/.pyenv/versions/3.6.2/lib/python3.6/site-packages (from boto3->smart-open>=1.7.0->gensim)\n",
      "Requirement already satisfied: jmespath<1.0.0,>=0.7.1 in /Users/davidchiu/.pyenv/versions/3.6.2/lib/python3.6/site-packages (from boto3->smart-open>=1.7.0->gensim)\n",
      "Requirement already satisfied: s3transfer<0.2.0,>=0.1.0 in /Users/davidchiu/.pyenv/versions/3.6.2/lib/python3.6/site-packages (from boto3->smart-open>=1.7.0->gensim)\n",
      "Requirement already satisfied: certifi>=2017.4.17 in /Users/davidchiu/.pyenv/versions/3.6.2/lib/python3.6/site-packages (from requests->smart-open>=1.7.0->gensim)\n",
      "Requirement already satisfied: urllib3!=1.25.0,!=1.25.1,<1.26,>=1.21.1 in /Users/davidchiu/.pyenv/versions/3.6.2/lib/python3.6/site-packages (from requests->smart-open>=1.7.0->gensim)\n",
      "Requirement already satisfied: idna<2.9,>=2.5 in /Users/davidchiu/.pyenv/versions/3.6.2/lib/python3.6/site-packages (from requests->smart-open>=1.7.0->gensim)\n",
      "Requirement already satisfied: chardet<3.1.0,>=3.0.2 in /Users/davidchiu/.pyenv/versions/3.6.2/lib/python3.6/site-packages (from requests->smart-open>=1.7.0->gensim)\n",
      "Requirement already satisfied: python-dateutil<3.0.0,>=2.1 in /Users/davidchiu/.pyenv/versions/3.6.2/lib/python3.6/site-packages (from botocore<1.5.0,>=1.4.1->boto3->smart-open>=1.7.0->gensim)\n",
      "Requirement already satisfied: docutils>=0.10 in /Users/davidchiu/.pyenv/versions/3.6.2/lib/python3.6/site-packages (from botocore<1.5.0,>=1.4.1->boto3->smart-open>=1.7.0->gensim)\n",
      "\u001b[33mYou are using pip version 9.0.1, however version 19.3.1 is available.\n",
      "You should consider upgrading via the 'pip install --upgrade pip' command.\u001b[0m\n"
     ]
    }
   ],
   "source": [
    "! pip install gensim"
   ]
  },
  {
   "cell_type": "code",
   "execution_count": 364,
   "metadata": {},
   "outputs": [],
   "source": [
    "s = 'you say goodby and i say hello .'\n",
    "\n",
    "from gensim.models import word2vec\n",
    "model = word2vec.Word2Vec([s.split()], min_count=1, size=3) "
   ]
  },
  {
   "cell_type": "code",
   "execution_count": 365,
   "metadata": {},
   "outputs": [
    {
     "data": {
      "text/plain": [
       "<gensim.models.word2vec.Word2Vec at 0x11b5ca668>"
      ]
     },
     "execution_count": 365,
     "metadata": {},
     "output_type": "execute_result"
    }
   ],
   "source": [
    "model"
   ]
  },
  {
   "cell_type": "code",
   "execution_count": 366,
   "metadata": {},
   "outputs": [
    {
     "data": {
      "text/plain": [
       "(7, 3)"
      ]
     },
     "execution_count": 366,
     "metadata": {},
     "output_type": "execute_result"
    }
   ],
   "source": [
    "model.wv.vectors.shape"
   ]
  },
  {
   "cell_type": "code",
   "execution_count": 367,
   "metadata": {},
   "outputs": [
    {
     "data": {
      "text/plain": [
       "array([[ 0.15580046, -0.04947501, -0.01585815],\n",
       "       [ 0.10708035,  0.14259274, -0.06324305],\n",
       "       [ 0.08813638, -0.05700736,  0.0817363 ],\n",
       "       [-0.1011775 ,  0.0670635 ,  0.10686471],\n",
       "       [-0.0821751 ,  0.04510653,  0.06381281],\n",
       "       [-0.01110122, -0.13624045, -0.05866794],\n",
       "       [-0.08201899, -0.02759126, -0.15634839]], dtype=float32)"
      ]
     },
     "execution_count": 367,
     "metadata": {},
     "output_type": "execute_result"
    }
   ],
   "source": [
    "model.wv.vectors"
   ]
  },
  {
   "cell_type": "code",
   "execution_count": 368,
   "metadata": {},
   "outputs": [
    {
     "data": {
      "text/plain": [
       "{'you': <gensim.models.keyedvectors.Vocab at 0x13ae1e908>,\n",
       " 'say': <gensim.models.keyedvectors.Vocab at 0x13af4c9b0>,\n",
       " 'goodby': <gensim.models.keyedvectors.Vocab at 0x13b38e4a8>,\n",
       " 'and': <gensim.models.keyedvectors.Vocab at 0x13b401160>,\n",
       " 'i': <gensim.models.keyedvectors.Vocab at 0x13b401198>,\n",
       " 'hello': <gensim.models.keyedvectors.Vocab at 0x13b4011d0>,\n",
       " '.': <gensim.models.keyedvectors.Vocab at 0x13b401208>}"
      ]
     },
     "execution_count": 368,
     "metadata": {},
     "output_type": "execute_result"
    }
   ],
   "source": [
    "model.wv.vocab"
   ]
  },
  {
   "cell_type": "code",
   "execution_count": 369,
   "metadata": {},
   "outputs": [],
   "source": [
    "from gensim.models import word2vec\n",
    "model = word2vec.Word2Vec([s.split()], min_count=1, size=2)"
   ]
  },
  {
   "cell_type": "code",
   "execution_count": 370,
   "metadata": {},
   "outputs": [
    {
     "data": {
      "text/plain": [
       "array([[ 0.2337007 , -0.07421251],\n",
       "       [ 0.16062051,  0.21388912],\n",
       "       [ 0.13220458, -0.08551104],\n",
       "       [-0.15176624,  0.10059525],\n",
       "       [-0.12326264,  0.0676598 ],\n",
       "       [-0.01665184, -0.20436068],\n",
       "       [-0.12302849, -0.04138689]], dtype=float32)"
      ]
     },
     "execution_count": 370,
     "metadata": {},
     "output_type": "execute_result"
    }
   ],
   "source": [
    "model.wv.vectors"
   ]
  },
  {
   "cell_type": "code",
   "execution_count": 372,
   "metadata": {},
   "outputs": [
    {
     "name": "stdout",
     "output_type": "stream",
     "text": [
      "Populating the interactive namespace from numpy and matplotlib\n"
     ]
    },
    {
     "data": {
      "image/png": "[encoded data removed]",
      "text/plain": [
       "<Figure size 432x288 with 1 Axes>"
      ]
     },
     "metadata": {},
     "output_type": "display_data"
    }
   ],
   "source": [
    "%pylab inline\n",
    "from matplotlib import pyplot as plt\n",
    "words = list(model.wv.vocab.keys())\n",
    "X = model.wv.vectors\n",
    "for i in range(len(words)):\n",
    "    plt.annotate(words[i], (X[i, 0], X[i, 1]))\n",
    "plt.scatter(X[:,0], X[:,1], alpha=0.5)\n",
    "plt.show()"
   ]
  },
  {
   "cell_type": "code",
   "execution_count": 373,
   "metadata": {},
   "outputs": [],
   "source": [
    "text = '''\n",
    "Tesla's new Cybertruck smashed during demo\n",
    "Tesla has unveiled its \"Cybertruck\" pickup truck, but not without an embarrassing moment on stage.\n",
    "\n",
    "The truck's windows were smashed during a demonstration supposed to show how hard they were to break.\n",
    "\n",
    "Mr Musk was heard to swear before joking: \"Room for improvement.\"\n",
    "\n",
    "The truck was unveiled in Hawthorne, California, where its stainless steel, angular design was greeted with cheers but also bemusement.\n",
    "\n",
    "\"People probably won’t get past the looks of it,\" said Jessica Caldwell, from vehicle marketplace Edmunds.\n",
    "\n",
    "\"It looks like a truck version of the DeLorean from Back To The Future.\"\n",
    "\n",
    "The pickup market represents a significant opportunity for Tesla as it improves its battery technology, meaning carrying heavier loads over long distances is now practical.\n",
    "According to Edmunds, large trucks have accounted for 14.4% of new vehicle sales up until October this year, compared to 12.6% in 2015. The vehicles have an average selling value of more than $50,000.\n",
    "\n",
    "Tesla's truck will be sold starting at $39,900 (£30,900), a model which has a range of 250 miles (402km), while the most expensive model, at $69,900, will have a range of 500 miles. The truck will seat up to six adults and haul a payload of 3,500lbs, Tesla said.\n",
    "\n",
    "Mr Musk said pre-orders would start immediately, with production starting in late 2021 - though the 48-year-old has a history of missing his own deadlines.\n",
    "\n",
    "The Cybertruck's launch will undoubtedly be overshadowed by the \"fail\", Ms Caldwell said.\n",
    "\n",
    "It happened during a segment displaying how the car's stainless steel exterior, and metal windows, could withstand bullets and sledgehammers. However, when Tesla's head of design, Franz von Holzhausen, threw a metal ball at the front left window, it smashed. As too did the rear left.\n",
    "\n",
    "\"It didn’t go through, that’s a plus side,\" Mr Musk said.\n",
    "\n",
    "\"We threw wrenches, we threw literally the kitchen sink at the glass and it didn’t break. For some reason it broke now… I don’t know why.\"\n",
    "\n",
    "At the time of writing, Tesla stock price was mostly unchanged in after-hours trading.\n",
    "'''"
   ]
  },
  {
   "cell_type": "code",
   "execution_count": 376,
   "metadata": {},
   "outputs": [],
   "source": [
    "from gensim.models import word2vec\n",
    "model = word2vec.Word2Vec([text.split()], min_count=3, size=5, window=5 )"
   ]
  },
  {
   "cell_type": "code",
   "execution_count": 378,
   "metadata": {},
   "outputs": [],
   "source": [
    "#model.wv.vectors"
   ]
  },
  {
   "cell_type": "code",
   "execution_count": 380,
   "metadata": {},
   "outputs": [
    {
     "name": "stderr",
     "output_type": "stream",
     "text": [
      "/Users/davidchiu/.pyenv/versions/3.6.2/lib/python3.6/site-packages/ipykernel_launcher.py:1: DeprecationWarning: Call to deprecated `most_similar` (Method will be removed in 4.0.0, use self.wv.most_similar() instead).\n",
      "  \"\"\"Entry point for launching an IPython kernel.\n"
     ]
    },
    {
     "data": {
      "text/plain": [
       "[('of', 0.7944831252098083),\n",
       " ('and', 0.6250981688499451),\n",
       " ('The', 0.5881091952323914),\n",
       " ('threw', 0.5141059756278992),\n",
       " ('it', 0.4859217405319214),\n",
       " ('truck', 0.42523229122161865),\n",
       " ('the', 0.42041754722595215),\n",
       " ('was', 0.3053815960884094),\n",
       " ('to', 0.25607115030288696),\n",
       " ('Musk', 0.16421346366405487)]"
      ]
     },
     "execution_count": 380,
     "metadata": {},
     "output_type": "execute_result"
    }
   ],
   "source": [
    "model.most_similar('Tesla')"
   ]
  },
  {
   "cell_type": "code",
   "execution_count": 384,
   "metadata": {},
   "outputs": [],
   "source": [
    "words = nltk.word_tokenize(text)"
   ]
  },
  {
   "cell_type": "code",
   "execution_count": 397,
   "metadata": {},
   "outputs": [],
   "source": [
    "from gensim.models import word2vec\n",
    "model = word2vec.Word2Vec([words], min_count=3, size=5, window=5 )"
   ]
  },
  {
   "cell_type": "code",
   "execution_count": 400,
   "metadata": {},
   "outputs": [
    {
     "name": "stderr",
     "output_type": "stream",
     "text": [
      "/Users/davidchiu/.pyenv/versions/3.6.2/lib/python3.6/site-packages/ipykernel_launcher.py:1: DeprecationWarning: Call to deprecated `most_similar` (Method will be removed in 4.0.0, use self.wv.most_similar() instead).\n",
      "  \"\"\"Entry point for launching an IPython kernel.\n"
     ]
    },
    {
     "data": {
      "text/plain": [
       "[('of', 0.8000127077102661),\n",
       " ('and', 0.6394666433334351),\n",
       " ('The', 0.6000618934631348),\n",
       " ('said', 0.5673915147781372),\n",
       " ('threw', 0.5141352415084839),\n",
       " ('it', 0.4793822765350342),\n",
       " (\"'s\", 0.44226711988449097),\n",
       " ('the', 0.4145381450653076),\n",
       " ('truck', 0.41096895933151245),\n",
       " ('t', 0.31370556354522705)]"
      ]
     },
     "execution_count": 400,
     "metadata": {},
     "output_type": "execute_result"
    }
   ],
   "source": [
    "model.most_similar('Tesla')"
   ]
  },
  {
   "cell_type": "markdown",
   "metadata": {},
   "source": [
    "## 使用新聞資料建立模型"
   ]
  },
  {
   "cell_type": "code",
   "execution_count": 401,
   "metadata": {},
   "outputs": [],
   "source": [
    "import pandas\n",
    "news = pandas.read_excel('https://raw.githubusercontent.com/ywchiu/pytextmining/master/data/20171214news.xlsx', index_col=0)"
   ]
  },
  {
   "cell_type": "code",
   "execution_count": 403,
   "metadata": {},
   "outputs": [
    {
     "data": {
      "text/html": [
       "<div>\n",
       "<style scoped>\n",
       "    .dataframe tbody tr th:only-of-type {\n",
       "        vertical-align: middle;\n",
       "    }\n",
       "\n",
       "    .dataframe tbody tr th {\n",
       "        vertical-align: top;\n",
       "    }\n",
       "\n",
       "    .dataframe thead th {\n",
       "        text-align: right;\n",
       "    }\n",
       "</style>\n",
       "<table border=\"1\" class=\"dataframe\">\n",
       "  <thead>\n",
       "    <tr style=\"text-align: right;\">\n",
       "      <th></th>\n",
       "      <th>category</th>\n",
       "      <th>content</th>\n",
       "      <th>link</th>\n",
       "      <th>title</th>\n",
       "    </tr>\n",
       "  </thead>\n",
       "  <tbody>\n",
       "    <tr>\n",
       "      <th>0</th>\n",
       "      <td>政治</td>\n",
       "      <td>新增：立委說法民進黨立法院黨團預計在明天的院會中，讓改制農田水利會的《農田水利會組織通則》修...</td>\n",
       "      <td>https://tw.news.appledaily.com/politics/realti...</td>\n",
       "      <td>【更新】水利會改官派明闖關　綠委24小時前顧議場大門防藍突襲</td>\n",
       "    </tr>\n",
       "    <tr>\n",
       "      <th>1</th>\n",
       "      <td>論壇</td>\n",
       "      <td>邱俊棠／台中市民、見習醫師；曾任台灣醫學生聯合會對外副會長對於公民參與公眾事務而能得到單位首...</td>\n",
       "      <td>https://tw.news.appledaily.com/forum/realtime/...</td>\n",
       "      <td>請中市府為所當為 加速中火燃煤限制</td>\n",
       "    </tr>\n",
       "    <tr>\n",
       "      <th>2</th>\n",
       "      <td>社會</td>\n",
       "      <td>被控來台涉發展情報組織的中國學生周泓旭，因接觸我方外交部官員而露餡落網，今年9月被台北地院一...</td>\n",
       "      <td>https://tw.news.appledaily.com/local/realtime/...</td>\n",
       "      <td>陸生共諜嗆台司法　「不敢公開審理我」</td>\n",
       "    </tr>\n",
       "  </tbody>\n",
       "</table>\n",
       "</div>"
      ],
      "text/plain": [
       "  category                                            content  \\\n",
       "0       政治  新增：立委說法民進黨立法院黨團預計在明天的院會中，讓改制農田水利會的《農田水利會組織通則》修...   \n",
       "1       論壇  邱俊棠／台中市民、見習醫師；曾任台灣醫學生聯合會對外副會長對於公民參與公眾事務而能得到單位首...   \n",
       "2       社會  被控來台涉發展情報組織的中國學生周泓旭，因接觸我方外交部官員而露餡落網，今年9月被台北地院一...   \n",
       "\n",
       "                                                link  \\\n",
       "0  https://tw.news.appledaily.com/politics/realti...   \n",
       "1  https://tw.news.appledaily.com/forum/realtime/...   \n",
       "2  https://tw.news.appledaily.com/local/realtime/...   \n",
       "\n",
       "                            title  \n",
       "0  【更新】水利會改官派明闖關　綠委24小時前顧議場大門防藍突襲  \n",
       "1               請中市府為所當為 加速中火燃煤限制  \n",
       "2              陸生共諜嗆台司法　「不敢公開審理我」  "
      ]
     },
     "execution_count": 403,
     "metadata": {},
     "output_type": "execute_result"
    }
   ],
   "source": [
    "news.head(3)"
   ]
  },
  {
   "cell_type": "code",
   "execution_count": 498,
   "metadata": {},
   "outputs": [],
   "source": [
    "corpus = []\n",
    "tags = []\n",
    "for idx, e in news[news['category'].isin(['社會','娛樂'])].iterrows():\n",
    "    corpus.append(list(jieba.cut(e['content'])))\n",
    "    tags.append(e['category'])"
   ]
  },
  {
   "cell_type": "code",
   "execution_count": 523,
   "metadata": {},
   "outputs": [],
   "source": [
    "from gensim.models import word2vec\n",
    "model = word2vec.Word2Vec(corpus, min_count=1, size=20, iter=200) "
   ]
  },
  {
   "cell_type": "code",
   "execution_count": 524,
   "metadata": {},
   "outputs": [],
   "source": [
    "#model.wv.vocab"
   ]
  },
  {
   "cell_type": "code",
   "execution_count": 525,
   "metadata": {},
   "outputs": [
    {
     "name": "stderr",
     "output_type": "stream",
     "text": [
      "/Users/davidchiu/.pyenv/versions/3.6.2/lib/python3.6/site-packages/ipykernel_launcher.py:1: DeprecationWarning: Call to deprecated `most_similar` (Method will be removed in 4.0.0, use self.wv.most_similar() instead).\n",
      "  \"\"\"Entry point for launching an IPython kernel.\n"
     ]
    },
    {
     "data": {
      "text/plain": [
       "[('航警', 0.7725472450256348),\n",
       " ('查緝', 0.7647303938865662),\n",
       " ('逮捕', 0.7501791715621948),\n",
       " ('轄區', 0.7221477627754211),\n",
       " ('解剖', 0.6988728046417236),\n",
       " ('開槍', 0.6872896552085876),\n",
       " ('監視器', 0.6846760511398315),\n",
       " ('著實', 0.6819556951522827),\n",
       " ('竊盜罪', 0.6750973463058472),\n",
       " ('死因', 0.673723578453064)]"
      ]
     },
     "execution_count": 525,
     "metadata": {},
     "output_type": "execute_result"
    }
   ],
   "source": [
    "model.most_similar('警方')"
   ]
  },
  {
   "cell_type": "code",
   "execution_count": 526,
   "metadata": {},
   "outputs": [
    {
     "name": "stderr",
     "output_type": "stream",
     "text": [
      "/Users/davidchiu/.pyenv/versions/3.6.2/lib/python3.6/site-packages/ipykernel_launcher.py:1: DeprecationWarning: Call to deprecated `most_similar` (Method will be removed in 4.0.0, use self.wv.most_similar() instead).\n",
      "  \"\"\"Entry point for launching an IPython kernel.\n"
     ]
    },
    {
     "data": {
      "text/plain": [
       "[('拖吊車', 0.8161313533782959),\n",
       " ('齊', 0.8077021837234497),\n",
       " ('會合', 0.8022601008415222),\n",
       " ('楊男', 0.8007879257202148),\n",
       " ('機警', 0.785395085811615),\n",
       " ('積極', 0.783367395401001),\n",
       " ('慰勸', 0.7586366534233093),\n",
       " ('協助', 0.7536046504974365),\n",
       " ('胞妹', 0.7516741752624512),\n",
       " ('如何是好', 0.7410428524017334)]"
      ]
     },
     "execution_count": 526,
     "metadata": {},
     "output_type": "execute_result"
    }
   ],
   "source": [
    "model.most_similar('家屬')"
   ]
  },
  {
   "cell_type": "code",
   "execution_count": 527,
   "metadata": {},
   "outputs": [],
   "source": [
    "#model.most_similar('洗錢')"
   ]
  },
  {
   "cell_type": "code",
   "execution_count": 529,
   "metadata": {},
   "outputs": [
    {
     "name": "stderr",
     "output_type": "stream",
     "text": [
      "/Users/davidchiu/.pyenv/versions/3.6.2/lib/python3.6/site-packages/ipykernel_launcher.py:5: DeprecationWarning: Call to deprecated `__contains__` (Method will be removed in 4.0.0, use self.wv.__contains__() instead).\n",
      "  \"\"\"\n",
      "/Users/davidchiu/.pyenv/versions/3.6.2/lib/python3.6/site-packages/ipykernel_launcher.py:6: DeprecationWarning: Call to deprecated `__getitem__` (Method will be removed in 4.0.0, use self.wv.__getitem__() instead).\n",
      "  \n"
     ]
    },
    {
     "data": {
      "text/plain": [
       "array([[ 0.65000378, -0.06782816,  0.16725037,  0.05649241, -0.63560036,\n",
       "        -0.46508239,  0.0912204 ,  0.13495635,  0.79981255,  1.38688892,\n",
       "        -0.16019562, -0.99812229, -0.97788925,  0.36526828, -0.85067119,\n",
       "         0.96181733, -0.46906889, -0.38073617, -0.44881851,  0.39923944]])"
      ]
     },
     "execution_count": 529,
     "metadata": {},
     "output_type": "execute_result"
    }
   ],
   "source": [
    "score = np.zeros((1,20))\n",
    "#score\n",
    "cnt = 0 \n",
    "for w in corpus[0]:\n",
    "    if w in model:\n",
    "        score += model[w]\n",
    "        cnt += 1\n",
    "score / cnt"
   ]
  },
  {
   "cell_type": "code",
   "execution_count": 530,
   "metadata": {},
   "outputs": [],
   "source": [
    "size = 20"
   ]
  },
  {
   "cell_type": "code",
   "execution_count": 531,
   "metadata": {},
   "outputs": [
    {
     "name": "stderr",
     "output_type": "stream",
     "text": [
      "/Users/davidchiu/.pyenv/versions/3.6.2/lib/python3.6/site-packages/ipykernel_launcher.py:8: DeprecationWarning: Call to deprecated `__contains__` (Method will be removed in 4.0.0, use self.wv.__contains__() instead).\n",
      "  \n",
      "/Users/davidchiu/.pyenv/versions/3.6.2/lib/python3.6/site-packages/ipykernel_launcher.py:10: DeprecationWarning: Call to deprecated `__getitem__` (Method will be removed in 4.0.0, use self.wv.__getitem__() instead).\n",
      "  # Remove the CWD from sys.path while we load stuff.\n"
     ]
    }
   ],
   "source": [
    "import numpy as np\n",
    "vecs = []\n",
    "vec = np.zeros(size).reshape((1, size))\n",
    "\n",
    "for s in corpus:\n",
    "    cnt = 0\n",
    "    for w in s:\n",
    "        if w in model:\n",
    "            #print(w, model[w])\n",
    "            vec += model[w].reshape((1, size))\n",
    "            cnt += 1\n",
    "    vecs.append(vec / cnt)"
   ]
  },
  {
   "cell_type": "code",
   "execution_count": 532,
   "metadata": {},
   "outputs": [
    {
     "data": {
      "text/plain": [
       "247"
      ]
     },
     "execution_count": 532,
     "metadata": {},
     "output_type": "execute_result"
    }
   ],
   "source": [
    "len(vecs)"
   ]
  },
  {
   "cell_type": "code",
   "execution_count": 533,
   "metadata": {},
   "outputs": [],
   "source": [
    "X = np.concatenate(vecs, axis = 0)"
   ]
  },
  {
   "cell_type": "code",
   "execution_count": 534,
   "metadata": {},
   "outputs": [
    {
     "data": {
      "text/plain": [
       "(247, 20)"
      ]
     },
     "execution_count": 534,
     "metadata": {},
     "output_type": "execute_result"
    }
   ],
   "source": [
    "X.shape"
   ]
  },
  {
   "cell_type": "code",
   "execution_count": 535,
   "metadata": {},
   "outputs": [],
   "source": [
    "from sklearn.model_selection import train_test_split\n",
    "train_X, test_X, train_y, test_y = train_test_split(X, tags, test_size = 0.2, random_state = 42)"
   ]
  },
  {
   "cell_type": "code",
   "execution_count": 540,
   "metadata": {},
   "outputs": [
    {
     "data": {
      "text/plain": [
       "GradientBoostingClassifier(criterion='friedman_mse', init=None,\n",
       "              learning_rate=0.1, loss='deviance', max_depth=3,\n",
       "              max_features=None, max_leaf_nodes=None,\n",
       "              min_impurity_decrease=0.0, min_impurity_split=None,\n",
       "              min_samples_leaf=1, min_samples_split=2,\n",
       "              min_weight_fraction_leaf=0.0, n_estimators=100,\n",
       "              presort='auto', random_state=None, subsample=1.0, verbose=0,\n",
       "              warm_start=False)"
      ]
     },
     "execution_count": 540,
     "metadata": {},
     "output_type": "execute_result"
    }
   ],
   "source": [
    "from sklearn.ensemble import GradientBoostingClassifier\n",
    "from sklearn.svm import SVC\n",
    "#clf = SVC(kernel='rbf')\n",
    "clf = GradientBoostingClassifier()\n",
    "clf.fit(train_X, train_y)"
   ]
  },
  {
   "cell_type": "code",
   "execution_count": 541,
   "metadata": {},
   "outputs": [],
   "source": [
    "predicted = clf.predict(test_X)"
   ]
  },
  {
   "cell_type": "code",
   "execution_count": 542,
   "metadata": {},
   "outputs": [
    {
     "data": {
      "text/plain": [
       "0.7"
      ]
     },
     "execution_count": 542,
     "metadata": {},
     "output_type": "execute_result"
    }
   ],
   "source": [
    "from sklearn.metrics import accuracy_score, confusion_matrix\n",
    "accuracy_score(test_y, predicted)"
   ]
  },
  {
   "cell_type": "code",
   "execution_count": 543,
   "metadata": {},
   "outputs": [
    {
     "data": {
      "text/plain": [
       "array([[13,  9],\n",
       "       [ 6, 22]])"
      ]
     },
     "execution_count": 543,
     "metadata": {},
     "output_type": "execute_result"
    }
   ],
   "source": [
    "confusion_matrix(test_y, predicted)"
   ]
  },
  {
   "cell_type": "markdown",
   "metadata": {},
   "source": [
    "## 傳統方法"
   ]
  },
  {
   "cell_type": "code",
   "execution_count": 490,
   "metadata": {},
   "outputs": [],
   "source": [
    "corpus = []\n",
    "tags = []\n",
    "for idx, e in news[news['category'].isin(['社會','娛樂'])].iterrows():\n",
    "    corpus.append(' '.join(jieba.cut(e['content'])))\n",
    "    tags.append(e['category'])"
   ]
  },
  {
   "cell_type": "code",
   "execution_count": 491,
   "metadata": {},
   "outputs": [],
   "source": [
    "from sklearn.feature_extraction.text import TfidfVectorizer\n",
    "vectorizer= TfidfVectorizer()\n",
    "X = vectorizer.fit_transform(corpus)"
   ]
  },
  {
   "cell_type": "code",
   "execution_count": 492,
   "metadata": {},
   "outputs": [
    {
     "data": {
      "text/plain": [
       "(247, 11380)"
      ]
     },
     "execution_count": 492,
     "metadata": {},
     "output_type": "execute_result"
    }
   ],
   "source": [
    "X.shape"
   ]
  },
  {
   "cell_type": "code",
   "execution_count": 493,
   "metadata": {},
   "outputs": [],
   "source": [
    "from sklearn.model_selection import train_test_split\n",
    "train_X, test_X, train_y, test_y = train_test_split(X, tags, test_size = 0.2, random_state = 42)"
   ]
  },
  {
   "cell_type": "code",
   "execution_count": 494,
   "metadata": {},
   "outputs": [
    {
     "data": {
      "text/plain": [
       "MultinomialNB(alpha=0.01, class_prior=None, fit_prior=True)"
      ]
     },
     "execution_count": 494,
     "metadata": {},
     "output_type": "execute_result"
    }
   ],
   "source": [
    "from sklearn.naive_bayes import MultinomialNB\n",
    "clf = MultinomialNB(alpha = 0.01)\n",
    "clf.fit(train_X, train_y)"
   ]
  },
  {
   "cell_type": "code",
   "execution_count": 495,
   "metadata": {},
   "outputs": [],
   "source": [
    "predicted = clf.predict(test_X)"
   ]
  },
  {
   "cell_type": "code",
   "execution_count": 496,
   "metadata": {},
   "outputs": [
    {
     "data": {
      "text/plain": [
       "1.0"
      ]
     },
     "execution_count": 496,
     "metadata": {},
     "output_type": "execute_result"
    }
   ],
   "source": [
    "from sklearn.metrics import accuracy_score, confusion_matrix\n",
    "accuracy_score(test_y, predicted)"
   ]
  },
  {
   "cell_type": "code",
   "execution_count": 497,
   "metadata": {},
   "outputs": [
    {
     "data": {
      "text/plain": [
       "array([[22,  0],\n",
       "       [ 0, 28]])"
      ]
     },
     "execution_count": 497,
     "metadata": {},
     "output_type": "execute_result"
    }
   ],
   "source": [
    "confusion_matrix(test_y, predicted)"
   ]
  },
  {
   "cell_type": "code",
   "execution_count": 545,
   "metadata": {},
   "outputs": [],
   "source": [
    "#vectorizer.get_feature_names()"
   ]
  },
  {
   "cell_type": "markdown",
   "metadata": {},
   "source": [
    "## 文字生成範例"
   ]
  },
  {
   "cell_type": "code",
   "execution_count": 546,
   "metadata": {},
   "outputs": [
    {
     "name": "stderr",
     "output_type": "stream",
     "text": [
      "Using TensorFlow backend.\n",
      "/Users/davidchiu/.pyenv/versions/3.6.2/lib/python3.6/site-packages/tensorflow/python/framework/dtypes.py:516: FutureWarning: Passing (type, 1) or '1type' as a synonym of type is deprecated; in a future version of numpy, it will be understood as (type, (1,)) / '(1,)type'.\n",
      "  _np_qint8 = np.dtype([(\"qint8\", np.int8, 1)])\n",
      "/Users/davidchiu/.pyenv/versions/3.6.2/lib/python3.6/site-packages/tensorflow/python/framework/dtypes.py:517: FutureWarning: Passing (type, 1) or '1type' as a synonym of type is deprecated; in a future version of numpy, it will be understood as (type, (1,)) / '(1,)type'.\n",
      "  _np_quint8 = np.dtype([(\"quint8\", np.uint8, 1)])\n",
      "/Users/davidchiu/.pyenv/versions/3.6.2/lib/python3.6/site-packages/tensorflow/python/framework/dtypes.py:518: FutureWarning: Passing (type, 1) or '1type' as a synonym of type is deprecated; in a future version of numpy, it will be understood as (type, (1,)) / '(1,)type'.\n",
      "  _np_qint16 = np.dtype([(\"qint16\", np.int16, 1)])\n",
      "/Users/davidchiu/.pyenv/versions/3.6.2/lib/python3.6/site-packages/tensorflow/python/framework/dtypes.py:519: FutureWarning: Passing (type, 1) or '1type' as a synonym of type is deprecated; in a future version of numpy, it will be understood as (type, (1,)) / '(1,)type'.\n",
      "  _np_quint16 = np.dtype([(\"quint16\", np.uint16, 1)])\n",
      "/Users/davidchiu/.pyenv/versions/3.6.2/lib/python3.6/site-packages/tensorflow/python/framework/dtypes.py:520: FutureWarning: Passing (type, 1) or '1type' as a synonym of type is deprecated; in a future version of numpy, it will be understood as (type, (1,)) / '(1,)type'.\n",
      "  _np_qint32 = np.dtype([(\"qint32\", np.int32, 1)])\n",
      "/Users/davidchiu/.pyenv/versions/3.6.2/lib/python3.6/site-packages/tensorflow/python/framework/dtypes.py:525: FutureWarning: Passing (type, 1) or '1type' as a synonym of type is deprecated; in a future version of numpy, it will be understood as (type, (1,)) / '(1,)type'.\n",
      "  np_resource = np.dtype([(\"resource\", np.ubyte, 1)])\n"
     ]
    }
   ],
   "source": [
    "import keras\n",
    "from keras import layers\n",
    "import sys\n",
    "import numpy as np\n",
    "\n",
    "text= 'this text file can be any text, as long as it contains text longer than maxlen defined below'\n",
    "\n",
    "chars=['\\n', ' ', '!', '\"', '#', '$', '%', '&', \"'\", '(', ')', '*', ',', '-', '.', '/', '0', '1', '2', '3', '4', '5', '6', '7', '8', '9', ':', ';', '<', '=', '>', '?', '@', 'A', 'B', 'C', 'D', 'E', 'F', 'G', 'H', 'I', 'J', 'K', 'L', 'M', 'N', 'O', 'P', 'Q', 'R', 'S', 'T', 'U', 'V', 'W', 'X', 'Y', 'Z', '[', '\\\\', ']', '^', '_', '`', 'a', 'b', 'c', 'd', 'e', 'f', 'g', 'h', 'i', 'j', 'k', 'l', 'm', 'n', 'o', 'p', 'q', 'r', 's', 't', 'u', 'v', 'w', 'x', 'y', 'z', '{', '|', '}', '~']\n",
    "\n",
    "# Dictionary mapping unique characters to their index in `chars`\n",
    "char_indices = dict((char, chars.index(char)) for char in chars)\n",
    "maxlen=60\n",
    "step=1\n",
    "\n",
    "model = keras.models.Sequential()\n",
    "model.add(layers.LSTM(1024, input_shape=(maxlen, len(chars)),return_sequences=True))\n",
    "model.add(layers.LSTM(1024, input_shape=(maxlen, len(chars))))\n",
    "model.add(layers.Dense(len(chars), activation='softmax'))\n",
    "model.load_weights(\"/Users/davidchiu/course/ctbcpy/data/pre-trained.hdf5\")\n",
    "\n",
    "optimizer = keras.optimizers.Adam(lr=0.0002)\n",
    "model.compile(loss='categorical_crossentropy', optimizer=optimizer)"
   ]
  },
  {
   "cell_type": "code",
   "execution_count": 547,
   "metadata": {},
   "outputs": [],
   "source": [
    "def sample(preds, temperature=1.0):\n",
    "    preds = np.asarray(preds).astype('float64')\n",
    "    preds = np.log(preds) / temperature\n",
    "    exp_preds = np.exp(preds)\n",
    "    preds = exp_preds / np.sum(exp_preds)\n",
    "    probas = np.random.multinomial(1, preds, 1)\n",
    "    return np.argmax(probas)\n",
    "\n",
    "def random_reviews():\n",
    "    # sample a start index\n",
    "    start_index = np.random.randint(0, len(text) - maxlen - 1)\n",
    "    # the initial sampled text with maxlen long\n",
    "    generated_text = text[start_index: start_index + maxlen]\n",
    "    print('Coming up with several reviews for you...')\n",
    "\n",
    "    for temperature in [0.8]:\n",
    "        sys.stdout.write(generated_text)\n",
    "\n",
    "        # We generate 600 characters\n",
    "        for i in range(600):\n",
    "            sampled = np.zeros((1, maxlen, len(chars)))\n",
    "            # Turn each char to char index.\n",
    "            for t, char in enumerate(generated_text):\n",
    "                sampled[0, t, char_indices[char]] = 1.\n",
    "            # Predict next char probabilities\n",
    "            preds = model.predict(sampled, verbose=0)[0]\n",
    "            # Add some randomness by sampling given probabilities.\n",
    "            next_index = sample(preds, temperature)\n",
    "            # Turn char index to char.\n",
    "            next_char = chars[next_index]\n",
    "            # Append char to generated text string\n",
    "            generated_text += next_char\n",
    "            # Pop the first char in generated text string.\n",
    "            generated_text = generated_text[1:]\n",
    "            # Print the new generated char.\n",
    "            sys.stdout.write(next_char)\n",
    "            sys.stdout.flush()\n",
    "        print(generated_text)"
   ]
  },
  {
   "cell_type": "code",
   "execution_count": 549,
   "metadata": {},
   "outputs": [
    {
     "name": "stdout",
     "output_type": "stream",
     "text": [
      "Coming up with several reviews for you...\n",
      "his text file can be any text, as long as it contains text leg"
     ]
    },
    {
     "name": "stderr",
     "output_type": "stream",
     "text": [
      "/Users/davidchiu/.pyenv/versions/3.6.2/lib/python3.6/site-packages/ipykernel_launcher.py:3: RuntimeWarning: divide by zero encountered in log\n",
      "  This is separate from the ipykernel package so we can avoid doing imports until\n"
     ]
    },
    {
     "name": "stdout",
     "output_type": "stream",
     "text": [
      "end.. dinner and staff.<EOR>\"\n",
      "\"<SOR>Amazing food, price is reasonable and the service is great. the salad is always very good and the service is amazing! Thanks for a great experience!   i will always recommend for a non-meat come to the winter when i'm in town!<EOR>\"\n",
      "\"<SOR>The perfect place to get drinks and tomatoes, are incredible.                                     s stop sympaliso mit de la soupe !!   an pas de geniee de service et il servir le man la es un resto dans la comida est il montralant top de colo americano de mi richer est excellent<EOR>\"\n",
      "\"<SOR>I love this place.            her est excellent<EOR>\"\n",
      "\"<SOR>I love this place.            \n"
     ]
    }
   ],
   "source": [
    "random_reviews()"
   ]
  },
  {
   "cell_type": "code",
   "execution_count": 550,
   "metadata": {},
   "outputs": [
    {
     "name": "stdout",
     "output_type": "stream",
     "text": [
      "Requirement already satisfied: bert-extractive-summarizer in /Users/davidchiu/.pyenv/versions/3.6.2/lib/python3.6/site-packages\n",
      "Requirement already satisfied: neuralcoref in /Users/davidchiu/.pyenv/versions/3.6.2/lib/python3.6/site-packages (from bert-extractive-summarizer)\n",
      "Requirement already satisfied: transformers in /Users/davidchiu/.pyenv/versions/3.6.2/lib/python3.6/site-packages (from bert-extractive-summarizer)\n",
      "Requirement already satisfied: scikit-learn in /Users/davidchiu/.pyenv/versions/3.6.2/lib/python3.6/site-packages (from bert-extractive-summarizer)\n",
      "Requirement already satisfied: spacy==2.1.3 in /Users/davidchiu/.pyenv/versions/3.6.2/lib/python3.6/site-packages (from bert-extractive-summarizer)\n",
      "Requirement already satisfied: requests<3.0.0,>=2.13.0 in /Users/davidchiu/.pyenv/versions/3.6.2/lib/python3.6/site-packages (from neuralcoref->bert-extractive-summarizer)\n",
      "Requirement already satisfied: boto3 in /Users/davidchiu/.pyenv/versions/3.6.2/lib/python3.6/site-packages (from neuralcoref->bert-extractive-summarizer)\n",
      "Requirement already satisfied: numpy>=1.15.0 in /Users/davidchiu/.pyenv/versions/3.6.2/lib/python3.6/site-packages (from neuralcoref->bert-extractive-summarizer)\n",
      "Requirement already satisfied: tqdm in /Users/davidchiu/.pyenv/versions/3.6.2/lib/python3.6/site-packages (from transformers->bert-extractive-summarizer)\n",
      "Requirement already satisfied: sentencepiece in /Users/davidchiu/.pyenv/versions/3.6.2/lib/python3.6/site-packages (from transformers->bert-extractive-summarizer)\n",
      "Requirement already satisfied: sacremoses in /Users/davidchiu/.pyenv/versions/3.6.2/lib/python3.6/site-packages (from transformers->bert-extractive-summarizer)\n",
      "Requirement already satisfied: regex in /Users/davidchiu/.pyenv/versions/3.6.2/lib/python3.6/site-packages (from transformers->bert-extractive-summarizer)\n",
      "Requirement already satisfied: cymem<2.1.0,>=2.0.2 in /Users/davidchiu/.pyenv/versions/3.6.2/lib/python3.6/site-packages (from spacy==2.1.3->bert-extractive-summarizer)\n",
      "Requirement already satisfied: blis<0.3.0,>=0.2.2 in /Users/davidchiu/.pyenv/versions/3.6.2/lib/python3.6/site-packages (from spacy==2.1.3->bert-extractive-summarizer)\n",
      "Requirement already satisfied: jsonschema<3.0.0,>=2.6.0 in /Users/davidchiu/.pyenv/versions/3.6.2/lib/python3.6/site-packages (from spacy==2.1.3->bert-extractive-summarizer)\n",
      "Requirement already satisfied: wasabi<1.1.0,>=0.2.0 in /Users/davidchiu/.pyenv/versions/3.6.2/lib/python3.6/site-packages (from spacy==2.1.3->bert-extractive-summarizer)\n",
      "Requirement already satisfied: murmurhash<1.1.0,>=0.28.0 in /Users/davidchiu/.pyenv/versions/3.6.2/lib/python3.6/site-packages (from spacy==2.1.3->bert-extractive-summarizer)\n",
      "Requirement already satisfied: srsly<1.1.0,>=0.0.5 in /Users/davidchiu/.pyenv/versions/3.6.2/lib/python3.6/site-packages (from spacy==2.1.3->bert-extractive-summarizer)\n",
      "Requirement already satisfied: preshed<2.1.0,>=2.0.1 in /Users/davidchiu/.pyenv/versions/3.6.2/lib/python3.6/site-packages (from spacy==2.1.3->bert-extractive-summarizer)\n",
      "Requirement already satisfied: thinc<7.1.0,>=7.0.2 in /Users/davidchiu/.pyenv/versions/3.6.2/lib/python3.6/site-packages (from spacy==2.1.3->bert-extractive-summarizer)\n",
      "Requirement already satisfied: plac<1.0.0,>=0.9.6 in /Users/davidchiu/.pyenv/versions/3.6.2/lib/python3.6/site-packages (from spacy==2.1.3->bert-extractive-summarizer)\n",
      "Requirement already satisfied: certifi>=2017.4.17 in /Users/davidchiu/.pyenv/versions/3.6.2/lib/python3.6/site-packages (from requests<3.0.0,>=2.13.0->neuralcoref->bert-extractive-summarizer)\n",
      "Requirement already satisfied: chardet<3.1.0,>=3.0.2 in /Users/davidchiu/.pyenv/versions/3.6.2/lib/python3.6/site-packages (from requests<3.0.0,>=2.13.0->neuralcoref->bert-extractive-summarizer)\n",
      "Requirement already satisfied: urllib3!=1.25.0,!=1.25.1,<1.26,>=1.21.1 in /Users/davidchiu/.pyenv/versions/3.6.2/lib/python3.6/site-packages (from requests<3.0.0,>=2.13.0->neuralcoref->bert-extractive-summarizer)\n",
      "Requirement already satisfied: idna<2.9,>=2.5 in /Users/davidchiu/.pyenv/versions/3.6.2/lib/python3.6/site-packages (from requests<3.0.0,>=2.13.0->neuralcoref->bert-extractive-summarizer)\n",
      "Requirement already satisfied: s3transfer<0.2.0,>=0.1.0 in /Users/davidchiu/.pyenv/versions/3.6.2/lib/python3.6/site-packages (from boto3->neuralcoref->bert-extractive-summarizer)\n",
      "Requirement already satisfied: jmespath<1.0.0,>=0.7.1 in /Users/davidchiu/.pyenv/versions/3.6.2/lib/python3.6/site-packages (from boto3->neuralcoref->bert-extractive-summarizer)\n",
      "Requirement already satisfied: botocore<1.5.0,>=1.4.1 in /Users/davidchiu/.pyenv/versions/3.6.2/lib/python3.6/site-packages (from boto3->neuralcoref->bert-extractive-summarizer)\n",
      "Requirement already satisfied: joblib in /Users/davidchiu/.pyenv/versions/3.6.2/lib/python3.6/site-packages (from sacremoses->transformers->bert-extractive-summarizer)\n",
      "Requirement already satisfied: six in /Users/davidchiu/.pyenv/versions/3.6.2/lib/python3.6/site-packages (from sacremoses->transformers->bert-extractive-summarizer)\n",
      "Requirement already satisfied: click in /Users/davidchiu/.pyenv/versions/3.6.2/lib/python3.6/site-packages (from sacremoses->transformers->bert-extractive-summarizer)\n",
      "Requirement already satisfied: python-dateutil<3.0.0,>=2.1 in /Users/davidchiu/.pyenv/versions/3.6.2/lib/python3.6/site-packages (from botocore<1.5.0,>=1.4.1->boto3->neuralcoref->bert-extractive-summarizer)\n",
      "Requirement already satisfied: docutils>=0.10 in /Users/davidchiu/.pyenv/versions/3.6.2/lib/python3.6/site-packages (from botocore<1.5.0,>=1.4.1->boto3->neuralcoref->bert-extractive-summarizer)\n",
      "\u001b[33mYou are using pip version 9.0.1, however version 19.3.1 is available.\n",
      "You should consider upgrading via the 'pip install --upgrade pip' command.\u001b[0m\n"
     ]
    }
   ],
   "source": [
    "! pip install bert-extractive-summarizer"
   ]
  },
  {
   "cell_type": "code",
   "execution_count": 551,
   "metadata": {},
   "outputs": [
    {
     "name": "stdout",
     "output_type": "stream",
     "text": [
      "The Chrysler Building, the famous art deco New York skyscraper, will be sold for a small fraction of its previous sales price. The deal, first reported by The Real Deal, was for $150 million, according to a source familiar with the deal. The building sold fairly quickly after being publicly placed on the market only two months ago. The incentive to sell the building at such a huge loss was due to the soaring rent the owners pay to Cooper Union, a New York college, for the land under the building.\n"
     ]
    }
   ],
   "source": [
    "from summarizer import Summarizer\n",
    "\n",
    "body = '''\n",
    "The Chrysler Building, the famous art deco New York skyscraper, will be sold for a small fraction of its previous sales price.\n",
    "The deal, first reported by The Real Deal, was for $150 million, according to a source familiar with the deal.\n",
    "Mubadala, an Abu Dhabi investment fund, purchased 90% of the building for $800 million in 2008.\n",
    "Real estate firm Tishman Speyer had owned the other 10%.\n",
    "The buyer is RFR Holding, a New York real estate company.\n",
    "Officials with Tishman and RFR did not immediately respond to a request for comments.\n",
    "It's unclear when the deal will close.\n",
    "The building sold fairly quickly after being publicly placed on the market only two months ago.\n",
    "The sale was handled by CBRE Group.\n",
    "The incentive to sell the building at such a huge loss was due to the soaring rent the owners pay to Cooper Union, a New York college, for the land under the building.\n",
    "The rent is rising from $7.75 million last year to $32.5 million this year to $41 million in 2028.\n",
    "Meantime, rents in the building itself are not rising nearly that fast.\n",
    "While the building is an iconic landmark in the New York skyline, it is competing against newer office towers with large floor-to-ceiling windows and all the modern amenities.\n",
    "Still the building is among the best known in the city, even to people who have never been to New York.\n",
    "It is famous for its triangle-shaped, vaulted windows worked into the stylized crown, along with its distinctive eagle gargoyles near the top.\n",
    "It has been featured prominently in many films, including Men in Black 3, Spider-Man, Armageddon, Two Weeks Notice and Independence Day.\n",
    "The previous sale took place just before the 2008 financial meltdown led to a plunge in real estate prices.\n",
    "Still there have been a number of high profile skyscrapers purchased for top dollar in recent years, including the Waldorf Astoria hotel, which Chinese firm Anbang Insurance purchased in 2016 for nearly $2 billion, and the Willis Tower in Chicago, which was formerly known as Sears Tower, once the world's tallest.\n",
    "Blackstone Group (BX) bought it for $1.3 billion 2015.\n",
    "The Chrysler Building was the headquarters of the American automaker until 1953, but it was named for and owned by Chrysler chief Walter Chrysler, not the company itself.\n",
    "Walter Chrysler had set out to build the tallest building in the world, a competition at that time with another Manhattan skyscraper under construction at 40 Wall Street at the south end of Manhattan. He kept secret the plans for the spire that would grace the top of the building, building it inside the structure and out of view of the public until 40 Wall Street was complete.\n",
    "Once the competitor could rise no higher, the spire of the Chrysler building was raised into view, giving it the title.\n",
    "'''\n",
    "\n",
    "model = Summarizer()\n",
    "result = model(body, min_length=60)\n",
    "full = ''.join(result)\n",
    "print(full)"
   ]
  },
  {
   "cell_type": "code",
   "execution_count": 552,
   "metadata": {},
   "outputs": [],
   "source": [
    "text = '''\n",
    "Tesla's new Cybertruck smashed during demo\n",
    "Tesla has unveiled its \"Cybertruck\" pickup truck, but not without an embarrassing moment on stage.\n",
    "\n",
    "The truck's windows were smashed during a demonstration supposed to show how hard they were to break.\n",
    "\n",
    "Mr Musk was heard to swear before joking: \"Room for improvement.\"\n",
    "\n",
    "The truck was unveiled in Hawthorne, California, where its stainless steel, angular design was greeted with cheers but also bemusement.\n",
    "\n",
    "\"People probably won’t get past the looks of it,\" said Jessica Caldwell, from vehicle marketplace Edmunds.\n",
    "\n",
    "\"It looks like a truck version of the DeLorean from Back To The Future.\"\n",
    "\n",
    "The pickup market represents a significant opportunity for Tesla as it improves its battery technology, meaning carrying heavier loads over long distances is now practical.\n",
    "According to Edmunds, large trucks have accounted for 14.4% of new vehicle sales up until October this year, compared to 12.6% in 2015. The vehicles have an average selling value of more than $50,000.\n",
    "\n",
    "Tesla's truck will be sold starting at $39,900 (£30,900), a model which has a range of 250 miles (402km), while the most expensive model, at $69,900, will have a range of 500 miles. The truck will seat up to six adults and haul a payload of 3,500lbs, Tesla said.\n",
    "\n",
    "Mr Musk said pre-orders would start immediately, with production starting in late 2021 - though the 48-year-old has a history of missing his own deadlines.\n",
    "\n",
    "The Cybertruck's launch will undoubtedly be overshadowed by the \"fail\", Ms Caldwell said.\n",
    "\n",
    "It happened during a segment displaying how the car's stainless steel exterior, and metal windows, could withstand bullets and sledgehammers. However, when Tesla's head of design, Franz von Holzhausen, threw a metal ball at the front left window, it smashed. As too did the rear left.\n",
    "\n",
    "\"It didn’t go through, that’s a plus side,\" Mr Musk said.\n",
    "\n",
    "\"We threw wrenches, we threw literally the kitchen sink at the glass and it didn’t break. For some reason it broke now… I don’t know why.\"\n",
    "\n",
    "At the time of writing, Tesla stock price was mostly unchanged in after-hours trading.\n",
    "'''"
   ]
  },
  {
   "cell_type": "code",
   "execution_count": 553,
   "metadata": {},
   "outputs": [
    {
     "name": "stdout",
     "output_type": "stream",
     "text": [
      "Tesla's new Cybertruck smashed during demo\n",
      "Tesla has unveiled its \"Cybertruck\" pickup truck, but not without an embarrassing moment on stage. The truck's windows were smashed during a demonstration supposed to show how hard they were to break. According to Edmunds, large trucks have accounted for 14.4% of new vehicle sales up until October this year, compared to 12.6% in 2015. The Cybertruck's launch will undoubtedly be overshadowed by the \"fail\", Ms Caldwell said.\n"
     ]
    }
   ],
   "source": [
    "model = Summarizer()\n",
    "result = model(text, min_length=60)\n",
    "full = ''.join(result)\n",
    "print(full)"
   ]
  },
  {
   "cell_type": "code",
   "execution_count": null,
   "metadata": {},
   "outputs": [],
   "source": []
  }
 ],
 "metadata": {
  "kernelspec": {
   "display_name": "Python 3",
   "language": "python",
   "name": "python3"
  },
  "language_info": {
   "codemirror_mode": {
    "name": "ipython",
    "version": 3
   },
   "file_extension": ".py",
   "mimetype": "text/x-python",
   "name": "python",
   "nbconvert_exporter": "python",
   "pygments_lexer": "ipython3",
   "version": "3.6.2"
  }
 },
 "nbformat": 4,
 "nbformat_minor": 2
}
