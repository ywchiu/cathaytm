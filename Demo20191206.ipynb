{
 "cells": [
  {
   "cell_type": "code",
   "execution_count": 1,
   "metadata": {},
   "outputs": [
    {
     "name": "stderr",
     "output_type": "stream",
     "text": [
      "Building prefix dict from the default dictionary ...\n",
      "Loading model from cache /var/folders/46/b7dzk4mn6g54qzptv608w7d00000gn/T/jieba.cache\n",
      "Loading model cost 0.629 seconds.\n",
      "Prefix dict has been built succesfully.\n"
     ]
    },
    {
     "data": {
      "text/plain": [
       "['今', '、', '明年', '資本', '支出', '近兆', '台積電', '大擴產', '商機', '來', '了']"
      ]
     },
     "execution_count": 1,
     "metadata": {},
     "output_type": "execute_result"
    }
   ],
   "source": [
    "import jieba\n",
    "org = ['台積電', '聯電', '宏達電']\n",
    "s = '今、明年資本支出近兆台積電大擴產商機來了'\n",
    "list(jieba.cut(s))"
   ]
  },
  {
   "cell_type": "code",
   "execution_count": 2,
   "metadata": {},
   "outputs": [
    {
     "data": {
      "text/plain": [
       "{'台積電', '宏達電', '聯電'}"
      ]
     },
     "execution_count": 2,
     "metadata": {},
     "output_type": "execute_result"
    }
   ],
   "source": [
    "set(org)"
   ]
  },
  {
   "cell_type": "code",
   "execution_count": 3,
   "metadata": {},
   "outputs": [
    {
     "data": {
      "text/plain": [
       "{'、', '了', '今', '來', '台積電', '商機', '大擴產', '支出', '明年', '資本', '近兆'}"
      ]
     },
     "execution_count": 3,
     "metadata": {},
     "output_type": "execute_result"
    }
   ],
   "source": [
    "set(list(jieba.cut(s)))"
   ]
  },
  {
   "cell_type": "code",
   "execution_count": 5,
   "metadata": {},
   "outputs": [
    {
     "data": {
      "text/plain": [
       "{'台積電'}"
      ]
     },
     "execution_count": 5,
     "metadata": {},
     "output_type": "execute_result"
    }
   ],
   "source": [
    "set(org) & set(list(jieba.cut(s)))"
   ]
  },
  {
   "cell_type": "code",
   "execution_count": 6,
   "metadata": {},
   "outputs": [
    {
     "data": {
      "text/plain": [
       "<_sre.SRE_Match object; span=(10, 13), match='台積電'>"
      ]
     },
     "execution_count": 6,
     "metadata": {},
     "output_type": "execute_result"
    }
   ],
   "source": [
    "import re\n",
    "re.search('台積電', s)"
   ]
  },
  {
   "cell_type": "markdown",
   "metadata": {},
   "source": [
    "## NLTK"
   ]
  },
  {
   "cell_type": "code",
   "execution_count": 7,
   "metadata": {},
   "outputs": [],
   "source": [
    "import nltk\n",
    "from nltk.tokenize import word_tokenize\n",
    "from nltk.tag import pos_tag"
   ]
  },
  {
   "cell_type": "code",
   "execution_count": 8,
   "metadata": {},
   "outputs": [],
   "source": [
    "sent = '''European authorities fined Google a record $5.1 billion on Wednesday for abusing its power in the mobile phone market and ordered the company to alter its practices'''"
   ]
  },
  {
   "cell_type": "code",
   "execution_count": 9,
   "metadata": {},
   "outputs": [],
   "source": [
    "sent = nltk.word_tokenize(sent)"
   ]
  },
  {
   "cell_type": "code",
   "execution_count": 10,
   "metadata": {},
   "outputs": [
    {
     "data": {
      "text/plain": [
       "['European',\n",
       " 'authorities',\n",
       " 'fined',\n",
       " 'Google',\n",
       " 'a',\n",
       " 'record',\n",
       " '$',\n",
       " '5.1',\n",
       " 'billion',\n",
       " 'on',\n",
       " 'Wednesday',\n",
       " 'for',\n",
       " 'abusing',\n",
       " 'its',\n",
       " 'power',\n",
       " 'in',\n",
       " 'the',\n",
       " 'mobile',\n",
       " 'phone',\n",
       " 'market',\n",
       " 'and',\n",
       " 'ordered',\n",
       " 'the',\n",
       " 'company',\n",
       " 'to',\n",
       " 'alter',\n",
       " 'its',\n",
       " 'practices']"
      ]
     },
     "execution_count": 10,
     "metadata": {},
     "output_type": "execute_result"
    }
   ],
   "source": [
    "sent"
   ]
  },
  {
   "cell_type": "code",
   "execution_count": 11,
   "metadata": {},
   "outputs": [],
   "source": [
    "sent = nltk.pos_tag(sent)\n"
   ]
  },
  {
   "cell_type": "code",
   "execution_count": 13,
   "metadata": {},
   "outputs": [
    {
     "name": "stdout",
     "output_type": "stream",
     "text": [
      "European JJ\n",
      "mobile JJ\n"
     ]
    }
   ],
   "source": [
    "for k,pos in  sent:\n",
    "    if 'JJ' in pos:\n",
    "        print(k, pos)"
   ]
  },
  {
   "cell_type": "markdown",
   "metadata": {},
   "source": [
    "## SpaCy"
   ]
  },
  {
   "cell_type": "code",
   "execution_count": 14,
   "metadata": {},
   "outputs": [
    {
     "name": "stdout",
     "output_type": "stream",
     "text": [
      "Requirement already satisfied: spacy in /Users/davidchiu/.pyenv/versions/3.6.2/lib/python3.6/site-packages\n",
      "Requirement already satisfied: cymem<2.1.0,>=2.0.2 in /Users/davidchiu/.pyenv/versions/3.6.2/lib/python3.6/site-packages (from spacy)\n",
      "Requirement already satisfied: thinc<7.1.0,>=7.0.2 in /Users/davidchiu/.pyenv/versions/3.6.2/lib/python3.6/site-packages (from spacy)\n",
      "Requirement already satisfied: wasabi<1.1.0,>=0.2.0 in /Users/davidchiu/.pyenv/versions/3.6.2/lib/python3.6/site-packages (from spacy)\n",
      "Requirement already satisfied: jsonschema<3.0.0,>=2.6.0 in /Users/davidchiu/.pyenv/versions/3.6.2/lib/python3.6/site-packages (from spacy)\n",
      "Requirement already satisfied: preshed<2.1.0,>=2.0.1 in /Users/davidchiu/.pyenv/versions/3.6.2/lib/python3.6/site-packages (from spacy)\n",
      "Requirement already satisfied: plac<1.0.0,>=0.9.6 in /Users/davidchiu/.pyenv/versions/3.6.2/lib/python3.6/site-packages (from spacy)\n",
      "Requirement already satisfied: numpy>=1.15.0 in /Users/davidchiu/.pyenv/versions/3.6.2/lib/python3.6/site-packages (from spacy)\n",
      "Requirement already satisfied: requests<3.0.0,>=2.13.0 in /Users/davidchiu/.pyenv/versions/3.6.2/lib/python3.6/site-packages (from spacy)\n",
      "Requirement already satisfied: srsly<1.1.0,>=0.0.5 in /Users/davidchiu/.pyenv/versions/3.6.2/lib/python3.6/site-packages (from spacy)\n",
      "Requirement already satisfied: murmurhash<1.1.0,>=0.28.0 in /Users/davidchiu/.pyenv/versions/3.6.2/lib/python3.6/site-packages (from spacy)\n",
      "Requirement already satisfied: blis<0.3.0,>=0.2.2 in /Users/davidchiu/.pyenv/versions/3.6.2/lib/python3.6/site-packages (from spacy)\n",
      "Requirement already satisfied: tqdm<5.0.0,>=4.10.0 in /Users/davidchiu/.pyenv/versions/3.6.2/lib/python3.6/site-packages (from thinc<7.1.0,>=7.0.2->spacy)\n",
      "Requirement already satisfied: idna<2.9,>=2.5 in /Users/davidchiu/.pyenv/versions/3.6.2/lib/python3.6/site-packages (from requests<3.0.0,>=2.13.0->spacy)\n",
      "Requirement already satisfied: chardet<3.1.0,>=3.0.2 in /Users/davidchiu/.pyenv/versions/3.6.2/lib/python3.6/site-packages (from requests<3.0.0,>=2.13.0->spacy)\n",
      "Requirement already satisfied: certifi>=2017.4.17 in /Users/davidchiu/.pyenv/versions/3.6.2/lib/python3.6/site-packages (from requests<3.0.0,>=2.13.0->spacy)\n",
      "Requirement already satisfied: urllib3!=1.25.0,!=1.25.1,<1.26,>=1.21.1 in /Users/davidchiu/.pyenv/versions/3.6.2/lib/python3.6/site-packages (from requests<3.0.0,>=2.13.0->spacy)\n",
      "\u001b[33mYou are using pip version 9.0.1, however version 19.3.1 is available.\n",
      "You should consider upgrading via the 'pip install --upgrade pip' command.\u001b[0m\n"
     ]
    }
   ],
   "source": [
    "! pip install spacy"
   ]
  },
  {
   "cell_type": "code",
   "execution_count": 18,
   "metadata": {},
   "outputs": [
    {
     "name": "stdout",
     "output_type": "stream",
     "text": [
      "Collecting en_core_web_sm==2.1.0 from https://github.com/explosion/spacy-models/releases/download/en_core_web_sm-2.1.0/en_core_web_sm-2.1.0.tar.gz#egg=en_core_web_sm==2.1.0\n",
      "  Downloading https://github.com/explosion/spacy-models/releases/download/en_core_web_sm-2.1.0/en_core_web_sm-2.1.0.tar.gz (11.1MB)\n",
      "\u001b[K    100% |████████████████████████████████| 11.1MB 5.7MB/s ta 0:00:01\n",
      "\u001b[?25hInstalling collected packages: en-core-web-sm\n",
      "  Running setup.py install for en-core-web-sm ... \u001b[?25ldone\n",
      "\u001b[?25hSuccessfully installed en-core-web-sm-2.1.0\n",
      "\u001b[33mYou are using pip version 9.0.1, however version 19.3.1 is available.\n",
      "You should consider upgrading via the 'pip install --upgrade pip' command.\u001b[0m\n",
      "\u001b[38;5;2m✔ Download and installation successful\u001b[0m\n",
      "You can now load the model via spacy.load('en_core_web_sm')\n"
     ]
    }
   ],
   "source": [
    "! python -m spacy download en_core_web_sm"
   ]
  },
  {
   "cell_type": "code",
   "execution_count": 19,
   "metadata": {},
   "outputs": [],
   "source": [
    "news = '''\n",
    "He was the subject of a Canada-wide warrant six years ago — now Mounties say he’s back in Metro Vancouver.\n",
    "\n",
    "Officers say 32-year-old Cong Dinh helped launder millions of dollars from drugs trafficked onto Canadian streets.\n",
    "\n",
    "“Cong Dinh is wanted for money laundering. Behind these charges rest many other suspected activities like drug trafficking,” says Sergeant Maxime Langlois from the ‘Be on the Lookout’ program.\n",
    "\n",
    "He says Dinh is wanted for crimes that “directly threaten the children, people, and communities of the Lower Mainland and British Columbia.”\n",
    "\n",
    "There is a $50,000 reward for anyone who has information leading to Dinh’s arrest.\n",
    "\n",
    "Report any information to the RCMP Federal Serious and Organized Crime at 778-290-4435, or Crime Stoppers.\n",
    "'''"
   ]
  },
  {
   "cell_type": "code",
   "execution_count": 20,
   "metadata": {},
   "outputs": [],
   "source": [
    "import spacy\n",
    "from spacy import displacy\n",
    "from collections import Counter\n",
    "import en_core_web_sm\n",
    "nlp = en_core_web_sm.load()\n"
   ]
  },
  {
   "cell_type": "code",
   "execution_count": 22,
   "metadata": {},
   "outputs": [
    {
     "data": {
      "text/plain": [
       "[('Canada', 'GPE'),\n",
       " ('six years ago', 'DATE'),\n",
       " ('Mounties', 'ORG'),\n",
       " ('Metro Vancouver', 'FAC'),\n",
       " ('Cong Dinh', 'PERSON'),\n",
       " ('launder millions of dollars', 'MONEY'),\n",
       " ('Canadian', 'NORP'),\n",
       " ('Cong Dinh', 'PERSON'),\n",
       " ('Sergeant Maxime Langlois', 'PERSON'),\n",
       " ('Lookout', 'PERSON'),\n",
       " ('Dinh', 'PERSON'),\n",
       " ('the Lower Mainland', 'ORG'),\n",
       " ('British Columbia', 'GPE'),\n",
       " ('50,000', 'MONEY'),\n",
       " ('Dinh’s', 'ORG'),\n",
       " ('RCMP Federal Serious', 'ORG'),\n",
       " ('Organized Crime', 'PERSON'),\n",
       " ('778', 'CARDINAL'),\n",
       " ('Crime Stoppers', 'PERSON')]"
      ]
     },
     "execution_count": 22,
     "metadata": {},
     "output_type": "execute_result"
    }
   ],
   "source": [
    "doc = nlp(news)\n",
    "[(X.text, X.label_) for X in doc.ents]"
   ]
  },
  {
   "cell_type": "code",
   "execution_count": 24,
   "metadata": {},
   "outputs": [],
   "source": [
    "#[(X, X.ent_iob_, X.ent_type_) for X in doc]"
   ]
  },
  {
   "cell_type": "code",
   "execution_count": 27,
   "metadata": {},
   "outputs": [
    {
     "data": {
      "text/html": [
       "<div class=\"entities\" style=\"line-height: 2.5; direction: ltr\"></br>He was the subject of a \n",
       "<mark class=\"entity\" style=\"background: #feca74; padding: 0.45em 0.6em; margin: 0 0.25em; line-height: 1; border-radius: 0.35em; box-decoration-break: clone; -webkit-box-decoration-break: clone\">\n",
       "    Canada\n",
       "    <span style=\"font-size: 0.8em; font-weight: bold; line-height: 1; border-radius: 0.35em; text-transform: uppercase; vertical-align: middle; margin-left: 0.5rem\">GPE</span>\n",
       "</mark>\n",
       "-wide warrant \n",
       "<mark class=\"entity\" style=\"background: #bfe1d9; padding: 0.45em 0.6em; margin: 0 0.25em; line-height: 1; border-radius: 0.35em; box-decoration-break: clone; -webkit-box-decoration-break: clone\">\n",
       "    six years ago\n",
       "    <span style=\"font-size: 0.8em; font-weight: bold; line-height: 1; border-radius: 0.35em; text-transform: uppercase; vertical-align: middle; margin-left: 0.5rem\">DATE</span>\n",
       "</mark>\n",
       " — now \n",
       "<mark class=\"entity\" style=\"background: #7aecec; padding: 0.45em 0.6em; margin: 0 0.25em; line-height: 1; border-radius: 0.35em; box-decoration-break: clone; -webkit-box-decoration-break: clone\">\n",
       "    Mounties\n",
       "    <span style=\"font-size: 0.8em; font-weight: bold; line-height: 1; border-radius: 0.35em; text-transform: uppercase; vertical-align: middle; margin-left: 0.5rem\">ORG</span>\n",
       "</mark>\n",
       " say he’s back in \n",
       "<mark class=\"entity\" style=\"background: #ddd; padding: 0.45em 0.6em; margin: 0 0.25em; line-height: 1; border-radius: 0.35em; box-decoration-break: clone; -webkit-box-decoration-break: clone\">\n",
       "    Metro Vancouver\n",
       "    <span style=\"font-size: 0.8em; font-weight: bold; line-height: 1; border-radius: 0.35em; text-transform: uppercase; vertical-align: middle; margin-left: 0.5rem\">FAC</span>\n",
       "</mark>\n",
       ".</br></br>Officers say 32-year-old \n",
       "<mark class=\"entity\" style=\"background: #aa9cfc; padding: 0.45em 0.6em; margin: 0 0.25em; line-height: 1; border-radius: 0.35em; box-decoration-break: clone; -webkit-box-decoration-break: clone\">\n",
       "    Cong Dinh\n",
       "    <span style=\"font-size: 0.8em; font-weight: bold; line-height: 1; border-radius: 0.35em; text-transform: uppercase; vertical-align: middle; margin-left: 0.5rem\">PERSON</span>\n",
       "</mark>\n",
       " helped \n",
       "<mark class=\"entity\" style=\"background: #e4e7d2; padding: 0.45em 0.6em; margin: 0 0.25em; line-height: 1; border-radius: 0.35em; box-decoration-break: clone; -webkit-box-decoration-break: clone\">\n",
       "    launder millions of dollars\n",
       "    <span style=\"font-size: 0.8em; font-weight: bold; line-height: 1; border-radius: 0.35em; text-transform: uppercase; vertical-align: middle; margin-left: 0.5rem\">MONEY</span>\n",
       "</mark>\n",
       " from drugs trafficked</div>"
      ],
      "text/plain": [
       "<IPython.core.display.HTML object>"
      ]
     },
     "metadata": {},
     "output_type": "display_data"
    }
   ],
   "source": [
    "displacy.render(nlp(str(news[0:200])), jupyter=True, style='ent')"
   ]
  },
  {
   "cell_type": "code",
   "execution_count": 28,
   "metadata": {},
   "outputs": [
    {
     "data": {
      "text/html": [
       "<div class=\"entities\" style=\"line-height: 2.5; direction: ltr\"></br>He was the subject of a \n",
       "<mark class=\"entity\" style=\"background: #feca74; padding: 0.45em 0.6em; margin: 0 0.25em; line-height: 1; border-radius: 0.35em; box-decoration-break: clone; -webkit-box-decoration-break: clone\">\n",
       "    Canada\n",
       "    <span style=\"font-size: 0.8em; font-weight: bold; line-height: 1; border-radius: 0.35em; text-transform: uppercase; vertical-align: middle; margin-left: 0.5rem\">GPE</span>\n",
       "</mark>\n",
       "-wide warrant \n",
       "<mark class=\"entity\" style=\"background: #bfe1d9; padding: 0.45em 0.6em; margin: 0 0.25em; line-height: 1; border-radius: 0.35em; box-decoration-break: clone; -webkit-box-decoration-break: clone\">\n",
       "    six years ago\n",
       "    <span style=\"font-size: 0.8em; font-weight: bold; line-height: 1; border-radius: 0.35em; text-transform: uppercase; vertical-align: middle; margin-left: 0.5rem\">DATE</span>\n",
       "</mark>\n",
       " — now \n",
       "<mark class=\"entity\" style=\"background: #7aecec; padding: 0.45em 0.6em; margin: 0 0.25em; line-height: 1; border-radius: 0.35em; box-decoration-break: clone; -webkit-box-decoration-break: clone\">\n",
       "    Mounties\n",
       "    <span style=\"font-size: 0.8em; font-weight: bold; line-height: 1; border-radius: 0.35em; text-transform: uppercase; vertical-align: middle; margin-left: 0.5rem\">ORG</span>\n",
       "</mark>\n",
       " say he’s back in \n",
       "<mark class=\"entity\" style=\"background: #ddd; padding: 0.45em 0.6em; margin: 0 0.25em; line-height: 1; border-radius: 0.35em; box-decoration-break: clone; -webkit-box-decoration-break: clone\">\n",
       "    Metro Vancouver\n",
       "    <span style=\"font-size: 0.8em; font-weight: bold; line-height: 1; border-radius: 0.35em; text-transform: uppercase; vertical-align: middle; margin-left: 0.5rem\">FAC</span>\n",
       "</mark>\n",
       ".</br></br>Officers say 32-year-old \n",
       "<mark class=\"entity\" style=\"background: #aa9cfc; padding: 0.45em 0.6em; margin: 0 0.25em; line-height: 1; border-radius: 0.35em; box-decoration-break: clone; -webkit-box-decoration-break: clone\">\n",
       "    Cong Dinh\n",
       "    <span style=\"font-size: 0.8em; font-weight: bold; line-height: 1; border-radius: 0.35em; text-transform: uppercase; vertical-align: middle; margin-left: 0.5rem\">PERSON</span>\n",
       "</mark>\n",
       " helped \n",
       "<mark class=\"entity\" style=\"background: #e4e7d2; padding: 0.45em 0.6em; margin: 0 0.25em; line-height: 1; border-radius: 0.35em; box-decoration-break: clone; -webkit-box-decoration-break: clone\">\n",
       "    launder millions of dollars\n",
       "    <span style=\"font-size: 0.8em; font-weight: bold; line-height: 1; border-radius: 0.35em; text-transform: uppercase; vertical-align: middle; margin-left: 0.5rem\">MONEY</span>\n",
       "</mark>\n",
       " from drugs trafficked onto \n",
       "<mark class=\"entity\" style=\"background: #c887fb; padding: 0.45em 0.6em; margin: 0 0.25em; line-height: 1; border-radius: 0.35em; box-decoration-break: clone; -webkit-box-decoration-break: clone\">\n",
       "    Canadian\n",
       "    <span style=\"font-size: 0.8em; font-weight: bold; line-height: 1; border-radius: 0.35em; text-transform: uppercase; vertical-align: middle; margin-left: 0.5rem\">NORP</span>\n",
       "</mark>\n",
       " streets.</br></br>“\n",
       "<mark class=\"entity\" style=\"background: #aa9cfc; padding: 0.45em 0.6em; margin: 0 0.25em; line-height: 1; border-radius: 0.35em; box-decoration-break: clone; -webkit-box-decoration-break: clone\">\n",
       "    Cong Dinh\n",
       "    <span style=\"font-size: 0.8em; font-weight: bold; line-height: 1; border-radius: 0.35em; text-transform: uppercase; vertical-align: middle; margin-left: 0.5rem\">PERSON</span>\n",
       "</mark>\n",
       " is wanted for money laundering. Behind these charges rest many other suspected activities like drug trafficking,” says \n",
       "<mark class=\"entity\" style=\"background: #aa9cfc; padding: 0.45em 0.6em; margin: 0 0.25em; line-height: 1; border-radius: 0.35em; box-decoration-break: clone; -webkit-box-decoration-break: clone\">\n",
       "    Sergeant Maxime Langlois\n",
       "    <span style=\"font-size: 0.8em; font-weight: bold; line-height: 1; border-radius: 0.35em; text-transform: uppercase; vertical-align: middle; margin-left: 0.5rem\">PERSON</span>\n",
       "</mark>\n",
       " from the ‘Be on the \n",
       "<mark class=\"entity\" style=\"background: #aa9cfc; padding: 0.45em 0.6em; margin: 0 0.25em; line-height: 1; border-radius: 0.35em; box-decoration-break: clone; -webkit-box-decoration-break: clone\">\n",
       "    Lookout\n",
       "    <span style=\"font-size: 0.8em; font-weight: bold; line-height: 1; border-radius: 0.35em; text-transform: uppercase; vertical-align: middle; margin-left: 0.5rem\">PERSON</span>\n",
       "</mark>\n",
       "’ program.</br></br>He says \n",
       "<mark class=\"entity\" style=\"background: #aa9cfc; padding: 0.45em 0.6em; margin: 0 0.25em; line-height: 1; border-radius: 0.35em; box-decoration-break: clone; -webkit-box-decoration-break: clone\">\n",
       "    Dinh\n",
       "    <span style=\"font-size: 0.8em; font-weight: bold; line-height: 1; border-radius: 0.35em; text-transform: uppercase; vertical-align: middle; margin-left: 0.5rem\">PERSON</span>\n",
       "</mark>\n",
       " is wanted for crimes that “directly threaten the children, people, and communities of \n",
       "<mark class=\"entity\" style=\"background: #7aecec; padding: 0.45em 0.6em; margin: 0 0.25em; line-height: 1; border-radius: 0.35em; box-decoration-break: clone; -webkit-box-decoration-break: clone\">\n",
       "    the Lower Mainland\n",
       "    <span style=\"font-size: 0.8em; font-weight: bold; line-height: 1; border-radius: 0.35em; text-transform: uppercase; vertical-align: middle; margin-left: 0.5rem\">ORG</span>\n",
       "</mark>\n",
       " and \n",
       "<mark class=\"entity\" style=\"background: #feca74; padding: 0.45em 0.6em; margin: 0 0.25em; line-height: 1; border-radius: 0.35em; box-decoration-break: clone; -webkit-box-decoration-break: clone\">\n",
       "    British Columbia\n",
       "    <span style=\"font-size: 0.8em; font-weight: bold; line-height: 1; border-radius: 0.35em; text-transform: uppercase; vertical-align: middle; margin-left: 0.5rem\">GPE</span>\n",
       "</mark>\n",
       ".”</br></br>There is a $\n",
       "<mark class=\"entity\" style=\"background: #e4e7d2; padding: 0.45em 0.6em; margin: 0 0.25em; line-height: 1; border-radius: 0.35em; box-decoration-break: clone; -webkit-box-decoration-break: clone\">\n",
       "    50,000\n",
       "    <span style=\"font-size: 0.8em; font-weight: bold; line-height: 1; border-radius: 0.35em; text-transform: uppercase; vertical-align: middle; margin-left: 0.5rem\">MONEY</span>\n",
       "</mark>\n",
       " reward for anyone who has information leading to \n",
       "<mark class=\"entity\" style=\"background: #7aecec; padding: 0.45em 0.6em; margin: 0 0.25em; line-height: 1; border-radius: 0.35em; box-decoration-break: clone; -webkit-box-decoration-break: clone\">\n",
       "    Dinh’s\n",
       "    <span style=\"font-size: 0.8em; font-weight: bold; line-height: 1; border-radius: 0.35em; text-transform: uppercase; vertical-align: middle; margin-left: 0.5rem\">ORG</span>\n",
       "</mark>\n",
       " arrest.</br></br>Report any information to the \n",
       "<mark class=\"entity\" style=\"background: #7aecec; padding: 0.45em 0.6em; margin: 0 0.25em; line-height: 1; border-radius: 0.35em; box-decoration-break: clone; -webkit-box-decoration-break: clone\">\n",
       "    RCMP Federal Serious\n",
       "    <span style=\"font-size: 0.8em; font-weight: bold; line-height: 1; border-radius: 0.35em; text-transform: uppercase; vertical-align: middle; margin-left: 0.5rem\">ORG</span>\n",
       "</mark>\n",
       " and \n",
       "<mark class=\"entity\" style=\"background: #aa9cfc; padding: 0.45em 0.6em; margin: 0 0.25em; line-height: 1; border-radius: 0.35em; box-decoration-break: clone; -webkit-box-decoration-break: clone\">\n",
       "    Organized Crime\n",
       "    <span style=\"font-size: 0.8em; font-weight: bold; line-height: 1; border-radius: 0.35em; text-transform: uppercase; vertical-align: middle; margin-left: 0.5rem\">PERSON</span>\n",
       "</mark>\n",
       " at \n",
       "<mark class=\"entity\" style=\"background: #e4e7d2; padding: 0.45em 0.6em; margin: 0 0.25em; line-height: 1; border-radius: 0.35em; box-decoration-break: clone; -webkit-box-decoration-break: clone\">\n",
       "    778\n",
       "    <span style=\"font-size: 0.8em; font-weight: bold; line-height: 1; border-radius: 0.35em; text-transform: uppercase; vertical-align: middle; margin-left: 0.5rem\">CARDINAL</span>\n",
       "</mark>\n",
       "-290-4435, or \n",
       "<mark class=\"entity\" style=\"background: #aa9cfc; padding: 0.45em 0.6em; margin: 0 0.25em; line-height: 1; border-radius: 0.35em; box-decoration-break: clone; -webkit-box-decoration-break: clone\">\n",
       "    Crime Stoppers\n",
       "    <span style=\"font-size: 0.8em; font-weight: bold; line-height: 1; border-radius: 0.35em; text-transform: uppercase; vertical-align: middle; margin-left: 0.5rem\">PERSON</span>\n",
       "</mark>\n",
       ".\n",
       "</div>"
      ],
      "text/plain": [
       "<IPython.core.display.HTML object>"
      ]
     },
     "metadata": {},
     "output_type": "display_data"
    }
   ],
   "source": [
    "displacy.render(nlp(str(news)), jupyter=True, style='ent')"
   ]
  },
  {
   "cell_type": "code",
   "execution_count": 30,
   "metadata": {},
   "outputs": [
    {
     "name": "stdout",
     "output_type": "stream",
     "text": [
      "Collecting https://github.com/howl-anderson/Chinese_models_for_SpaCy/releases/download/v2.0.5/zh_core_web_sm-2.0.5.tar.gz\n",
      "  Downloading https://github.com/howl-anderson/Chinese_models_for_SpaCy/releases/download/v2.0.5/zh_core_web_sm-2.0.5.tar.gz (252.6MB)\n",
      "\u001b[K    100% |████████████████████████████████| 252.6MB 5.6kB/s ta 0:00:01114% |█▍                              | 11.4MB 2.8MB/s eta 0:01:27    7% |██▎                             | 18.1MB 5.7MB/s eta 0:00:42\n",
      "\u001b[?25hRequirement already satisfied: spacy>=2.0.0a18 in /Users/davidchiu/.pyenv/versions/3.6.2/lib/python3.6/site-packages (from zh-core-web-sm==2.0.5)\n",
      "Requirement already satisfied: wasabi<1.1.0,>=0.2.0 in /Users/davidchiu/.pyenv/versions/3.6.2/lib/python3.6/site-packages (from spacy>=2.0.0a18->zh-core-web-sm==2.0.5)\n",
      "Requirement already satisfied: preshed<2.1.0,>=2.0.1 in /Users/davidchiu/.pyenv/versions/3.6.2/lib/python3.6/site-packages (from spacy>=2.0.0a18->zh-core-web-sm==2.0.5)\n",
      "Requirement already satisfied: jsonschema<3.0.0,>=2.6.0 in /Users/davidchiu/.pyenv/versions/3.6.2/lib/python3.6/site-packages (from spacy>=2.0.0a18->zh-core-web-sm==2.0.5)\n",
      "Requirement already satisfied: srsly<1.1.0,>=0.0.5 in /Users/davidchiu/.pyenv/versions/3.6.2/lib/python3.6/site-packages (from spacy>=2.0.0a18->zh-core-web-sm==2.0.5)\n",
      "Requirement already satisfied: cymem<2.1.0,>=2.0.2 in /Users/davidchiu/.pyenv/versions/3.6.2/lib/python3.6/site-packages (from spacy>=2.0.0a18->zh-core-web-sm==2.0.5)\n",
      "Requirement already satisfied: blis<0.3.0,>=0.2.2 in /Users/davidchiu/.pyenv/versions/3.6.2/lib/python3.6/site-packages (from spacy>=2.0.0a18->zh-core-web-sm==2.0.5)\n",
      "Requirement already satisfied: murmurhash<1.1.0,>=0.28.0 in /Users/davidchiu/.pyenv/versions/3.6.2/lib/python3.6/site-packages (from spacy>=2.0.0a18->zh-core-web-sm==2.0.5)\n",
      "Requirement already satisfied: requests<3.0.0,>=2.13.0 in /Users/davidchiu/.pyenv/versions/3.6.2/lib/python3.6/site-packages (from spacy>=2.0.0a18->zh-core-web-sm==2.0.5)\n",
      "Requirement already satisfied: numpy>=1.15.0 in /Users/davidchiu/.pyenv/versions/3.6.2/lib/python3.6/site-packages (from spacy>=2.0.0a18->zh-core-web-sm==2.0.5)\n",
      "Requirement already satisfied: thinc<7.1.0,>=7.0.2 in /Users/davidchiu/.pyenv/versions/3.6.2/lib/python3.6/site-packages (from spacy>=2.0.0a18->zh-core-web-sm==2.0.5)\n",
      "Requirement already satisfied: plac<1.0.0,>=0.9.6 in /Users/davidchiu/.pyenv/versions/3.6.2/lib/python3.6/site-packages (from spacy>=2.0.0a18->zh-core-web-sm==2.0.5)\n",
      "Requirement already satisfied: idna<2.9,>=2.5 in /Users/davidchiu/.pyenv/versions/3.6.2/lib/python3.6/site-packages (from requests<3.0.0,>=2.13.0->spacy>=2.0.0a18->zh-core-web-sm==2.0.5)\n",
      "Requirement already satisfied: certifi>=2017.4.17 in /Users/davidchiu/.pyenv/versions/3.6.2/lib/python3.6/site-packages (from requests<3.0.0,>=2.13.0->spacy>=2.0.0a18->zh-core-web-sm==2.0.5)\n",
      "Requirement already satisfied: chardet<3.1.0,>=3.0.2 in /Users/davidchiu/.pyenv/versions/3.6.2/lib/python3.6/site-packages (from requests<3.0.0,>=2.13.0->spacy>=2.0.0a18->zh-core-web-sm==2.0.5)\n",
      "Requirement already satisfied: urllib3!=1.25.0,!=1.25.1,<1.26,>=1.21.1 in /Users/davidchiu/.pyenv/versions/3.6.2/lib/python3.6/site-packages (from requests<3.0.0,>=2.13.0->spacy>=2.0.0a18->zh-core-web-sm==2.0.5)\n",
      "Requirement already satisfied: tqdm<5.0.0,>=4.10.0 in /Users/davidchiu/.pyenv/versions/3.6.2/lib/python3.6/site-packages (from thinc<7.1.0,>=7.0.2->spacy>=2.0.0a18->zh-core-web-sm==2.0.5)\n",
      "Building wheels for collected packages: zh-core-web-sm\n",
      "  Running setup.py bdist_wheel for zh-core-web-sm ... \u001b[?25ldone\n",
      "\u001b[?25h  Stored in directory: /Users/davidchiu/Library/Caches/pip/wheels/d4/58/4c/86fa89c93be6ce006384810fcf0986cc11d22eaed916b7fa33\n",
      "Successfully built zh-core-web-sm\n",
      "Installing collected packages: zh-core-web-sm\n",
      "Successfully installed zh-core-web-sm-2.0.5\n",
      "\u001b[33mYou are using pip version 9.0.1, however version 19.3.1 is available.\n",
      "You should consider upgrading via the 'pip install --upgrade pip' command.\u001b[0m\n"
     ]
    }
   ],
   "source": [
    "! pip install https://github.com/howl-anderson/Chinese_models_for_SpaCy/releases/download/v2.0.5/zh_core_web_sm-2.0.5.tar.gz"
   ]
  },
  {
   "cell_type": "code",
   "execution_count": 33,
   "metadata": {},
   "outputs": [
    {
     "name": "stdout",
     "output_type": "stream",
     "text": [
      "\u001b[38;5;2m✔ Linking successful\u001b[0m\r\n",
      "/Users/davidchiu/.pyenv/versions/3.6.2/lib/python3.6/site-packages/zh_core_web_sm\r\n",
      "-->\r\n",
      "/Users/davidchiu/.pyenv/versions/3.6.2/lib/python3.6/site-packages/spacy/data/zh\r\n",
      "You can now load the model via spacy.load('zh')\r\n"
     ]
    }
   ],
   "source": [
    "! python -m spacy link zh_core_web_sm zh"
   ]
  },
  {
   "cell_type": "code",
   "execution_count": 37,
   "metadata": {},
   "outputs": [],
   "source": [
    "import zh_core_web_sm\n",
    "\n",
    "#nlp = zh_core_web_sm.load()\n",
    "#doc = nlp(\"王小明在北京的清华大学读书\")\n",
    "#doc"
   ]
  },
  {
   "cell_type": "code",
   "execution_count": 39,
   "metadata": {},
   "outputs": [],
   "source": [
    "from ckiptagger import data_utils, construct_dictionary, WS, POS, NER\n",
    "ws = WS(\"/Users/davidchiu/project/ckip/data\")\n",
    "pos = POS(\"/Users/davidchiu/project/ckip/data\")\n",
    "ner = NER(\"/Users/davidchiu/project/obanktm/data\")\n",
    "sentence_list = [\"\"\"全聯福利中心強力推出「PX Pay」行動支付後，更進一步開放8家銀行的實體信用卡、33家金融機構金融卡、3大電子票證、3大國際行動Pay與台灣Pay等交易。同時釋出8大銀行刷卡優惠，其中聯邦卡首刷500元送1,000點福利點最高，平日則以國泰世華天天消費滿500元送300點最強。\"\"\"]\n",
    "\n",
    "word_sentence_list = ws(sentence_list)\n",
    "pos_sentence_list = pos(word_sentence_list)\n",
    "entity_sentence_list = ner(word_sentence_list, pos_sentence_list)\n",
    "\n"
   ]
  },
  {
   "cell_type": "code",
   "execution_count": 40,
   "metadata": {},
   "outputs": [
    {
     "data": {
      "text/plain": [
       "[{(0, 6, 'ORG', '全聯福利中心'),\n",
       "  (30, 31, 'CARDINAL', '8'),\n",
       "  (41, 43, 'CARDINAL', '33'),\n",
       "  (52, 53, 'CARDINAL', '3'),\n",
       "  (59, 60, 'CARDINAL', '3'),\n",
       "  (69, 74, 'ORG', '台灣Pay'),\n",
       "  (82, 83, 'CARDINAL', '8'),\n",
       "  (93, 96, 'ORG', '聯邦卡'),\n",
       "  (98, 102, 'MONEY', '500元'),\n",
       "  (103, 109, 'QUANTITY', '1,000點'),\n",
       "  (119, 123, 'ORG', '國泰世華'),\n",
       "  (128, 132, 'MONEY', '500元'),\n",
       "  (133, 137, 'QUANTITY', '300點')}]"
      ]
     },
     "execution_count": 40,
     "metadata": {},
     "output_type": "execute_result"
    }
   ],
   "source": [
    "entity_sentence_list"
   ]
  },
  {
   "cell_type": "code",
   "execution_count": 41,
   "metadata": {},
   "outputs": [],
   "source": [
    "s = '''\n",
    "嘉義地檢署偵辦129億地下匯兌案，查獲菲律賓、中國大陸賭博網站經營運動彩券、六合彩，2年匯回台灣39億，帶回72人，聲押4名主嫌，7年級生主嫌都以千萬跑車麥拉倫、保時捷等名車代步，查扣6部名車、新台幣及外幣現金共約700萬，檢方不排除涉及選舉賭盤。嘉義地院金凌晨3點多裁定4名主嫌聲押禁見。\n",
    "\n",
    "檢察官陳靜慧指揮台南市調查站偵辦吳承霖地下匯兌案件，涉及洗錢約129億，其中有陳姓客戶等人涉嫌以羅曼尼、新緻公司架設博弈網站，3日由台南、嘉義縣、市調查站分頭到台北、台中、嘉義縣市等33處所搜索。\n",
    "\n",
    "查扣現金新台幣650萬元及50萬元外幣（港幣、人民幣、韓幣、日幣、紐西蘭幣）、名車6輛、筆電、電腦主機、手機、監視器主機及螢幕、員工手冊、賭博規則筆記、銀行存摺、帳密等證物，帶回72人，檢方複訊38人，以有串證、逃亡之虞聲押陳姓、2名林姓、楊姓男子共4人，另有12人以5萬至20萬不等交保。\n",
    "\n",
    "檢方調查，主嫌陳男等4人均是嘉義人，年紀約30歲，自2017年起在臺北市、新北市、臺中市及嘉義市等地，設立羅曼尼公司、新緻公司，架設博弈網站，提供賭客簽注六合彩、運動比賽等賭博，並以大陸地區金融帳戶收付賭金後，透過地下匯兌管道及不實合約等方式，2年分批自境外匯回39億元賭金。\n",
    "\n",
    "'''"
   ]
  },
  {
   "cell_type": "code",
   "execution_count": 42,
   "metadata": {},
   "outputs": [],
   "source": [
    "sentence_list = [s]\n",
    "word_sentence_list = ws(sentence_list)\n",
    "pos_sentence_list = pos(word_sentence_list)\n",
    "entity_sentence_list = ner(word_sentence_list, pos_sentence_list)"
   ]
  },
  {
   "cell_type": "code",
   "execution_count": 43,
   "metadata": {},
   "outputs": [
    {
     "data": {
      "text/plain": [
       "[{(8, 12, 'CARDINAL', '129億'),\n",
       "  (20, 23, 'GPE', '菲律賓'),\n",
       "  (24, 28, 'GPE', '中國大陸'),\n",
       "  (39, 40, 'CARDINAL', '六'),\n",
       "  (43, 45, 'DATE', '2年'),\n",
       "  (47, 49, 'GPE', '台灣'),\n",
       "  (49, 52, 'CARDINAL', '39億'),\n",
       "  (55, 57, 'CARDINAL', '72'),\n",
       "  (61, 62, 'CARDINAL', '4'),\n",
       "  (74, 76, 'CARDINAL', '千萬'),\n",
       "  (78, 81, 'PRODUCT', '麥拉倫'),\n",
       "  (82, 85, 'PRODUCT', '保時捷'),\n",
       "  (93, 94, 'CARDINAL', '6'),\n",
       "  (108, 112, 'CARDINAL', '700萬'),\n",
       "  (125, 129, 'ORG', '嘉義地院'),\n",
       "  (129, 132, 'PERSON', '金凌晨'),\n",
       "  (132, 135, 'TIME', '3點多'),\n",
       "  (137, 138, 'CARDINAL', '4'),\n",
       "  (151, 154, 'PERSON', '陳靜慧'),\n",
       "  (156, 162, 'ORG', '台南市調查站'),\n",
       "  (164, 167, 'PERSON', '吳承霖'),\n",
       "  (179, 183, 'CARDINAL', '129億'),\n",
       "  (187, 188, 'PERSON', '陳'),\n",
       "  (196, 199, 'PERSON', '羅曼尼'),\n",
       "  (200, 204, 'ORG', '新緻公司'),\n",
       "  (211, 213, 'DATE', '3日'),\n",
       "  (214, 216, 'GPE', '台南'),\n",
       "  (217, 220, 'GPE', '嘉義縣'),\n",
       "  (228, 230, 'GPE', '台北'),\n",
       "  (231, 233, 'GPE', '台中'),\n",
       "  (234, 238, 'GPE', '嘉義縣市'),\n",
       "  (252, 260, 'MONEY', '新台幣650萬元'),\n",
       "  (261, 265, 'MONEY', '50萬元'),\n",
       "  (275, 277, 'MONEY', '韓幣'),\n",
       "  (281, 285, 'MONEY', '紐西蘭幣'),\n",
       "  (289, 290, 'CARDINAL', '6'),\n",
       "  (337, 339, 'CARDINAL', '72'),\n",
       "  (345, 347, 'CARDINAL', '38'),\n",
       "  (360, 361, 'PERSON', '陳'),\n",
       "  (363, 364, 'CARDINAL', '2'),\n",
       "  (365, 366, 'PERSON', '林'),\n",
       "  (368, 369, 'PERSON', '楊'),\n",
       "  (373, 374, 'CARDINAL', '4'),\n",
       "  (378, 380, 'CARDINAL', '12'),\n",
       "  (382, 388, 'CARDINAL', '5萬至20萬'),\n",
       "  (402, 404, 'PERSON', '陳男'),\n",
       "  (405, 406, 'CARDINAL', '4'),\n",
       "  (409, 412, 'NORP', '嘉義人'),\n",
       "  (416, 419, 'DATE', '30歲'),\n",
       "  (421, 426, 'DATE', '2017年'),\n",
       "  (428, 431, 'GPE', '臺北市'),\n",
       "  (432, 435, 'GPE', '新北市'),\n",
       "  (436, 439, 'GPE', '臺中市'),\n",
       "  (440, 443, 'GPE', '嘉義市'),\n",
       "  (448, 453, 'ORG', '羅曼尼公司'),\n",
       "  (454, 458, 'ORG', '新緻公司'),\n",
       "  (486, 488, 'LOC', '大陸'),\n",
       "  (517, 519, 'DATE', '2年'),\n",
       "  (526, 530, 'MONEY', '39億元')}]"
      ]
     },
     "execution_count": 43,
     "metadata": {},
     "output_type": "execute_result"
    }
   ],
   "source": [
    "entity_sentence_list"
   ]
  },
  {
   "cell_type": "code",
   "execution_count": null,
   "metadata": {},
   "outputs": [],
   "source": []
  }
 ],
 "metadata": {
  "kernelspec": {
   "display_name": "Python 3",
   "language": "python",
   "name": "python3"
  },
  "language_info": {
   "codemirror_mode": {
    "name": "ipython",
    "version": 3
   },
   "file_extension": ".py",
   "mimetype": "text/x-python",
   "name": "python",
   "nbconvert_exporter": "python",
   "pygments_lexer": "ipython3",
   "version": "3.6.2"
  }
 },
 "nbformat": 4,
 "nbformat_minor": 2
}
